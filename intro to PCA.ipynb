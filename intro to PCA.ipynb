{
 "cells": [
  {
   "cell_type": "code",
   "execution_count": 19,
   "metadata": {
    "collapsed": false
   },
   "outputs": [],
   "source": [
    "import pandas as pd\n",
    "import numpy as np\n",
    "import seaborn as sns\n",
    "import matplotlib.pyplot as plt\n",
    "from sklearn.preprocessing import StandardScaler\n",
    "\n",
    "\n",
    "%matplotlib inline\n"
   ]
  },
  {
   "cell_type": "code",
   "execution_count": 3,
   "metadata": {
    "collapsed": false
   },
   "outputs": [],
   "source": [
    "df = pd.read_csv('~/Datasets/iris.csv')"
   ]
  },
  {
   "cell_type": "code",
   "execution_count": 4,
   "metadata": {
    "collapsed": false
   },
   "outputs": [
    {
     "data": {
      "text/html": [
       "<div>\n",
       "<table border=\"1\" class=\"dataframe\">\n",
       "  <thead>\n",
       "    <tr style=\"text-align: right;\">\n",
       "      <th></th>\n",
       "      <th>SepalLength</th>\n",
       "      <th>SepalWidth</th>\n",
       "      <th>PetalLength</th>\n",
       "      <th>PetalWidth</th>\n",
       "      <th>Name</th>\n",
       "    </tr>\n",
       "  </thead>\n",
       "  <tbody>\n",
       "    <tr>\n",
       "      <th>0</th>\n",
       "      <td>5.1</td>\n",
       "      <td>3.5</td>\n",
       "      <td>1.4</td>\n",
       "      <td>0.2</td>\n",
       "      <td>Iris-setosa</td>\n",
       "    </tr>\n",
       "    <tr>\n",
       "      <th>1</th>\n",
       "      <td>4.9</td>\n",
       "      <td>3.0</td>\n",
       "      <td>1.4</td>\n",
       "      <td>0.2</td>\n",
       "      <td>Iris-setosa</td>\n",
       "    </tr>\n",
       "    <tr>\n",
       "      <th>2</th>\n",
       "      <td>4.7</td>\n",
       "      <td>3.2</td>\n",
       "      <td>1.3</td>\n",
       "      <td>0.2</td>\n",
       "      <td>Iris-setosa</td>\n",
       "    </tr>\n",
       "    <tr>\n",
       "      <th>3</th>\n",
       "      <td>4.6</td>\n",
       "      <td>3.1</td>\n",
       "      <td>1.5</td>\n",
       "      <td>0.2</td>\n",
       "      <td>Iris-setosa</td>\n",
       "    </tr>\n",
       "    <tr>\n",
       "      <th>4</th>\n",
       "      <td>5.0</td>\n",
       "      <td>3.6</td>\n",
       "      <td>1.4</td>\n",
       "      <td>0.2</td>\n",
       "      <td>Iris-setosa</td>\n",
       "    </tr>\n",
       "  </tbody>\n",
       "</table>\n",
       "</div>"
      ],
      "text/plain": [
       "   SepalLength  SepalWidth  PetalLength  PetalWidth         Name\n",
       "0          5.1         3.5          1.4         0.2  Iris-setosa\n",
       "1          4.9         3.0          1.4         0.2  Iris-setosa\n",
       "2          4.7         3.2          1.3         0.2  Iris-setosa\n",
       "3          4.6         3.1          1.5         0.2  Iris-setosa\n",
       "4          5.0         3.6          1.4         0.2  Iris-setosa"
      ]
     },
     "execution_count": 4,
     "metadata": {},
     "output_type": "execute_result"
    }
   ],
   "source": [
    "df.head()"
   ]
  },
  {
   "cell_type": "code",
   "execution_count": 7,
   "metadata": {
    "collapsed": false
   },
   "outputs": [
    {
     "data": {
      "text/plain": [
       "(150, 5)"
      ]
     },
     "execution_count": 7,
     "metadata": {},
     "output_type": "execute_result"
    }
   ],
   "source": [
    "df.shape"
   ]
  },
  {
   "cell_type": "code",
   "execution_count": 8,
   "metadata": {
    "collapsed": false
   },
   "outputs": [
    {
     "data": {
      "text/plain": [
       "u'/Users/christophereppig/DSI_week3'"
      ]
     },
     "execution_count": 8,
     "metadata": {},
     "output_type": "execute_result"
    }
   ],
   "source": [
    "%pwd"
   ]
  },
  {
   "cell_type": "code",
   "execution_count": 9,
   "metadata": {
    "collapsed": false
   },
   "outputs": [
    {
     "data": {
      "text/html": [
       "<div>\n",
       "<table border=\"1\" class=\"dataframe\">\n",
       "  <thead>\n",
       "    <tr style=\"text-align: right;\">\n",
       "      <th></th>\n",
       "      <th>SepalLength</th>\n",
       "      <th>SepalWidth</th>\n",
       "      <th>PetalLength</th>\n",
       "      <th>PetalWidth</th>\n",
       "    </tr>\n",
       "  </thead>\n",
       "  <tbody>\n",
       "    <tr>\n",
       "      <th>SepalLength</th>\n",
       "      <td>1.000000</td>\n",
       "      <td>-0.109369</td>\n",
       "      <td>0.871754</td>\n",
       "      <td>0.817954</td>\n",
       "    </tr>\n",
       "    <tr>\n",
       "      <th>SepalWidth</th>\n",
       "      <td>-0.109369</td>\n",
       "      <td>1.000000</td>\n",
       "      <td>-0.420516</td>\n",
       "      <td>-0.356544</td>\n",
       "    </tr>\n",
       "    <tr>\n",
       "      <th>PetalLength</th>\n",
       "      <td>0.871754</td>\n",
       "      <td>-0.420516</td>\n",
       "      <td>1.000000</td>\n",
       "      <td>0.962757</td>\n",
       "    </tr>\n",
       "    <tr>\n",
       "      <th>PetalWidth</th>\n",
       "      <td>0.817954</td>\n",
       "      <td>-0.356544</td>\n",
       "      <td>0.962757</td>\n",
       "      <td>1.000000</td>\n",
       "    </tr>\n",
       "  </tbody>\n",
       "</table>\n",
       "</div>"
      ],
      "text/plain": [
       "             SepalLength  SepalWidth  PetalLength  PetalWidth\n",
       "SepalLength     1.000000   -0.109369     0.871754    0.817954\n",
       "SepalWidth     -0.109369    1.000000    -0.420516   -0.356544\n",
       "PetalLength     0.871754   -0.420516     1.000000    0.962757\n",
       "PetalWidth      0.817954   -0.356544     0.962757    1.000000"
      ]
     },
     "execution_count": 9,
     "metadata": {},
     "output_type": "execute_result"
    }
   ],
   "source": [
    "df.corr()"
   ]
  },
  {
   "cell_type": "code",
   "execution_count": 13,
   "metadata": {
    "collapsed": false
   },
   "outputs": [
    {
     "data": {
      "text/plain": [
       "<matplotlib.axes._subplots.AxesSubplot at 0x119c48650>"
      ]
     },
     "execution_count": 13,
     "metadata": {},
     "output_type": "execute_result"
    },
    {
     "data": {
      "image/png": "[encoded data removed]",
      "text/plain": [
       "<matplotlib.figure.Figure at 0x119bb4f90>"
      ]
     },
     "metadata": {},
     "output_type": "display_data"
    }
   ],
   "source": [
    "sns.heatmap(df.corr())"
   ]
  },
  {
   "cell_type": "code",
   "execution_count": 14,
   "metadata": {
    "collapsed": true
   },
   "outputs": [],
   "source": [
    "x = df.ix[:,0:4].values"
   ]
  },
  {
   "cell_type": "code",
   "execution_count": 16,
   "metadata": {
    "collapsed": false
   },
   "outputs": [
    {
     "data": {
      "text/plain": [
       "array([[ 5.1,  3.5,  1.4,  0.2],\n",
       "       [ 4.9,  3. ,  1.4,  0.2],\n",
       "       [ 4.7,  3.2,  1.3,  0.2],\n",
       "       [ 4.6,  3.1,  1.5,  0.2],\n",
       "       [ 5. ,  3.6,  1.4,  0.2]])"
      ]
     },
     "execution_count": 16,
     "metadata": {},
     "output_type": "execute_result"
    }
   ],
   "source": [
    "x[0:5]"
   ]
  },
  {
   "cell_type": "code",
   "execution_count": 20,
   "metadata": {
    "collapsed": true
   },
   "outputs": [],
   "source": [
    "x_standard = StandardScaler().fit_transform(x)"
   ]
  },
  {
   "cell_type": "code",
   "execution_count": 21,
   "metadata": {
    "collapsed": false
   },
   "outputs": [
    {
     "data": {
      "text/plain": [
       "array([[-0.90068117,  1.03205722, -1.3412724 , -1.31297673],\n",
       "       [-1.14301691, -0.1249576 , -1.3412724 , -1.31297673],\n",
       "       [-1.38535265,  0.33784833, -1.39813811, -1.31297673],\n",
       "       [-1.50652052,  0.10644536, -1.2844067 , -1.31297673],\n",
       "       [-1.02184904,  1.26346019, -1.3412724 , -1.31297673]])"
      ]
     },
     "execution_count": 21,
     "metadata": {},
     "output_type": "execute_result"
    }
   ],
   "source": [
    "x_standard[0:5]"
   ]
  },
  {
   "cell_type": "code",
   "execution_count": 22,
   "metadata": {
    "collapsed": true
   },
   "outputs": [],
   "source": [
    "## makes a covariance matrix\n",
    "\n",
    "cov_mat = np.cov(x_standard.T)"
   ]
  },
  {
   "cell_type": "code",
   "execution_count": 24,
   "metadata": {
    "collapsed": false
   },
   "outputs": [
    {
     "data": {
      "text/plain": [
       "array([[ -9.00681170e-01,  -1.14301691e+00,  -1.38535265e+00,\n",
       "         -1.50652052e+00,  -1.02184904e+00,  -5.37177559e-01,\n",
       "         -1.50652052e+00,  -1.02184904e+00,  -1.74885626e+00,\n",
       "         -1.14301691e+00,  -5.37177559e-01,  -1.26418478e+00,\n",
       "         -1.26418478e+00,  -1.87002413e+00,  -5.25060772e-02,\n",
       "         -1.73673948e-01,  -5.37177559e-01,  -9.00681170e-01,\n",
       "         -1.73673948e-01,  -9.00681170e-01,  -5.37177559e-01,\n",
       "         -9.00681170e-01,  -1.50652052e+00,  -9.00681170e-01,\n",
       "         -1.26418478e+00,  -1.02184904e+00,  -1.02184904e+00,\n",
       "         -7.79513300e-01,  -7.79513300e-01,  -1.38535265e+00,\n",
       "         -1.26418478e+00,  -5.37177559e-01,  -7.79513300e-01,\n",
       "         -4.16009689e-01,  -1.14301691e+00,  -1.02184904e+00,\n",
       "         -4.16009689e-01,  -1.14301691e+00,  -1.74885626e+00,\n",
       "         -9.00681170e-01,  -1.02184904e+00,  -1.62768839e+00,\n",
       "         -1.74885626e+00,  -1.02184904e+00,  -9.00681170e-01,\n",
       "         -1.26418478e+00,  -9.00681170e-01,  -1.50652052e+00,\n",
       "         -6.58345429e-01,  -1.02184904e+00,   1.40150837e+00,\n",
       "          6.74501145e-01,   1.28034050e+00,  -4.16009689e-01,\n",
       "          7.95669016e-01,  -1.73673948e-01,   5.53333275e-01,\n",
       "         -1.14301691e+00,   9.16836886e-01,  -7.79513300e-01,\n",
       "         -1.02184904e+00,   6.86617933e-02,   1.89829664e-01,\n",
       "          3.10997534e-01,  -2.94841818e-01,   1.03800476e+00,\n",
       "         -2.94841818e-01,  -5.25060772e-02,   4.32165405e-01,\n",
       "         -2.94841818e-01,   6.86617933e-02,   3.10997534e-01,\n",
       "          5.53333275e-01,   3.10997534e-01,   6.74501145e-01,\n",
       "          9.16836886e-01,   1.15917263e+00,   1.03800476e+00,\n",
       "          1.89829664e-01,  -1.73673948e-01,  -4.16009689e-01,\n",
       "         -4.16009689e-01,  -5.25060772e-02,   1.89829664e-01,\n",
       "         -5.37177559e-01,   1.89829664e-01,   1.03800476e+00,\n",
       "          5.53333275e-01,  -2.94841818e-01,  -4.16009689e-01,\n",
       "         -4.16009689e-01,   3.10997534e-01,  -5.25060772e-02,\n",
       "         -1.02184904e+00,  -2.94841818e-01,  -1.73673948e-01,\n",
       "         -1.73673948e-01,   4.32165405e-01,  -9.00681170e-01,\n",
       "         -1.73673948e-01,   5.53333275e-01,  -5.25060772e-02,\n",
       "          1.52267624e+00,   5.53333275e-01,   7.95669016e-01,\n",
       "          2.12851559e+00,  -1.14301691e+00,   1.76501198e+00,\n",
       "          1.03800476e+00,   1.64384411e+00,   7.95669016e-01,\n",
       "          6.74501145e-01,   1.15917263e+00,  -1.73673948e-01,\n",
       "         -5.25060772e-02,   6.74501145e-01,   7.95669016e-01,\n",
       "          2.24968346e+00,   2.24968346e+00,   1.89829664e-01,\n",
       "          1.28034050e+00,  -2.94841818e-01,   2.24968346e+00,\n",
       "          5.53333275e-01,   1.03800476e+00,   1.64384411e+00,\n",
       "          4.32165405e-01,   3.10997534e-01,   6.74501145e-01,\n",
       "          1.64384411e+00,   1.88617985e+00,   2.49201920e+00,\n",
       "          6.74501145e-01,   5.53333275e-01,   3.10997534e-01,\n",
       "          2.24968346e+00,   5.53333275e-01,   6.74501145e-01,\n",
       "          1.89829664e-01,   1.28034050e+00,   1.03800476e+00,\n",
       "          1.28034050e+00,  -5.25060772e-02,   1.15917263e+00,\n",
       "          1.03800476e+00,   1.03800476e+00,   5.53333275e-01,\n",
       "          7.95669016e-01,   4.32165405e-01,   6.86617933e-02],\n",
       "       [  1.03205722e+00,  -1.24957601e-01,   3.37848329e-01,\n",
       "          1.06445364e-01,   1.26346019e+00,   1.95766909e+00,\n",
       "          8.00654259e-01,   8.00654259e-01,  -3.56360566e-01,\n",
       "          1.06445364e-01,   1.49486315e+00,   8.00654259e-01,\n",
       "         -1.24957601e-01,  -1.24957601e-01,   2.18907205e+00,\n",
       "          3.11468391e+00,   1.95766909e+00,   1.03205722e+00,\n",
       "          1.72626612e+00,   1.72626612e+00,   8.00654259e-01,\n",
       "          1.49486315e+00,   1.26346019e+00,   5.69251294e-01,\n",
       "          8.00654259e-01,  -1.24957601e-01,   8.00654259e-01,\n",
       "          1.03205722e+00,   8.00654259e-01,   3.37848329e-01,\n",
       "          1.06445364e-01,   8.00654259e-01,   2.42047502e+00,\n",
       "          2.65187798e+00,   1.06445364e-01,   3.37848329e-01,\n",
       "          1.03205722e+00,   1.06445364e-01,  -1.24957601e-01,\n",
       "          8.00654259e-01,   1.03205722e+00,  -1.74477836e+00,\n",
       "          3.37848329e-01,   1.03205722e+00,   1.72626612e+00,\n",
       "         -1.24957601e-01,   1.72626612e+00,   3.37848329e-01,\n",
       "          1.49486315e+00,   5.69251294e-01,   3.37848329e-01,\n",
       "          3.37848329e-01,   1.06445364e-01,  -1.74477836e+00,\n",
       "         -5.87763531e-01,  -5.87763531e-01,   5.69251294e-01,\n",
       "         -1.51337539e+00,  -3.56360566e-01,  -8.19166497e-01,\n",
       "         -2.43898725e+00,  -1.24957601e-01,  -1.97618132e+00,\n",
       "         -3.56360566e-01,  -3.56360566e-01,   1.06445364e-01,\n",
       "         -1.24957601e-01,  -8.19166497e-01,  -1.97618132e+00,\n",
       "         -1.28197243e+00,   3.37848329e-01,  -5.87763531e-01,\n",
       "         -1.28197243e+00,  -5.87763531e-01,  -3.56360566e-01,\n",
       "         -1.24957601e-01,  -5.87763531e-01,  -1.24957601e-01,\n",
       "         -3.56360566e-01,  -1.05056946e+00,  -1.51337539e+00,\n",
       "         -1.51337539e+00,  -8.19166497e-01,  -8.19166497e-01,\n",
       "         -1.24957601e-01,   8.00654259e-01,   1.06445364e-01,\n",
       "         -1.74477836e+00,  -1.24957601e-01,  -1.28197243e+00,\n",
       "         -1.05056946e+00,  -1.24957601e-01,  -1.05056946e+00,\n",
       "         -1.74477836e+00,  -8.19166497e-01,  -1.24957601e-01,\n",
       "         -3.56360566e-01,  -3.56360566e-01,  -1.28197243e+00,\n",
       "         -5.87763531e-01,   5.69251294e-01,  -8.19166497e-01,\n",
       "         -1.24957601e-01,  -3.56360566e-01,  -1.24957601e-01,\n",
       "         -1.24957601e-01,  -1.28197243e+00,  -3.56360566e-01,\n",
       "         -1.28197243e+00,   1.26346019e+00,   3.37848329e-01,\n",
       "         -8.19166497e-01,  -1.24957601e-01,  -1.28197243e+00,\n",
       "         -5.87763531e-01,   3.37848329e-01,  -1.24957601e-01,\n",
       "          1.72626612e+00,  -1.05056946e+00,  -1.97618132e+00,\n",
       "          3.37848329e-01,  -5.87763531e-01,  -5.87763531e-01,\n",
       "         -8.19166497e-01,   5.69251294e-01,   3.37848329e-01,\n",
       "         -5.87763531e-01,  -1.24957601e-01,  -5.87763531e-01,\n",
       "         -1.24957601e-01,  -5.87763531e-01,   1.72626612e+00,\n",
       "         -5.87763531e-01,  -5.87763531e-01,  -1.05056946e+00,\n",
       "         -1.24957601e-01,   8.00654259e-01,   1.06445364e-01,\n",
       "         -1.24957601e-01,   1.06445364e-01,   1.06445364e-01,\n",
       "          1.06445364e-01,  -8.19166497e-01,   3.37848329e-01,\n",
       "          5.69251294e-01,  -1.24957601e-01,  -1.28197243e+00,\n",
       "         -1.24957601e-01,   8.00654259e-01,  -1.24957601e-01],\n",
       "       [ -1.34127240e+00,  -1.34127240e+00,  -1.39813811e+00,\n",
       "         -1.28440670e+00,  -1.34127240e+00,  -1.17067529e+00,\n",
       "         -1.34127240e+00,  -1.28440670e+00,  -1.34127240e+00,\n",
       "         -1.28440670e+00,  -1.28440670e+00,  -1.22754100e+00,\n",
       "         -1.34127240e+00,  -1.51186952e+00,  -1.45500381e+00,\n",
       "         -1.28440670e+00,  -1.39813811e+00,  -1.34127240e+00,\n",
       "         -1.17067529e+00,  -1.28440670e+00,  -1.17067529e+00,\n",
       "         -1.28440670e+00,  -1.56873522e+00,  -1.17067529e+00,\n",
       "         -1.05694388e+00,  -1.22754100e+00,  -1.22754100e+00,\n",
       "         -1.28440670e+00,  -1.34127240e+00,  -1.22754100e+00,\n",
       "         -1.22754100e+00,  -1.28440670e+00,  -1.28440670e+00,\n",
       "         -1.34127240e+00,  -1.28440670e+00,  -1.45500381e+00,\n",
       "         -1.39813811e+00,  -1.28440670e+00,  -1.39813811e+00,\n",
       "         -1.28440670e+00,  -1.39813811e+00,  -1.39813811e+00,\n",
       "         -1.39813811e+00,  -1.22754100e+00,  -1.05694388e+00,\n",
       "         -1.34127240e+00,  -1.22754100e+00,  -1.34127240e+00,\n",
       "         -1.28440670e+00,  -1.34127240e+00,   5.35295827e-01,\n",
       "          4.21564419e-01,   6.49027235e-01,   1.37235899e-01,\n",
       "          4.78430123e-01,   4.21564419e-01,   5.35295827e-01,\n",
       "         -2.60824029e-01,   4.78430123e-01,   8.03701950e-02,\n",
       "         -1.47092621e-01,   2.50967307e-01,   1.37235899e-01,\n",
       "          5.35295827e-01,  -9.02269170e-02,   3.64698715e-01,\n",
       "          4.21564419e-01,   1.94101603e-01,   4.21564419e-01,\n",
       "          8.03701950e-02,   5.92161531e-01,   1.37235899e-01,\n",
       "          6.49027235e-01,   5.35295827e-01,   3.07833011e-01,\n",
       "          3.64698715e-01,   5.92161531e-01,   7.05892939e-01,\n",
       "          4.21564419e-01,  -1.47092621e-01,   2.35044910e-02,\n",
       "         -3.33612130e-02,   8.03701950e-02,   7.62758643e-01,\n",
       "          4.21564419e-01,   4.21564419e-01,   5.35295827e-01,\n",
       "          3.64698715e-01,   1.94101603e-01,   1.37235899e-01,\n",
       "          3.64698715e-01,   4.78430123e-01,   1.37235899e-01,\n",
       "         -2.60824029e-01,   2.50967307e-01,   2.50967307e-01,\n",
       "          2.50967307e-01,   3.07833011e-01,  -4.31421141e-01,\n",
       "          1.94101603e-01,   1.27454998e+00,   7.62758643e-01,\n",
       "          1.21768427e+00,   1.04708716e+00,   1.16081857e+00,\n",
       "          1.61574420e+00,   4.21564419e-01,   1.44514709e+00,\n",
       "          1.16081857e+00,   1.33141568e+00,   7.62758643e-01,\n",
       "          8.76490051e-01,   9.90221459e-01,   7.05892939e-01,\n",
       "          7.62758643e-01,   8.76490051e-01,   9.90221459e-01,\n",
       "          1.67260991e+00,   1.78634131e+00,   7.05892939e-01,\n",
       "          1.10395287e+00,   6.49027235e-01,   1.67260991e+00,\n",
       "          6.49027235e-01,   1.10395287e+00,   1.27454998e+00,\n",
       "          5.92161531e-01,   6.49027235e-01,   1.04708716e+00,\n",
       "          1.16081857e+00,   1.33141568e+00,   1.50201279e+00,\n",
       "          1.04708716e+00,   7.62758643e-01,   1.04708716e+00,\n",
       "          1.33141568e+00,   1.04708716e+00,   9.90221459e-01,\n",
       "          5.92161531e-01,   9.33355755e-01,   1.04708716e+00,\n",
       "          7.62758643e-01,   7.62758643e-01,   1.21768427e+00,\n",
       "          1.10395287e+00,   8.19624347e-01,   7.05892939e-01,\n",
       "          8.19624347e-01,   9.33355755e-01,   7.62758643e-01],\n",
       "       [ -1.31297673e+00,  -1.31297673e+00,  -1.31297673e+00,\n",
       "         -1.31297673e+00,  -1.31297673e+00,  -1.05003079e+00,\n",
       "         -1.18150376e+00,  -1.31297673e+00,  -1.31297673e+00,\n",
       "         -1.44444970e+00,  -1.31297673e+00,  -1.31297673e+00,\n",
       "         -1.44444970e+00,  -1.44444970e+00,  -1.31297673e+00,\n",
       "         -1.05003079e+00,  -1.05003079e+00,  -1.18150376e+00,\n",
       "         -1.18150376e+00,  -1.18150376e+00,  -1.31297673e+00,\n",
       "         -1.05003079e+00,  -1.31297673e+00,  -9.18557817e-01,\n",
       "         -1.31297673e+00,  -1.31297673e+00,  -1.05003079e+00,\n",
       "         -1.31297673e+00,  -1.31297673e+00,  -1.31297673e+00,\n",
       "         -1.31297673e+00,  -1.05003079e+00,  -1.44444970e+00,\n",
       "         -1.31297673e+00,  -1.44444970e+00,  -1.31297673e+00,\n",
       "         -1.31297673e+00,  -1.44444970e+00,  -1.31297673e+00,\n",
       "         -1.31297673e+00,  -1.18150376e+00,  -1.18150376e+00,\n",
       "         -1.31297673e+00,  -7.87084847e-01,  -1.05003079e+00,\n",
       "         -1.18150376e+00,  -1.31297673e+00,  -1.31297673e+00,\n",
       "         -1.31297673e+00,  -1.31297673e+00,   2.64698913e-01,\n",
       "          3.96171883e-01,   3.96171883e-01,   1.33225943e-01,\n",
       "          3.96171883e-01,   1.33225943e-01,   5.27644853e-01,\n",
       "         -2.61192967e-01,   1.33225943e-01,   2.64698913e-01,\n",
       "         -2.61192967e-01,   3.96171883e-01,  -2.61192967e-01,\n",
       "          2.64698913e-01,   1.33225943e-01,   2.64698913e-01,\n",
       "          3.96171883e-01,  -2.61192967e-01,   3.96171883e-01,\n",
       "         -1.29719997e-01,   7.90590793e-01,   1.33225943e-01,\n",
       "          3.96171883e-01,   1.75297293e-03,   1.33225943e-01,\n",
       "          2.64698913e-01,   2.64698913e-01,   6.59117823e-01,\n",
       "          3.96171883e-01,  -2.61192967e-01,  -1.29719997e-01,\n",
       "         -2.61192967e-01,   1.75297293e-03,   5.27644853e-01,\n",
       "          3.96171883e-01,   5.27644853e-01,   3.96171883e-01,\n",
       "          1.33225943e-01,   1.33225943e-01,   1.33225943e-01,\n",
       "          1.75297293e-03,   2.64698913e-01,   1.75297293e-03,\n",
       "         -2.61192967e-01,   1.33225943e-01,   1.75297293e-03,\n",
       "          1.33225943e-01,   1.33225943e-01,  -1.29719997e-01,\n",
       "          1.33225943e-01,   1.71090158e+00,   9.22063763e-01,\n",
       "          1.18500970e+00,   7.90590793e-01,   1.31648267e+00,\n",
       "          1.18500970e+00,   6.59117823e-01,   7.90590793e-01,\n",
       "          7.90590793e-01,   1.71090158e+00,   1.05353673e+00,\n",
       "          9.22063763e-01,   1.18500970e+00,   1.05353673e+00,\n",
       "          1.57942861e+00,   1.44795564e+00,   7.90590793e-01,\n",
       "          1.31648267e+00,   1.44795564e+00,   3.96171883e-01,\n",
       "          1.44795564e+00,   1.05353673e+00,   1.05353673e+00,\n",
       "          7.90590793e-01,   1.18500970e+00,   7.90590793e-01,\n",
       "          7.90590793e-01,   7.90590793e-01,   1.18500970e+00,\n",
       "          5.27644853e-01,   9.22063763e-01,   1.05353673e+00,\n",
       "          1.31648267e+00,   3.96171883e-01,   2.64698913e-01,\n",
       "          1.44795564e+00,   1.57942861e+00,   7.90590793e-01,\n",
       "          7.90590793e-01,   1.18500970e+00,   1.57942861e+00,\n",
       "          1.44795564e+00,   9.22063763e-01,   1.44795564e+00,\n",
       "          1.71090158e+00,   1.44795564e+00,   9.22063763e-01,\n",
       "          1.05353673e+00,   1.44795564e+00,   7.90590793e-01]])"
      ]
     },
     "execution_count": 24,
     "metadata": {},
     "output_type": "execute_result"
    }
   ],
   "source": [
    "## Transposes the data\n",
    "\n",
    "x_standard.T"
   ]
  },
  {
   "cell_type": "code",
   "execution_count": 27,
   "metadata": {
    "collapsed": false
   },
   "outputs": [
    {
     "data": {
      "text/plain": [
       "array([[ 1.00671141, -0.11010327,  0.87760486,  0.82344326],\n",
       "       [-0.11010327,  1.00671141, -0.42333835, -0.358937  ],\n",
       "       [ 0.87760486, -0.42333835,  1.00671141,  0.96921855],\n",
       "       [ 0.82344326, -0.358937  ,  0.96921855,  1.00671141]])"
      ]
     },
     "execution_count": 27,
     "metadata": {},
     "output_type": "execute_result"
    }
   ],
   "source": [
    "## this is also transposed. Covariance matrix is basically the same thing as a correlation matrix.\n",
    "cov_mat"
   ]
  },
  {
   "cell_type": "code",
   "execution_count": 38,
   "metadata": {
    "collapsed": false
   },
   "outputs": [],
   "source": [
    "## make eigenvalues, eigenvectors\n",
    "\n",
    "eigenValues, eigenVectors = np.linalg.eig(cov_mat)"
   ]
  },
  {
   "cell_type": "code",
   "execution_count": 40,
   "metadata": {
    "collapsed": false
   },
   "outputs": [
    {
     "data": {
      "text/plain": [
       "array([[ 0.52237162, -0.37231836, -0.72101681,  0.26199559],\n",
       "       [-0.26335492, -0.92555649,  0.24203288, -0.12413481],\n",
       "       [ 0.58125401, -0.02109478,  0.14089226, -0.80115427],\n",
       "       [ 0.56561105, -0.06541577,  0.6338014 ,  0.52354627]])"
      ]
     },
     "execution_count": 40,
     "metadata": {},
     "output_type": "execute_result"
    }
   ],
   "source": [
    "eigenVectors"
   ]
  },
  {
   "cell_type": "code",
   "execution_count": 39,
   "metadata": {
    "collapsed": false,
    "scrolled": true
   },
   "outputs": [
    {
     "data": {
      "text/plain": [
       "array([ 2.93035378,  0.92740362,  0.14834223,  0.02074601])"
      ]
     },
     "execution_count": 39,
     "metadata": {},
     "output_type": "execute_result"
    }
   ],
   "source": [
    "eigenValues"
   ]
  },
  {
   "cell_type": "code",
   "execution_count": 42,
   "metadata": {
    "collapsed": false
   },
   "outputs": [
    {
     "data": {
      "text/plain": [
       "4.0268456375838957"
      ]
     },
     "execution_count": 42,
     "metadata": {},
     "output_type": "execute_result"
    }
   ],
   "source": [
    "## the full transformation across the dataset\n",
    "\n",
    "eigenValSum = sum(eigenValues)\n",
    "eigenValSum"
   ]
  },
  {
   "cell_type": "code",
   "execution_count": 47,
   "metadata": {
    "collapsed": true
   },
   "outputs": [],
   "source": [
    "## every eigenvalue divided by the amount of change\n",
    "varianceExplained = [(i/eigenValSum)*100 for i in sorted(eigenValues, reverse=True)]"
   ]
  },
  {
   "cell_type": "code",
   "execution_count": 55,
   "metadata": {
    "collapsed": false
   },
   "outputs": [
    {
     "data": {
      "text/plain": [
       "[72.770452093801367,\n",
       " 23.030523267680621,\n",
       " 3.6838319576273868,\n",
       " 0.51519268089063286]"
      ]
     },
     "execution_count": 55,
     "metadata": {},
     "output_type": "execute_result"
    }
   ],
   "source": [
    "## the variance exlpained by each principal component (graphed, this would be a scree plot)\n",
    "\n",
    "varianceExplained"
   ]
  },
  {
   "cell_type": "code",
   "execution_count": 49,
   "metadata": {
    "collapsed": true
   },
   "outputs": [],
   "source": [
    "cumulativeVarianceexplained = np.cumsum(varianceExplained)"
   ]
  },
  {
   "cell_type": "code",
   "execution_count": 51,
   "metadata": {
    "collapsed": false
   },
   "outputs": [
    {
     "data": {
      "text/plain": [
       "array([  72.77045209,   95.80097536,   99.48480732,  100.        ])"
      ]
     },
     "execution_count": 51,
     "metadata": {},
     "output_type": "execute_result"
    }
   ],
   "source": [
    "## this shows the amount of cumulative variance by adding each new principal component\n",
    "cumulativeVarianceexplained"
   ]
  },
  {
   "cell_type": "code",
   "execution_count": 57,
   "metadata": {
    "collapsed": false
   },
   "outputs": [
    {
     "data": {
      "text/plain": [
       "[(2.9303537755893192,\n",
       "  array([ 0.52237162, -0.37231836, -0.72101681,  0.26199559])),\n",
       " (0.92740362151734124,\n",
       "  array([-0.26335492, -0.92555649,  0.24203288, -0.12413481])),\n",
       " (0.14834222648163986,\n",
       "  array([ 0.58125401, -0.02109478,  0.14089226, -0.80115427])),\n",
       " (0.020746013995595971,\n",
       "  array([ 0.56561105, -0.06541577,  0.6338014 ,  0.52354627]))]"
      ]
     },
     "execution_count": 57,
     "metadata": {},
     "output_type": "execute_result"
    }
   ],
   "source": [
    "eigenPairs = zip(eigenValues, eigenVectors)\n",
    "eigenPairs"
   ]
  },
  {
   "cell_type": "code",
   "execution_count": 58,
   "metadata": {
    "collapsed": true
   },
   "outputs": [],
   "source": [
    "Pmatrix = np.hstack((eigenPairs[0][1].reshape(4,1), eigenPairs[1][1].reshape(4,1)))"
   ]
  },
  {
   "cell_type": "code",
   "execution_count": 59,
   "metadata": {
    "collapsed": false
   },
   "outputs": [
    {
     "data": {
      "text/plain": [
       "array([[ 0.52237162, -0.26335492],\n",
       "       [-0.37231836, -0.92555649],\n",
       "       [-0.72101681,  0.24203288],\n",
       "       [ 0.26199559, -0.12413481]])"
      ]
     },
     "execution_count": 59,
     "metadata": {},
     "output_type": "execute_result"
    }
   ],
   "source": [
    "Pmatrix"
   ]
  },
  {
   "cell_type": "code",
   "execution_count": 63,
   "metadata": {
    "collapsed": false
   },
   "outputs": [
    {
     "data": {
      "text/plain": [
       "array([[-0.2316583 , -0.87967436],\n",
       "       [ 0.07253025,  0.25502854],\n",
       "       [-0.18536908, -0.12326756],\n",
       "       [-0.24451042,  0.15034585],\n",
       "       [-0.38110853, -1.06194072],\n",
       "       [-0.44050933, -1.82346152],\n",
       "       [-0.42753067, -0.52226744],\n",
       "       [-0.24979851, -0.61982431],\n",
       "       [-0.15778746,  0.62875583],\n",
       "       [-0.08907179,  0.07093576],\n",
       "       [-0.2550866 , -1.38999448],\n",
       "       [-0.41738895, -0.54224064],\n",
       "       [-0.02520974,  0.30325906],\n",
       "       [-0.21867964,  0.42151973],\n",
       "       [-0.13737131, -2.20145476],\n",
       "       [-0.59940097, -3.01760131],\n",
       "       [-0.27650482, -1.878515  ],\n",
       "       [-0.19721296, -0.89599473],\n",
       "       [-0.19891512, -1.6886951 ],\n",
       "       [-0.49668081, -1.52476091],\n",
       "       [-0.07862214, -0.71993819],\n",
       "       [-0.3760799 , -1.32690476],\n",
       "       [-0.47028264, -0.98935358],\n",
       "       [-0.07901452, -0.45899233],\n",
       "       [-0.54039234, -0.50095053],\n",
       "       [ 0.05382265,  0.25064512],\n",
       "       [-0.22190896, -0.63870169],\n",
       "       [-0.20936477, -0.89782114],\n",
       "       [-0.08220807, -0.69740799],\n",
       "       [-0.30837246, -0.08197745],\n",
       "       [-0.15892223,  0.10028892],\n",
       "       [ 0.07227079, -0.78010568],\n",
       "       [-0.76074355, -2.16655987],\n",
       "       [-0.58156868, -2.50655059],\n",
       "       [-0.08907179,  0.07093576],\n",
       "       [ 0.04551602, -0.23276139],\n",
       "       [ 0.06252146, -1.02107834],\n",
       "       [-0.08907179,  0.07093576],\n",
       "       [-0.2029419 ,  0.40081594],\n",
       "       [-0.18650385, -0.65173447],\n",
       "       [-0.21950649, -0.87784794],\n",
       "       [ 0.49788711,  1.85182103],\n",
       "       [-0.37525305, -0.02753709],\n",
       "       [-0.23917386, -0.88551895],\n",
       "       [-0.62623998, -1.4860278 ],\n",
       "       [ 0.04368094,  0.27061832],\n",
       "       [-0.57212727, -1.49467717],\n",
       "       [-0.28966486, -0.07759403],\n",
       "       [-0.31838126, -1.35808433],\n",
       "       [-0.12264181, -0.41941117],\n",
       "       [ 0.28971372, -0.58509099],\n",
       "       [ 0.02639337, -0.43747718],\n",
       "       [ 0.26501772, -0.32779795],\n",
       "       [ 0.36825659,  1.74112676],\n",
       "       [ 0.39330919,  0.4010821 ],\n",
       "       [-0.14093761,  0.67524071],\n",
       "       [-0.17061378, -0.60853717],\n",
       "       [ 0.08600496,  1.67102869],\n",
       "       [ 0.3015576 ,  0.18763618],\n",
       "       [-0.09080321,  0.95006741],\n",
       "       [ 0.41191965,  2.52335135],\n",
       "       [ 0.00523462,  0.10913652],\n",
       "       [ 0.66754943,  1.84471362],\n",
       "       [-0.02147147,  0.34462995],\n",
       "       [ 0.07862232,  0.36910402],\n",
       "       [ 0.30898871, -0.31647412],\n",
       "       [-0.30765274,  0.24615709],\n",
       "       [ 0.06918112,  0.85141471],\n",
       "       [ 0.76135979,  1.7681083 ],\n",
       "       [ 0.23135055,  1.29974094],\n",
       "       [-0.30974728, -0.28559741],\n",
       "       [ 0.31724666,  0.47878325],\n",
       "       [ 0.40218321,  1.14872207],\n",
       "       [-0.00420658,  0.59144721],\n",
       "       [ 0.29797167,  0.21016638],\n",
       "       [ 0.33184962, -0.07038745],\n",
       "       [ 0.46674557,  0.34919875],\n",
       "       [ 0.25247352, -0.0686785 ],\n",
       "       [ 0.03168146,  0.33269299],\n",
       "       [ 0.33804881,  1.01492116],\n",
       "       [ 0.29521259,  1.53206425],\n",
       "       [ 0.30176838,  1.53462125],\n",
       "       [ 0.22007405,  0.79124723],\n",
       "       [-0.00756882,  0.82730587],\n",
       "       [-0.43424205,  0.3099774 ],\n",
       "       [-0.36465106, -0.75450997],\n",
       "       [ 0.22043066, -0.29150439],\n",
       "       [ 0.71060933,  1.540899  ],\n",
       "       [-0.2125389 ,  0.22374435],\n",
       "       [ 0.19594544,  1.31277372],\n",
       "       [-0.08865999,  1.16997106],\n",
       "       [-0.06662592,  0.11669006],\n",
       "       [ 0.2652285 ,  1.01918712],\n",
       "       [ 0.23545519,  1.85329506],\n",
       "       [ 0.00492669,  0.88003727],\n",
       "       [-0.22469071,  0.22191794],\n",
       "       [-0.1040898 ,  0.41977409],\n",
       "       [ 0.17138236,  0.27398669],\n",
       "       [ 0.28388742,  1.33542139],\n",
       "       [ 0.02306691,  0.62018723],\n",
       "       [-0.3936204 , -0.57649671],\n",
       "       [-0.03082212,  0.84216506],\n",
       "       [ 0.27442335, -0.13773028],\n",
       "       [-0.12611096,  0.33939848],\n",
       "       [-0.02989813,  0.0236469 ],\n",
       "       [ 0.30388873, -0.20093746],\n",
       "       [-0.25104679,  1.50777001],\n",
       "       [ 0.21982771,  0.11664053],\n",
       "       [ 0.3896877 ,  1.09599067],\n",
       "       [-0.12343634, -1.49245428],\n",
       "       [ 0.01590795, -0.46840897],\n",
       "       [ 0.26694356,  0.67823088],\n",
       "       [ 0.24854389, -0.0970533 ],\n",
       "       [ 0.15364083,  1.27234451],\n",
       "       [ 0.055249  ,  0.54638669],\n",
       "       [-0.02605295, -0.4579332 ],\n",
       "       [-0.04467609,  0.04763828],\n",
       "       [-0.32861699, -1.94881675],\n",
       "       [ 0.65769297,  0.63250782],\n",
       "       [ 0.42976484,  1.90074546],\n",
       "       [ 0.12641582, -0.56243049],\n",
       "       [-0.12711941,  0.64796174],\n",
       "       [ 0.46404807,  0.22558916],\n",
       "       [ 0.33320808,  0.67140792],\n",
       "       [-0.15521974, -0.68014595],\n",
       "       [ 0.02106971, -0.53526898],\n",
       "       [ 0.22475898,  0.47537819],\n",
       "       [-0.05184795,  0.09269868],\n",
       "       [ 0.12667528,  0.47270373],\n",
       "       [ 0.20649244, -0.10180194],\n",
       "       [ 0.48572553,  0.25505978],\n",
       "       [-0.14791497, -2.02128643],\n",
       "       [ 0.16112062,  0.45638335],\n",
       "       [ 0.06171424,  0.53371926],\n",
       "       [-0.13201491,  1.11102983],\n",
       "       [ 0.64107971, -0.33430521],\n",
       "       [-0.3502168 , -0.82940634],\n",
       "       [-0.19412633, -0.13462808],\n",
       "       [-0.07414148,  0.11084547],\n",
       "       [ 0.2666841 , -0.35690334],\n",
       "       [ 0.16142854, -0.3145174 ],\n",
       "       [ 0.45857816, -0.43083419],\n",
       "       [-0.03082212,  0.84216506],\n",
       "       [-0.0188811 , -0.50299359],\n",
       "       [-0.01743839, -0.74542744],\n",
       "       [ 0.37714329, -0.139074  ],\n",
       "       [ 0.49896344,  1.09720396],\n",
       "       [ 0.14721797, -0.02629257],\n",
       "       [-0.36595454, -0.80870255],\n",
       "       [-0.26043952,  0.18404573]])"
      ]
     },
     "execution_count": 63,
     "metadata": {},
     "output_type": "execute_result"
    }
   ],
   "source": [
    "## applies the Pmatrix (via dot multiplication) to x_standard to create the first two principal components\n",
    "\n",
    "x_standard.dot(Pmatrix)"
   ]
  },
  {
   "cell_type": "code",
   "execution_count": 69,
   "metadata": {
    "collapsed": false
   },
   "outputs": [],
   "source": [
    "from sklearn.decomposition import PCA"
   ]
  },
  {
   "cell_type": "code",
   "execution_count": 73,
   "metadata": {
    "collapsed": false
   },
   "outputs": [],
   "source": [
    "## instantiates a PCA object, tells it to extract 2 components\n",
    "pca = PCA(n_components=2)"
   ]
  },
  {
   "cell_type": "code",
   "execution_count": 75,
   "metadata": {
    "collapsed": false
   },
   "outputs": [
    {
     "data": {
      "text/plain": [
       "array([-2.26454173, -0.5057039 ])"
      ]
     },
     "execution_count": 75,
     "metadata": {},
     "output_type": "execute_result"
    }
   ],
   "source": [
    "pca.fit_transform(x_standard)[0]"
   ]
  },
  {
   "cell_type": "code",
   "execution_count": 78,
   "metadata": {
    "collapsed": false
   },
   "outputs": [],
   "source": [
    "PCA?"
   ]
  },
  {
   "cell_type": "code",
   "execution_count": null,
   "metadata": {
    "collapsed": true
   },
   "outputs": [],
   "source": []
  }
 ],
 "metadata": {
  "anaconda-cloud": {},
  "kernelspec": {
   "display_name": "Python [Root]",
   "language": "python",
   "name": "Python [Root]"
  },
  "language_info": {
   "codemirror_mode": {
    "name": "ipython",
    "version": 2
   },
   "file_extension": ".py",
   "mimetype": "text/x-python",
   "name": "python",
   "nbconvert_exporter": "python",
   "pygments_lexer": "ipython2",
   "version": "2.7.12"
  }
 },
 "nbformat": 4,
 "nbformat_minor": 0
}
