{
 "cells": [
  {
   "cell_type": "code",
   "execution_count": 118,
   "metadata": {
    "collapsed": false
   },
   "outputs": [],
   "source": [
    "import pandas as pd\n",
    "import seaborn as sb\n",
    "import matplotlib.pyplot as plt\n",
    "import numpy as np\n",
    "import json\n",
    "from sklearn.metrics import confusion_matrix, classification_report\n",
    "from sklearn.linear_model import LogisticRegression\n",
    "%matplotlib inline\n",
    "\n",
    "\n",
    "from sklearn.metrics import roc_curve, auc\n",
    "from sklearn.cross_validation import train_test_split\n",
    "from sklearn.metrics import confusion_matrix, accuracy_score, precision_score, recall_score\n",
    "\n",
    "plt.style.use('seaborn-white')\n",
    "\n",
    "import statsmodels.api as sm\n",
    "\n",
    "pd.options.display.max_columns = 50\n",
    "pd.options.display.max_colwidth = 300"
   ]
  },
  {
   "cell_type": "code",
   "execution_count": 2,
   "metadata": {
    "collapsed": true
   },
   "outputs": [],
   "source": [
    "evergreen = pd.read_csv('../datasets/train.tsv', sep='\\t', na_values='?')\n",
    "\n",
    "# Extract the title and body from the boilerplate JSON text\n",
    "evergreen['title'] = evergreen.boilerplate.map(lambda x: json.loads(x).get('title', ''))\n",
    "evergreen['body'] = evergreen.boilerplate.map(lambda x: json.loads(x).get('body', ''))"
   ]
  },
  {
   "cell_type": "code",
   "execution_count": 7,
   "metadata": {
    "collapsed": true
   },
   "outputs": [],
   "source": [
    "evergreen = pd.get_dummies(evergreen, columns=['alchemy_category'])"
   ]
  },
  {
   "cell_type": "code",
   "execution_count": 15,
   "metadata": {
    "collapsed": true
   },
   "outputs": [],
   "source": [
    "evergreen['is_recipe'] = evergreen['title'].fillna('').str.contains('recipe')"
   ]
  },
  {
   "cell_type": "code",
   "execution_count": 29,
   "metadata": {
    "collapsed": true
   },
   "outputs": [],
   "source": [
    "evergreen.dropna(inplace=True)"
   ]
  },
  {
   "cell_type": "code",
   "execution_count": 16,
   "metadata": {
    "collapsed": false,
    "scrolled": true
   },
   "outputs": [
    {
     "data": {
      "text/plain": [
       "Index([u'url', u'urlid', u'boilerplate', u'alchemy_category_score',\n",
       "       u'avglinksize', u'commonlinkratio_1', u'commonlinkratio_2',\n",
       "       u'commonlinkratio_3', u'commonlinkratio_4', u'compression_ratio',\n",
       "       u'embed_ratio', u'framebased', u'frameTagRatio', u'hasDomainLink',\n",
       "       u'html_ratio', u'image_ratio', u'is_news', u'lengthyLinkDomain',\n",
       "       u'linkwordscore', u'news_front_page', u'non_markup_alphanum_characters',\n",
       "       u'numberOfLinks', u'numwords_in_url', u'parametrizedLinkRatio',\n",
       "       u'spelling_errors_ratio', u'label', u'title', u'body',\n",
       "       u'alchemy_category_arts_entertainment', u'alchemy_category_business',\n",
       "       u'alchemy_category_computer_internet',\n",
       "       u'alchemy_category_culture_politics', u'alchemy_category_gaming',\n",
       "       u'alchemy_category_health', u'alchemy_category_law_crime',\n",
       "       u'alchemy_category_recreation', u'alchemy_category_religion',\n",
       "       u'alchemy_category_science_technology', u'alchemy_category_sports',\n",
       "       u'alchemy_category_unknown', u'alchemy_category_weather', u'is_recipe'],\n",
       "      dtype='object')"
      ]
     },
     "execution_count": 16,
     "metadata": {},
     "output_type": "execute_result"
    }
   ],
   "source": [
    "evergreen.columns"
   ]
  },
  {
   "cell_type": "code",
   "execution_count": 20,
   "metadata": {
    "collapsed": false
   },
   "outputs": [
    {
     "data": {
      "text/plain": [
       "url                                     object\n",
       "urlid                                    int64\n",
       "boilerplate                             object\n",
       "alchemy_category_score                 float64\n",
       "avglinksize                            float64\n",
       "commonlinkratio_1                      float64\n",
       "commonlinkratio_2                      float64\n",
       "commonlinkratio_3                      float64\n",
       "commonlinkratio_4                      float64\n",
       "compression_ratio                      float64\n",
       "embed_ratio                            float64\n",
       "framebased                               int64\n",
       "frameTagRatio                          float64\n",
       "hasDomainLink                            int64\n",
       "html_ratio                             float64\n",
       "image_ratio                            float64\n",
       "is_news                                float64\n",
       "lengthyLinkDomain                        int64\n",
       "linkwordscore                            int64\n",
       "news_front_page                        float64\n",
       "non_markup_alphanum_characters           int64\n",
       "numberOfLinks                            int64\n",
       "numwords_in_url                          int64\n",
       "parametrizedLinkRatio                  float64\n",
       "spelling_errors_ratio                  float64\n",
       "label                                    int64\n",
       "title                                   object\n",
       "body                                    object\n",
       "alchemy_category_arts_entertainment    float64\n",
       "alchemy_category_business              float64\n",
       "alchemy_category_computer_internet     float64\n",
       "alchemy_category_culture_politics      float64\n",
       "alchemy_category_gaming                float64\n",
       "alchemy_category_health                float64\n",
       "alchemy_category_law_crime             float64\n",
       "alchemy_category_recreation            float64\n",
       "alchemy_category_religion              float64\n",
       "alchemy_category_science_technology    float64\n",
       "alchemy_category_sports                float64\n",
       "alchemy_category_unknown               float64\n",
       "alchemy_category_weather               float64\n",
       "is_recipe                                 bool\n",
       "dtype: object"
      ]
     },
     "execution_count": 20,
     "metadata": {},
     "output_type": "execute_result"
    }
   ],
   "source": [
    "evergreen.dtypes"
   ]
  },
  {
   "cell_type": "code",
   "execution_count": 14,
   "metadata": {
    "collapsed": false,
    "scrolled": true
   },
   "outputs": [
    {
     "data": {
      "text/plain": [
       "count    7395.000000\n",
       "mean        0.513320\n",
       "std         0.499856\n",
       "min         0.000000\n",
       "25%         0.000000\n",
       "50%         1.000000\n",
       "75%         1.000000\n",
       "max         1.000000\n",
       "Name: label, dtype: float64"
      ]
     },
     "execution_count": 14,
     "metadata": {},
     "output_type": "execute_result"
    }
   ],
   "source": [
    "evergreen['label'].describe()"
   ]
  },
  {
   "cell_type": "code",
   "execution_count": 21,
   "metadata": {
    "collapsed": false
   },
   "outputs": [
    {
     "data": {
      "text/html": [
       "<div>\n",
       "<table border=\"1\" class=\"dataframe\">\n",
       "  <thead>\n",
       "    <tr style=\"text-align: right;\">\n",
       "      <th></th>\n",
       "      <th>url</th>\n",
       "      <th>urlid</th>\n",
       "      <th>boilerplate</th>\n",
       "      <th>alchemy_category_score</th>\n",
       "      <th>avglinksize</th>\n",
       "      <th>commonlinkratio_1</th>\n",
       "      <th>commonlinkratio_2</th>\n",
       "      <th>commonlinkratio_3</th>\n",
       "      <th>commonlinkratio_4</th>\n",
       "      <th>compression_ratio</th>\n",
       "      <th>embed_ratio</th>\n",
       "      <th>framebased</th>\n",
       "      <th>frameTagRatio</th>\n",
       "      <th>hasDomainLink</th>\n",
       "      <th>html_ratio</th>\n",
       "      <th>image_ratio</th>\n",
       "      <th>is_news</th>\n",
       "      <th>lengthyLinkDomain</th>\n",
       "      <th>linkwordscore</th>\n",
       "      <th>news_front_page</th>\n",
       "      <th>non_markup_alphanum_characters</th>\n",
       "      <th>numberOfLinks</th>\n",
       "      <th>numwords_in_url</th>\n",
       "      <th>parametrizedLinkRatio</th>\n",
       "      <th>spelling_errors_ratio</th>\n",
       "      <th>label</th>\n",
       "      <th>title</th>\n",
       "      <th>body</th>\n",
       "      <th>alchemy_category_arts_entertainment</th>\n",
       "      <th>alchemy_category_business</th>\n",
       "      <th>alchemy_category_computer_internet</th>\n",
       "      <th>alchemy_category_culture_politics</th>\n",
       "      <th>alchemy_category_gaming</th>\n",
       "      <th>alchemy_category_health</th>\n",
       "      <th>alchemy_category_law_crime</th>\n",
       "      <th>alchemy_category_recreation</th>\n",
       "      <th>alchemy_category_religion</th>\n",
       "      <th>alchemy_category_science_technology</th>\n",
       "      <th>alchemy_category_sports</th>\n",
       "      <th>alchemy_category_unknown</th>\n",
       "      <th>alchemy_category_weather</th>\n",
       "      <th>is_recipe</th>\n",
       "    </tr>\n",
       "  </thead>\n",
       "  <tbody>\n",
       "    <tr>\n",
       "      <th>0</th>\n",
       "      <td>http://www.bloomberg.com/news/2010-12-23/ibm-predicts-holographic-calls-air-breathing-batteries-by-2015.html</td>\n",
       "      <td>4042</td>\n",
       "      <td>{\"title\":\"IBM Sees Holographic Calls Air Breathing Batteries ibm sees holographic calls, air-breathing batteries\",\"body\":\"A sign stands outside the International Business Machines Corp IBM Almaden Research Center campus in San Jose California Photographer Tony Avelar Bloomberg Buildings stand at...</td>\n",
       "      <td>0.789131</td>\n",
       "      <td>2.055556</td>\n",
       "      <td>0.676471</td>\n",
       "      <td>0.205882</td>\n",
       "      <td>0.047059</td>\n",
       "      <td>0.023529</td>\n",
       "      <td>0.443783</td>\n",
       "      <td>0.0</td>\n",
       "      <td>0</td>\n",
       "      <td>0.090774</td>\n",
       "      <td>0</td>\n",
       "      <td>0.245831</td>\n",
       "      <td>0.003883</td>\n",
       "      <td>1.0</td>\n",
       "      <td>1</td>\n",
       "      <td>24</td>\n",
       "      <td>0.0</td>\n",
       "      <td>5424</td>\n",
       "      <td>170</td>\n",
       "      <td>8</td>\n",
       "      <td>0.152941</td>\n",
       "      <td>0.079130</td>\n",
       "      <td>0</td>\n",
       "      <td>IBM Sees Holographic Calls Air Breathing Batteries ibm sees holographic calls, air-breathing batteries</td>\n",
       "      <td>A sign stands outside the International Business Machines Corp IBM Almaden Research Center campus in San Jose California Photographer Tony Avelar Bloomberg Buildings stand at the International Business Machines Corp IBM Almaden Research Center campus in the Santa Teresa Hills of San Jose Califor...</td>\n",
       "      <td>0.0</td>\n",
       "      <td>1.0</td>\n",
       "      <td>0.0</td>\n",
       "      <td>0.0</td>\n",
       "      <td>0.0</td>\n",
       "      <td>0.0</td>\n",
       "      <td>0.0</td>\n",
       "      <td>0.0</td>\n",
       "      <td>0.0</td>\n",
       "      <td>0.0</td>\n",
       "      <td>0.0</td>\n",
       "      <td>0.0</td>\n",
       "      <td>0.0</td>\n",
       "      <td>False</td>\n",
       "    </tr>\n",
       "    <tr>\n",
       "      <th>1</th>\n",
       "      <td>http://www.popsci.com/technology/article/2012-07/electronic-futuristic-starting-gun-eliminates-advantages-races</td>\n",
       "      <td>8471</td>\n",
       "      <td>{\"title\":\"The Fully Electronic Futuristic Starting Gun That Eliminates Advantages in Races the fully electronic, futuristic starting gun that eliminates advantages in races the fully electronic, futuristic starting gun that eliminates advantages in races\",\"body\":\"And that can be carried on a pla...</td>\n",
       "      <td>0.574147</td>\n",
       "      <td>3.677966</td>\n",
       "      <td>0.508021</td>\n",
       "      <td>0.288770</td>\n",
       "      <td>0.213904</td>\n",
       "      <td>0.144385</td>\n",
       "      <td>0.468649</td>\n",
       "      <td>0.0</td>\n",
       "      <td>0</td>\n",
       "      <td>0.098707</td>\n",
       "      <td>0</td>\n",
       "      <td>0.203490</td>\n",
       "      <td>0.088652</td>\n",
       "      <td>1.0</td>\n",
       "      <td>1</td>\n",
       "      <td>40</td>\n",
       "      <td>0.0</td>\n",
       "      <td>4973</td>\n",
       "      <td>187</td>\n",
       "      <td>9</td>\n",
       "      <td>0.181818</td>\n",
       "      <td>0.125448</td>\n",
       "      <td>1</td>\n",
       "      <td>The Fully Electronic Futuristic Starting Gun That Eliminates Advantages in Races the fully electronic, futuristic starting gun that eliminates advantages in races the fully electronic, futuristic starting gun that eliminates advantages in races</td>\n",
       "      <td>And that can be carried on a plane without the hassle too The Omega E Gun Starting Pistol Omega It s easy to take for granted just how insanely close some Olympic races are and how much the minutiae of it all can matter The perfect example is the traditional starting gun Seems easy You pull a tr...</td>\n",
       "      <td>0.0</td>\n",
       "      <td>0.0</td>\n",
       "      <td>0.0</td>\n",
       "      <td>0.0</td>\n",
       "      <td>0.0</td>\n",
       "      <td>0.0</td>\n",
       "      <td>0.0</td>\n",
       "      <td>1.0</td>\n",
       "      <td>0.0</td>\n",
       "      <td>0.0</td>\n",
       "      <td>0.0</td>\n",
       "      <td>0.0</td>\n",
       "      <td>0.0</td>\n",
       "      <td>False</td>\n",
       "    </tr>\n",
       "    <tr>\n",
       "      <th>2</th>\n",
       "      <td>http://www.menshealth.com/health/flu-fighting-fruits?cm_mmc=Facebook-_-MensHealth-_-Content-Health-_-FightFluWithFruit</td>\n",
       "      <td>1164</td>\n",
       "      <td>{\"title\":\"Fruits that Fight the Flu fruits that fight the flu | cold &amp; flu | men's health\",\"body\":\"Apples The most popular source of antioxidants in our diet one apple has an antioxidant effect equivalent to 1 500 mg of vitamin C Apples are loaded with protective flavonoids which may prevent hea...</td>\n",
       "      <td>0.996526</td>\n",
       "      <td>2.382883</td>\n",
       "      <td>0.562016</td>\n",
       "      <td>0.321705</td>\n",
       "      <td>0.120155</td>\n",
       "      <td>0.042636</td>\n",
       "      <td>0.525448</td>\n",
       "      <td>0.0</td>\n",
       "      <td>0</td>\n",
       "      <td>0.072448</td>\n",
       "      <td>0</td>\n",
       "      <td>0.226402</td>\n",
       "      <td>0.120536</td>\n",
       "      <td>1.0</td>\n",
       "      <td>1</td>\n",
       "      <td>55</td>\n",
       "      <td>0.0</td>\n",
       "      <td>2240</td>\n",
       "      <td>258</td>\n",
       "      <td>11</td>\n",
       "      <td>0.166667</td>\n",
       "      <td>0.057613</td>\n",
       "      <td>1</td>\n",
       "      <td>Fruits that Fight the Flu fruits that fight the flu | cold &amp; flu | men's health</td>\n",
       "      <td>Apples The most popular source of antioxidants in our diet one apple has an antioxidant effect equivalent to 1 500 mg of vitamin C Apples are loaded with protective flavonoids which may prevent heart disease and cancer Next Papayas With 250 percent of the RDA of vitamin C a papaya can help kick ...</td>\n",
       "      <td>0.0</td>\n",
       "      <td>0.0</td>\n",
       "      <td>0.0</td>\n",
       "      <td>0.0</td>\n",
       "      <td>0.0</td>\n",
       "      <td>1.0</td>\n",
       "      <td>0.0</td>\n",
       "      <td>0.0</td>\n",
       "      <td>0.0</td>\n",
       "      <td>0.0</td>\n",
       "      <td>0.0</td>\n",
       "      <td>0.0</td>\n",
       "      <td>0.0</td>\n",
       "      <td>False</td>\n",
       "    </tr>\n",
       "  </tbody>\n",
       "</table>\n",
       "</div>"
      ],
      "text/plain": [
       "                                                                                                                      url  \\\n",
       "0            http://www.bloomberg.com/news/2010-12-23/ibm-predicts-holographic-calls-air-breathing-batteries-by-2015.html   \n",
       "1         http://www.popsci.com/technology/article/2012-07/electronic-futuristic-starting-gun-eliminates-advantages-races   \n",
       "2  http://www.menshealth.com/health/flu-fighting-fruits?cm_mmc=Facebook-_-MensHealth-_-Content-Health-_-FightFluWithFruit   \n",
       "\n",
       "   urlid  \\\n",
       "0   4042   \n",
       "1   8471   \n",
       "2   1164   \n",
       "\n",
       "                                                                                                                                                                                                                                                                                                   boilerplate  \\\n",
       "0  {\"title\":\"IBM Sees Holographic Calls Air Breathing Batteries ibm sees holographic calls, air-breathing batteries\",\"body\":\"A sign stands outside the International Business Machines Corp IBM Almaden Research Center campus in San Jose California Photographer Tony Avelar Bloomberg Buildings stand at...   \n",
       "1  {\"title\":\"The Fully Electronic Futuristic Starting Gun That Eliminates Advantages in Races the fully electronic, futuristic starting gun that eliminates advantages in races the fully electronic, futuristic starting gun that eliminates advantages in races\",\"body\":\"And that can be carried on a pla...   \n",
       "2  {\"title\":\"Fruits that Fight the Flu fruits that fight the flu | cold & flu | men's health\",\"body\":\"Apples The most popular source of antioxidants in our diet one apple has an antioxidant effect equivalent to 1 500 mg of vitamin C Apples are loaded with protective flavonoids which may prevent hea...   \n",
       "\n",
       "   alchemy_category_score  avglinksize  commonlinkratio_1  commonlinkratio_2  \\\n",
       "0                0.789131     2.055556           0.676471           0.205882   \n",
       "1                0.574147     3.677966           0.508021           0.288770   \n",
       "2                0.996526     2.382883           0.562016           0.321705   \n",
       "\n",
       "   commonlinkratio_3  commonlinkratio_4  compression_ratio  embed_ratio  \\\n",
       "0           0.047059           0.023529           0.443783          0.0   \n",
       "1           0.213904           0.144385           0.468649          0.0   \n",
       "2           0.120155           0.042636           0.525448          0.0   \n",
       "\n",
       "   framebased  frameTagRatio  hasDomainLink  html_ratio  image_ratio  is_news  \\\n",
       "0           0       0.090774              0    0.245831     0.003883      1.0   \n",
       "1           0       0.098707              0    0.203490     0.088652      1.0   \n",
       "2           0       0.072448              0    0.226402     0.120536      1.0   \n",
       "\n",
       "   lengthyLinkDomain  linkwordscore  news_front_page  \\\n",
       "0                  1             24              0.0   \n",
       "1                  1             40              0.0   \n",
       "2                  1             55              0.0   \n",
       "\n",
       "   non_markup_alphanum_characters  numberOfLinks  numwords_in_url  \\\n",
       "0                            5424            170                8   \n",
       "1                            4973            187                9   \n",
       "2                            2240            258               11   \n",
       "\n",
       "   parametrizedLinkRatio  spelling_errors_ratio  label  \\\n",
       "0               0.152941               0.079130      0   \n",
       "1               0.181818               0.125448      1   \n",
       "2               0.166667               0.057613      1   \n",
       "\n",
       "                                                                                                                                                                                                                                                  title  \\\n",
       "0                                                                                                                                                IBM Sees Holographic Calls Air Breathing Batteries ibm sees holographic calls, air-breathing batteries   \n",
       "1  The Fully Electronic Futuristic Starting Gun That Eliminates Advantages in Races the fully electronic, futuristic starting gun that eliminates advantages in races the fully electronic, futuristic starting gun that eliminates advantages in races   \n",
       "2                                                                                                                                                                       Fruits that Fight the Flu fruits that fight the flu | cold & flu | men's health   \n",
       "\n",
       "                                                                                                                                                                                                                                                                                                          body  \\\n",
       "0  A sign stands outside the International Business Machines Corp IBM Almaden Research Center campus in San Jose California Photographer Tony Avelar Bloomberg Buildings stand at the International Business Machines Corp IBM Almaden Research Center campus in the Santa Teresa Hills of San Jose Califor...   \n",
       "1  And that can be carried on a plane without the hassle too The Omega E Gun Starting Pistol Omega It s easy to take for granted just how insanely close some Olympic races are and how much the minutiae of it all can matter The perfect example is the traditional starting gun Seems easy You pull a tr...   \n",
       "2  Apples The most popular source of antioxidants in our diet one apple has an antioxidant effect equivalent to 1 500 mg of vitamin C Apples are loaded with protective flavonoids which may prevent heart disease and cancer Next Papayas With 250 percent of the RDA of vitamin C a papaya can help kick ...   \n",
       "\n",
       "   alchemy_category_arts_entertainment  alchemy_category_business  \\\n",
       "0                                  0.0                        1.0   \n",
       "1                                  0.0                        0.0   \n",
       "2                                  0.0                        0.0   \n",
       "\n",
       "   alchemy_category_computer_internet  alchemy_category_culture_politics  \\\n",
       "0                                 0.0                                0.0   \n",
       "1                                 0.0                                0.0   \n",
       "2                                 0.0                                0.0   \n",
       "\n",
       "   alchemy_category_gaming  alchemy_category_health  \\\n",
       "0                      0.0                      0.0   \n",
       "1                      0.0                      0.0   \n",
       "2                      0.0                      1.0   \n",
       "\n",
       "   alchemy_category_law_crime  alchemy_category_recreation  \\\n",
       "0                         0.0                          0.0   \n",
       "1                         0.0                          1.0   \n",
       "2                         0.0                          0.0   \n",
       "\n",
       "   alchemy_category_religion  alchemy_category_science_technology  \\\n",
       "0                        0.0                                  0.0   \n",
       "1                        0.0                                  0.0   \n",
       "2                        0.0                                  0.0   \n",
       "\n",
       "   alchemy_category_sports  alchemy_category_unknown  \\\n",
       "0                      0.0                       0.0   \n",
       "1                      0.0                       0.0   \n",
       "2                      0.0                       0.0   \n",
       "\n",
       "   alchemy_category_weather is_recipe  \n",
       "0                       0.0     False  \n",
       "1                       0.0     False  \n",
       "2                       0.0     False  "
      ]
     },
     "execution_count": 21,
     "metadata": {},
     "output_type": "execute_result"
    }
   ],
   "source": [
    "evergreen.head(3)"
   ]
  },
  {
   "cell_type": "markdown",
   "metadata": {},
   "source": [
    "## Build a feature matrix where X contains useful features and y contains the target variable label"
   ]
  },
  {
   "cell_type": "code",
   "execution_count": 11,
   "metadata": {
    "collapsed": false,
    "scrolled": true
   },
   "outputs": [
    {
     "data": {
      "text/plain": [
       "<matplotlib.axes._subplots.AxesSubplot at 0x1195cff90>"
      ]
     },
     "execution_count": 11,
     "metadata": {},
     "output_type": "execute_result"
    },
    {
     "data": {
      "image/png": "[encoded data removed]",
      "text/plain": [
       "<matplotlib.figure.Figure at 0x1179ffad0>"
      ]
     },
     "metadata": {},
     "output_type": "display_data"
    }
   ],
   "source": [
    "sb.heatmap(evergreen.corr())"
   ]
  },
  {
   "cell_type": "code",
   "execution_count": null,
   "metadata": {
    "collapsed": true
   },
   "outputs": [],
   "source": []
  },
  {
   "cell_type": "markdown",
   "metadata": {},
   "source": [
    "## Build a Logistic Regression model using scikit-learn and then!¶\n",
    "* Examine the coefficients using the examine_coefficients function provided\n",
    "* Evaluate the AUC, precision and recall of the model using cross-validation\n",
    "* Plot the ROC curve\n",
    "* Iterate on the model by adding in additional features in X above"
   ]
  },
  {
   "cell_type": "code",
   "execution_count": 3,
   "metadata": {
    "collapsed": true
   },
   "outputs": [],
   "source": [
    "def examine_coefficients(model, df):\n",
    "    return pd.DataFrame(\n",
    "        { 'Coefficient' : model.coef_[0] , 'Feature' : df.columns}\n",
    "    ).sort_values(by='Coefficient')"
   ]
  },
  {
   "cell_type": "code",
   "execution_count": 22,
   "metadata": {
    "collapsed": false,
    "scrolled": false
   },
   "outputs": [
    {
     "data": {
      "text/plain": [
       "Index([u'url', u'urlid', u'boilerplate', u'alchemy_category_score',\n",
       "       u'avglinksize', u'commonlinkratio_1', u'commonlinkratio_2',\n",
       "       u'commonlinkratio_3', u'commonlinkratio_4', u'compression_ratio',\n",
       "       u'embed_ratio', u'framebased', u'frameTagRatio', u'hasDomainLink',\n",
       "       u'html_ratio', u'image_ratio', u'is_news', u'lengthyLinkDomain',\n",
       "       u'linkwordscore', u'news_front_page', u'non_markup_alphanum_characters',\n",
       "       u'numberOfLinks', u'numwords_in_url', u'parametrizedLinkRatio',\n",
       "       u'spelling_errors_ratio', u'label', u'title', u'body',\n",
       "       u'alchemy_category_arts_entertainment', u'alchemy_category_business',\n",
       "       u'alchemy_category_computer_internet',\n",
       "       u'alchemy_category_culture_politics', u'alchemy_category_gaming',\n",
       "       u'alchemy_category_health', u'alchemy_category_law_crime',\n",
       "       u'alchemy_category_recreation', u'alchemy_category_religion',\n",
       "       u'alchemy_category_science_technology', u'alchemy_category_sports',\n",
       "       u'alchemy_category_unknown', u'alchemy_category_weather', u'is_recipe'],\n",
       "      dtype='object')"
      ]
     },
     "execution_count": 22,
     "metadata": {},
     "output_type": "execute_result"
    }
   ],
   "source": [
    "evergreen.columns"
   ]
  },
  {
   "cell_type": "code",
   "execution_count": 27,
   "metadata": {
    "collapsed": false
   },
   "outputs": [
    {
     "data": {
      "text/plain": [
       "url                                     object\n",
       "urlid                                    int64\n",
       "boilerplate                             object\n",
       "alchemy_category_score                 float64\n",
       "avglinksize                            float64\n",
       "commonlinkratio_1                      float64\n",
       "commonlinkratio_2                      float64\n",
       "commonlinkratio_3                      float64\n",
       "commonlinkratio_4                      float64\n",
       "compression_ratio                      float64\n",
       "embed_ratio                            float64\n",
       "framebased                               int64\n",
       "frameTagRatio                          float64\n",
       "hasDomainLink                            int64\n",
       "html_ratio                             float64\n",
       "image_ratio                            float64\n",
       "is_news                                float64\n",
       "lengthyLinkDomain                        int64\n",
       "linkwordscore                            int64\n",
       "news_front_page                        float64\n",
       "non_markup_alphanum_characters           int64\n",
       "numberOfLinks                            int64\n",
       "numwords_in_url                          int64\n",
       "parametrizedLinkRatio                  float64\n",
       "spelling_errors_ratio                  float64\n",
       "label                                    int64\n",
       "title                                   object\n",
       "body                                    object\n",
       "alchemy_category_arts_entertainment    float64\n",
       "alchemy_category_business              float64\n",
       "alchemy_category_computer_internet     float64\n",
       "alchemy_category_culture_politics      float64\n",
       "alchemy_category_gaming                float64\n",
       "alchemy_category_health                float64\n",
       "alchemy_category_law_crime             float64\n",
       "alchemy_category_recreation            float64\n",
       "alchemy_category_religion              float64\n",
       "alchemy_category_science_technology    float64\n",
       "alchemy_category_sports                float64\n",
       "alchemy_category_unknown               float64\n",
       "alchemy_category_weather               float64\n",
       "is_recipe                                 bool\n",
       "dtype: object"
      ]
     },
     "execution_count": 27,
     "metadata": {},
     "output_type": "execute_result"
    }
   ],
   "source": [
    "evergreen.dtypes"
   ]
  },
  {
   "cell_type": "code",
   "execution_count": 48,
   "metadata": {
    "collapsed": false
   },
   "outputs": [
    {
     "name": "stdout",
     "output_type": "stream",
     "text": [
      "Model 1 score: 0.699745547074\n"
     ]
    }
   ],
   "source": [
    "y = evergreen['label']\n",
    "x = evergreen[['avglinksize', 'commonlinkratio_1', 'commonlinkratio_2',\n",
    "       'commonlinkratio_3', 'commonlinkratio_4', 'compression_ratio',\n",
    "       'embed_ratio', 'framebased', 'frameTagRatio', 'hasDomainLink',\n",
    "       'html_ratio', 'image_ratio', 'is_news', 'lengthyLinkDomain',\n",
    "       'linkwordscore', 'news_front_page', 'non_markup_alphanum_characters',\n",
    "       'numberOfLinks', 'numwords_in_url', 'parametrizedLinkRatio',\n",
    "       'spelling_errors_ratio',\n",
    "       'alchemy_category_arts_entertainment', 'alchemy_category_business',\n",
    "       'alchemy_category_computer_internet',\n",
    "       'alchemy_category_culture_politics', 'alchemy_category_gaming',\n",
    "       'alchemy_category_health', 'alchemy_category_law_crime',\n",
    "       'alchemy_category_recreation', 'alchemy_category_religion',\n",
    "       'alchemy_category_science_technology', 'alchemy_category_sports',\n",
    "       'alchemy_category_unknown', 'alchemy_category_weather', 'is_recipe']]\n",
    "\n",
    "logit = LogisticRegression()\n",
    "model = logit.fit(x,y)\n",
    "print \"Model 1 score:\", model.score(x,y)\n"
   ]
  },
  {
   "cell_type": "code",
   "execution_count": 42,
   "metadata": {
    "collapsed": false,
    "scrolled": true
   },
   "outputs": [
    {
     "name": "stdout",
     "output_type": "stream",
     "text": [
      "Here is a confusion matrix. It is confusing: \n",
      "[[1137  569]\n",
      " [ 493 1338]]\n",
      "\n",
      "Here is a pretty confusion matrix. It is still confusing, but at least it's pretty: \n",
      "     Y-hat = 0  Y-hat = 1\n",
      "Y=0       1137        569\n",
      "Y=1        493       1338\n"
     ]
    }
   ],
   "source": [
    "y_pred = model.predict(x)\n",
    "confusion = np.array(confusion_matrix(y, y_pred))\n",
    "print \"Here is a confusion matrix. It is confusing: \\n\", confusion\n",
    "\n",
    "conmat = np.array(confusion_matrix(y, y_pred))\n",
    "\n",
    "confusion2 = pd.DataFrame(conmat, index=['Y=0', 'Y=1'],\n",
    "                         columns=['Y-hat = 0', 'Y-hat = 1'])\n",
    "\n",
    "print \"\\nHere is a pretty confusion matrix. It is still confusing, but at least it's pretty: \\n\", confusion2"
   ]
  },
  {
   "cell_type": "code",
   "execution_count": 47,
   "metadata": {
    "collapsed": false,
    "scrolled": false
   },
   "outputs": [
    {
     "name": "stdout",
     "output_type": "stream",
     "text": [
      "             precision    recall  f1-score   support\n",
      "\n",
      "          0       0.70      0.67      0.68      1706\n",
      "          1       0.70      0.73      0.72      1831\n",
      "\n",
      "avg / total       0.70      0.70      0.70      3537\n",
      "\n"
     ]
    }
   ],
   "source": [
    "print classification_report(y, y_pred)"
   ]
  },
  {
   "cell_type": "code",
   "execution_count": 113,
   "metadata": {
    "collapsed": false,
    "scrolled": true
   },
   "outputs": [
    {
     "name": "stdout",
     "output_type": "stream",
     "text": [
      "Optimization terminated successfully.\n",
      "         Current function value: 0.589104\n",
      "         Iterations 6\n",
      "                           Logit Regression Results                           \n",
      "==============================================================================\n",
      "Dep. Variable:                  label   No. Observations:                 3537\n",
      "Model:                          Logit   Df Residuals:                     3524\n",
      "Method:                           MLE   Df Model:                           12\n",
      "Date:                Wed, 19 Oct 2016   Pseudo R-squ.:                  0.1493\n",
      "Time:                        20:14:52   Log-Likelihood:                -2083.7\n",
      "converged:                       True   LL-Null:                       -2449.5\n",
      "                                        LLR p-value:                7.603e-149\n",
      "======================================================================================================\n",
      "                                         coef    std err          z      P>|z|      [95.0% Conf. Int.]\n",
      "------------------------------------------------------------------------------------------------------\n",
      "spelling_errors_ratio                 -2.7201      0.735     -3.700      0.000        -4.161    -1.279\n",
      "commonlinkratio_3                      2.1180      0.436      4.854      0.000         1.263     2.973\n",
      "frameTagRatio                         -6.6172      1.220     -5.423      0.000        -9.009    -4.226\n",
      "html_ratio                             3.5148      0.538      6.536      0.000         2.461     4.569\n",
      "linkwordscore                         -0.0180      0.002     -8.573      0.000        -0.022    -0.014\n",
      "news_front_page                       -0.7356      0.176     -4.175      0.000        -1.081    -0.390\n",
      "numberOfLinks                          0.0007      0.000      2.412      0.016         0.000     0.001\n",
      "numwords_in_url                       -0.0594      0.012     -4.831      0.000        -0.084    -0.035\n",
      "alchemy_category_business              1.3182      0.111     11.859      0.000         1.100     1.536\n",
      "alchemy_category_computer_internet    -0.7726      0.177     -4.353      0.000        -1.120    -0.425\n",
      "alchemy_category_health                0.6806      0.129      5.288      0.000         0.428     0.933\n",
      "alchemy_category_recreation            1.2375      0.098     12.581      0.000         1.045     1.430\n",
      "alchemy_category_sports               -0.9712      0.162     -5.986      0.000        -1.289    -0.653\n",
      "======================================================================================================\n"
     ]
    }
   ],
   "source": [
    "y3 = evergreen['label']\n",
    "x3 = evergreen[['spelling_errors_ratio',\n",
    "                'commonlinkratio_3',\n",
    "                'frameTagRatio',\n",
    "                'html_ratio',\n",
    "                'linkwordscore', 'news_front_page',\n",
    "                'numberOfLinks', 'numwords_in_url', \n",
    "       'alchemy_category_business', 'alchemy_category_computer_internet',\n",
    "       'alchemy_category_health', 'alchemy_category_recreation', 'alchemy_category_sports']]\n",
    "\n",
    "logit3 = sm.Logit(y3, x3) #set up a STATSMODELS Logistic Regression\n",
    "result3 = logit3.fit() # FIT your Logistic Regression to your data\n",
    "\n",
    "print result3.summary() # See the results of your Logistic Regression\n",
    "predictions = result3.predict(x3) # Get predictions for x's"
   ]
  },
  {
   "cell_type": "code",
   "execution_count": 114,
   "metadata": {
    "collapsed": false
   },
   "outputs": [
    {
     "name": "stdout",
     "output_type": "stream",
     "text": [
      "Model 4 score: 0.710489115069\n"
     ]
    }
   ],
   "source": [
    "y4 = evergreen['label']\n",
    "x4 = evergreen[['commonlinkratio_3', 'framebased', 'frameTagRatio',\n",
    "       'html_ratio', 'linkwordscore', 'news_front_page',\n",
    "       'numberOfLinks', 'numwords_in_url',\n",
    "       'spelling_errors_ratio', 'alchemy_category_business',\n",
    "       'alchemy_category_computer_internet',\n",
    "       'alchemy_category_health',\n",
    "       'alchemy_category_recreation', 'alchemy_category_sports', 'is_recipe']]\n",
    "\n",
    "logit4 = LogisticRegression()\n",
    "model4 = logit2.fit(x4,y4)\n",
    "print \"Model 4 score:\", model4.score(x4,y4)"
   ]
  },
  {
   "cell_type": "code",
   "execution_count": 116,
   "metadata": {
    "collapsed": false
   },
   "outputs": [
    {
     "name": "stdout",
     "output_type": "stream",
     "text": [
      "\n",
      "Here is a pretty confusion matrix: \n",
      "     Y-hat = 0  Y-hat = 1\n",
      "Y=0       1149        557\n",
      "Y=1        467       1364\n"
     ]
    }
   ],
   "source": [
    "y_pred4 = model4.predict(x4)\n",
    "conmat4 = np.array(confusion_matrix(y4, y_pred4))\n",
    "\n",
    "confusion4 = pd.DataFrame(conmat4, index=['Y=0', 'Y=1'],\n",
    "                         columns=['Y-hat = 0', 'Y-hat = 1'])\n",
    "\n",
    "print \"\\nHere is a pretty confusion matrix: \\n\", confusion4"
   ]
  },
  {
   "cell_type": "code",
   "execution_count": 117,
   "metadata": {
    "collapsed": false,
    "scrolled": true
   },
   "outputs": [
    {
     "name": "stdout",
     "output_type": "stream",
     "text": [
      "             precision    recall  f1-score   support\n",
      "\n",
      "          0       0.71      0.67      0.69      1706\n",
      "          1       0.71      0.74      0.73      1831\n",
      "\n",
      "avg / total       0.71      0.71      0.71      3537\n",
      "\n"
     ]
    }
   ],
   "source": [
    "print classification_report(y4, y_pred4)"
   ]
  },
  {
   "cell_type": "code",
   "execution_count": 121,
   "metadata": {
    "collapsed": false
   },
   "outputs": [
    {
     "data": {
      "image/png": "[encoded data removed]",
      "text/plain": [
       "<matplotlib.figure.Figure at 0x120ccdad0>"
      ]
     },
     "metadata": {},
     "output_type": "display_data"
    }
   ],
   "source": [
    "# generic curve plotting function\n",
    "def auc_plotting_function(rate1, rate2, rate1_name, rate2_name, curve_name):\n",
    "    AUC = auc(rate1, rate2)\n",
    "    # Plot of a ROC curve for class 1 (has_cancer)\n",
    "    plt.figure(figsize=[11,9])\n",
    "    plt.plot(rate1, rate2, label=curve_name + ' (area = %0.2f)' % AUC, linewidth=4)\n",
    "    plt.plot([0, 1], [0, 1], 'k--', linewidth=4)\n",
    "    plt.xlim([0.0, 1.0])\n",
    "    plt.ylim([0.0, 1.05])\n",
    "    plt.xlabel(rate1_name, fontsize=18)\n",
    "    plt.ylabel(rate2_name, fontsize=18)\n",
    "    plt.title(curve_name + ' for house price > 200,000', fontsize=18)\n",
    "    plt.legend(loc=\"lower right\")\n",
    "    plt.show()\n",
    "\n",
    "# plot receiving operator characteristic curve\n",
    "def plot_roc(y_true, y_score):\n",
    "    fpr, tpr, _ = roc_curve(y_true, y_score)\n",
    "    auc_plotting_function(fpr, tpr, 'False Positive Rate', 'True Positive Rate', 'ROC')\n",
    "    \n",
    "plot_roc(y_pred4, y4)"
   ]
  },
  {
   "cell_type": "code",
   "execution_count": 98,
   "metadata": {
    "collapsed": false
   },
   "outputs": [
    {
     "name": "stdout",
     "output_type": "stream",
     "text": [
      "Model 2 score: 0.710771840543\n"
     ]
    }
   ],
   "source": [
    "y2 = evergreen['label']\n",
    "x2 = evergreen[['avglinksize', 'commonlinkratio_1', 'commonlinkratio_2',\n",
    "       'commonlinkratio_3', 'commonlinkratio_4', 'compression_ratio',\n",
    "       'embed_ratio', 'framebased', 'frameTagRatio', 'hasDomainLink',\n",
    "       'html_ratio', 'lengthyLinkDomain',\n",
    "       'linkwordscore', 'news_front_page',\n",
    "       'numberOfLinks', 'numwords_in_url', 'parametrizedLinkRatio',\n",
    "       'spelling_errors_ratio', 'alchemy_category_business',\n",
    "       'alchemy_category_computer_internet',\n",
    "       'alchemy_category_health',\n",
    "       'alchemy_category_recreation', 'alchemy_category_sports', 'is_recipe']]\n",
    "\n",
    "logit2 = LogisticRegression()\n",
    "model2 = logit2.fit(x2,y2)\n",
    "print \"Model 2 score:\", model2.score(x2,y2)"
   ]
  },
  {
   "cell_type": "markdown",
   "metadata": {},
   "source": [
    "# Code from Richard\n",
    "\n",
    "```\n",
    "# To find accuracy!\n",
    "\n",
    "logit = LogisticRegression()\n",
    "model = logit.fit(x, y)\n",
    "print model.score(x, y) # This is your accuracy!\n",
    "\n",
    "from sklearn.metrics import confusion_matrix, classification_report\n",
    "\n",
    "# Confusion Matrix!\n",
    "\n",
    "y_pred = model.predict(x)\n",
    "confusion = np.array(confusion_matrix(y, y_pred)) \n",
    "\n",
    "# If you want a pretty confusion matrix:\n",
    "\n",
    "conmat = np.array(confusion_matrix(y, y_pred))\n",
    "\n",
    "confusion = pd.DataFrame(conmat, index=['Y=0', 'Y=1'],\n",
    "                         columns=['Y-hat = 0', 'Y-hat = 1'])\n",
    "\n",
    "# Precision and Recall!\n",
    "\n",
    "classification_report(y, y_pred)\n",
    "\n",
    "\n",
    "# EXAMPLE text feature 'recipe'\n",
    "data['is_recipe'] = data['title'].fillna('').str.contains('recipe')\n",
    "```"
   ]
  },
  {
   "cell_type": "code",
   "execution_count": null,
   "metadata": {
    "collapsed": true
   },
   "outputs": [],
   "source": []
  },
  {
   "cell_type": "code",
   "execution_count": null,
   "metadata": {
    "collapsed": true
   },
   "outputs": [],
   "source": []
  }
 ],
 "metadata": {
  "anaconda-cloud": {},
  "kernelspec": {
   "display_name": "Python [Root]",
   "language": "python",
   "name": "Python [Root]"
  },
  "language_info": {
   "codemirror_mode": {
    "name": "ipython",
    "version": 2
   },
   "file_extension": ".py",
   "mimetype": "text/x-python",
   "name": "python",
   "nbconvert_exporter": "python",
   "pygments_lexer": "ipython2",
   "version": "2.7.12"
  }
 },
 "nbformat": 4,
 "nbformat_minor": 0
}
