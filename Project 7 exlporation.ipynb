{
 "cells": [
  {
   "cell_type": "code",
   "execution_count": 1,
   "metadata": {
    "collapsed": true
   },
   "outputs": [],
   "source": [
    "import pandas as pd"
   ]
  },
  {
   "cell_type": "code",
   "execution_count": 4,
   "metadata": {
    "collapsed": false
   },
   "outputs": [
    {
     "name": "stdout",
     "output_type": "stream",
     "text": [
      "/Users/christophereppig/Datasets/Project07\n"
     ]
    }
   ],
   "source": [
    "%cd ~/Datasets/project07"
   ]
  },
  {
   "cell_type": "code",
   "execution_count": 5,
   "metadata": {
    "collapsed": false
   },
   "outputs": [
    {
     "name": "stdout",
     "output_type": "stream",
     "text": [
      "Airport_operations.csv     airports.csv\r\n",
      "airport_cancellations.csv\r\n"
     ]
    }
   ],
   "source": [
    "%ls"
   ]
  },
  {
   "cell_type": "code",
   "execution_count": 9,
   "metadata": {
    "collapsed": true
   },
   "outputs": [],
   "source": [
    "airports = pd.read_csv('airports.csv')\n",
    "operations = pd.read_csv('Airport_operations.csv')\n",
    "cancellations = pd.read_csv('airport_cancellations.csv')"
   ]
  },
  {
   "cell_type": "markdown",
   "metadata": {},
   "source": [
    "## Airports exploration"
   ]
  },
  {
   "cell_type": "code",
   "execution_count": 7,
   "metadata": {
    "collapsed": false,
    "scrolled": false
   },
   "outputs": [
    {
     "data": {
      "text/html": [
       "<div>\n",
       "<table border=\"1\" class=\"dataframe\">\n",
       "  <thead>\n",
       "    <tr style=\"text-align: right;\">\n",
       "      <th></th>\n",
       "      <th>Key</th>\n",
       "      <th>LocID</th>\n",
       "      <th>AP_NAME</th>\n",
       "      <th>ALIAS</th>\n",
       "      <th>Facility Type</th>\n",
       "      <th>FAA REGION</th>\n",
       "      <th>COUNTY</th>\n",
       "      <th>CITY</th>\n",
       "      <th>STATE</th>\n",
       "      <th>AP Type</th>\n",
       "      <th>Latitude</th>\n",
       "      <th>Longitude</th>\n",
       "      <th>Boundary Data Available</th>\n",
       "    </tr>\n",
       "  </thead>\n",
       "  <tbody>\n",
       "    <tr>\n",
       "      <th>0</th>\n",
       "      <td>3443.0</td>\n",
       "      <td>STX</td>\n",
       "      <td>HENRY E ROHLSEN</td>\n",
       "      <td>Henry E Rohlsen Int'l Airport</td>\n",
       "      <td>Airport</td>\n",
       "      <td>ASO</td>\n",
       "      <td>-VIRGIN ISLANDS-</td>\n",
       "      <td>CHRISTIANSTED</td>\n",
       "      <td>VI</td>\n",
       "      <td>Public Use</td>\n",
       "      <td>17.701556</td>\n",
       "      <td>-64.801722</td>\n",
       "      <td>Yes</td>\n",
       "    </tr>\n",
       "    <tr>\n",
       "      <th>1</th>\n",
       "      <td>5088.0</td>\n",
       "      <td>X64</td>\n",
       "      <td>PATILLAS</td>\n",
       "      <td>NaN</td>\n",
       "      <td>Airport</td>\n",
       "      <td>ASO</td>\n",
       "      <td>#NAME?</td>\n",
       "      <td>PATILLAS</td>\n",
       "      <td>PR</td>\n",
       "      <td>Public Use</td>\n",
       "      <td>17.982189</td>\n",
       "      <td>-66.019330</td>\n",
       "      <td>No</td>\n",
       "    </tr>\n",
       "    <tr>\n",
       "      <th>2</th>\n",
       "      <td>2886.0</td>\n",
       "      <td>PSE</td>\n",
       "      <td>MERCEDITA</td>\n",
       "      <td>Aeropuerto Mercedita</td>\n",
       "      <td>Airport</td>\n",
       "      <td>ASO</td>\n",
       "      <td>#NAME?</td>\n",
       "      <td>PONCE</td>\n",
       "      <td>PR</td>\n",
       "      <td>Public Use</td>\n",
       "      <td>18.008306</td>\n",
       "      <td>-66.563028</td>\n",
       "      <td>Yes</td>\n",
       "    </tr>\n",
       "    <tr>\n",
       "      <th>3</th>\n",
       "      <td>2879.0</td>\n",
       "      <td>VQS</td>\n",
       "      <td>ANTONIO RIVERA RODRIGUEZ</td>\n",
       "      <td>Aeropuerto Antonio Rivera Rodr�guez</td>\n",
       "      <td>Airport</td>\n",
       "      <td>ASO</td>\n",
       "      <td>#NAME?</td>\n",
       "      <td>ISLA DE VIEQUES</td>\n",
       "      <td>PR</td>\n",
       "      <td>Public Use</td>\n",
       "      <td>18.134811</td>\n",
       "      <td>-65.493617</td>\n",
       "      <td>Yes</td>\n",
       "    </tr>\n",
       "    <tr>\n",
       "      <th>4</th>\n",
       "      <td>2883.0</td>\n",
       "      <td>X63</td>\n",
       "      <td>HUMACAO</td>\n",
       "      <td>Aeropuerto Regional De Humacao</td>\n",
       "      <td>Airport</td>\n",
       "      <td>ASO</td>\n",
       "      <td>#NAME?</td>\n",
       "      <td>HUMACAO</td>\n",
       "      <td>PR</td>\n",
       "      <td>Public Use</td>\n",
       "      <td>18.138017</td>\n",
       "      <td>-65.800718</td>\n",
       "      <td>Yes</td>\n",
       "    </tr>\n",
       "  </tbody>\n",
       "</table>\n",
       "</div>"
      ],
      "text/plain": [
       "      Key LocID                   AP_NAME  \\\n",
       "0  3443.0   STX           HENRY E ROHLSEN   \n",
       "1  5088.0   X64                  PATILLAS   \n",
       "2  2886.0   PSE                 MERCEDITA   \n",
       "3  2879.0   VQS  ANTONIO RIVERA RODRIGUEZ   \n",
       "4  2883.0   X63                   HUMACAO   \n",
       "\n",
       "                                 ALIAS Facility Type FAA REGION  \\\n",
       "0        Henry E Rohlsen Int'l Airport       Airport        ASO   \n",
       "1                                  NaN       Airport        ASO   \n",
       "2                 Aeropuerto Mercedita       Airport        ASO   \n",
       "3  Aeropuerto Antonio Rivera Rodr�guez       Airport        ASO   \n",
       "4       Aeropuerto Regional De Humacao       Airport        ASO   \n",
       "\n",
       "             COUNTY             CITY STATE     AP Type   Latitude  Longitude  \\\n",
       "0  -VIRGIN ISLANDS-    CHRISTIANSTED    VI  Public Use  17.701556 -64.801722   \n",
       "1            #NAME?         PATILLAS    PR  Public Use  17.982189 -66.019330   \n",
       "2            #NAME?            PONCE    PR  Public Use  18.008306 -66.563028   \n",
       "3            #NAME?  ISLA DE VIEQUES    PR  Public Use  18.134811 -65.493617   \n",
       "4            #NAME?          HUMACAO    PR  Public Use  18.138017 -65.800718   \n",
       "\n",
       "  Boundary Data Available  \n",
       "0                     Yes  \n",
       "1                      No  \n",
       "2                     Yes  \n",
       "3                     Yes  \n",
       "4                     Yes  "
      ]
     },
     "execution_count": 7,
     "metadata": {},
     "output_type": "execute_result"
    }
   ],
   "source": [
    "airports.head()"
   ]
  },
  {
   "cell_type": "code",
   "execution_count": 47,
   "metadata": {
    "collapsed": false
   },
   "outputs": [
    {
     "data": {
      "text/html": [
       "<div>\n",
       "<table border=\"1\" class=\"dataframe\">\n",
       "  <thead>\n",
       "    <tr style=\"text-align: right;\">\n",
       "      <th></th>\n",
       "      <th>Key</th>\n",
       "      <th>LocID</th>\n",
       "      <th>AP_NAME</th>\n",
       "      <th>ALIAS</th>\n",
       "      <th>Facility Type</th>\n",
       "      <th>FAA REGION</th>\n",
       "      <th>COUNTY</th>\n",
       "      <th>CITY</th>\n",
       "      <th>STATE</th>\n",
       "      <th>AP Type</th>\n",
       "      <th>Latitude</th>\n",
       "      <th>Longitude</th>\n",
       "      <th>Boundary Data Available</th>\n",
       "    </tr>\n",
       "  </thead>\n",
       "  <tbody>\n",
       "    <tr>\n",
       "      <th>1223</th>\n",
       "      <td>2348.0</td>\n",
       "      <td>ABQ</td>\n",
       "      <td>ALBUQUERQUE INTL SUNPORT</td>\n",
       "      <td>Albuquerque Int'l Sunport</td>\n",
       "      <td>Airport</td>\n",
       "      <td>ASW</td>\n",
       "      <td>BERNALILLO</td>\n",
       "      <td>ALBUQUERQUE</td>\n",
       "      <td>NM</td>\n",
       "      <td>Federalized/Commercial</td>\n",
       "      <td>35.040194</td>\n",
       "      <td>-106.609194</td>\n",
       "      <td>Yes</td>\n",
       "    </tr>\n",
       "  </tbody>\n",
       "</table>\n",
       "</div>"
      ],
      "text/plain": [
       "         Key LocID                   AP_NAME                      ALIAS  \\\n",
       "1223  2348.0   ABQ  ALBUQUERQUE INTL SUNPORT  Albuquerque Int'l Sunport   \n",
       "\n",
       "     Facility Type FAA REGION      COUNTY         CITY STATE  \\\n",
       "1223       Airport        ASW  BERNALILLO  ALBUQUERQUE    NM   \n",
       "\n",
       "                     AP Type   Latitude   Longitude Boundary Data Available  \n",
       "1223  Federalized/Commercial  35.040194 -106.609194                     Yes  "
      ]
     },
     "execution_count": 47,
     "metadata": {},
     "output_type": "execute_result"
    }
   ],
   "source": [
    "airports[airports['LocID']=='ABQ']"
   ]
  },
  {
   "cell_type": "code",
   "execution_count": 46,
   "metadata": {
    "collapsed": false
   },
   "outputs": [
    {
     "data": {
      "text/plain": [
       "5152"
      ]
     },
     "execution_count": 46,
     "metadata": {},
     "output_type": "execute_result"
    }
   ],
   "source": [
    "len(airports['LocID'].value_counts())"
   ]
  },
  {
   "cell_type": "code",
   "execution_count": 40,
   "metadata": {
    "collapsed": false
   },
   "outputs": [],
   "source": [
    "locations = airports['LocID'].value_counts()"
   ]
  },
  {
   "cell_type": "code",
   "execution_count": 45,
   "metadata": {
    "collapsed": false
   },
   "outputs": [
    {
     "data": {
      "text/plain": [
       "1"
      ]
     },
     "execution_count": 45,
     "metadata": {},
     "output_type": "execute_result"
    }
   ],
   "source": [
    "locations[:][0]"
   ]
  },
  {
   "cell_type": "code",
   "execution_count": 8,
   "metadata": {
    "collapsed": false
   },
   "outputs": [
    {
     "data": {
      "text/plain": [
       "(5167, 13)"
      ]
     },
     "execution_count": 8,
     "metadata": {},
     "output_type": "execute_result"
    }
   ],
   "source": [
    "airports.shape"
   ]
  },
  {
   "cell_type": "code",
   "execution_count": 22,
   "metadata": {
    "collapsed": false
   },
   "outputs": [
    {
     "data": {
      "text/plain": [
       "Key                        True\n",
       "LocID                      True\n",
       "AP_NAME                    True\n",
       "ALIAS                      True\n",
       "Facility Type              True\n",
       "FAA REGION                 True\n",
       "COUNTY                     True\n",
       "CITY                       True\n",
       "STATE                      True\n",
       "AP Type                    True\n",
       "Latitude                   True\n",
       "Longitude                  True\n",
       "Boundary Data Available    True\n",
       "dtype: bool"
      ]
     },
     "execution_count": 22,
     "metadata": {},
     "output_type": "execute_result"
    }
   ],
   "source": [
    "airports.isnull().any()"
   ]
  },
  {
   "cell_type": "code",
   "execution_count": 23,
   "metadata": {
    "collapsed": false
   },
   "outputs": [
    {
     "data": {
      "text/plain": [
       "Key                           3\n",
       "LocID                        15\n",
       "AP_NAME                       3\n",
       "ALIAS                      1669\n",
       "Facility Type                 3\n",
       "FAA REGION                    3\n",
       "COUNTY                        3\n",
       "CITY                          3\n",
       "STATE                         3\n",
       "AP Type                       3\n",
       "Latitude                      3\n",
       "Longitude                     3\n",
       "Boundary Data Available       3\n",
       "dtype: int64"
      ]
     },
     "execution_count": 23,
     "metadata": {},
     "output_type": "execute_result"
    }
   ],
   "source": [
    "airports.isnull().sum()"
   ]
  },
  {
   "cell_type": "code",
   "execution_count": 24,
   "metadata": {
    "collapsed": false
   },
   "outputs": [
    {
     "name": "stderr",
     "output_type": "stream",
     "text": [
      "/Users/christophereppig/anaconda/lib/python2.7/site-packages/numpy/lib/function_base.py:3834: RuntimeWarning: Invalid value encountered in percentile\n",
      "  RuntimeWarning)\n"
     ]
    },
    {
     "data": {
      "text/html": [
       "<div>\n",
       "<table border=\"1\" class=\"dataframe\">\n",
       "  <thead>\n",
       "    <tr style=\"text-align: right;\">\n",
       "      <th></th>\n",
       "      <th>Key</th>\n",
       "      <th>Latitude</th>\n",
       "      <th>Longitude</th>\n",
       "    </tr>\n",
       "  </thead>\n",
       "  <tbody>\n",
       "    <tr>\n",
       "      <th>count</th>\n",
       "      <td>5164.000000</td>\n",
       "      <td>5164.000000</td>\n",
       "      <td>5164.000000</td>\n",
       "    </tr>\n",
       "    <tr>\n",
       "      <th>mean</th>\n",
       "      <td>2786.645236</td>\n",
       "      <td>40.669348</td>\n",
       "      <td>-98.817645</td>\n",
       "    </tr>\n",
       "    <tr>\n",
       "      <th>std</th>\n",
       "      <td>1493.693985</td>\n",
       "      <td>7.988298</td>\n",
       "      <td>20.953579</td>\n",
       "    </tr>\n",
       "    <tr>\n",
       "      <th>min</th>\n",
       "      <td>203.000000</td>\n",
       "      <td>17.701556</td>\n",
       "      <td>-177.381308</td>\n",
       "    </tr>\n",
       "    <tr>\n",
       "      <th>25%</th>\n",
       "      <td>NaN</td>\n",
       "      <td>NaN</td>\n",
       "      <td>NaN</td>\n",
       "    </tr>\n",
       "    <tr>\n",
       "      <th>50%</th>\n",
       "      <td>NaN</td>\n",
       "      <td>NaN</td>\n",
       "      <td>NaN</td>\n",
       "    </tr>\n",
       "    <tr>\n",
       "      <th>75%</th>\n",
       "      <td>NaN</td>\n",
       "      <td>NaN</td>\n",
       "      <td>NaN</td>\n",
       "    </tr>\n",
       "    <tr>\n",
       "      <th>max</th>\n",
       "      <td>5375.000000</td>\n",
       "      <td>71.284889</td>\n",
       "      <td>-64.801722</td>\n",
       "    </tr>\n",
       "  </tbody>\n",
       "</table>\n",
       "</div>"
      ],
      "text/plain": [
       "               Key     Latitude    Longitude\n",
       "count  5164.000000  5164.000000  5164.000000\n",
       "mean   2786.645236    40.669348   -98.817645\n",
       "std    1493.693985     7.988298    20.953579\n",
       "min     203.000000    17.701556  -177.381308\n",
       "25%            NaN          NaN          NaN\n",
       "50%            NaN          NaN          NaN\n",
       "75%            NaN          NaN          NaN\n",
       "max    5375.000000    71.284889   -64.801722"
      ]
     },
     "execution_count": 24,
     "metadata": {},
     "output_type": "execute_result"
    }
   ],
   "source": [
    "airports.describe()"
   ]
  },
  {
   "cell_type": "code",
   "execution_count": 26,
   "metadata": {
    "collapsed": false,
    "scrolled": true
   },
   "outputs": [
    {
     "data": {
      "text/plain": [
       "Key                        float64\n",
       "LocID                       object\n",
       "AP_NAME                     object\n",
       "ALIAS                       object\n",
       "Facility Type               object\n",
       "FAA REGION                  object\n",
       "COUNTY                      object\n",
       "CITY                        object\n",
       "STATE                       object\n",
       "AP Type                     object\n",
       "Latitude                   float64\n",
       "Longitude                  float64\n",
       "Boundary Data Available     object\n",
       "dtype: object"
      ]
     },
     "execution_count": 26,
     "metadata": {},
     "output_type": "execute_result"
    }
   ],
   "source": [
    "airports.dtypes"
   ]
  },
  {
   "cell_type": "markdown",
   "metadata": {},
   "source": [
    "## Operations Exploration"
   ]
  },
  {
   "cell_type": "code",
   "execution_count": 10,
   "metadata": {
    "collapsed": false
   },
   "outputs": [
    {
     "data": {
      "text/plain": [
       "(841, 15)"
      ]
     },
     "execution_count": 10,
     "metadata": {},
     "output_type": "execute_result"
    }
   ],
   "source": [
    "operations.shape"
   ]
  },
  {
   "cell_type": "code",
   "execution_count": 50,
   "metadata": {
    "collapsed": false,
    "scrolled": false
   },
   "outputs": [
    {
     "data": {
      "text/html": [
       "<div>\n",
       "<table border=\"1\" class=\"dataframe\">\n",
       "  <thead>\n",
       "    <tr style=\"text-align: right;\">\n",
       "      <th></th>\n",
       "      <th>airport</th>\n",
       "      <th>year</th>\n",
       "      <th>departures for metric computation</th>\n",
       "      <th>arrivals for metric computation</th>\n",
       "      <th>percent on-time gate departures</th>\n",
       "      <th>percent on-time airport departures</th>\n",
       "      <th>percent on-time gate arrivals</th>\n",
       "      <th>average_gate_departure_delay</th>\n",
       "      <th>average_taxi_out_time</th>\n",
       "      <th>average taxi out delay</th>\n",
       "      <th>average airport departure delay</th>\n",
       "      <th>average airborne delay</th>\n",
       "      <th>average taxi in delay</th>\n",
       "      <th>average block delay</th>\n",
       "      <th>average gate arrival delay</th>\n",
       "    </tr>\n",
       "  </thead>\n",
       "  <tbody>\n",
       "    <tr>\n",
       "      <th>0</th>\n",
       "      <td>ABQ</td>\n",
       "      <td>2004</td>\n",
       "      <td>53971</td>\n",
       "      <td>53818</td>\n",
       "      <td>0.8030</td>\n",
       "      <td>0.7809</td>\n",
       "      <td>0.7921</td>\n",
       "      <td>10.38</td>\n",
       "      <td>9.89</td>\n",
       "      <td>2.43</td>\n",
       "      <td>12.10</td>\n",
       "      <td>2.46</td>\n",
       "      <td>0.83</td>\n",
       "      <td>2.55</td>\n",
       "      <td>10.87</td>\n",
       "    </tr>\n",
       "    <tr>\n",
       "      <th>1</th>\n",
       "      <td>ABQ</td>\n",
       "      <td>2005</td>\n",
       "      <td>51829</td>\n",
       "      <td>51877</td>\n",
       "      <td>0.8140</td>\n",
       "      <td>0.7922</td>\n",
       "      <td>0.8001</td>\n",
       "      <td>9.60</td>\n",
       "      <td>9.79</td>\n",
       "      <td>2.29</td>\n",
       "      <td>11.20</td>\n",
       "      <td>2.26</td>\n",
       "      <td>0.89</td>\n",
       "      <td>2.34</td>\n",
       "      <td>10.24</td>\n",
       "    </tr>\n",
       "    <tr>\n",
       "      <th>2</th>\n",
       "      <td>ABQ</td>\n",
       "      <td>2006</td>\n",
       "      <td>49682</td>\n",
       "      <td>51199</td>\n",
       "      <td>0.7983</td>\n",
       "      <td>0.7756</td>\n",
       "      <td>0.7746</td>\n",
       "      <td>10.84</td>\n",
       "      <td>9.89</td>\n",
       "      <td>2.16</td>\n",
       "      <td>12.33</td>\n",
       "      <td>2.12</td>\n",
       "      <td>0.84</td>\n",
       "      <td>2.66</td>\n",
       "      <td>11.82</td>\n",
       "    </tr>\n",
       "    <tr>\n",
       "      <th>3</th>\n",
       "      <td>ABQ</td>\n",
       "      <td>2007</td>\n",
       "      <td>53255</td>\n",
       "      <td>53611</td>\n",
       "      <td>0.8005</td>\n",
       "      <td>0.7704</td>\n",
       "      <td>0.7647</td>\n",
       "      <td>11.29</td>\n",
       "      <td>10.34</td>\n",
       "      <td>2.40</td>\n",
       "      <td>12.95</td>\n",
       "      <td>2.19</td>\n",
       "      <td>1.29</td>\n",
       "      <td>3.06</td>\n",
       "      <td>12.71</td>\n",
       "    </tr>\n",
       "    <tr>\n",
       "      <th>4</th>\n",
       "      <td>ABQ</td>\n",
       "      <td>2008</td>\n",
       "      <td>49589</td>\n",
       "      <td>49512</td>\n",
       "      <td>0.8103</td>\n",
       "      <td>0.7844</td>\n",
       "      <td>0.7875</td>\n",
       "      <td>10.79</td>\n",
       "      <td>10.41</td>\n",
       "      <td>2.41</td>\n",
       "      <td>12.32</td>\n",
       "      <td>1.82</td>\n",
       "      <td>1.03</td>\n",
       "      <td>2.79</td>\n",
       "      <td>11.48</td>\n",
       "    </tr>\n",
       "    <tr>\n",
       "      <th>5</th>\n",
       "      <td>ABQ</td>\n",
       "      <td>2009</td>\n",
       "      <td>42550</td>\n",
       "      <td>42704</td>\n",
       "      <td>0.8341</td>\n",
       "      <td>0.8147</td>\n",
       "      <td>0.8224</td>\n",
       "      <td>9.24</td>\n",
       "      <td>9.88</td>\n",
       "      <td>1.89</td>\n",
       "      <td>10.45</td>\n",
       "      <td>1.74</td>\n",
       "      <td>0.92</td>\n",
       "      <td>1.98</td>\n",
       "      <td>9.27</td>\n",
       "    </tr>\n",
       "    <tr>\n",
       "      <th>6</th>\n",
       "      <td>ABQ</td>\n",
       "      <td>2010</td>\n",
       "      <td>42302</td>\n",
       "      <td>42169</td>\n",
       "      <td>0.8144</td>\n",
       "      <td>0.7907</td>\n",
       "      <td>0.8047</td>\n",
       "      <td>10.25</td>\n",
       "      <td>9.95</td>\n",
       "      <td>2.05</td>\n",
       "      <td>11.58</td>\n",
       "      <td>1.66</td>\n",
       "      <td>0.95</td>\n",
       "      <td>1.90</td>\n",
       "      <td>10.23</td>\n",
       "    </tr>\n",
       "    <tr>\n",
       "      <th>7</th>\n",
       "      <td>ABQ</td>\n",
       "      <td>2011</td>\n",
       "      <td>42283</td>\n",
       "      <td>42297</td>\n",
       "      <td>0.8072</td>\n",
       "      <td>0.7758</td>\n",
       "      <td>0.8022</td>\n",
       "      <td>10.81</td>\n",
       "      <td>10.50</td>\n",
       "      <td>2.51</td>\n",
       "      <td>12.57</td>\n",
       "      <td>1.58</td>\n",
       "      <td>0.84</td>\n",
       "      <td>1.87</td>\n",
       "      <td>10.63</td>\n",
       "    </tr>\n",
       "    <tr>\n",
       "      <th>8</th>\n",
       "      <td>ABQ</td>\n",
       "      <td>2012</td>\n",
       "      <td>39105</td>\n",
       "      <td>39107</td>\n",
       "      <td>0.8219</td>\n",
       "      <td>0.7940</td>\n",
       "      <td>0.8177</td>\n",
       "      <td>10.55</td>\n",
       "      <td>10.27</td>\n",
       "      <td>2.32</td>\n",
       "      <td>12.11</td>\n",
       "      <td>1.41</td>\n",
       "      <td>0.98</td>\n",
       "      <td>1.80</td>\n",
       "      <td>9.73</td>\n",
       "    </tr>\n",
       "    <tr>\n",
       "      <th>9</th>\n",
       "      <td>ABQ</td>\n",
       "      <td>2013</td>\n",
       "      <td>35277</td>\n",
       "      <td>34989</td>\n",
       "      <td>0.7710</td>\n",
       "      <td>0.7402</td>\n",
       "      <td>0.7554</td>\n",
       "      <td>12.56</td>\n",
       "      <td>10.77</td>\n",
       "      <td>2.64</td>\n",
       "      <td>14.28</td>\n",
       "      <td>1.60</td>\n",
       "      <td>0.92</td>\n",
       "      <td>2.35</td>\n",
       "      <td>12.76</td>\n",
       "    </tr>\n",
       "    <tr>\n",
       "      <th>10</th>\n",
       "      <td>ABQ</td>\n",
       "      <td>2014</td>\n",
       "      <td>33292</td>\n",
       "      <td>33137</td>\n",
       "      <td>0.7451</td>\n",
       "      <td>0.7148</td>\n",
       "      <td>0.7320</td>\n",
       "      <td>14.30</td>\n",
       "      <td>10.64</td>\n",
       "      <td>2.41</td>\n",
       "      <td>15.99</td>\n",
       "      <td>1.73</td>\n",
       "      <td>1.02</td>\n",
       "      <td>2.40</td>\n",
       "      <td>14.72</td>\n",
       "    </tr>\n",
       "    <tr>\n",
       "      <th>11</th>\n",
       "      <td>ANC</td>\n",
       "      <td>2004</td>\n",
       "      <td>16503</td>\n",
       "      <td>15511</td>\n",
       "      <td>0.7109</td>\n",
       "      <td>0.6770</td>\n",
       "      <td>0.6502</td>\n",
       "      <td>21.45</td>\n",
       "      <td>12.41</td>\n",
       "      <td>2.92</td>\n",
       "      <td>23.05</td>\n",
       "      <td>4.03</td>\n",
       "      <td>1.08</td>\n",
       "      <td>5.93</td>\n",
       "      <td>22.62</td>\n",
       "    </tr>\n",
       "    <tr>\n",
       "      <th>12</th>\n",
       "      <td>ANC</td>\n",
       "      <td>2005</td>\n",
       "      <td>72043</td>\n",
       "      <td>67034</td>\n",
       "      <td>0.7394</td>\n",
       "      <td>0.7061</td>\n",
       "      <td>0.6955</td>\n",
       "      <td>18.36</td>\n",
       "      <td>12.19</td>\n",
       "      <td>2.78</td>\n",
       "      <td>19.97</td>\n",
       "      <td>3.65</td>\n",
       "      <td>1.01</td>\n",
       "      <td>4.96</td>\n",
       "      <td>19.35</td>\n",
       "    </tr>\n",
       "    <tr>\n",
       "      <th>13</th>\n",
       "      <td>ANC</td>\n",
       "      <td>2006</td>\n",
       "      <td>75708</td>\n",
       "      <td>69995</td>\n",
       "      <td>0.7771</td>\n",
       "      <td>0.7455</td>\n",
       "      <td>0.7110</td>\n",
       "      <td>15.56</td>\n",
       "      <td>12.84</td>\n",
       "      <td>2.54</td>\n",
       "      <td>17.07</td>\n",
       "      <td>4.29</td>\n",
       "      <td>0.72</td>\n",
       "      <td>5.83</td>\n",
       "      <td>17.71</td>\n",
       "    </tr>\n",
       "    <tr>\n",
       "      <th>14</th>\n",
       "      <td>ANC</td>\n",
       "      <td>2007</td>\n",
       "      <td>78741</td>\n",
       "      <td>73323</td>\n",
       "      <td>0.7838</td>\n",
       "      <td>0.7457</td>\n",
       "      <td>0.7196</td>\n",
       "      <td>15.69</td>\n",
       "      <td>13.19</td>\n",
       "      <td>2.29</td>\n",
       "      <td>17.52</td>\n",
       "      <td>5.13</td>\n",
       "      <td>0.39</td>\n",
       "      <td>5.87</td>\n",
       "      <td>18.09</td>\n",
       "    </tr>\n",
       "    <tr>\n",
       "      <th>15</th>\n",
       "      <td>ANC</td>\n",
       "      <td>2008</td>\n",
       "      <td>76606</td>\n",
       "      <td>72479</td>\n",
       "      <td>0.7972</td>\n",
       "      <td>0.7698</td>\n",
       "      <td>0.7573</td>\n",
       "      <td>13.45</td>\n",
       "      <td>13.44</td>\n",
       "      <td>1.86</td>\n",
       "      <td>14.72</td>\n",
       "      <td>5.13</td>\n",
       "      <td>0.63</td>\n",
       "      <td>5.93</td>\n",
       "      <td>15.89</td>\n",
       "    </tr>\n",
       "    <tr>\n",
       "      <th>16</th>\n",
       "      <td>ANC</td>\n",
       "      <td>2009</td>\n",
       "      <td>67252</td>\n",
       "      <td>63135</td>\n",
       "      <td>0.8112</td>\n",
       "      <td>0.7952</td>\n",
       "      <td>0.8264</td>\n",
       "      <td>15.10</td>\n",
       "      <td>12.49</td>\n",
       "      <td>1.55</td>\n",
       "      <td>15.88</td>\n",
       "      <td>3.85</td>\n",
       "      <td>0.31</td>\n",
       "      <td>4.19</td>\n",
       "      <td>15.95</td>\n",
       "    </tr>\n",
       "    <tr>\n",
       "      <th>17</th>\n",
       "      <td>ANC</td>\n",
       "      <td>2010</td>\n",
       "      <td>73089</td>\n",
       "      <td>68125</td>\n",
       "      <td>0.7992</td>\n",
       "      <td>0.7760</td>\n",
       "      <td>0.8045</td>\n",
       "      <td>17.77</td>\n",
       "      <td>11.97</td>\n",
       "      <td>1.79</td>\n",
       "      <td>18.83</td>\n",
       "      <td>3.75</td>\n",
       "      <td>0.37</td>\n",
       "      <td>3.91</td>\n",
       "      <td>20.28</td>\n",
       "    </tr>\n",
       "    <tr>\n",
       "      <th>18</th>\n",
       "      <td>ANC</td>\n",
       "      <td>2011</td>\n",
       "      <td>72556</td>\n",
       "      <td>66845</td>\n",
       "      <td>0.8276</td>\n",
       "      <td>0.8050</td>\n",
       "      <td>0.8292</td>\n",
       "      <td>14.56</td>\n",
       "      <td>11.89</td>\n",
       "      <td>1.66</td>\n",
       "      <td>15.60</td>\n",
       "      <td>3.92</td>\n",
       "      <td>0.55</td>\n",
       "      <td>4.01</td>\n",
       "      <td>13.93</td>\n",
       "    </tr>\n",
       "    <tr>\n",
       "      <th>19</th>\n",
       "      <td>ANC</td>\n",
       "      <td>2012</td>\n",
       "      <td>70322</td>\n",
       "      <td>66453</td>\n",
       "      <td>0.8442</td>\n",
       "      <td>0.8235</td>\n",
       "      <td>0.8521</td>\n",
       "      <td>10.01</td>\n",
       "      <td>11.71</td>\n",
       "      <td>1.52</td>\n",
       "      <td>11.00</td>\n",
       "      <td>3.86</td>\n",
       "      <td>0.34</td>\n",
       "      <td>3.75</td>\n",
       "      <td>9.33</td>\n",
       "    </tr>\n",
       "    <tr>\n",
       "      <th>20</th>\n",
       "      <td>ANC</td>\n",
       "      <td>2013</td>\n",
       "      <td>69984</td>\n",
       "      <td>65469</td>\n",
       "      <td>0.8432</td>\n",
       "      <td>0.8228</td>\n",
       "      <td>0.8631</td>\n",
       "      <td>9.18</td>\n",
       "      <td>12.03</td>\n",
       "      <td>1.51</td>\n",
       "      <td>10.09</td>\n",
       "      <td>3.40</td>\n",
       "      <td>0.47</td>\n",
       "      <td>3.82</td>\n",
       "      <td>8.46</td>\n",
       "    </tr>\n",
       "    <tr>\n",
       "      <th>21</th>\n",
       "      <td>ANC</td>\n",
       "      <td>2014</td>\n",
       "      <td>71099</td>\n",
       "      <td>66704</td>\n",
       "      <td>0.8288</td>\n",
       "      <td>0.8074</td>\n",
       "      <td>0.8600</td>\n",
       "      <td>11.33</td>\n",
       "      <td>11.33</td>\n",
       "      <td>1.33</td>\n",
       "      <td>12.34</td>\n",
       "      <td>4.09</td>\n",
       "      <td>0.54</td>\n",
       "      <td>4.57</td>\n",
       "      <td>10.82</td>\n",
       "    </tr>\n",
       "    <tr>\n",
       "      <th>22</th>\n",
       "      <td>ATL</td>\n",
       "      <td>2004</td>\n",
       "      <td>477323</td>\n",
       "      <td>473249</td>\n",
       "      <td>0.7596</td>\n",
       "      <td>0.5757</td>\n",
       "      <td>0.7370</td>\n",
       "      <td>13.59</td>\n",
       "      <td>20.45</td>\n",
       "      <td>8.73</td>\n",
       "      <td>21.36</td>\n",
       "      <td>5.00</td>\n",
       "      <td>2.79</td>\n",
       "      <td>4.69</td>\n",
       "      <td>15.31</td>\n",
       "    </tr>\n",
       "    <tr>\n",
       "      <th>23</th>\n",
       "      <td>ATL</td>\n",
       "      <td>2005</td>\n",
       "      <td>484570</td>\n",
       "      <td>480171</td>\n",
       "      <td>0.7413</td>\n",
       "      <td>0.6216</td>\n",
       "      <td>0.7337</td>\n",
       "      <td>15.50</td>\n",
       "      <td>18.52</td>\n",
       "      <td>7.26</td>\n",
       "      <td>21.80</td>\n",
       "      <td>4.24</td>\n",
       "      <td>2.72</td>\n",
       "      <td>4.62</td>\n",
       "      <td>17.23</td>\n",
       "    </tr>\n",
       "    <tr>\n",
       "      <th>24</th>\n",
       "      <td>ATL</td>\n",
       "      <td>2006</td>\n",
       "      <td>483334</td>\n",
       "      <td>478735</td>\n",
       "      <td>0.7150</td>\n",
       "      <td>0.5324</td>\n",
       "      <td>0.7205</td>\n",
       "      <td>16.20</td>\n",
       "      <td>20.38</td>\n",
       "      <td>9.63</td>\n",
       "      <td>24.85</td>\n",
       "      <td>3.71</td>\n",
       "      <td>4.13</td>\n",
       "      <td>4.72</td>\n",
       "      <td>16.95</td>\n",
       "    </tr>\n",
       "  </tbody>\n",
       "</table>\n",
       "</div>"
      ],
      "text/plain": [
       "   airport  year  departures for metric computation  \\\n",
       "0      ABQ  2004                              53971   \n",
       "1      ABQ  2005                              51829   \n",
       "2      ABQ  2006                              49682   \n",
       "3      ABQ  2007                              53255   \n",
       "4      ABQ  2008                              49589   \n",
       "5      ABQ  2009                              42550   \n",
       "6      ABQ  2010                              42302   \n",
       "7      ABQ  2011                              42283   \n",
       "8      ABQ  2012                              39105   \n",
       "9      ABQ  2013                              35277   \n",
       "10     ABQ  2014                              33292   \n",
       "11     ANC  2004                              16503   \n",
       "12     ANC  2005                              72043   \n",
       "13     ANC  2006                              75708   \n",
       "14     ANC  2007                              78741   \n",
       "15     ANC  2008                              76606   \n",
       "16     ANC  2009                              67252   \n",
       "17     ANC  2010                              73089   \n",
       "18     ANC  2011                              72556   \n",
       "19     ANC  2012                              70322   \n",
       "20     ANC  2013                              69984   \n",
       "21     ANC  2014                              71099   \n",
       "22     ATL  2004                             477323   \n",
       "23     ATL  2005                             484570   \n",
       "24     ATL  2006                             483334   \n",
       "\n",
       "    arrivals for metric computation  percent on-time gate departures  \\\n",
       "0                             53818                           0.8030   \n",
       "1                             51877                           0.8140   \n",
       "2                             51199                           0.7983   \n",
       "3                             53611                           0.8005   \n",
       "4                             49512                           0.8103   \n",
       "5                             42704                           0.8341   \n",
       "6                             42169                           0.8144   \n",
       "7                             42297                           0.8072   \n",
       "8                             39107                           0.8219   \n",
       "9                             34989                           0.7710   \n",
       "10                            33137                           0.7451   \n",
       "11                            15511                           0.7109   \n",
       "12                            67034                           0.7394   \n",
       "13                            69995                           0.7771   \n",
       "14                            73323                           0.7838   \n",
       "15                            72479                           0.7972   \n",
       "16                            63135                           0.8112   \n",
       "17                            68125                           0.7992   \n",
       "18                            66845                           0.8276   \n",
       "19                            66453                           0.8442   \n",
       "20                            65469                           0.8432   \n",
       "21                            66704                           0.8288   \n",
       "22                           473249                           0.7596   \n",
       "23                           480171                           0.7413   \n",
       "24                           478735                           0.7150   \n",
       "\n",
       "    percent on-time airport departures  percent on-time gate arrivals  \\\n",
       "0                               0.7809                         0.7921   \n",
       "1                               0.7922                         0.8001   \n",
       "2                               0.7756                         0.7746   \n",
       "3                               0.7704                         0.7647   \n",
       "4                               0.7844                         0.7875   \n",
       "5                               0.8147                         0.8224   \n",
       "6                               0.7907                         0.8047   \n",
       "7                               0.7758                         0.8022   \n",
       "8                               0.7940                         0.8177   \n",
       "9                               0.7402                         0.7554   \n",
       "10                              0.7148                         0.7320   \n",
       "11                              0.6770                         0.6502   \n",
       "12                              0.7061                         0.6955   \n",
       "13                              0.7455                         0.7110   \n",
       "14                              0.7457                         0.7196   \n",
       "15                              0.7698                         0.7573   \n",
       "16                              0.7952                         0.8264   \n",
       "17                              0.7760                         0.8045   \n",
       "18                              0.8050                         0.8292   \n",
       "19                              0.8235                         0.8521   \n",
       "20                              0.8228                         0.8631   \n",
       "21                              0.8074                         0.8600   \n",
       "22                              0.5757                         0.7370   \n",
       "23                              0.6216                         0.7337   \n",
       "24                              0.5324                         0.7205   \n",
       "\n",
       "    average_gate_departure_delay  average_taxi_out_time  \\\n",
       "0                          10.38                   9.89   \n",
       "1                           9.60                   9.79   \n",
       "2                          10.84                   9.89   \n",
       "3                          11.29                  10.34   \n",
       "4                          10.79                  10.41   \n",
       "5                           9.24                   9.88   \n",
       "6                          10.25                   9.95   \n",
       "7                          10.81                  10.50   \n",
       "8                          10.55                  10.27   \n",
       "9                          12.56                  10.77   \n",
       "10                         14.30                  10.64   \n",
       "11                         21.45                  12.41   \n",
       "12                         18.36                  12.19   \n",
       "13                         15.56                  12.84   \n",
       "14                         15.69                  13.19   \n",
       "15                         13.45                  13.44   \n",
       "16                         15.10                  12.49   \n",
       "17                         17.77                  11.97   \n",
       "18                         14.56                  11.89   \n",
       "19                         10.01                  11.71   \n",
       "20                          9.18                  12.03   \n",
       "21                         11.33                  11.33   \n",
       "22                         13.59                  20.45   \n",
       "23                         15.50                  18.52   \n",
       "24                         16.20                  20.38   \n",
       "\n",
       "    average taxi out delay  average airport departure delay  \\\n",
       "0                     2.43                            12.10   \n",
       "1                     2.29                            11.20   \n",
       "2                     2.16                            12.33   \n",
       "3                     2.40                            12.95   \n",
       "4                     2.41                            12.32   \n",
       "5                     1.89                            10.45   \n",
       "6                     2.05                            11.58   \n",
       "7                     2.51                            12.57   \n",
       "8                     2.32                            12.11   \n",
       "9                     2.64                            14.28   \n",
       "10                    2.41                            15.99   \n",
       "11                    2.92                            23.05   \n",
       "12                    2.78                            19.97   \n",
       "13                    2.54                            17.07   \n",
       "14                    2.29                            17.52   \n",
       "15                    1.86                            14.72   \n",
       "16                    1.55                            15.88   \n",
       "17                    1.79                            18.83   \n",
       "18                    1.66                            15.60   \n",
       "19                    1.52                            11.00   \n",
       "20                    1.51                            10.09   \n",
       "21                    1.33                            12.34   \n",
       "22                    8.73                            21.36   \n",
       "23                    7.26                            21.80   \n",
       "24                    9.63                            24.85   \n",
       "\n",
       "    average airborne delay  average taxi in delay  average block delay  \\\n",
       "0                     2.46                   0.83                 2.55   \n",
       "1                     2.26                   0.89                 2.34   \n",
       "2                     2.12                   0.84                 2.66   \n",
       "3                     2.19                   1.29                 3.06   \n",
       "4                     1.82                   1.03                 2.79   \n",
       "5                     1.74                   0.92                 1.98   \n",
       "6                     1.66                   0.95                 1.90   \n",
       "7                     1.58                   0.84                 1.87   \n",
       "8                     1.41                   0.98                 1.80   \n",
       "9                     1.60                   0.92                 2.35   \n",
       "10                    1.73                   1.02                 2.40   \n",
       "11                    4.03                   1.08                 5.93   \n",
       "12                    3.65                   1.01                 4.96   \n",
       "13                    4.29                   0.72                 5.83   \n",
       "14                    5.13                   0.39                 5.87   \n",
       "15                    5.13                   0.63                 5.93   \n",
       "16                    3.85                   0.31                 4.19   \n",
       "17                    3.75                   0.37                 3.91   \n",
       "18                    3.92                   0.55                 4.01   \n",
       "19                    3.86                   0.34                 3.75   \n",
       "20                    3.40                   0.47                 3.82   \n",
       "21                    4.09                   0.54                 4.57   \n",
       "22                    5.00                   2.79                 4.69   \n",
       "23                    4.24                   2.72                 4.62   \n",
       "24                    3.71                   4.13                 4.72   \n",
       "\n",
       "    average gate arrival delay  \n",
       "0                        10.87  \n",
       "1                        10.24  \n",
       "2                        11.82  \n",
       "3                        12.71  \n",
       "4                        11.48  \n",
       "5                         9.27  \n",
       "6                        10.23  \n",
       "7                        10.63  \n",
       "8                         9.73  \n",
       "9                        12.76  \n",
       "10                       14.72  \n",
       "11                       22.62  \n",
       "12                       19.35  \n",
       "13                       17.71  \n",
       "14                       18.09  \n",
       "15                       15.89  \n",
       "16                       15.95  \n",
       "17                       20.28  \n",
       "18                       13.93  \n",
       "19                        9.33  \n",
       "20                        8.46  \n",
       "21                       10.82  \n",
       "22                       15.31  \n",
       "23                       17.23  \n",
       "24                       16.95  "
      ]
     },
     "execution_count": 50,
     "metadata": {},
     "output_type": "execute_result"
    }
   ],
   "source": [
    "operations.head(25)"
   ]
  },
  {
   "cell_type": "code",
   "execution_count": 52,
   "metadata": {
    "collapsed": false
   },
   "outputs": [
    {
     "data": {
      "text/plain": [
       "77"
      ]
     },
     "execution_count": 52,
     "metadata": {},
     "output_type": "execute_result"
    }
   ],
   "source": [
    "len(set(operations['airport']))"
   ]
  },
  {
   "cell_type": "code",
   "execution_count": 16,
   "metadata": {
    "collapsed": false,
    "scrolled": true
   },
   "outputs": [
    {
     "data": {
      "text/plain": [
       "airport                               False\n",
       "year                                  False\n",
       "departures for metric computation     False\n",
       "arrivals for metric computation       False\n",
       "percent on-time gate departures       False\n",
       "percent on-time airport departures    False\n",
       "percent on-time gate arrivals         False\n",
       "average_gate_departure_delay          False\n",
       "average_taxi_out_time                 False\n",
       "average taxi out delay                False\n",
       "average airport departure delay       False\n",
       "average airborne delay                False\n",
       "average taxi in delay                 False\n",
       "average block delay                   False\n",
       "average gate arrival delay            False\n",
       "dtype: bool"
      ]
     },
     "execution_count": 16,
     "metadata": {},
     "output_type": "execute_result"
    }
   ],
   "source": [
    "operations.isnull().any()"
   ]
  },
  {
   "cell_type": "code",
   "execution_count": 28,
   "metadata": {
    "collapsed": false
   },
   "outputs": [
    {
     "data": {
      "text/plain": [
       "airport                                object\n",
       "year                                    int64\n",
       "departures for metric computation       int64\n",
       "arrivals for metric computation         int64\n",
       "percent on-time gate departures       float64\n",
       "percent on-time airport departures    float64\n",
       "percent on-time gate arrivals         float64\n",
       "average_gate_departure_delay          float64\n",
       "average_taxi_out_time                 float64\n",
       "average taxi out delay                float64\n",
       "average airport departure delay       float64\n",
       "average airborne delay                float64\n",
       "average taxi in delay                 float64\n",
       "average block delay                   float64\n",
       "average gate arrival delay            float64\n",
       "dtype: object"
      ]
     },
     "execution_count": 28,
     "metadata": {},
     "output_type": "execute_result"
    }
   ],
   "source": [
    "operations.dtypes"
   ]
  },
  {
   "cell_type": "markdown",
   "metadata": {},
   "source": [
    "## Cancellations Exploration"
   ]
  },
  {
   "cell_type": "code",
   "execution_count": 13,
   "metadata": {
    "collapsed": false,
    "scrolled": false
   },
   "outputs": [
    {
     "data": {
      "text/html": [
       "<div>\n",
       "<table border=\"1\" class=\"dataframe\">\n",
       "  <thead>\n",
       "    <tr style=\"text-align: right;\">\n",
       "      <th></th>\n",
       "      <th>Airport</th>\n",
       "      <th>Year</th>\n",
       "      <th>Departure Cancellations</th>\n",
       "      <th>Arrival Cancellations</th>\n",
       "      <th>Departure Diversions</th>\n",
       "      <th>Arrival Diversions</th>\n",
       "    </tr>\n",
       "  </thead>\n",
       "  <tbody>\n",
       "    <tr>\n",
       "      <th>0</th>\n",
       "      <td>ABQ</td>\n",
       "      <td>2004.0</td>\n",
       "      <td>242.0</td>\n",
       "      <td>235.0</td>\n",
       "      <td>71.0</td>\n",
       "      <td>46.0</td>\n",
       "    </tr>\n",
       "    <tr>\n",
       "      <th>1</th>\n",
       "      <td>ABQ</td>\n",
       "      <td>2005.0</td>\n",
       "      <td>221.0</td>\n",
       "      <td>190.0</td>\n",
       "      <td>61.0</td>\n",
       "      <td>33.0</td>\n",
       "    </tr>\n",
       "    <tr>\n",
       "      <th>2</th>\n",
       "      <td>ABQ</td>\n",
       "      <td>2006.0</td>\n",
       "      <td>392.0</td>\n",
       "      <td>329.0</td>\n",
       "      <td>71.0</td>\n",
       "      <td>124.0</td>\n",
       "    </tr>\n",
       "    <tr>\n",
       "      <th>3</th>\n",
       "      <td>ABQ</td>\n",
       "      <td>2007.0</td>\n",
       "      <td>366.0</td>\n",
       "      <td>304.0</td>\n",
       "      <td>107.0</td>\n",
       "      <td>45.0</td>\n",
       "    </tr>\n",
       "    <tr>\n",
       "      <th>4</th>\n",
       "      <td>ABQ</td>\n",
       "      <td>2008.0</td>\n",
       "      <td>333.0</td>\n",
       "      <td>300.0</td>\n",
       "      <td>79.0</td>\n",
       "      <td>42.0</td>\n",
       "    </tr>\n",
       "  </tbody>\n",
       "</table>\n",
       "</div>"
      ],
      "text/plain": [
       "  Airport    Year  Departure Cancellations  Arrival Cancellations  \\\n",
       "0     ABQ  2004.0                    242.0                  235.0   \n",
       "1     ABQ  2005.0                    221.0                  190.0   \n",
       "2     ABQ  2006.0                    392.0                  329.0   \n",
       "3     ABQ  2007.0                    366.0                  304.0   \n",
       "4     ABQ  2008.0                    333.0                  300.0   \n",
       "\n",
       "   Departure Diversions  Arrival Diversions  \n",
       "0                  71.0                46.0  \n",
       "1                  61.0                33.0  \n",
       "2                  71.0               124.0  \n",
       "3                 107.0                45.0  \n",
       "4                  79.0                42.0  "
      ]
     },
     "execution_count": 13,
     "metadata": {},
     "output_type": "execute_result"
    }
   ],
   "source": [
    "cancellations.head()"
   ]
  },
  {
   "cell_type": "code",
   "execution_count": 15,
   "metadata": {
    "collapsed": false,
    "scrolled": false
   },
   "outputs": [
    {
     "data": {
      "text/plain": [
       "Airport                    False\n",
       "Year                       False\n",
       "Departure Cancellations    False\n",
       "Arrival Cancellations      False\n",
       "Departure Diversions       False\n",
       "Arrival Diversions         False\n",
       "dtype: bool"
      ]
     },
     "execution_count": 15,
     "metadata": {},
     "output_type": "execute_result"
    }
   ],
   "source": [
    "cancellations.isnull().any()"
   ]
  },
  {
   "cell_type": "code",
   "execution_count": 11,
   "metadata": {
    "collapsed": false
   },
   "outputs": [
    {
     "data": {
      "text/plain": [
       "(805, 6)"
      ]
     },
     "execution_count": 11,
     "metadata": {},
     "output_type": "execute_result"
    }
   ],
   "source": [
    "cancellations.shape"
   ]
  },
  {
   "cell_type": "code",
   "execution_count": 27,
   "metadata": {
    "collapsed": false
   },
   "outputs": [
    {
     "data": {
      "text/plain": [
       "Airport                     object\n",
       "Year                       float64\n",
       "Departure Cancellations    float64\n",
       "Arrival Cancellations      float64\n",
       "Departure Diversions       float64\n",
       "Arrival Diversions         float64\n",
       "dtype: object"
      ]
     },
     "execution_count": 27,
     "metadata": {},
     "output_type": "execute_result"
    }
   ],
   "source": [
    "cancellations.dtypes"
   ]
  },
  {
   "cell_type": "code",
   "execution_count": 29,
   "metadata": {
    "collapsed": false
   },
   "outputs": [
    {
     "data": {
      "text/plain": [
       "Index([u'Airport', u'Year', u'Departure Cancellations',\n",
       "       u'Arrival Cancellations', u'Departure Diversions',\n",
       "       u'Arrival Diversions'],\n",
       "      dtype='object')"
      ]
     },
     "execution_count": 29,
     "metadata": {},
     "output_type": "execute_result"
    }
   ],
   "source": [
    "cancellations.columns"
   ]
  },
  {
   "cell_type": "code",
   "execution_count": 30,
   "metadata": {
    "collapsed": false
   },
   "outputs": [
    {
     "data": {
      "text/plain": [
       "Index([u'airport', u'year', u'departures for metric computation',\n",
       "       u'arrivals for metric computation', u'percent on-time gate departures',\n",
       "       u'percent on-time airport departures', u'percent on-time gate arrivals',\n",
       "       u'average_gate_departure_delay', u'average_taxi_out_time',\n",
       "       u'average taxi out delay', u'average airport departure delay',\n",
       "       u'average airborne delay', u'average taxi in delay',\n",
       "       u'average block delay', u'average gate arrival delay'],\n",
       "      dtype='object')"
      ]
     },
     "execution_count": 30,
     "metadata": {},
     "output_type": "execute_result"
    }
   ],
   "source": [
    "operations.columns"
   ]
  },
  {
   "cell_type": "code",
   "execution_count": 31,
   "metadata": {
    "collapsed": false
   },
   "outputs": [
    {
     "data": {
      "text/plain": [
       "Index([u'Key', u'LocID', u'AP_NAME', u'ALIAS', u'Facility Type', u'FAA REGION',\n",
       "       u'COUNTY', u'CITY', u'STATE', u'AP Type', u'Latitude', u'Longitude',\n",
       "       u'Boundary Data Available'],\n",
       "      dtype='object')"
      ]
     },
     "execution_count": 31,
     "metadata": {},
     "output_type": "execute_result"
    }
   ],
   "source": [
    "airports.columns"
   ]
  },
  {
   "cell_type": "code",
   "execution_count": null,
   "metadata": {
    "collapsed": true
   },
   "outputs": [],
   "source": []
  }
 ],
 "metadata": {
  "anaconda-cloud": {},
  "kernelspec": {
   "display_name": "Python [Root]",
   "language": "python",
   "name": "Python [Root]"
  },
  "language_info": {
   "codemirror_mode": {
    "name": "ipython",
    "version": 2
   },
   "file_extension": ".py",
   "mimetype": "text/x-python",
   "name": "python",
   "nbconvert_exporter": "python",
   "pygments_lexer": "ipython2",
   "version": "2.7.12"
  }
 },
 "nbformat": 4,
 "nbformat_minor": 0
}
