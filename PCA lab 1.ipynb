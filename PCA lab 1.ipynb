{
 "cells": [
  {
   "cell_type": "code",
   "execution_count": 75,
   "metadata": {
    "collapsed": true
   },
   "outputs": [],
   "source": [
    "import pandas as pd\n",
    "import numpy as np\n",
    "import os\n",
    "import math\n",
    "import matplotlib.pyplot as plt\n",
    "from sklearn.preprocessing import StandardScaler\n",
    "from sklearn.decomposition import PCA\n",
    "\n",
    "%matplotlib inline"
   ]
  },
  {
   "cell_type": "code",
   "execution_count": null,
   "metadata": {
    "collapsed": true
   },
   "outputs": [],
   "source": []
  },
  {
   "cell_type": "code",
   "execution_count": 29,
   "metadata": {
    "collapsed": false
   },
   "outputs": [],
   "source": [
    "votes = pd.read_csv('~/Datasets/votes.csv', index_col=0)"
   ]
  },
  {
   "cell_type": "code",
   "execution_count": 30,
   "metadata": {
    "collapsed": false
   },
   "outputs": [
    {
     "data": {
      "text/html": [
       "<div>\n",
       "<table border=\"1\" class=\"dataframe\">\n",
       "  <thead>\n",
       "    <tr style=\"text-align: right;\">\n",
       "      <th></th>\n",
       "      <th>Class</th>\n",
       "      <th>V1</th>\n",
       "      <th>V2</th>\n",
       "      <th>V3</th>\n",
       "      <th>V4</th>\n",
       "      <th>V5</th>\n",
       "      <th>V6</th>\n",
       "      <th>V7</th>\n",
       "      <th>V8</th>\n",
       "      <th>V9</th>\n",
       "      <th>V10</th>\n",
       "      <th>V11</th>\n",
       "      <th>V12</th>\n",
       "      <th>V13</th>\n",
       "      <th>V14</th>\n",
       "      <th>V15</th>\n",
       "      <th>V16</th>\n",
       "    </tr>\n",
       "  </thead>\n",
       "  <tbody>\n",
       "    <tr>\n",
       "      <th>1</th>\n",
       "      <td>republican</td>\n",
       "      <td>n</td>\n",
       "      <td>y</td>\n",
       "      <td>n</td>\n",
       "      <td>y</td>\n",
       "      <td>y</td>\n",
       "      <td>y</td>\n",
       "      <td>n</td>\n",
       "      <td>n</td>\n",
       "      <td>n</td>\n",
       "      <td>y</td>\n",
       "      <td>NaN</td>\n",
       "      <td>y</td>\n",
       "      <td>y</td>\n",
       "      <td>y</td>\n",
       "      <td>n</td>\n",
       "      <td>y</td>\n",
       "    </tr>\n",
       "    <tr>\n",
       "      <th>2</th>\n",
       "      <td>republican</td>\n",
       "      <td>n</td>\n",
       "      <td>y</td>\n",
       "      <td>n</td>\n",
       "      <td>y</td>\n",
       "      <td>y</td>\n",
       "      <td>y</td>\n",
       "      <td>n</td>\n",
       "      <td>n</td>\n",
       "      <td>n</td>\n",
       "      <td>n</td>\n",
       "      <td>n</td>\n",
       "      <td>y</td>\n",
       "      <td>y</td>\n",
       "      <td>y</td>\n",
       "      <td>n</td>\n",
       "      <td>NaN</td>\n",
       "    </tr>\n",
       "    <tr>\n",
       "      <th>3</th>\n",
       "      <td>democrat</td>\n",
       "      <td>NaN</td>\n",
       "      <td>y</td>\n",
       "      <td>y</td>\n",
       "      <td>NaN</td>\n",
       "      <td>y</td>\n",
       "      <td>y</td>\n",
       "      <td>n</td>\n",
       "      <td>n</td>\n",
       "      <td>n</td>\n",
       "      <td>n</td>\n",
       "      <td>y</td>\n",
       "      <td>n</td>\n",
       "      <td>y</td>\n",
       "      <td>y</td>\n",
       "      <td>n</td>\n",
       "      <td>n</td>\n",
       "    </tr>\n",
       "    <tr>\n",
       "      <th>4</th>\n",
       "      <td>democrat</td>\n",
       "      <td>n</td>\n",
       "      <td>y</td>\n",
       "      <td>y</td>\n",
       "      <td>n</td>\n",
       "      <td>NaN</td>\n",
       "      <td>y</td>\n",
       "      <td>n</td>\n",
       "      <td>n</td>\n",
       "      <td>n</td>\n",
       "      <td>n</td>\n",
       "      <td>y</td>\n",
       "      <td>n</td>\n",
       "      <td>y</td>\n",
       "      <td>n</td>\n",
       "      <td>n</td>\n",
       "      <td>y</td>\n",
       "    </tr>\n",
       "    <tr>\n",
       "      <th>5</th>\n",
       "      <td>democrat</td>\n",
       "      <td>y</td>\n",
       "      <td>y</td>\n",
       "      <td>y</td>\n",
       "      <td>n</td>\n",
       "      <td>y</td>\n",
       "      <td>y</td>\n",
       "      <td>n</td>\n",
       "      <td>n</td>\n",
       "      <td>n</td>\n",
       "      <td>n</td>\n",
       "      <td>y</td>\n",
       "      <td>NaN</td>\n",
       "      <td>y</td>\n",
       "      <td>y</td>\n",
       "      <td>y</td>\n",
       "      <td>y</td>\n",
       "    </tr>\n",
       "  </tbody>\n",
       "</table>\n",
       "</div>"
      ],
      "text/plain": [
       "        Class   V1 V2 V3   V4   V5 V6 V7 V8 V9 V10  V11  V12 V13 V14 V15  V16\n",
       "1  republican    n  y  n    y    y  y  n  n  n   y  NaN    y   y   y   n    y\n",
       "2  republican    n  y  n    y    y  y  n  n  n   n    n    y   y   y   n  NaN\n",
       "3    democrat  NaN  y  y  NaN    y  y  n  n  n   n    y    n   y   y   n    n\n",
       "4    democrat    n  y  y    n  NaN  y  n  n  n   n    y    n   y   n   n    y\n",
       "5    democrat    y  y  y    n    y  y  n  n  n   n    y  NaN   y   y   y    y"
      ]
     },
     "execution_count": 30,
     "metadata": {},
     "output_type": "execute_result"
    }
   ],
   "source": [
    "votes.head()"
   ]
  },
  {
   "cell_type": "code",
   "execution_count": 21,
   "metadata": {
    "collapsed": false
   },
   "outputs": [
    {
     "data": {
      "text/plain": [
       "Class      0\n",
       "V1        12\n",
       "V2        48\n",
       "V3        11\n",
       "V4        11\n",
       "V5        15\n",
       "V6        11\n",
       "V7        14\n",
       "V8        15\n",
       "V9        22\n",
       "V10        7\n",
       "V11       21\n",
       "V12       31\n",
       "V13       25\n",
       "V14       17\n",
       "V15       28\n",
       "V16      104\n",
       "dtype: int64"
      ]
     },
     "execution_count": 21,
     "metadata": {},
     "output_type": "execute_result"
    }
   ],
   "source": [
    "votes.isnull().sum()"
   ]
  },
  {
   "cell_type": "code",
   "execution_count": 31,
   "metadata": {
    "collapsed": false
   },
   "outputs": [],
   "source": [
    "y = votes['Class'].copy()"
   ]
  },
  {
   "cell_type": "code",
   "execution_count": 33,
   "metadata": {
    "collapsed": false,
    "scrolled": true
   },
   "outputs": [
    {
     "data": {
      "text/plain": [
       "1    republican\n",
       "2    republican\n",
       "3      democrat\n",
       "4      democrat\n",
       "5      democrat\n",
       "Name: Class, dtype: object"
      ]
     },
     "execution_count": 33,
     "metadata": {},
     "output_type": "execute_result"
    }
   ],
   "source": [
    "y.head()"
   ]
  },
  {
   "cell_type": "code",
   "execution_count": null,
   "metadata": {
    "collapsed": true
   },
   "outputs": [],
   "source": []
  },
  {
   "cell_type": "code",
   "execution_count": 34,
   "metadata": {
    "collapsed": false
   },
   "outputs": [],
   "source": [
    "for i in votes.columns:\n",
    "    votes[i] = votes[i].apply(lambda x: 1 if x == 'y' else 0)"
   ]
  },
  {
   "cell_type": "code",
   "execution_count": 35,
   "metadata": {
    "collapsed": false
   },
   "outputs": [
    {
     "data": {
      "text/html": [
       "<div>\n",
       "<table border=\"1\" class=\"dataframe\">\n",
       "  <thead>\n",
       "    <tr style=\"text-align: right;\">\n",
       "      <th></th>\n",
       "      <th>Class</th>\n",
       "      <th>V1</th>\n",
       "      <th>V2</th>\n",
       "      <th>V3</th>\n",
       "      <th>V4</th>\n",
       "      <th>V5</th>\n",
       "      <th>V6</th>\n",
       "      <th>V7</th>\n",
       "      <th>V8</th>\n",
       "      <th>V9</th>\n",
       "      <th>V10</th>\n",
       "      <th>V11</th>\n",
       "      <th>V12</th>\n",
       "      <th>V13</th>\n",
       "      <th>V14</th>\n",
       "      <th>V15</th>\n",
       "      <th>V16</th>\n",
       "    </tr>\n",
       "  </thead>\n",
       "  <tbody>\n",
       "    <tr>\n",
       "      <th>1</th>\n",
       "      <td>0</td>\n",
       "      <td>0</td>\n",
       "      <td>1</td>\n",
       "      <td>0</td>\n",
       "      <td>1</td>\n",
       "      <td>1</td>\n",
       "      <td>1</td>\n",
       "      <td>0</td>\n",
       "      <td>0</td>\n",
       "      <td>0</td>\n",
       "      <td>1</td>\n",
       "      <td>0</td>\n",
       "      <td>1</td>\n",
       "      <td>1</td>\n",
       "      <td>1</td>\n",
       "      <td>0</td>\n",
       "      <td>1</td>\n",
       "    </tr>\n",
       "    <tr>\n",
       "      <th>2</th>\n",
       "      <td>0</td>\n",
       "      <td>0</td>\n",
       "      <td>1</td>\n",
       "      <td>0</td>\n",
       "      <td>1</td>\n",
       "      <td>1</td>\n",
       "      <td>1</td>\n",
       "      <td>0</td>\n",
       "      <td>0</td>\n",
       "      <td>0</td>\n",
       "      <td>0</td>\n",
       "      <td>0</td>\n",
       "      <td>1</td>\n",
       "      <td>1</td>\n",
       "      <td>1</td>\n",
       "      <td>0</td>\n",
       "      <td>0</td>\n",
       "    </tr>\n",
       "    <tr>\n",
       "      <th>3</th>\n",
       "      <td>0</td>\n",
       "      <td>0</td>\n",
       "      <td>1</td>\n",
       "      <td>1</td>\n",
       "      <td>0</td>\n",
       "      <td>1</td>\n",
       "      <td>1</td>\n",
       "      <td>0</td>\n",
       "      <td>0</td>\n",
       "      <td>0</td>\n",
       "      <td>0</td>\n",
       "      <td>1</td>\n",
       "      <td>0</td>\n",
       "      <td>1</td>\n",
       "      <td>1</td>\n",
       "      <td>0</td>\n",
       "      <td>0</td>\n",
       "    </tr>\n",
       "    <tr>\n",
       "      <th>4</th>\n",
       "      <td>0</td>\n",
       "      <td>0</td>\n",
       "      <td>1</td>\n",
       "      <td>1</td>\n",
       "      <td>0</td>\n",
       "      <td>0</td>\n",
       "      <td>1</td>\n",
       "      <td>0</td>\n",
       "      <td>0</td>\n",
       "      <td>0</td>\n",
       "      <td>0</td>\n",
       "      <td>1</td>\n",
       "      <td>0</td>\n",
       "      <td>1</td>\n",
       "      <td>0</td>\n",
       "      <td>0</td>\n",
       "      <td>1</td>\n",
       "    </tr>\n",
       "    <tr>\n",
       "      <th>5</th>\n",
       "      <td>0</td>\n",
       "      <td>1</td>\n",
       "      <td>1</td>\n",
       "      <td>1</td>\n",
       "      <td>0</td>\n",
       "      <td>1</td>\n",
       "      <td>1</td>\n",
       "      <td>0</td>\n",
       "      <td>0</td>\n",
       "      <td>0</td>\n",
       "      <td>0</td>\n",
       "      <td>1</td>\n",
       "      <td>0</td>\n",
       "      <td>1</td>\n",
       "      <td>1</td>\n",
       "      <td>1</td>\n",
       "      <td>1</td>\n",
       "    </tr>\n",
       "  </tbody>\n",
       "</table>\n",
       "</div>"
      ],
      "text/plain": [
       "   Class  V1  V2  V3  V4  V5  V6  V7  V8  V9  V10  V11  V12  V13  V14  V15  \\\n",
       "1      0   0   1   0   1   1   1   0   0   0    1    0    1    1    1    0   \n",
       "2      0   0   1   0   1   1   1   0   0   0    0    0    1    1    1    0   \n",
       "3      0   0   1   1   0   1   1   0   0   0    0    1    0    1    1    0   \n",
       "4      0   0   1   1   0   0   1   0   0   0    0    1    0    1    0    0   \n",
       "5      0   1   1   1   0   1   1   0   0   0    0    1    0    1    1    1   \n",
       "\n",
       "   V16  \n",
       "1    1  \n",
       "2    0  \n",
       "3    0  \n",
       "4    1  \n",
       "5    1  "
      ]
     },
     "execution_count": 35,
     "metadata": {},
     "output_type": "execute_result"
    }
   ],
   "source": [
    "votes.head()"
   ]
  },
  {
   "cell_type": "code",
   "execution_count": 36,
   "metadata": {
    "collapsed": false
   },
   "outputs": [
    {
     "data": {
      "text/plain": [
       "Class    0\n",
       "V1       0\n",
       "V2       0\n",
       "V3       0\n",
       "V4       0\n",
       "V5       0\n",
       "V6       0\n",
       "V7       0\n",
       "V8       0\n",
       "V9       0\n",
       "V10      0\n",
       "V11      0\n",
       "V12      0\n",
       "V13      0\n",
       "V14      0\n",
       "V15      0\n",
       "V16      0\n",
       "dtype: int64"
      ]
     },
     "execution_count": 36,
     "metadata": {},
     "output_type": "execute_result"
    }
   ],
   "source": [
    "votes.isnull().sum()"
   ]
  },
  {
   "cell_type": "code",
   "execution_count": 38,
   "metadata": {
    "collapsed": false
   },
   "outputs": [
    {
     "data": {
      "text/html": [
       "<div>\n",
       "<table border=\"1\" class=\"dataframe\">\n",
       "  <thead>\n",
       "    <tr style=\"text-align: right;\">\n",
       "      <th></th>\n",
       "      <th>V1</th>\n",
       "      <th>V2</th>\n",
       "      <th>V3</th>\n",
       "      <th>V4</th>\n",
       "      <th>V5</th>\n",
       "      <th>V6</th>\n",
       "      <th>V7</th>\n",
       "      <th>V8</th>\n",
       "      <th>V9</th>\n",
       "      <th>V10</th>\n",
       "      <th>V11</th>\n",
       "      <th>V12</th>\n",
       "      <th>V13</th>\n",
       "      <th>V14</th>\n",
       "      <th>V15</th>\n",
       "      <th>V16</th>\n",
       "    </tr>\n",
       "  </thead>\n",
       "  <tbody>\n",
       "    <tr>\n",
       "      <th>1</th>\n",
       "      <td>0</td>\n",
       "      <td>1</td>\n",
       "      <td>0</td>\n",
       "      <td>1</td>\n",
       "      <td>1</td>\n",
       "      <td>1</td>\n",
       "      <td>0</td>\n",
       "      <td>0</td>\n",
       "      <td>0</td>\n",
       "      <td>1</td>\n",
       "      <td>0</td>\n",
       "      <td>1</td>\n",
       "      <td>1</td>\n",
       "      <td>1</td>\n",
       "      <td>0</td>\n",
       "      <td>1</td>\n",
       "    </tr>\n",
       "    <tr>\n",
       "      <th>2</th>\n",
       "      <td>0</td>\n",
       "      <td>1</td>\n",
       "      <td>0</td>\n",
       "      <td>1</td>\n",
       "      <td>1</td>\n",
       "      <td>1</td>\n",
       "      <td>0</td>\n",
       "      <td>0</td>\n",
       "      <td>0</td>\n",
       "      <td>0</td>\n",
       "      <td>0</td>\n",
       "      <td>1</td>\n",
       "      <td>1</td>\n",
       "      <td>1</td>\n",
       "      <td>0</td>\n",
       "      <td>0</td>\n",
       "    </tr>\n",
       "    <tr>\n",
       "      <th>3</th>\n",
       "      <td>0</td>\n",
       "      <td>1</td>\n",
       "      <td>1</td>\n",
       "      <td>0</td>\n",
       "      <td>1</td>\n",
       "      <td>1</td>\n",
       "      <td>0</td>\n",
       "      <td>0</td>\n",
       "      <td>0</td>\n",
       "      <td>0</td>\n",
       "      <td>1</td>\n",
       "      <td>0</td>\n",
       "      <td>1</td>\n",
       "      <td>1</td>\n",
       "      <td>0</td>\n",
       "      <td>0</td>\n",
       "    </tr>\n",
       "    <tr>\n",
       "      <th>4</th>\n",
       "      <td>0</td>\n",
       "      <td>1</td>\n",
       "      <td>1</td>\n",
       "      <td>0</td>\n",
       "      <td>0</td>\n",
       "      <td>1</td>\n",
       "      <td>0</td>\n",
       "      <td>0</td>\n",
       "      <td>0</td>\n",
       "      <td>0</td>\n",
       "      <td>1</td>\n",
       "      <td>0</td>\n",
       "      <td>1</td>\n",
       "      <td>0</td>\n",
       "      <td>0</td>\n",
       "      <td>1</td>\n",
       "    </tr>\n",
       "    <tr>\n",
       "      <th>5</th>\n",
       "      <td>1</td>\n",
       "      <td>1</td>\n",
       "      <td>1</td>\n",
       "      <td>0</td>\n",
       "      <td>1</td>\n",
       "      <td>1</td>\n",
       "      <td>0</td>\n",
       "      <td>0</td>\n",
       "      <td>0</td>\n",
       "      <td>0</td>\n",
       "      <td>1</td>\n",
       "      <td>0</td>\n",
       "      <td>1</td>\n",
       "      <td>1</td>\n",
       "      <td>1</td>\n",
       "      <td>1</td>\n",
       "    </tr>\n",
       "  </tbody>\n",
       "</table>\n",
       "</div>"
      ],
      "text/plain": [
       "   V1  V2  V3  V4  V5  V6  V7  V8  V9  V10  V11  V12  V13  V14  V15  V16\n",
       "1   0   1   0   1   1   1   0   0   0    1    0    1    1    1    0    1\n",
       "2   0   1   0   1   1   1   0   0   0    0    0    1    1    1    0    0\n",
       "3   0   1   1   0   1   1   0   0   0    0    1    0    1    1    0    0\n",
       "4   0   1   1   0   0   1   0   0   0    0    1    0    1    0    0    1\n",
       "5   1   1   1   0   1   1   0   0   0    0    1    0    1    1    1    1"
      ]
     },
     "execution_count": 38,
     "metadata": {},
     "output_type": "execute_result"
    }
   ],
   "source": [
    "x = votes[[col for col in votes.columns if col != \"Class\"]]\n",
    "x.head()"
   ]
  },
  {
   "cell_type": "markdown",
   "metadata": {},
   "source": [
    "### standardize data, create covariance matrix"
   ]
  },
  {
   "cell_type": "code",
   "execution_count": 39,
   "metadata": {
    "collapsed": false
   },
   "outputs": [
    {
     "data": {
      "text/plain": [
       "array([[-0.86835031,  1.10940039, -1.17902922,  1.20732229,  1.02561532,\n",
       "         0.77412189, -1.10425892, -1.11977052, -0.9528351 ,  1.0069205 ,\n",
       "        -0.72547625,  1.24252149,  1.03987485,  0.86835031, -0.81649658,\n",
       "         0.78555736],\n",
       "       [-0.86835031,  1.10940039, -1.17902922,  1.20732229,  1.02561532,\n",
       "         0.77412189, -1.10425892, -1.11977052, -0.9528351 , -0.99312707,\n",
       "        -0.72547625,  1.24252149,  1.03987485,  0.86835031, -0.81649658,\n",
       "        -1.27298151],\n",
       "       [-0.86835031,  1.10940039,  0.8481554 , -0.82827925,  1.02561532,\n",
       "         0.77412189, -1.10425892, -1.11977052, -0.9528351 , -0.99312707,\n",
       "         1.37840488, -0.80481505,  1.03987485,  0.86835031, -0.81649658,\n",
       "        -1.27298151],\n",
       "       [-0.86835031,  1.10940039,  0.8481554 , -0.82827925, -0.97502443,\n",
       "         0.77412189, -1.10425892, -1.11977052, -0.9528351 , -0.99312707,\n",
       "         1.37840488, -0.80481505,  1.03987485, -1.15160897, -0.81649658,\n",
       "         0.78555736],\n",
       "       [ 1.15160897,  1.10940039,  0.8481554 , -0.82827925,  1.02561532,\n",
       "         0.77412189, -1.10425892, -1.11977052, -0.9528351 , -0.99312707,\n",
       "         1.37840488, -0.80481505,  1.03987485,  0.86835031,  1.22474487,\n",
       "         0.78555736]])"
      ]
     },
     "execution_count": 39,
     "metadata": {},
     "output_type": "execute_result"
    }
   ],
   "source": [
    "napoleon = StandardScaler().fit_transform(x)\n",
    "napoleon[0:5]"
   ]
  },
  {
   "cell_type": "code",
   "execution_count": 40,
   "metadata": {
    "collapsed": false
   },
   "outputs": [
    {
     "data": {
      "text/plain": [
       "(435, 16)"
      ]
     },
     "execution_count": 40,
     "metadata": {},
     "output_type": "execute_result"
    }
   ],
   "source": [
    "napoleon.shape"
   ]
  },
  {
   "cell_type": "code",
   "execution_count": 50,
   "metadata": {
    "collapsed": false
   },
   "outputs": [],
   "source": [
    "## makes a covariance matrix, which shows how each column relates to the others\n",
    "\n",
    "covariance_matrix = np.cov(napoleon.T)\n"
   ]
  },
  {
   "cell_type": "code",
   "execution_count": 44,
   "metadata": {
    "collapsed": false
   },
   "outputs": [
    {
     "data": {
      "text/plain": [
       "(16, 16)"
      ]
     },
     "execution_count": 44,
     "metadata": {},
     "output_type": "execute_result"
    }
   ],
   "source": [
    "covariance_matrix.shape"
   ]
  },
  {
   "cell_type": "code",
   "execution_count": 45,
   "metadata": {
    "collapsed": true
   },
   "outputs": [],
   "source": [
    "eigenvalues, eigenvectors = np.linalg.eig(covariance_matrix)"
   ]
  },
  {
   "cell_type": "code",
   "execution_count": 46,
   "metadata": {
    "collapsed": false
   },
   "outputs": [
    {
     "data": {
      "text/plain": [
       "array([ 7.102243  ,  1.44867882,  1.1998064 ,  0.88126251,  0.8248454 ])"
      ]
     },
     "execution_count": 46,
     "metadata": {},
     "output_type": "execute_result"
    }
   ],
   "source": [
    "eigenvalues[:5]"
   ]
  },
  {
   "cell_type": "code",
   "execution_count": 48,
   "metadata": {
    "collapsed": false
   },
   "outputs": [
    {
     "data": {
      "text/plain": [
       "(16,)"
      ]
     },
     "execution_count": 48,
     "metadata": {},
     "output_type": "execute_result"
    }
   ],
   "source": [
    "eigenvalues.shape"
   ]
  },
  {
   "cell_type": "code",
   "execution_count": 47,
   "metadata": {
    "collapsed": false
   },
   "outputs": [
    {
     "data": {
      "text/plain": [
       "array([[-0.18803934, -0.19357121,  0.07328808,  0.51751543,  0.35845006,\n",
       "         0.62089874, -0.05713493, -0.00747574,  0.15602045, -0.03613906,\n",
       "        -0.07010134, -0.20296072,  0.12290505,  0.07348099,  0.20525446,\n",
       "        -0.04760145],\n",
       "       [ 0.05231849, -0.5860793 , -0.23045319,  0.37516036,  0.12646973,\n",
       "        -0.55398342,  0.01855198, -0.10910015,  0.10486865,  0.0799821 ,\n",
       "         0.0801356 , -0.13259865, -0.06581724,  0.07925709, -0.00808044,\n",
       "         0.26963501],\n",
       "       [-0.29660826, -0.08013044, -0.16884543, -0.01308925,  0.10990706,\n",
       "         0.03068335, -0.2133564 , -0.06665988, -0.17958811, -0.23883742,\n",
       "         0.56681358,  0.45295072,  0.08181081, -0.3596669 ,  0.23464645,\n",
       "         0.08418781],\n",
       "       [ 0.31510691,  0.1422561 ,  0.07340739,  0.13936979, -0.00770719,\n",
       "        -0.05450439, -0.39727071,  0.4526401 ,  0.17904898, -0.55964437,\n",
       "         0.01205996,  0.0780124 , -0.11191782,  0.25270932,  0.01034961,\n",
       "         0.24886662],\n",
       "       [ 0.33401889, -0.0385968 , -0.02237429,  0.09559165, -0.01349543,\n",
       "         0.13452608,  0.76511773, -0.07320061,  0.17191793, -0.32328863,\n",
       "         0.03152091,  0.26761767, -0.17093715, -0.13088875,  0.11234843,\n",
       "         0.05101759]])"
      ]
     },
     "execution_count": 47,
     "metadata": {},
     "output_type": "execute_result"
    }
   ],
   "source": [
    "eigenvectors[:5]"
   ]
  },
  {
   "cell_type": "code",
   "execution_count": 49,
   "metadata": {
    "collapsed": false
   },
   "outputs": [
    {
     "data": {
      "text/plain": [
       "(16, 16)"
      ]
     },
     "execution_count": 49,
     "metadata": {},
     "output_type": "execute_result"
    }
   ],
   "source": [
    "eigenvectors.shape"
   ]
  },
  {
   "cell_type": "markdown",
   "metadata": {},
   "source": [
    "### Make the principal components"
   ]
  },
  {
   "cell_type": "code",
   "execution_count": 51,
   "metadata": {
    "collapsed": false
   },
   "outputs": [
    {
     "data": {
      "text/plain": [
       "[(7.1022429960917224,\n",
       "  array([-0.18803934, -0.19357121,  0.07328808,  0.51751543,  0.35845006,\n",
       "          0.62089874, -0.05713493, -0.00747574,  0.15602045, -0.03613906,\n",
       "         -0.07010134, -0.20296072,  0.12290505,  0.07348099,  0.20525446,\n",
       "         -0.04760145])),\n",
       " (1.4486788186332433,\n",
       "  array([ 0.05231849, -0.5860793 , -0.23045319,  0.37516036,  0.12646973,\n",
       "         -0.55398342,  0.01855198, -0.10910015,  0.10486865,  0.0799821 ,\n",
       "          0.0801356 , -0.13259865, -0.06581724,  0.07925709, -0.00808044,\n",
       "          0.26963501])),\n",
       " (1.1998063964339241,\n",
       "  array([-0.29660826, -0.08013044, -0.16884543, -0.01308925,  0.10990706,\n",
       "          0.03068335, -0.2133564 , -0.06665988, -0.17958811, -0.23883742,\n",
       "          0.56681358,  0.45295072,  0.08181081, -0.3596669 ,  0.23464645,\n",
       "          0.08418781])),\n",
       " (0.88126250977162979,\n",
       "  array([ 0.31510691,  0.1422561 ,  0.07340739,  0.13936979, -0.00770719,\n",
       "         -0.05450439, -0.39727071,  0.4526401 ,  0.17904898, -0.55964437,\n",
       "          0.01205996,  0.0780124 , -0.11191782,  0.25270932,  0.01034961,\n",
       "          0.24886662])),\n",
       " (0.82484540030574582,\n",
       "  array([ 0.33401889, -0.0385968 , -0.02237429,  0.09559165, -0.01349543,\n",
       "          0.13452608,  0.76511773, -0.07320061,  0.17191793, -0.32328863,\n",
       "          0.03152091,  0.26761767, -0.17093715, -0.13088875,  0.11234843,\n",
       "          0.05101759])),\n",
       " (0.7380053971258137,\n",
       "  array([ 0.26716267, -0.07972083, -0.25992991, -0.19341153,  0.03386373,\n",
       "          0.03842238, -0.07856633,  0.01950334, -0.31205465, -0.18250948,\n",
       "         -0.37816447, -0.3496993 ,  0.1915876 , -0.44154008,  0.37379665,\n",
       "          0.20186102])),\n",
       " (0.14086407284949193,\n",
       "  array([-0.29182075,  0.19643052, -0.04588376,  0.09917934,  0.00585422,\n",
       "         -0.01333985, -0.02286656, -0.27081755, -0.13634586,  0.05344028,\n",
       "         -0.51147706,  0.42817513, -0.13996501,  0.23355998,  0.16912358,\n",
       "          0.47021755])),\n",
       " (0.21188390831337259,\n",
       "  array([-0.32681104,  0.0725546 , -0.07536811,  0.00111245,  0.08663186,\n",
       "         -0.07794592,  0.39578094,  0.73144287, -0.23223146,  0.17757482,\n",
       "          0.07836788, -0.07319843,  0.12111501,  0.11381175,  0.10993021,\n",
       "          0.20086437])),\n",
       " (0.61036664603775526,\n",
       "  array([-0.29287877,  0.18058669, -0.00924878,  0.03611105,  0.01701353,\n",
       "         -0.17373675,  0.15624907, -0.28123287, -0.34831872, -0.50427207,\n",
       "          0.13000295, -0.41876627, -0.17583247,  0.31855412,  0.09648134,\n",
       "         -0.1914593 ])),\n",
       " (0.27622346027209976,\n",
       "  array([ 0.01359228,  0.37071451, -0.57391342, -0.15274865,  0.60726484,\n",
       "         -0.0858061 ,  0.01674202, -0.04673526,  0.31069277,  0.0048658 ,\n",
       "         -0.02398412, -0.01148239,  0.03878859,  0.03544397, -0.15575929,\n",
       "         -0.08244357])),\n",
       " (0.31858993661993062,\n",
       "  array([-0.07112483, -0.4880378 , -0.44655414, -0.38257418, -0.2003779 ,\n",
       "          0.38145471, -0.01032933,  0.05008511, -0.06897903, -0.14494611,\n",
       "         -0.04193094,  0.08099002, -0.04240787,  0.37112324, -0.22157141,\n",
       "         -0.0016436 ])),\n",
       " (0.35967327965287227,\n",
       "  array([ 0.28929338,  0.15955659,  0.01496153, -0.04203207, -0.07669119,\n",
       "          0.06817755,  0.07946873, -0.26127784, -0.03239667,  0.10602841,\n",
       "          0.33002518, -0.05724727,  0.6390797 ,  0.39062137,  0.10896117,\n",
       "          0.32616483])),\n",
       " (0.41340486507308444,\n",
       "  array([ 0.27553751, -0.06114016, -0.14476793,  0.12948346,  0.04813455,\n",
       "         -0.14713108, -0.06865143,  0.10365127, -0.22486428,  0.14032207,\n",
       "         -0.11204054,  0.32483382,  0.06428168,  0.30238212,  0.46090533,\n",
       "         -0.58895758])),\n",
       " (0.54030752633191226,\n",
       "  array([ 0.28769832,  0.14238328, -0.13711492,  0.00581328,  0.03355151,\n",
       "          0.24352607, -0.08900957, -0.0304292 , -0.19874087,  0.37634747,\n",
       "          0.33552707, -0.1694557 , -0.63338072,  0.07327798,  0.17909653,\n",
       "          0.2186269 ])),\n",
       " (0.51431461489969132,\n",
       "  array([-0.24744034, -0.0173265 , -0.01321806, -0.29871419, -0.2442241 ,\n",
       "         -0.07884425, -0.01302678, -0.00362204,  0.61764899,  0.03636348,\n",
       "          0.04670851, -0.15415021, -0.0844283 ,  0.07268007,  0.60154166,\n",
       "          0.00202327])),\n",
       " (0.45639653103471611,\n",
       "  array([-0.07138452,  0.28757258, -0.51258496,  0.48647494, -0.59693453,\n",
       "          0.05455208, -0.01953834,  0.02986224,  0.07535585,  0.02494754,\n",
       "          0.00497602, -0.06360254,  0.0780074 , -0.14271012, -0.0933167 ,\n",
       "         -0.08182005]))]"
      ]
     },
     "execution_count": 51,
     "metadata": {},
     "output_type": "execute_result"
    }
   ],
   "source": [
    "eigenpairs = zip(eigenvalues, eigenvectors)\n",
    "eigenpairs"
   ]
  },
  {
   "cell_type": "code",
   "execution_count": 52,
   "metadata": {
    "collapsed": false
   },
   "outputs": [
    {
     "name": "stdout",
     "output_type": "stream",
     "text": [
      "7.10224299609\n",
      "1.44867881863\n",
      "1.19980639643\n",
      "0.881262509772\n",
      "0.824845400306\n",
      "0.738005397126\n",
      "0.610366646038\n",
      "0.540307526332\n",
      "0.5143146149\n",
      "0.456396531035\n",
      "0.413404865073\n",
      "0.359673279653\n",
      "0.31858993662\n",
      "0.276223460272\n",
      "0.211883908313\n",
      "0.140864072849\n"
     ]
    }
   ],
   "source": [
    "for i in sorted(eigenvalues, reverse=True):\n",
    "    print i"
   ]
  },
  {
   "cell_type": "code",
   "execution_count": 53,
   "metadata": {
    "collapsed": false
   },
   "outputs": [
    {
     "name": "stdout",
     "output_type": "stream",
     "text": [
      "(7.1022429960917224, array([-0.18803934, -0.19357121,  0.07328808,  0.51751543,  0.35845006,\n",
      "        0.62089874, -0.05713493, -0.00747574,  0.15602045, -0.03613906,\n",
      "       -0.07010134, -0.20296072,  0.12290505,  0.07348099,  0.20525446,\n",
      "       -0.04760145]))\n",
      "(1.4486788186332433, array([ 0.05231849, -0.5860793 , -0.23045319,  0.37516036,  0.12646973,\n",
      "       -0.55398342,  0.01855198, -0.10910015,  0.10486865,  0.0799821 ,\n",
      "        0.0801356 , -0.13259865, -0.06581724,  0.07925709, -0.00808044,\n",
      "        0.26963501]))\n",
      "(1.1998063964339241, array([-0.29660826, -0.08013044, -0.16884543, -0.01308925,  0.10990706,\n",
      "        0.03068335, -0.2133564 , -0.06665988, -0.17958811, -0.23883742,\n",
      "        0.56681358,  0.45295072,  0.08181081, -0.3596669 ,  0.23464645,\n",
      "        0.08418781]))\n",
      "(0.88126250977162979, array([ 0.31510691,  0.1422561 ,  0.07340739,  0.13936979, -0.00770719,\n",
      "       -0.05450439, -0.39727071,  0.4526401 ,  0.17904898, -0.55964437,\n",
      "        0.01205996,  0.0780124 , -0.11191782,  0.25270932,  0.01034961,\n",
      "        0.24886662]))\n",
      "(0.82484540030574582, array([ 0.33401889, -0.0385968 , -0.02237429,  0.09559165, -0.01349543,\n",
      "        0.13452608,  0.76511773, -0.07320061,  0.17191793, -0.32328863,\n",
      "        0.03152091,  0.26761767, -0.17093715, -0.13088875,  0.11234843,\n",
      "        0.05101759]))\n",
      "(0.7380053971258137, array([ 0.26716267, -0.07972083, -0.25992991, -0.19341153,  0.03386373,\n",
      "        0.03842238, -0.07856633,  0.01950334, -0.31205465, -0.18250948,\n",
      "       -0.37816447, -0.3496993 ,  0.1915876 , -0.44154008,  0.37379665,\n",
      "        0.20186102]))\n",
      "(0.61036664603775526, array([-0.29287877,  0.18058669, -0.00924878,  0.03611105,  0.01701353,\n",
      "       -0.17373675,  0.15624907, -0.28123287, -0.34831872, -0.50427207,\n",
      "        0.13000295, -0.41876627, -0.17583247,  0.31855412,  0.09648134,\n",
      "       -0.1914593 ]))\n",
      "(0.54030752633191226, array([ 0.28769832,  0.14238328, -0.13711492,  0.00581328,  0.03355151,\n",
      "        0.24352607, -0.08900957, -0.0304292 , -0.19874087,  0.37634747,\n",
      "        0.33552707, -0.1694557 , -0.63338072,  0.07327798,  0.17909653,\n",
      "        0.2186269 ]))\n",
      "(0.51431461489969132, array([-0.24744034, -0.0173265 , -0.01321806, -0.29871419, -0.2442241 ,\n",
      "       -0.07884425, -0.01302678, -0.00362204,  0.61764899,  0.03636348,\n",
      "        0.04670851, -0.15415021, -0.0844283 ,  0.07268007,  0.60154166,\n",
      "        0.00202327]))\n",
      "(0.45639653103471611, array([-0.07138452,  0.28757258, -0.51258496,  0.48647494, -0.59693453,\n",
      "        0.05455208, -0.01953834,  0.02986224,  0.07535585,  0.02494754,\n",
      "        0.00497602, -0.06360254,  0.0780074 , -0.14271012, -0.0933167 ,\n",
      "       -0.08182005]))\n",
      "(0.41340486507308444, array([ 0.27553751, -0.06114016, -0.14476793,  0.12948346,  0.04813455,\n",
      "       -0.14713108, -0.06865143,  0.10365127, -0.22486428,  0.14032207,\n",
      "       -0.11204054,  0.32483382,  0.06428168,  0.30238212,  0.46090533,\n",
      "       -0.58895758]))\n",
      "(0.35967327965287227, array([ 0.28929338,  0.15955659,  0.01496153, -0.04203207, -0.07669119,\n",
      "        0.06817755,  0.07946873, -0.26127784, -0.03239667,  0.10602841,\n",
      "        0.33002518, -0.05724727,  0.6390797 ,  0.39062137,  0.10896117,\n",
      "        0.32616483]))\n",
      "(0.31858993661993062, array([-0.07112483, -0.4880378 , -0.44655414, -0.38257418, -0.2003779 ,\n",
      "        0.38145471, -0.01032933,  0.05008511, -0.06897903, -0.14494611,\n",
      "       -0.04193094,  0.08099002, -0.04240787,  0.37112324, -0.22157141,\n",
      "       -0.0016436 ]))\n",
      "(0.27622346027209976, array([ 0.01359228,  0.37071451, -0.57391342, -0.15274865,  0.60726484,\n",
      "       -0.0858061 ,  0.01674202, -0.04673526,  0.31069277,  0.0048658 ,\n",
      "       -0.02398412, -0.01148239,  0.03878859,  0.03544397, -0.15575929,\n",
      "       -0.08244357]))\n",
      "(0.21188390831337259, array([-0.32681104,  0.0725546 , -0.07536811,  0.00111245,  0.08663186,\n",
      "       -0.07794592,  0.39578094,  0.73144287, -0.23223146,  0.17757482,\n",
      "        0.07836788, -0.07319843,  0.12111501,  0.11381175,  0.10993021,\n",
      "        0.20086437]))\n",
      "(0.14086407284949193, array([-0.29182075,  0.19643052, -0.04588376,  0.09917934,  0.00585422,\n",
      "       -0.01333985, -0.02286656, -0.27081755, -0.13634586,  0.05344028,\n",
      "       -0.51147706,  0.42817513, -0.13996501,  0.23355998,  0.16912358,\n",
      "        0.47021755]))\n"
     ]
    }
   ],
   "source": [
    "for i in sorted(eigenpairs, reverse=True):\n",
    "    print i"
   ]
  },
  {
   "cell_type": "markdown",
   "metadata": {},
   "source": [
    "### Calculate explained variance for each pc"
   ]
  },
  {
   "cell_type": "code",
   "execution_count": 54,
   "metadata": {
    "collapsed": true
   },
   "outputs": [],
   "source": [
    "eigensums = sum(eigenvalues)"
   ]
  },
  {
   "cell_type": "code",
   "execution_count": 55,
   "metadata": {
    "collapsed": false
   },
   "outputs": [
    {
     "name": "stdout",
     "output_type": "stream",
     "text": [
      "0.442869750044 7.10224299609\n",
      "0.0903342826562 1.44867881863\n",
      "0.0748155138006 1.19980639643\n",
      "0.054952288684 0.881262509772\n",
      "0.051434325249 0.824845400306\n",
      "0.0460193020622 0.738005397126\n",
      "0.0380602190202 0.610366646038\n",
      "0.033691590004 0.540307526332\n",
      "0.0320707676532 0.5143146149\n",
      "0.0284592089754 0.456396531035\n",
      "0.0257784068163 0.413404865073\n",
      "0.022427902783 0.359673279653\n",
      "0.0198660966226 0.31858993662\n",
      "0.0172242789882 0.276223460272\n",
      "0.0132123011793 0.211883908313\n",
      "0.00878376546217 0.140864072849\n"
     ]
    }
   ],
   "source": [
    "for eig in sorted(eigenpairs, reverse=True):\n",
    "    print eig[0] / eigensums, eig[0]"
   ]
  },
  {
   "cell_type": "code",
   "execution_count": 56,
   "metadata": {
    "collapsed": true
   },
   "outputs": [],
   "source": [
    "varianceexplained = [(i/eigensums)*100 for i in sorted(eigenvalues, reverse=True)]"
   ]
  },
  {
   "cell_type": "code",
   "execution_count": 57,
   "metadata": {
    "collapsed": false
   },
   "outputs": [
    {
     "data": {
      "text/plain": [
       "[44.28697500436504,\n",
       " 9.0334282656153384,\n",
       " 7.4815513800621112,\n",
       " 5.4952288684035526,\n",
       " 5.1434325248950232,\n",
       " 4.6019302062155623,\n",
       " 3.8060219020170365,\n",
       " 3.3691590004030161,\n",
       " 3.2070767653227876,\n",
       " 2.8459208975440626,\n",
       " 2.5778406816338881,\n",
       " 2.2427902782952089,\n",
       " 1.9866096622564635,\n",
       " 1.7224278988231507,\n",
       " 1.3212301179310875,\n",
       " 0.87837654621665939]"
      ]
     },
     "execution_count": 57,
     "metadata": {},
     "output_type": "execute_result"
    }
   ],
   "source": [
    "varianceexplained"
   ]
  },
  {
   "cell_type": "code",
   "execution_count": 59,
   "metadata": {
    "collapsed": false
   },
   "outputs": [],
   "source": [
    "cumulativeVarianceexplained = np.cumsum(varianceexplained)"
   ]
  },
  {
   "cell_type": "code",
   "execution_count": 60,
   "metadata": {
    "collapsed": false
   },
   "outputs": [
    {
     "data": {
      "text/plain": [
       "array([ 44.286975  ,  53.32040327,  60.80195465,  66.29718352,\n",
       "        71.44061604,  76.04254625,  79.84856815,  83.21772715,\n",
       "        86.42480392,  89.27072481,  91.8485655 ,  94.09135577,\n",
       "        96.07796544,  97.80039334,  99.12162345, 100.        ])"
      ]
     },
     "execution_count": 60,
     "metadata": {},
     "output_type": "execute_result"
    }
   ],
   "source": [
    "cumulativeVarianceexplained"
   ]
  },
  {
   "cell_type": "code",
   "execution_count": 73,
   "metadata": {
    "collapsed": false
   },
   "outputs": [
    {
     "data": {
      "image/png": "[encoded data removed]",
      "text/plain": [
       "<matplotlib.figure.Figure at 0x11a4958d0>"
      ]
     },
     "metadata": {},
     "output_type": "display_data"
    }
   ],
   "source": [
    "plt.plot(range(1,17), cumulativeVarianceexplained)\n",
    "plt.xlabel(\"Number of Principal Components\")\n",
    "plt.ylabel(\"Cumulative Variance Explained\")\n",
    "plt.show()"
   ]
  },
  {
   "cell_type": "code",
   "execution_count": 71,
   "metadata": {
    "collapsed": true
   },
   "outputs": [],
   "source": [
    "# fit_me = [(eigenpair[1].reshape(16,1)) for eigenpair in sorted(eigenpairs, reverse=True)[0:8]]\n",
    "\n",
    "fit_me = []\n",
    "\n",
    "for eigenpair in sorted(eigenpairs, reverse=True)[0:8]:\n",
    "    fit_me.append(eigenpair[1].reshape(16,1))"
   ]
  },
  {
   "cell_type": "code",
   "execution_count": 140,
   "metadata": {
    "collapsed": false
   },
   "outputs": [
    {
     "ename": "AttributeError",
     "evalue": "'tuple' object has no attribute 'shape'",
     "output_type": "error",
     "traceback": [
      "\u001b[0;31m---------------------------------------------------------------------------\u001b[0m",
      "\u001b[0;31mAttributeError\u001b[0m                            Traceback (most recent call last)",
      "\u001b[0;32m<ipython-input-140-19a30429e32f>\u001b[0m in \u001b[0;36m<module>\u001b[0;34m()\u001b[0m\n\u001b[0;32m----> 1\u001b[0;31m \u001b[0meigenpair\u001b[0m\u001b[0;34m.\u001b[0m\u001b[0mshape\u001b[0m\u001b[0;34m(\u001b[0m\u001b[0;34m)\u001b[0m\u001b[0;34m\u001b[0m\u001b[0m\n\u001b[0m",
      "\u001b[0;31mAttributeError\u001b[0m: 'tuple' object has no attribute 'shape'"
     ]
    }
   ],
   "source": [
    "eigenpair.shape()"
   ]
  },
  {
   "cell_type": "code",
   "execution_count": 141,
   "metadata": {
    "collapsed": false
   },
   "outputs": [
    {
     "data": {
      "text/plain": [
       "[array([[-0.18803934],\n",
       "        [-0.19357121],\n",
       "        [ 0.07328808],\n",
       "        [ 0.51751543],\n",
       "        [ 0.35845006],\n",
       "        [ 0.62089874],\n",
       "        [-0.05713493],\n",
       "        [-0.00747574],\n",
       "        [ 0.15602045],\n",
       "        [-0.03613906],\n",
       "        [-0.07010134],\n",
       "        [-0.20296072],\n",
       "        [ 0.12290505],\n",
       "        [ 0.07348099],\n",
       "        [ 0.20525446],\n",
       "        [-0.04760145]]), array([[ 0.05231849],\n",
       "        [-0.5860793 ],\n",
       "        [-0.23045319],\n",
       "        [ 0.37516036],\n",
       "        [ 0.12646973],\n",
       "        [-0.55398342],\n",
       "        [ 0.01855198],\n",
       "        [-0.10910015],\n",
       "        [ 0.10486865],\n",
       "        [ 0.0799821 ],\n",
       "        [ 0.0801356 ],\n",
       "        [-0.13259865],\n",
       "        [-0.06581724],\n",
       "        [ 0.07925709],\n",
       "        [-0.00808044],\n",
       "        [ 0.26963501]]), array([[-0.29660826],\n",
       "        [-0.08013044],\n",
       "        [-0.16884543],\n",
       "        [-0.01308925],\n",
       "        [ 0.10990706],\n",
       "        [ 0.03068335],\n",
       "        [-0.2133564 ],\n",
       "        [-0.06665988],\n",
       "        [-0.17958811],\n",
       "        [-0.23883742],\n",
       "        [ 0.56681358],\n",
       "        [ 0.45295072],\n",
       "        [ 0.08181081],\n",
       "        [-0.3596669 ],\n",
       "        [ 0.23464645],\n",
       "        [ 0.08418781]]), array([[ 0.31510691],\n",
       "        [ 0.1422561 ],\n",
       "        [ 0.07340739],\n",
       "        [ 0.13936979],\n",
       "        [-0.00770719],\n",
       "        [-0.05450439],\n",
       "        [-0.39727071],\n",
       "        [ 0.4526401 ],\n",
       "        [ 0.17904898],\n",
       "        [-0.55964437],\n",
       "        [ 0.01205996],\n",
       "        [ 0.0780124 ],\n",
       "        [-0.11191782],\n",
       "        [ 0.25270932],\n",
       "        [ 0.01034961],\n",
       "        [ 0.24886662]]), array([[ 0.33401889],\n",
       "        [-0.0385968 ],\n",
       "        [-0.02237429],\n",
       "        [ 0.09559165],\n",
       "        [-0.01349543],\n",
       "        [ 0.13452608],\n",
       "        [ 0.76511773],\n",
       "        [-0.07320061],\n",
       "        [ 0.17191793],\n",
       "        [-0.32328863],\n",
       "        [ 0.03152091],\n",
       "        [ 0.26761767],\n",
       "        [-0.17093715],\n",
       "        [-0.13088875],\n",
       "        [ 0.11234843],\n",
       "        [ 0.05101759]]), array([[ 0.26716267],\n",
       "        [-0.07972083],\n",
       "        [-0.25992991],\n",
       "        [-0.19341153],\n",
       "        [ 0.03386373],\n",
       "        [ 0.03842238],\n",
       "        [-0.07856633],\n",
       "        [ 0.01950334],\n",
       "        [-0.31205465],\n",
       "        [-0.18250948],\n",
       "        [-0.37816447],\n",
       "        [-0.3496993 ],\n",
       "        [ 0.1915876 ],\n",
       "        [-0.44154008],\n",
       "        [ 0.37379665],\n",
       "        [ 0.20186102]]), array([[-0.29287877],\n",
       "        [ 0.18058669],\n",
       "        [-0.00924878],\n",
       "        [ 0.03611105],\n",
       "        [ 0.01701353],\n",
       "        [-0.17373675],\n",
       "        [ 0.15624907],\n",
       "        [-0.28123287],\n",
       "        [-0.34831872],\n",
       "        [-0.50427207],\n",
       "        [ 0.13000295],\n",
       "        [-0.41876627],\n",
       "        [-0.17583247],\n",
       "        [ 0.31855412],\n",
       "        [ 0.09648134],\n",
       "        [-0.1914593 ]]), array([[ 0.28769832],\n",
       "        [ 0.14238328],\n",
       "        [-0.13711492],\n",
       "        [ 0.00581328],\n",
       "        [ 0.03355151],\n",
       "        [ 0.24352607],\n",
       "        [-0.08900957],\n",
       "        [-0.0304292 ],\n",
       "        [-0.19874087],\n",
       "        [ 0.37634747],\n",
       "        [ 0.33552707],\n",
       "        [-0.1694557 ],\n",
       "        [-0.63338072],\n",
       "        [ 0.07327798],\n",
       "        [ 0.17909653],\n",
       "        [ 0.2186269 ]])]"
      ]
     },
     "execution_count": 141,
     "metadata": {},
     "output_type": "execute_result"
    }
   ],
   "source": [
    "fit_me"
   ]
  },
  {
   "cell_type": "code",
   "execution_count": 68,
   "metadata": {
    "collapsed": false
   },
   "outputs": [],
   "source": [
    "Pmatrix = np.hstack(fit_me)"
   ]
  },
  {
   "cell_type": "code",
   "execution_count": 69,
   "metadata": {
    "collapsed": true
   },
   "outputs": [],
   "source": [
    "pca_data = napoleon.dot(Pmatrix)"
   ]
  },
  {
   "cell_type": "code",
   "execution_count": 70,
   "metadata": {
    "collapsed": false
   },
   "outputs": [
    {
     "data": {
      "text/plain": [
       "array([[ 1.00693395, -0.19192474,  0.52817463, ..., -0.49549519,\n",
       "        -0.39141853, -0.02303219],\n",
       "       [ 1.17720323, -0.9069469 ,  0.83255695, ..., -0.54600632,\n",
       "         1.01127601, -1.225797  ],\n",
       "       [ 0.54036052, -1.69772524,  0.78208641, ..., -0.75888437,\n",
       "         2.04988555, -0.46274587],\n",
       "       ..., \n",
       "       [ 1.32095962,  0.99518438,  2.35949456, ..., -0.76577894,\n",
       "         0.52753876, -0.35613859],\n",
       "       [ 1.4684445 ,  0.82658862,  1.16698618, ...,  0.02983416,\n",
       "         0.25402801, -1.06204765],\n",
       "       [ 1.10492339, -0.7469789 ,  0.35487075, ..., -0.91103396,\n",
       "         0.00270789, -0.47308417]])"
      ]
     },
     "execution_count": 70,
     "metadata": {},
     "output_type": "execute_result"
    }
   ],
   "source": [
    "pca_data"
   ]
  },
  {
   "cell_type": "markdown",
   "metadata": {},
   "source": [
    "### do PCA using sklearn"
   ]
  },
  {
   "cell_type": "code",
   "execution_count": 95,
   "metadata": {
    "collapsed": false
   },
   "outputs": [
    {
     "data": {
      "text/plain": [
       "array([[-3.57517112, -0.43829759],\n",
       "       [-3.69493371,  0.89512838],\n",
       "       [-1.7103028 ,  2.70058387],\n",
       "       [-0.31396463,  2.31899467],\n",
       "       [-0.6784377 ,  2.53497808]])"
      ]
     },
     "execution_count": 95,
     "metadata": {},
     "output_type": "execute_result"
    }
   ],
   "source": [
    "pca = PCA(n_components=2)\n",
    "pca_x = pca.fit_transform(napoleon)\n",
    "pca_x[0:5]"
   ]
  },
  {
   "cell_type": "code",
   "execution_count": 77,
   "metadata": {
    "collapsed": true
   },
   "outputs": [],
   "source": [
    "from sklearn.cluster import KMeans"
   ]
  },
  {
   "cell_type": "code",
   "execution_count": 78,
   "metadata": {
    "collapsed": true
   },
   "outputs": [],
   "source": [
    "regular_model = KMeans(2)\n",
    "pca_model = KMeans(2)"
   ]
  },
  {
   "cell_type": "code",
   "execution_count": 82,
   "metadata": {
    "collapsed": true
   },
   "outputs": [],
   "source": [
    "def how_many_ones(x):\n",
    "    ones = [y for y in x if y==1]\n",
    "    return len(ones)/float(len(x))"
   ]
  },
  {
   "cell_type": "code",
   "execution_count": 96,
   "metadata": {
    "collapsed": false
   },
   "outputs": [
    {
     "data": {
      "text/plain": [
       "0.4735632183908046"
      ]
     },
     "execution_count": 96,
     "metadata": {},
     "output_type": "execute_result"
    }
   ],
   "source": [
    "regular_model.fit(napoleon)\n",
    "how_many_ones(regular_model.labels_)"
   ]
  },
  {
   "cell_type": "code",
   "execution_count": 97,
   "metadata": {
    "collapsed": false
   },
   "outputs": [
    {
     "data": {
      "text/plain": [
       "0.5310344827586206"
      ]
     },
     "execution_count": 97,
     "metadata": {},
     "output_type": "execute_result"
    }
   ],
   "source": [
    "pca_model.fit(pca_x)\n",
    "how_many_ones(pca_model.labels_)"
   ]
  },
  {
   "cell_type": "code",
   "execution_count": null,
   "metadata": {
    "collapsed": true
   },
   "outputs": [],
   "source": []
  },
  {
   "cell_type": "markdown",
   "metadata": {},
   "source": [
    "# Airport"
   ]
  },
  {
   "cell_type": "code",
   "execution_count": 99,
   "metadata": {
    "collapsed": false
   },
   "outputs": [],
   "source": [
    "airport = pd.read_csv(\"~/Datasets/Airport_operations.csv\")"
   ]
  },
  {
   "cell_type": "code",
   "execution_count": 101,
   "metadata": {
    "collapsed": false,
    "scrolled": true
   },
   "outputs": [
    {
     "data": {
      "text/html": [
       "<div>\n",
       "<table border=\"1\" class=\"dataframe\">\n",
       "  <thead>\n",
       "    <tr style=\"text-align: right;\">\n",
       "      <th></th>\n",
       "      <th>airport</th>\n",
       "      <th>year</th>\n",
       "      <th>departures for metric computation</th>\n",
       "      <th>arrivals for metric computation</th>\n",
       "      <th>percent on-time gate departures</th>\n",
       "      <th>percent on-time airport departures</th>\n",
       "      <th>percent on-time gate arrivals</th>\n",
       "      <th>average_gate_departure_delay</th>\n",
       "      <th>average_taxi_out_time</th>\n",
       "      <th>average taxi out delay</th>\n",
       "      <th>average airport departure delay</th>\n",
       "      <th>average airborne delay</th>\n",
       "      <th>average taxi in delay</th>\n",
       "      <th>average block delay</th>\n",
       "      <th>average gate arrival delay</th>\n",
       "    </tr>\n",
       "  </thead>\n",
       "  <tbody>\n",
       "    <tr>\n",
       "      <th>0</th>\n",
       "      <td>ABQ</td>\n",
       "      <td>2004</td>\n",
       "      <td>53971</td>\n",
       "      <td>53818</td>\n",
       "      <td>0.8030</td>\n",
       "      <td>0.7809</td>\n",
       "      <td>0.7921</td>\n",
       "      <td>10.38</td>\n",
       "      <td>9.89</td>\n",
       "      <td>2.43</td>\n",
       "      <td>12.10</td>\n",
       "      <td>2.46</td>\n",
       "      <td>0.83</td>\n",
       "      <td>2.55</td>\n",
       "      <td>10.87</td>\n",
       "    </tr>\n",
       "    <tr>\n",
       "      <th>1</th>\n",
       "      <td>ABQ</td>\n",
       "      <td>2005</td>\n",
       "      <td>51829</td>\n",
       "      <td>51877</td>\n",
       "      <td>0.8140</td>\n",
       "      <td>0.7922</td>\n",
       "      <td>0.8001</td>\n",
       "      <td>9.60</td>\n",
       "      <td>9.79</td>\n",
       "      <td>2.29</td>\n",
       "      <td>11.20</td>\n",
       "      <td>2.26</td>\n",
       "      <td>0.89</td>\n",
       "      <td>2.34</td>\n",
       "      <td>10.24</td>\n",
       "    </tr>\n",
       "    <tr>\n",
       "      <th>2</th>\n",
       "      <td>ABQ</td>\n",
       "      <td>2006</td>\n",
       "      <td>49682</td>\n",
       "      <td>51199</td>\n",
       "      <td>0.7983</td>\n",
       "      <td>0.7756</td>\n",
       "      <td>0.7746</td>\n",
       "      <td>10.84</td>\n",
       "      <td>9.89</td>\n",
       "      <td>2.16</td>\n",
       "      <td>12.33</td>\n",
       "      <td>2.12</td>\n",
       "      <td>0.84</td>\n",
       "      <td>2.66</td>\n",
       "      <td>11.82</td>\n",
       "    </tr>\n",
       "    <tr>\n",
       "      <th>3</th>\n",
       "      <td>ABQ</td>\n",
       "      <td>2007</td>\n",
       "      <td>53255</td>\n",
       "      <td>53611</td>\n",
       "      <td>0.8005</td>\n",
       "      <td>0.7704</td>\n",
       "      <td>0.7647</td>\n",
       "      <td>11.29</td>\n",
       "      <td>10.34</td>\n",
       "      <td>2.40</td>\n",
       "      <td>12.95</td>\n",
       "      <td>2.19</td>\n",
       "      <td>1.29</td>\n",
       "      <td>3.06</td>\n",
       "      <td>12.71</td>\n",
       "    </tr>\n",
       "    <tr>\n",
       "      <th>4</th>\n",
       "      <td>ABQ</td>\n",
       "      <td>2008</td>\n",
       "      <td>49589</td>\n",
       "      <td>49512</td>\n",
       "      <td>0.8103</td>\n",
       "      <td>0.7844</td>\n",
       "      <td>0.7875</td>\n",
       "      <td>10.79</td>\n",
       "      <td>10.41</td>\n",
       "      <td>2.41</td>\n",
       "      <td>12.32</td>\n",
       "      <td>1.82</td>\n",
       "      <td>1.03</td>\n",
       "      <td>2.79</td>\n",
       "      <td>11.48</td>\n",
       "    </tr>\n",
       "  </tbody>\n",
       "</table>\n",
       "</div>"
      ],
      "text/plain": [
       "  airport  year  departures for metric computation  \\\n",
       "0     ABQ  2004                              53971   \n",
       "1     ABQ  2005                              51829   \n",
       "2     ABQ  2006                              49682   \n",
       "3     ABQ  2007                              53255   \n",
       "4     ABQ  2008                              49589   \n",
       "\n",
       "   arrivals for metric computation  percent on-time gate departures  \\\n",
       "0                            53818                           0.8030   \n",
       "1                            51877                           0.8140   \n",
       "2                            51199                           0.7983   \n",
       "3                            53611                           0.8005   \n",
       "4                            49512                           0.8103   \n",
       "\n",
       "   percent on-time airport departures  percent on-time gate arrivals  \\\n",
       "0                              0.7809                         0.7921   \n",
       "1                              0.7922                         0.8001   \n",
       "2                              0.7756                         0.7746   \n",
       "3                              0.7704                         0.7647   \n",
       "4                              0.7844                         0.7875   \n",
       "\n",
       "   average_gate_departure_delay  average_taxi_out_time  \\\n",
       "0                         10.38                   9.89   \n",
       "1                          9.60                   9.79   \n",
       "2                         10.84                   9.89   \n",
       "3                         11.29                  10.34   \n",
       "4                         10.79                  10.41   \n",
       "\n",
       "   average taxi out delay  average airport departure delay  \\\n",
       "0                    2.43                            12.10   \n",
       "1                    2.29                            11.20   \n",
       "2                    2.16                            12.33   \n",
       "3                    2.40                            12.95   \n",
       "4                    2.41                            12.32   \n",
       "\n",
       "   average airborne delay  average taxi in delay  average block delay  \\\n",
       "0                    2.46                   0.83                 2.55   \n",
       "1                    2.26                   0.89                 2.34   \n",
       "2                    2.12                   0.84                 2.66   \n",
       "3                    2.19                   1.29                 3.06   \n",
       "4                    1.82                   1.03                 2.79   \n",
       "\n",
       "   average gate arrival delay  \n",
       "0                       10.87  \n",
       "1                       10.24  \n",
       "2                       11.82  \n",
       "3                       12.71  \n",
       "4                       11.48  "
      ]
     },
     "execution_count": 101,
     "metadata": {},
     "output_type": "execute_result"
    }
   ],
   "source": [
    "airport.head()"
   ]
  },
  {
   "cell_type": "code",
   "execution_count": 105,
   "metadata": {
    "collapsed": false
   },
   "outputs": [
    {
     "data": {
      "text/plain": [
       "Index([u'airport', u'year', u'departures for metric computation',\n",
       "       u'arrivals for metric computation', u'percent on-time gate departures',\n",
       "       u'percent on-time airport departures', u'percent on-time gate arrivals',\n",
       "       u'average_gate_departure_delay', u'average_taxi_out_time',\n",
       "       u'average taxi out delay', u'average airport departure delay',\n",
       "       u'average airborne delay', u'average taxi in delay',\n",
       "       u'average block delay', u'average gate arrival delay'],\n",
       "      dtype='object')"
      ]
     },
     "execution_count": 105,
     "metadata": {},
     "output_type": "execute_result"
    }
   ],
   "source": [
    "airport.columns"
   ]
  },
  {
   "cell_type": "code",
   "execution_count": null,
   "metadata": {
    "collapsed": true
   },
   "outputs": [],
   "source": []
  },
  {
   "cell_type": "code",
   "execution_count": 104,
   "metadata": {
    "collapsed": false
   },
   "outputs": [],
   "source": [
    "y = airport['airport'].copy()"
   ]
  },
  {
   "cell_type": "code",
   "execution_count": 106,
   "metadata": {
    "collapsed": true
   },
   "outputs": [],
   "source": [
    "x = airport[['year', u'departures for metric computation',\n",
    "       u'arrivals for metric computation', u'percent on-time gate departures',\n",
    "       u'percent on-time airport departures', u'percent on-time gate arrivals',\n",
    "       u'average_gate_departure_delay', u'average_taxi_out_time',\n",
    "       u'average taxi out delay', u'average airport departure delay',\n",
    "       u'average airborne delay', u'average taxi in delay',\n",
    "       u'average block delay', u'average gate arrival delay']].copy()"
   ]
  },
  {
   "cell_type": "code",
   "execution_count": 107,
   "metadata": {
    "collapsed": false
   },
   "outputs": [
    {
     "data": {
      "text/html": [
       "<div>\n",
       "<table border=\"1\" class=\"dataframe\">\n",
       "  <thead>\n",
       "    <tr style=\"text-align: right;\">\n",
       "      <th></th>\n",
       "      <th>year</th>\n",
       "      <th>departures for metric computation</th>\n",
       "      <th>arrivals for metric computation</th>\n",
       "      <th>percent on-time gate departures</th>\n",
       "      <th>percent on-time airport departures</th>\n",
       "      <th>percent on-time gate arrivals</th>\n",
       "      <th>average_gate_departure_delay</th>\n",
       "      <th>average_taxi_out_time</th>\n",
       "      <th>average taxi out delay</th>\n",
       "      <th>average airport departure delay</th>\n",
       "      <th>average airborne delay</th>\n",
       "      <th>average taxi in delay</th>\n",
       "      <th>average block delay</th>\n",
       "      <th>average gate arrival delay</th>\n",
       "    </tr>\n",
       "  </thead>\n",
       "  <tbody>\n",
       "    <tr>\n",
       "      <th>0</th>\n",
       "      <td>2004</td>\n",
       "      <td>53971</td>\n",
       "      <td>53818</td>\n",
       "      <td>0.8030</td>\n",
       "      <td>0.7809</td>\n",
       "      <td>0.7921</td>\n",
       "      <td>10.38</td>\n",
       "      <td>9.89</td>\n",
       "      <td>2.43</td>\n",
       "      <td>12.10</td>\n",
       "      <td>2.46</td>\n",
       "      <td>0.83</td>\n",
       "      <td>2.55</td>\n",
       "      <td>10.87</td>\n",
       "    </tr>\n",
       "    <tr>\n",
       "      <th>1</th>\n",
       "      <td>2005</td>\n",
       "      <td>51829</td>\n",
       "      <td>51877</td>\n",
       "      <td>0.8140</td>\n",
       "      <td>0.7922</td>\n",
       "      <td>0.8001</td>\n",
       "      <td>9.60</td>\n",
       "      <td>9.79</td>\n",
       "      <td>2.29</td>\n",
       "      <td>11.20</td>\n",
       "      <td>2.26</td>\n",
       "      <td>0.89</td>\n",
       "      <td>2.34</td>\n",
       "      <td>10.24</td>\n",
       "    </tr>\n",
       "    <tr>\n",
       "      <th>2</th>\n",
       "      <td>2006</td>\n",
       "      <td>49682</td>\n",
       "      <td>51199</td>\n",
       "      <td>0.7983</td>\n",
       "      <td>0.7756</td>\n",
       "      <td>0.7746</td>\n",
       "      <td>10.84</td>\n",
       "      <td>9.89</td>\n",
       "      <td>2.16</td>\n",
       "      <td>12.33</td>\n",
       "      <td>2.12</td>\n",
       "      <td>0.84</td>\n",
       "      <td>2.66</td>\n",
       "      <td>11.82</td>\n",
       "    </tr>\n",
       "    <tr>\n",
       "      <th>3</th>\n",
       "      <td>2007</td>\n",
       "      <td>53255</td>\n",
       "      <td>53611</td>\n",
       "      <td>0.8005</td>\n",
       "      <td>0.7704</td>\n",
       "      <td>0.7647</td>\n",
       "      <td>11.29</td>\n",
       "      <td>10.34</td>\n",
       "      <td>2.40</td>\n",
       "      <td>12.95</td>\n",
       "      <td>2.19</td>\n",
       "      <td>1.29</td>\n",
       "      <td>3.06</td>\n",
       "      <td>12.71</td>\n",
       "    </tr>\n",
       "    <tr>\n",
       "      <th>4</th>\n",
       "      <td>2008</td>\n",
       "      <td>49589</td>\n",
       "      <td>49512</td>\n",
       "      <td>0.8103</td>\n",
       "      <td>0.7844</td>\n",
       "      <td>0.7875</td>\n",
       "      <td>10.79</td>\n",
       "      <td>10.41</td>\n",
       "      <td>2.41</td>\n",
       "      <td>12.32</td>\n",
       "      <td>1.82</td>\n",
       "      <td>1.03</td>\n",
       "      <td>2.79</td>\n",
       "      <td>11.48</td>\n",
       "    </tr>\n",
       "  </tbody>\n",
       "</table>\n",
       "</div>"
      ],
      "text/plain": [
       "   year  departures for metric computation  arrivals for metric computation  \\\n",
       "0  2004                              53971                            53818   \n",
       "1  2005                              51829                            51877   \n",
       "2  2006                              49682                            51199   \n",
       "3  2007                              53255                            53611   \n",
       "4  2008                              49589                            49512   \n",
       "\n",
       "   percent on-time gate departures  percent on-time airport departures  \\\n",
       "0                           0.8030                              0.7809   \n",
       "1                           0.8140                              0.7922   \n",
       "2                           0.7983                              0.7756   \n",
       "3                           0.8005                              0.7704   \n",
       "4                           0.8103                              0.7844   \n",
       "\n",
       "   percent on-time gate arrivals  average_gate_departure_delay  \\\n",
       "0                         0.7921                         10.38   \n",
       "1                         0.8001                          9.60   \n",
       "2                         0.7746                         10.84   \n",
       "3                         0.7647                         11.29   \n",
       "4                         0.7875                         10.79   \n",
       "\n",
       "   average_taxi_out_time  average taxi out delay  \\\n",
       "0                   9.89                    2.43   \n",
       "1                   9.79                    2.29   \n",
       "2                   9.89                    2.16   \n",
       "3                  10.34                    2.40   \n",
       "4                  10.41                    2.41   \n",
       "\n",
       "   average airport departure delay  average airborne delay  \\\n",
       "0                            12.10                    2.46   \n",
       "1                            11.20                    2.26   \n",
       "2                            12.33                    2.12   \n",
       "3                            12.95                    2.19   \n",
       "4                            12.32                    1.82   \n",
       "\n",
       "   average taxi in delay  average block delay  average gate arrival delay  \n",
       "0                   0.83                 2.55                       10.87  \n",
       "1                   0.89                 2.34                       10.24  \n",
       "2                   0.84                 2.66                       11.82  \n",
       "3                   1.29                 3.06                       12.71  \n",
       "4                   1.03                 2.79                       11.48  "
      ]
     },
     "execution_count": 107,
     "metadata": {},
     "output_type": "execute_result"
    }
   ],
   "source": [
    "x.head()"
   ]
  },
  {
   "cell_type": "code",
   "execution_count": 108,
   "metadata": {
    "collapsed": false
   },
   "outputs": [
    {
     "data": {
      "text/plain": [
       "0    ABQ\n",
       "1    ABQ\n",
       "2    ABQ\n",
       "3    ABQ\n",
       "4    ABQ\n",
       "Name: airport, dtype: object"
      ]
     },
     "execution_count": 108,
     "metadata": {},
     "output_type": "execute_result"
    }
   ],
   "source": [
    "y.head()"
   ]
  },
  {
   "cell_type": "code",
   "execution_count": 114,
   "metadata": {
    "collapsed": true
   },
   "outputs": [],
   "source": [
    "standard_x = StandardScaler().fit_transform(x)"
   ]
  },
  {
   "cell_type": "code",
   "execution_count": 115,
   "metadata": {
    "collapsed": false
   },
   "outputs": [
    {
     "data": {
      "text/plain": [
       "array([[-1.59402353, -0.55269892, -0.55179125,  0.41670953,  0.65820278,\n",
       "         0.45978468, -0.67065288, -1.00619087, -0.4559899 , -0.77571917,\n",
       "        -0.38412754, -0.58849731, -0.76079377, -0.70168278],\n",
       "       [-1.27702807, -0.57450712, -0.57162597,  0.53460207,  0.76985053,\n",
       "         0.55704526, -0.83508009, -1.03257661, -0.51457083, -0.94394887,\n",
       "        -0.55069174, -0.52044906, -0.9654201 , -0.84232194],\n",
       "       [-0.96003261, -0.59636622, -0.57855433,  0.36633727,  0.60583702,\n",
       "         0.24702714, -0.57368298, -1.00619087, -0.56896741, -0.73272713,\n",
       "        -0.66728667, -0.57715593, -0.65360855, -0.48960786],\n",
       "       [-0.64303716, -0.55998868, -0.55390654,  0.38991577,  0.5544593 ,\n",
       "         0.12666717, -0.47882113, -0.88745504, -0.46854296, -0.61683556,\n",
       "        -0.6089892 , -0.06679409, -0.26384411, -0.29092714],\n",
       "       [-0.3260417 , -0.59731307, -0.59579348,  0.49494731,  0.69278394,\n",
       "         0.40385984, -0.58422319, -0.86898502, -0.46435861, -0.73459635,\n",
       "        -0.91713297, -0.36166982, -0.52693511, -0.56550836]])"
      ]
     },
     "execution_count": 115,
     "metadata": {},
     "output_type": "execute_result"
    }
   ],
   "source": [
    "standard_x[:5]"
   ]
  },
  {
   "cell_type": "code",
   "execution_count": 116,
   "metadata": {
    "collapsed": false,
    "scrolled": true
   },
   "outputs": [
    {
     "data": {
      "text/plain": [
       "airport                               0\n",
       "year                                  0\n",
       "departures for metric computation     0\n",
       "arrivals for metric computation       0\n",
       "percent on-time gate departures       0\n",
       "percent on-time airport departures    0\n",
       "percent on-time gate arrivals         0\n",
       "average_gate_departure_delay          0\n",
       "average_taxi_out_time                 0\n",
       "average taxi out delay                0\n",
       "average airport departure delay       0\n",
       "average airborne delay                0\n",
       "average taxi in delay                 0\n",
       "average block delay                   0\n",
       "average gate arrival delay            0\n",
       "dtype: int64"
      ]
     },
     "execution_count": 116,
     "metadata": {},
     "output_type": "execute_result"
    }
   ],
   "source": [
    "airport.isnull().sum()"
   ]
  },
  {
   "cell_type": "code",
   "execution_count": 118,
   "metadata": {
    "collapsed": false
   },
   "outputs": [],
   "source": [
    "airport_cov = np.cov(standard_x.T)\n",
    "\n"
   ]
  },
  {
   "cell_type": "code",
   "execution_count": 120,
   "metadata": {
    "collapsed": true
   },
   "outputs": [],
   "source": [
    "airvalues, airvectors = np.linalg.eig(airport_cov)"
   ]
  },
  {
   "cell_type": "code",
   "execution_count": 121,
   "metadata": {
    "collapsed": true
   },
   "outputs": [],
   "source": [
    "airpairs = zip(airvalues, airvectors)"
   ]
  },
  {
   "cell_type": "code",
   "execution_count": 122,
   "metadata": {
    "collapsed": true
   },
   "outputs": [],
   "source": [
    "airsums = sum(airvalues)"
   ]
  },
  {
   "cell_type": "code",
   "execution_count": 123,
   "metadata": {
    "collapsed": false
   },
   "outputs": [
    {
     "data": {
      "text/plain": [
       "14.016666666666678"
      ]
     },
     "execution_count": 123,
     "metadata": {},
     "output_type": "execute_result"
    }
   ],
   "source": [
    "airsums"
   ]
  },
  {
   "cell_type": "code",
   "execution_count": 124,
   "metadata": {
    "collapsed": true
   },
   "outputs": [],
   "source": [
    "airvarianceexplained = [(i/airsums)*100 for i in sorted(airvalues, reverse=True)]"
   ]
  },
  {
   "cell_type": "code",
   "execution_count": 125,
   "metadata": {
    "collapsed": false
   },
   "outputs": [
    {
     "data": {
      "text/plain": [
       "[46.041588641452257,\n",
       " 30.745710281743055,\n",
       " 8.691430119720394,\n",
       " 5.2642715357144603,\n",
       " 3.6453357268349809,\n",
       " 2.4924129960015473,\n",
       " 1.1900067195389834,\n",
       " 0.85769689831543083,\n",
       " 0.52226169900819042,\n",
       " 0.45797220610034139,\n",
       " 0.068423870636890649,\n",
       " 0.016713293540011429,\n",
       " 0.0050033760669574174,\n",
       " 0.0011726353264879838]"
      ]
     },
     "execution_count": 125,
     "metadata": {},
     "output_type": "execute_result"
    }
   ],
   "source": [
    "airvarianceexplained"
   ]
  },
  {
   "cell_type": "code",
   "execution_count": 127,
   "metadata": {
    "collapsed": false
   },
   "outputs": [
    {
     "data": {
      "text/plain": [
       "14"
      ]
     },
     "execution_count": 127,
     "metadata": {},
     "output_type": "execute_result"
    }
   ],
   "source": [
    "len(airvarianceexplained)"
   ]
  },
  {
   "cell_type": "code",
   "execution_count": 130,
   "metadata": {
    "collapsed": false
   },
   "outputs": [
    {
     "data": {
      "image/png": "[encoded data removed]",
      "text/plain": [
       "<matplotlib.figure.Figure at 0x11779bb50>"
      ]
     },
     "metadata": {},
     "output_type": "display_data"
    }
   ],
   "source": [
    "plt.plot(range(1,15), airvarianceexplained)\n",
    "plt.xlabel(\"Principal Component\")\n",
    "plt.ylabel(\"Variance Explained\")\n",
    "plt.title(\"Variance Explained by Each Component\")\n",
    "plt.show()"
   ]
  },
  {
   "cell_type": "code",
   "execution_count": 131,
   "metadata": {
    "collapsed": true
   },
   "outputs": [],
   "source": [
    "cumairvar = np.cumsum(airvarianceexplained)"
   ]
  },
  {
   "cell_type": "code",
   "execution_count": 144,
   "metadata": {
    "collapsed": false
   },
   "outputs": [
    {
     "data": {
      "image/png": "[encoded data removed]",
      "text/plain": [
       "<matplotlib.figure.Figure at 0x117c5fb90>"
      ]
     },
     "metadata": {},
     "output_type": "display_data"
    }
   ],
   "source": [
    "## cumulative variance explained by adding each new component\n",
    "\n",
    "plt.plot(range(1,15), cumairvar)\n",
    "plt.xlabel(\"Principal Component\")\n",
    "plt.ylabel(\"Cumulative Variance Explained\")\n",
    "plt.show()"
   ]
  },
  {
   "cell_type": "code",
   "execution_count": 146,
   "metadata": {
    "collapsed": false
   },
   "outputs": [],
   "source": [
    "airca = PCA(n_components=3)"
   ]
  },
  {
   "cell_type": "code",
   "execution_count": 148,
   "metadata": {
    "collapsed": false
   },
   "outputs": [
    {
     "data": {
      "text/plain": [
       "array([[ 2.01255752, -0.6675412 , -1.52022755],\n",
       "       [ 2.42712187, -0.61285067, -1.21104723],\n",
       "       [ 1.89314735, -0.92354986, -0.91162339],\n",
       "       [ 1.47613708, -0.67831472, -0.66335115],\n",
       "       [ 2.04318734, -0.71436421, -0.34874303]])"
      ]
     },
     "execution_count": 148,
     "metadata": {},
     "output_type": "execute_result"
    }
   ],
   "source": [
    "air_x = airca.fit_transform(standard_x)\n",
    "air_x[0:5]"
   ]
  },
  {
   "cell_type": "code",
   "execution_count": 150,
   "metadata": {
    "collapsed": false
   },
   "outputs": [],
   "source": [
    "airpcas = pd.DataFrame(air_x, columns=[\"pc1\", \"pc2\", \"pc3\"])"
   ]
  },
  {
   "cell_type": "code",
   "execution_count": 151,
   "metadata": {
    "collapsed": false
   },
   "outputs": [
    {
     "data": {
      "text/html": [
       "<div>\n",
       "<table border=\"1\" class=\"dataframe\">\n",
       "  <thead>\n",
       "    <tr style=\"text-align: right;\">\n",
       "      <th></th>\n",
       "      <th>pc1</th>\n",
       "      <th>pc2</th>\n",
       "      <th>pc3</th>\n",
       "    </tr>\n",
       "  </thead>\n",
       "  <tbody>\n",
       "    <tr>\n",
       "      <th>0</th>\n",
       "      <td>2.012558</td>\n",
       "      <td>-0.667541</td>\n",
       "      <td>-1.520228</td>\n",
       "    </tr>\n",
       "    <tr>\n",
       "      <th>1</th>\n",
       "      <td>2.427122</td>\n",
       "      <td>-0.612851</td>\n",
       "      <td>-1.211047</td>\n",
       "    </tr>\n",
       "    <tr>\n",
       "      <th>2</th>\n",
       "      <td>1.893147</td>\n",
       "      <td>-0.923550</td>\n",
       "      <td>-0.911623</td>\n",
       "    </tr>\n",
       "    <tr>\n",
       "      <th>3</th>\n",
       "      <td>1.476137</td>\n",
       "      <td>-0.678315</td>\n",
       "      <td>-0.663351</td>\n",
       "    </tr>\n",
       "    <tr>\n",
       "      <th>4</th>\n",
       "      <td>2.043187</td>\n",
       "      <td>-0.714364</td>\n",
       "      <td>-0.348743</td>\n",
       "    </tr>\n",
       "  </tbody>\n",
       "</table>\n",
       "</div>"
      ],
      "text/plain": [
       "        pc1       pc2       pc3\n",
       "0  2.012558 -0.667541 -1.520228\n",
       "1  2.427122 -0.612851 -1.211047\n",
       "2  1.893147 -0.923550 -0.911623\n",
       "3  1.476137 -0.678315 -0.663351\n",
       "4  2.043187 -0.714364 -0.348743"
      ]
     },
     "execution_count": 151,
     "metadata": {},
     "output_type": "execute_result"
    }
   ],
   "source": [
    "airpcas.head()"
   ]
  },
  {
   "cell_type": "code",
   "execution_count": null,
   "metadata": {
    "collapsed": true
   },
   "outputs": [],
   "source": []
  }
 ],
 "metadata": {
  "anaconda-cloud": {},
  "kernelspec": {
   "display_name": "Python [Root]",
   "language": "python",
   "name": "Python [Root]"
  },
  "language_info": {
   "codemirror_mode": {
    "name": "ipython",
    "version": 2
   },
   "file_extension": ".py",
   "mimetype": "text/x-python",
   "name": "python",
   "nbconvert_exporter": "python",
   "pygments_lexer": "ipython2",
   "version": "2.7.12"
  }
 },
 "nbformat": 4,
 "nbformat_minor": 0
}
