{
 "cells": [
  {
   "cell_type": "code",
   "execution_count": 2,
   "metadata": {
    "collapsed": true
   },
   "outputs": [],
   "source": [
    "import numpy as np\n",
    "from sklearn import datasets\n",
    "from sklearn.linear_model import Ridge\n",
    "from sklearn.grid_search import GridSearchCV\n",
    "import pandas as pd\n",
    "import seaborn as sb\n",
    "import matplotlib.pyplot as plt\n",
    "%matplotlib inline\n",
    "\n"
   ]
  },
  {
   "cell_type": "code",
   "execution_count": 3,
   "metadata": {
    "collapsed": true
   },
   "outputs": [],
   "source": [
    "dataset = datasets.load_diabetes()"
   ]
  },
  {
   "cell_type": "code",
   "execution_count": 55,
   "metadata": {
    "collapsed": false
   },
   "outputs": [
    {
     "data": {
      "text/plain": [
       "{'data': array([[ 0.03807591,  0.05068012,  0.06169621, ..., -0.00259226,\n",
       "          0.01990842, -0.01764613],\n",
       "        [-0.00188202, -0.04464164, -0.05147406, ..., -0.03949338,\n",
       "         -0.06832974, -0.09220405],\n",
       "        [ 0.08529891,  0.05068012,  0.04445121, ..., -0.00259226,\n",
       "          0.00286377, -0.02593034],\n",
       "        ..., \n",
       "        [ 0.04170844,  0.05068012, -0.01590626, ..., -0.01107952,\n",
       "         -0.04687948,  0.01549073],\n",
       "        [-0.04547248, -0.04464164,  0.03906215, ...,  0.02655962,\n",
       "          0.04452837, -0.02593034],\n",
       "        [-0.04547248, -0.04464164, -0.0730303 , ..., -0.03949338,\n",
       "         -0.00421986,  0.00306441]]),\n",
       " 'target': array([ 151.,   75.,  141.,  206.,  135.,   97.,  138.,   63.,  110.,\n",
       "         310.,  101.,   69.,  179.,  185.,  118.,  171.,  166.,  144.,\n",
       "          97.,  168.,   68.,   49.,   68.,  245.,  184.,  202.,  137.,\n",
       "          85.,  131.,  283.,  129.,   59.,  341.,   87.,   65.,  102.,\n",
       "         265.,  276.,  252.,   90.,  100.,   55.,   61.,   92.,  259.,\n",
       "          53.,  190.,  142.,   75.,  142.,  155.,  225.,   59.,  104.,\n",
       "         182.,  128.,   52.,   37.,  170.,  170.,   61.,  144.,   52.,\n",
       "         128.,   71.,  163.,  150.,   97.,  160.,  178.,   48.,  270.,\n",
       "         202.,  111.,   85.,   42.,  170.,  200.,  252.,  113.,  143.,\n",
       "          51.,   52.,  210.,   65.,  141.,   55.,  134.,   42.,  111.,\n",
       "          98.,  164.,   48.,   96.,   90.,  162.,  150.,  279.,   92.,\n",
       "          83.,  128.,  102.,  302.,  198.,   95.,   53.,  134.,  144.,\n",
       "         232.,   81.,  104.,   59.,  246.,  297.,  258.,  229.,  275.,\n",
       "         281.,  179.,  200.,  200.,  173.,  180.,   84.,  121.,  161.,\n",
       "          99.,  109.,  115.,  268.,  274.,  158.,  107.,   83.,  103.,\n",
       "         272.,   85.,  280.,  336.,  281.,  118.,  317.,  235.,   60.,\n",
       "         174.,  259.,  178.,  128.,   96.,  126.,  288.,   88.,  292.,\n",
       "          71.,  197.,  186.,   25.,   84.,   96.,  195.,   53.,  217.,\n",
       "         172.,  131.,  214.,   59.,   70.,  220.,  268.,  152.,   47.,\n",
       "          74.,  295.,  101.,  151.,  127.,  237.,  225.,   81.,  151.,\n",
       "         107.,   64.,  138.,  185.,  265.,  101.,  137.,  143.,  141.,\n",
       "          79.,  292.,  178.,   91.,  116.,   86.,  122.,   72.,  129.,\n",
       "         142.,   90.,  158.,   39.,  196.,  222.,  277.,   99.,  196.,\n",
       "         202.,  155.,   77.,  191.,   70.,   73.,   49.,   65.,  263.,\n",
       "         248.,  296.,  214.,  185.,   78.,   93.,  252.,  150.,   77.,\n",
       "         208.,   77.,  108.,  160.,   53.,  220.,  154.,  259.,   90.,\n",
       "         246.,  124.,   67.,   72.,  257.,  262.,  275.,  177.,   71.,\n",
       "          47.,  187.,  125.,   78.,   51.,  258.,  215.,  303.,  243.,\n",
       "          91.,  150.,  310.,  153.,  346.,   63.,   89.,   50.,   39.,\n",
       "         103.,  308.,  116.,  145.,   74.,   45.,  115.,  264.,   87.,\n",
       "         202.,  127.,  182.,  241.,   66.,   94.,  283.,   64.,  102.,\n",
       "         200.,  265.,   94.,  230.,  181.,  156.,  233.,   60.,  219.,\n",
       "          80.,   68.,  332.,  248.,   84.,  200.,   55.,   85.,   89.,\n",
       "          31.,  129.,   83.,  275.,   65.,  198.,  236.,  253.,  124.,\n",
       "          44.,  172.,  114.,  142.,  109.,  180.,  144.,  163.,  147.,\n",
       "          97.,  220.,  190.,  109.,  191.,  122.,  230.,  242.,  248.,\n",
       "         249.,  192.,  131.,  237.,   78.,  135.,  244.,  199.,  270.,\n",
       "         164.,   72.,   96.,  306.,   91.,  214.,   95.,  216.,  263.,\n",
       "         178.,  113.,  200.,  139.,  139.,   88.,  148.,   88.,  243.,\n",
       "          71.,   77.,  109.,  272.,   60.,   54.,  221.,   90.,  311.,\n",
       "         281.,  182.,  321.,   58.,  262.,  206.,  233.,  242.,  123.,\n",
       "         167.,   63.,  197.,   71.,  168.,  140.,  217.,  121.,  235.,\n",
       "         245.,   40.,   52.,  104.,  132.,   88.,   69.,  219.,   72.,\n",
       "         201.,  110.,   51.,  277.,   63.,  118.,   69.,  273.,  258.,\n",
       "          43.,  198.,  242.,  232.,  175.,   93.,  168.,  275.,  293.,\n",
       "         281.,   72.,  140.,  189.,  181.,  209.,  136.,  261.,  113.,\n",
       "         131.,  174.,  257.,   55.,   84.,   42.,  146.,  212.,  233.,\n",
       "          91.,  111.,  152.,  120.,   67.,  310.,   94.,  183.,   66.,\n",
       "         173.,   72.,   49.,   64.,   48.,  178.,  104.,  132.,  220.,   57.])}"
      ]
     },
     "execution_count": 55,
     "metadata": {},
     "output_type": "execute_result"
    }
   ],
   "source": [
    "dataset"
   ]
  },
  {
   "cell_type": "code",
   "execution_count": 5,
   "metadata": {
    "collapsed": false
   },
   "outputs": [
    {
     "data": {
      "text/plain": [
       "(442, 10)"
      ]
     },
     "execution_count": 5,
     "metadata": {},
     "output_type": "execute_result"
    }
   ],
   "source": [
    "dataset['data'].shape"
   ]
  },
  {
   "cell_type": "code",
   "execution_count": 6,
   "metadata": {
    "collapsed": true
   },
   "outputs": [],
   "source": [
    "alphas = np.array([100, 10, 1, 0.1, 0.01, 0.001, 0.0001, 0])"
   ]
  },
  {
   "cell_type": "code",
   "execution_count": 7,
   "metadata": {
    "collapsed": false
   },
   "outputs": [
    {
     "data": {
      "text/plain": [
       "array([  1.00000000e+02,   1.00000000e+01,   1.00000000e+00,\n",
       "         1.00000000e-01,   1.00000000e-02,   1.00000000e-03,\n",
       "         1.00000000e-04,   0.00000000e+00])"
      ]
     },
     "execution_count": 7,
     "metadata": {},
     "output_type": "execute_result"
    }
   ],
   "source": [
    "alphas"
   ]
  },
  {
   "cell_type": "code",
   "execution_count": 14,
   "metadata": {
    "collapsed": false
   },
   "outputs": [
    {
     "data": {
      "text/plain": [
       "Ridge(alpha=1.0, copy_X=True, fit_intercept=True, max_iter=None,\n",
       "   normalize=False, random_state=None, solver='auto', tol=0.001)"
      ]
     },
     "execution_count": 14,
     "metadata": {},
     "output_type": "execute_result"
    }
   ],
   "source": [
    "model = Ridge()  ## instantiate model as object\n",
    "model"
   ]
  },
  {
   "cell_type": "code",
   "execution_count": 53,
   "metadata": {
    "collapsed": false
   },
   "outputs": [],
   "source": [
    "grid = GridSearchCV(estimator=model,\n",
    "                   param_grid={'alpha':alphas,\n",
    "                               'fit_intercept': [True, False], ## can put other parameters into this dictionary\n",
    "                               'normalize': [True,False]},\n",
    "                    verbose=10   ## gives more detail in output\n",
    "                    )\n",
    "\n"
   ]
  },
  {
   "cell_type": "code",
   "execution_count": 54,
   "metadata": {
    "collapsed": false
   },
   "outputs": [
    {
     "name": "stdout",
     "output_type": "stream",
     "text": [
      "Fitting 3 folds for each of 32 candidates, totalling 96 fits\n",
      "[CV] normalize=True, alpha=100.0, fit_intercept=True .................\n",
      "[CV]  normalize=True, alpha=100.0, fit_intercept=True, score=0.020139 -   0.0s\n",
      "[CV] normalize=True, alpha=100.0, fit_intercept=True .................\n",
      "[CV]  normalize=True, alpha=100.0, fit_intercept=True, score=0.026828 -   0.0s\n",
      "[CV] normalize=True, alpha=100.0, fit_intercept=True .................\n",
      "[CV]  normalize=True, alpha=100.0, fit_intercept=True, score=0.023940 -   0.0s\n",
      "[CV] normalize=False, alpha=100.0, fit_intercept=True ................\n",
      "[CV]  normalize=False, alpha=100.0, fit_intercept=True, score=0.011642 -   0.0s\n",
      "[CV] normalize=False, alpha=100.0, fit_intercept=True ................\n",
      "[CV]  normalize=False, alpha=100.0, fit_intercept=True, score=0.018250 -   0.0s\n",
      "[CV] normalize=False, alpha=100.0, fit_intercept=True ................\n",
      "[CV]  normalize=False, alpha=100.0, fit_intercept=True, score=0.013910 -   0.0s\n",
      "[CV] normalize=True, alpha=100.0, fit_intercept=False ................\n",
      "[CV]  normalize=True, alpha=100.0, fit_intercept=False, score=-3.827253 -   0.0s\n",
      "[CV] normalize=True, alpha=100.0, fit_intercept=False ................\n",
      "[CV]  normalize=True, alpha=100.0, fit_intercept=False, score=-3.639335 -   0.0s\n",
      "[CV] normalize=True, alpha=100.0, fit_intercept=False ................\n",
      "[CV]  normalize=True, alpha=100.0, fit_intercept=False, score=-4.252714 -   0.0s\n",
      "[CV] normalize=False, alpha=100.0, fit_intercept=False ...............\n",
      "[CV]  normalize=False, alpha=100.0, fit_intercept=False, score=-3.827253 -   0.0s\n",
      "[CV] normalize=False, alpha=100.0, fit_intercept=False ...............\n",
      "[CV]  normalize=False, alpha=100.0, fit_intercept=False, score=-3.639335 -   0.0s\n",
      "[CV] normalize=False, alpha=100.0, fit_intercept=False ...............\n",
      "[CV]  normalize=False, alpha=100.0, fit_intercept=False, score=-4.252714 -   0.0s\n",
      "[CV] normalize=True, alpha=10.0, fit_intercept=True ..................\n",
      "[CV]  normalize=True, alpha=10.0, fit_intercept=True, score=0.170918 -   0.0s\n",
      "[CV] normalize=True, alpha=10.0, fit_intercept=True ..................\n",
      "[CV]  normalize=True, alpha=10.0, fit_intercept=True, score=0.185633 -   0.0s\n",
      "[CV] normalize=True, alpha=10.0, fit_intercept=True ..................\n",
      "[CV]  normalize=True, alpha=10.0, fit_intercept=True, score=0.198330 -   0.0s\n",
      "[CV] normalize=False, alpha=10.0, fit_intercept=True .................\n",
      "[CV]  normalize=False, alpha=10.0, fit_intercept=True, score=0.129403 -   0.0s\n",
      "[CV] normalize=False, alpha=10.0, fit_intercept=True .................\n",
      "[CV]  normalize=False, alpha=10.0, fit_intercept=True, score=0.140286 -   0.0s\n",
      "[CV] normalize=False, alpha=10.0, fit_intercept=True .................\n",
      "[CV]  normalize=False, alpha=10.0, fit_intercept=True, score=0.146047 -   0.0s\n",
      "[CV] normalize=True, alpha=10.0, fit_intercept=False .................\n",
      "[CV]  normalize=True, alpha=10.0, fit_intercept=False, score=-3.805085 -   0.0s\n",
      "[CV] normalize=True, alpha=10.0, fit_intercept=False .................\n",
      "[CV]  normalize=True, alpha=10.0, fit_intercept=False, score=-3.517169 -   0.0s\n",
      "[CV] normalize=True, alpha=10.0, fit_intercept=False .................\n",
      "[CV]  normalize=True, alpha=10.0, fit_intercept=False, score=-4.103024 -   0.0s\n",
      "[CV] normalize=False, alpha=10.0, fit_intercept=False ................\n",
      "[CV]  normalize=False, alpha=10.0, fit_intercept=False, score=-3.805085 -   0.0s\n",
      "[CV] normalize=False, alpha=10.0, fit_intercept=False ................\n",
      "[CV]  normalize=False, alpha=10.0, fit_intercept=False, score=-3.517169 -   0.0s\n",
      "[CV] normalize=False, alpha=10.0, fit_intercept=False ................\n",
      "[CV]  normalize=False, alpha=10.0, fit_intercept=False, score=-4.103024 -   0.0s\n",
      "[CV] normalize=True, alpha=1.0, fit_intercept=True ...................\n",
      "[CV]  normalize=True, alpha=1.0, fit_intercept=True, score=0.396173 -   0.0s\n",
      "[CV] normalize=True, alpha=1.0, fit_intercept=True ...................\n",
      "[CV]  normalize=True, alpha=1.0, fit_intercept=True, score=0.449202 -   0.0s\n",
      "[CV] normalize=True, alpha=1.0, fit_intercept=True ...................\n",
      "[CV]  normalize=True, alpha=1.0, fit_intercept=True, score=0.473791 -   0.0s\n",
      "[CV] normalize=False, alpha=1.0, fit_intercept=True ..................\n",
      "[CV]  normalize=False, alpha=1.0, fit_intercept=True, score=0.370016 -   0.0s\n",
      "[CV] normalize=False, alpha=1.0, fit_intercept=True ..................\n",
      "[CV]  normalize=False, alpha=1.0, fit_intercept=True, score=0.418447 -   0.0s\n",
      "[CV] normalize=False, alpha=1.0, fit_intercept=True ..................\n",
      "[CV]  normalize=False, alpha=1.0, fit_intercept=True, score=0.439819 -   0.0s\n",
      "[CV] normalize=True, alpha=1.0, fit_intercept=False ..................\n",
      "[CV]  normalize=True, alpha=1.0, fit_intercept=False, score=-3.931707 -   0.0s\n",
      "[CV] normalize=True, alpha=1.0, fit_intercept=False ..................\n",
      "[CV]  normalize=True, alpha=1.0, fit_intercept=False, score=-3.254552 -   0.0s\n",
      "[CV] normalize=True, alpha=1.0, fit_intercept=False ..................\n",
      "[CV]  normalize=True, alpha=1.0, fit_intercept=False, score=-3.712782 -   0.0s\n",
      "[CV] normalize=False, alpha=1.0, fit_intercept=False .................\n",
      "[CV]  normalize=False, alpha=1.0, fit_intercept=False, score=-3.931707 -   0.0s\n",
      "[CV] normalize=False, alpha=1.0, fit_intercept=False .................\n",
      "[CV]  normalize=False, alpha=1.0, fit_intercept=False, score=-3.254552 -   0.0s\n",
      "[CV] normalize=False, alpha=1.0, fit_intercept=False .................\n",
      "[CV]  normalize=False, alpha=1.0, fit_intercept=False, score=-3.712782 -   0.0s\n",
      "[CV] normalize=True, alpha=0.1, fit_intercept=True ...................\n",
      "[CV]  normalize=True, alpha=0.1, fit_intercept=True, score=0.461941 -   0.0s\n",
      "[CV] normalize=True, alpha=0.1, fit_intercept=True ...................\n",
      "[CV]  normalize=True, alpha=0.1, fit_intercept=True, score=0.494604 -   0.0s\n",
      "[CV] normalize=True, alpha=0.1, fit_intercept=True ...................\n",
      "[CV]  normalize=True, alpha=0.1, fit_intercept=True, score=0.510381 -   0.0s\n",
      "[CV] normalize=False, alpha=0.1, fit_intercept=True ..................\n",
      "[CV]  normalize=False, alpha=0.1, fit_intercept=True, score=0.458568 -   0.0s\n",
      "[CV] normalize=False, alpha=0.1, fit_intercept=True ..................\n",
      "[CV]  normalize=False, alpha=0.1, fit_intercept=True, score=0.495162 -   0.0s\n",
      "[CV] normalize=False, alpha=0.1, fit_intercept=True ..................\n",
      "[CV]  normalize=False, alpha=0.1, fit_intercept=True, score=0.512092 -   0.0s\n",
      "[CV] normalize=True, alpha=0.1, fit_intercept=False ..................\n",
      "[CV]  normalize=True, alpha=0.1, fit_intercept=False, score=-4.066552 -   0.0s\n",
      "[CV] normalize=True, alpha=0.1, fit_intercept=False ..................\n",
      "[CV]  normalize=True, alpha=0.1, fit_intercept=False, score=-3.256657 -   0.0s\n",
      "[CV] normalize=True, alpha=0.1, fit_intercept=False ..................\n",
      "[CV]  normalize=True, alpha=0.1, fit_intercept=False, score=-3.560341 -   0.0s\n",
      "[CV] normalize=False, alpha=0.1, fit_intercept=False .................\n",
      "[CV]  normalize=False, alpha=0.1, fit_intercept=False, score=-4.066552 -   0.0s\n",
      "[CV] normalize=False, alpha=0.1, fit_intercept=False .................\n",
      "[CV]  normalize=False, alpha=0.1, fit_intercept=False, score=-3.256657 -   0.0s\n",
      "[CV] normalize=False, alpha=0.1, fit_intercept=False .................\n",
      "[CV]  normalize=False, alpha=0.1, fit_intercept=False, score=-3.560341 -   0.0s\n",
      "[CV] normalize=True, alpha=0.01, fit_intercept=True ..................\n",
      "[CV]  normalize=True, alpha=0.01, fit_intercept=True, score=0.469342 -   0.0s\n",
      "[CV] normalize=True, alpha=0.01, fit_intercept=True ..................\n",
      "[CV]  normalize=True, alpha=0.01, fit_intercept=True, score=0.490328 -   0.0s\n",
      "[CV] normalize=True, alpha=0.01, fit_intercept=True ..................\n",
      "[CV]  normalize=True, alpha=0.01, fit_intercept=True, score=0.506578 -   0.0s\n",
      "[CV] normalize=False, alpha=0.01, fit_intercept=True .................\n",
      "[CV]  normalize=False, alpha=0.01, fit_intercept=True, score=0.468916 -   0.0s\n",
      "[CV] normalize=False, alpha=0.01, fit_intercept=True .................\n",
      "[CV]  normalize=False, alpha=0.01, fit_intercept=True, score=0.490880 -   0.0s\n",
      "[CV] normalize=False, alpha=0.01, fit_intercept=True .................\n",
      "[CV]  normalize=False, alpha=0.01, fit_intercept=True, score=0.506295 -   0.0s\n",
      "[CV] normalize=True, alpha=0.01, fit_intercept=False .................\n",
      "[CV]  normalize=True, alpha=0.01, fit_intercept=False, score=-4.091184 -   0.0s\n",
      "[CV] normalize=True, alpha=0.01, fit_intercept=False .................\n",
      "[CV]  normalize=True, alpha=0.01, fit_intercept=False, score=-3.283853 -   0.0s\n",
      "[CV] normalize=True, alpha=0.01, fit_intercept=False .................\n",
      "[CV]  normalize=True, alpha=0.01, fit_intercept=False, score=-3.570489 -   0.0s\n",
      "[CV] normalize=False, alpha=0.01, fit_intercept=False ................\n",
      "[CV]  normalize=False, alpha=0.01, fit_intercept=False, score=-4.091184 -   0.0s\n",
      "[CV] normalize=False, alpha=0.01, fit_intercept=False ................\n",
      "[CV]  normalize=False, alpha=0.01, fit_intercept=False, score=-3.283853 -   0.0s\n",
      "[CV] normalize=False, alpha=0.01, fit_intercept=False ................\n",
      "[CV]  normalize=False, alpha=0.01, fit_intercept=False, score=-3.570489 -   0.0s\n",
      "[CV] normalize=True, alpha=0.001, fit_intercept=True .................\n",
      "[CV]  normalize=True, alpha=0.001, fit_intercept=True, score=0.469614 -   0.0s\n",
      "[CV] normalize=True, alpha=0.001, fit_intercept=True .................\n",
      "[CV]  normalize=True, alpha=0.001, fit_intercept=True, score=0.487952 -   0.0s\n",
      "[CV] normalize=True, alpha=0.001, fit_intercept=True .................\n",
      "[CV]  normalize=True, alpha=0.001, fit_intercept=True, score=0.508872 -   0.0s\n",
      "[CV] normalize=False, alpha=0.001, fit_intercept=True ................\n",
      "[CV]  normalize=False, alpha=0.001, fit_intercept=True, score=0.469702 -   0.0s\n",
      "[CV] normalize=False, alpha=0.001, fit_intercept=True ................\n",
      "[CV]  normalize=False, alpha=0.001, fit_intercept=True, score=0.488248 -   0.0s\n",
      "[CV] normalize=False, alpha=0.001, fit_intercept=True ................\n",
      "[CV]  normalize=False, alpha=0.001, fit_intercept=True, score=0.508551 -   0.0s\n",
      "[CV] normalize=True, alpha=0.001, fit_intercept=False ................\n",
      "[CV]  normalize=True, alpha=0.001, fit_intercept=False, score=-4.092060 -   0.0s\n",
      "[CV] normalize=True, alpha=0.001, fit_intercept=False ................\n"
     ]
    },
    {
     "name": "stderr",
     "output_type": "stream",
     "text": [
      "[Parallel(n_jobs=1)]: Done   1 tasks       | elapsed:    0.0s\n",
      "[Parallel(n_jobs=1)]: Done   4 tasks       | elapsed:    0.0s\n",
      "[Parallel(n_jobs=1)]: Done   7 tasks       | elapsed:    0.0s\n",
      "[Parallel(n_jobs=1)]: Done  12 tasks       | elapsed:    0.0s\n",
      "[Parallel(n_jobs=1)]: Done  17 tasks       | elapsed:    0.1s\n",
      "[Parallel(n_jobs=1)]: Done  24 tasks       | elapsed:    0.1s\n",
      "[Parallel(n_jobs=1)]: Done  31 tasks       | elapsed:    0.1s\n",
      "[Parallel(n_jobs=1)]: Done  40 tasks       | elapsed:    0.1s\n",
      "[Parallel(n_jobs=1)]: Done  49 tasks       | elapsed:    0.2s\n",
      "[Parallel(n_jobs=1)]: Done  60 tasks       | elapsed:    0.2s\n"
     ]
    },
    {
     "name": "stdout",
     "output_type": "stream",
     "text": [
      "[CV]  normalize=True, alpha=0.001, fit_intercept=False, score=-3.285892 -   0.0s\n",
      "[CV] normalize=True, alpha=0.001, fit_intercept=False ................\n",
      "[CV]  normalize=True, alpha=0.001, fit_intercept=False, score=-3.620773 -   0.0s\n",
      "[CV] normalize=False, alpha=0.001, fit_intercept=False ...............\n",
      "[CV]  normalize=False, alpha=0.001, fit_intercept=False, score=-4.092060 -   0.0s\n",
      "[CV] normalize=False, alpha=0.001, fit_intercept=False ...............\n",
      "[CV]  normalize=False, alpha=0.001, fit_intercept=False, score=-3.285892 -   0.0s\n",
      "[CV] normalize=False, alpha=0.001, fit_intercept=False ...............\n",
      "[CV]  normalize=False, alpha=0.001, fit_intercept=False, score=-3.620773 -   0.0s\n",
      "[CV] normalize=True, alpha=0.0001, fit_intercept=True ................\n",
      "[CV]  normalize=True, alpha=0.0001, fit_intercept=True, score=0.469346 -   0.0s\n",
      "[CV] normalize=True, alpha=0.0001, fit_intercept=True ................\n",
      "[CV]  normalize=True, alpha=0.0001, fit_intercept=True, score=0.487330 -   0.0s\n",
      "[CV] normalize=True, alpha=0.0001, fit_intercept=True ................\n",
      "[CV]  normalize=True, alpha=0.0001, fit_intercept=True, score=0.509476 -   0.0s\n",
      "[CV] normalize=False, alpha=0.0001, fit_intercept=True ...............\n",
      "[CV]  normalize=False, alpha=0.0001, fit_intercept=True, score=0.469364 -   0.0s\n",
      "[CV] normalize=False, alpha=0.0001, fit_intercept=True ...............\n",
      "[CV]  normalize=False, alpha=0.0001, fit_intercept=True, score=0.487372 -   0.0s\n",
      "[CV] normalize=False, alpha=0.0001, fit_intercept=True ...............\n",
      "[CV]  normalize=False, alpha=0.0001, fit_intercept=True, score=0.509434 -   0.0s\n",
      "[CV] normalize=True, alpha=0.0001, fit_intercept=False ...............\n",
      "[CV]  normalize=True, alpha=0.0001, fit_intercept=False, score=-4.091865 -   0.0s\n",
      "[CV] normalize=True, alpha=0.0001, fit_intercept=False ...............\n",
      "[CV]  normalize=True, alpha=0.0001, fit_intercept=False, score=-3.285887 -   0.0s\n",
      "[CV] normalize=True, alpha=0.0001, fit_intercept=False ...............\n",
      "[CV]  normalize=True, alpha=0.0001, fit_intercept=False, score=-3.640531 -   0.0s\n",
      "[CV] normalize=False, alpha=0.0001, fit_intercept=False ..............\n",
      "[CV]  normalize=False, alpha=0.0001, fit_intercept=False, score=-4.091865 -   0.0s\n",
      "[CV] normalize=False, alpha=0.0001, fit_intercept=False ..............\n",
      "[CV]  normalize=False, alpha=0.0001, fit_intercept=False, score=-3.285887 -   0.0s\n",
      "[CV] normalize=False, alpha=0.0001, fit_intercept=False ..............\n",
      "[CV]  normalize=False, alpha=0.0001, fit_intercept=False, score=-3.640531 -   0.0s\n",
      "[CV] normalize=True, alpha=0.0, fit_intercept=True ...................\n",
      "[CV]  normalize=True, alpha=0.0, fit_intercept=True, score=0.469306 -   0.0s\n",
      "[CV] normalize=True, alpha=0.0, fit_intercept=True ...................\n",
      "[CV]  normalize=True, alpha=0.0, fit_intercept=True, score=0.487250 -   0.0s\n",
      "[CV] normalize=True, alpha=0.0, fit_intercept=True ...................\n",
      "[CV]  normalize=True, alpha=0.0, fit_intercept=True, score=0.509553 -   0.0s\n",
      "[CV] normalize=False, alpha=0.0, fit_intercept=True ..................\n",
      "[CV]  normalize=False, alpha=0.0, fit_intercept=True, score=0.469306 -   0.0s\n",
      "[CV] normalize=False, alpha=0.0, fit_intercept=True ..................\n",
      "[CV]  normalize=False, alpha=0.0, fit_intercept=True, score=0.487250 -   0.0s\n",
      "[CV] normalize=False, alpha=0.0, fit_intercept=True ..................\n",
      "[CV]  normalize=False, alpha=0.0, fit_intercept=True, score=0.509553 -   0.0s\n",
      "[CV] normalize=True, alpha=0.0, fit_intercept=False ..................\n",
      "[CV]  normalize=True, alpha=0.0, fit_intercept=False, score=-4.091835 -   0.0s\n",
      "[CV] normalize=True, alpha=0.0, fit_intercept=False ..................\n",
      "[CV]  normalize=True, alpha=0.0, fit_intercept=False, score=-3.285882 -   0.0s\n",
      "[CV] normalize=True, alpha=0.0, fit_intercept=False ..................\n",
      "[CV]  normalize=True, alpha=0.0, fit_intercept=False, score=-3.643345 -   0.0s\n",
      "[CV] normalize=False, alpha=0.0, fit_intercept=False .................\n",
      "[CV]  normalize=False, alpha=0.0, fit_intercept=False, score=-4.091835 -   0.0s\n",
      "[CV] normalize=False, alpha=0.0, fit_intercept=False .................\n",
      "[CV]  normalize=False, alpha=0.0, fit_intercept=False, score=-3.285882 -   0.0s\n",
      "[CV] normalize=False, alpha=0.0, fit_intercept=False .................\n",
      "[CV]  normalize=False, alpha=0.0, fit_intercept=False, score=-3.643345 -   0.0s\n",
      "GridSearchCV(cv=None, error_score='raise',\n",
      "       estimator=Ridge(alpha=1.0, copy_X=True, fit_intercept=True, max_iter=None,\n",
      "   normalize=False, random_state=None, solver='auto', tol=0.001),\n",
      "       fit_params={}, iid=True, n_jobs=1,\n",
      "       param_grid={'normalize': [True, False], 'alpha': array([  1.00000e+02,   1.00000e+01,   1.00000e+00,   1.00000e-01,\n",
      "         1.00000e-02,   1.00000e-03,   1.00000e-04,   0.00000e+00]), 'fit_intercept': [True, False]},\n",
      "       pre_dispatch='2*n_jobs', refit=True, scoring=None, verbose=10)\n"
     ]
    },
    {
     "name": "stderr",
     "output_type": "stream",
     "text": [
      "[Parallel(n_jobs=1)]: Done  71 tasks       | elapsed:    0.2s\n",
      "[Parallel(n_jobs=1)]: Done  84 tasks       | elapsed:    0.3s\n",
      "[Parallel(n_jobs=1)]: Done  96 out of  96 | elapsed:    0.3s finished\n"
     ]
    }
   ],
   "source": [
    "grid.fit(dataset.data, dataset.target)\n",
    "print(grid)    ## tells what all of the parameters of the grid are"
   ]
  },
  {
   "cell_type": "code",
   "execution_count": 46,
   "metadata": {
    "collapsed": false
   },
   "outputs": [
    {
     "name": "stdout",
     "output_type": "stream",
     "text": [
      "0.488914116941\n"
     ]
    }
   ],
   "source": [
    "print(grid.best_score_) ## returns the score of the best model"
   ]
  },
  {
   "cell_type": "code",
   "execution_count": 47,
   "metadata": {
    "collapsed": false
   },
   "outputs": [
    {
     "name": "stdout",
     "output_type": "stream",
     "text": [
      "0.1\n"
     ]
    }
   ],
   "source": [
    "print(grid.best_estimator_.alpha)  ## returns the best alpha"
   ]
  },
  {
   "cell_type": "code",
   "execution_count": 48,
   "metadata": {
    "collapsed": false
   },
   "outputs": [
    {
     "data": {
      "text/plain": [
       "True"
      ]
     },
     "execution_count": 48,
     "metadata": {},
     "output_type": "execute_result"
    }
   ],
   "source": [
    "grid.best_estimator_.fit_intercept"
   ]
  },
  {
   "cell_type": "code",
   "execution_count": 49,
   "metadata": {
    "collapsed": false
   },
   "outputs": [
    {
     "data": {
      "text/plain": [
       "<bound method GridSearchCV.get_params of GridSearchCV(cv=None, error_score='raise',\n",
       "       estimator=Ridge(alpha=1.0, copy_X=True, fit_intercept=True, max_iter=None,\n",
       "   normalize=False, random_state=None, solver='auto', tol=0.001),\n",
       "       fit_params={}, iid=True, n_jobs=1,\n",
       "       param_grid={'normalize': [True, False], 'alpha': array([  1.00000e+02,   1.00000e+01,   1.00000e+00,   1.00000e-01,\n",
       "         1.00000e-02,   1.00000e-03,   1.00000e-04,   0.00000e+00]), 'fit_intercept': [True, False]},\n",
       "       pre_dispatch='2*n_jobs', refit=True, scoring=None, verbose=10)>"
      ]
     },
     "execution_count": 49,
     "metadata": {},
     "output_type": "execute_result"
    }
   ],
   "source": [
    "grid.get_params"
   ]
  },
  {
   "cell_type": "code",
   "execution_count": 50,
   "metadata": {
    "collapsed": true
   },
   "outputs": [],
   "source": [
    "best_model = grid.best_estimator_"
   ]
  },
  {
   "cell_type": "code",
   "execution_count": 51,
   "metadata": {
    "collapsed": false
   },
   "outputs": [
    {
     "data": {
      "text/plain": [
       "Ridge(alpha=0.10000000000000001, copy_X=True, fit_intercept=True,\n",
       "   max_iter=None, normalize=True, random_state=None, solver='auto',\n",
       "   tol=0.001)"
      ]
     },
     "execution_count": 51,
     "metadata": {},
     "output_type": "execute_result"
    }
   ],
   "source": [
    "best_model.fit(dataset.data, dataset.target)"
   ]
  },
  {
   "cell_type": "code",
   "execution_count": 52,
   "metadata": {
    "collapsed": false
   },
   "outputs": [
    {
     "data": {
      "text/plain": [
       "0.51256297679609986"
      ]
     },
     "execution_count": 52,
     "metadata": {},
     "output_type": "execute_result"
    }
   ],
   "source": [
    "best_model.score(dataset.data, dataset.target) ## fits best model to dataset"
   ]
  },
  {
   "cell_type": "code",
   "execution_count": 41,
   "metadata": {
    "collapsed": false
   },
   "outputs": [
    {
     "data": {
      "text/plain": [
       "array([ 205.80757936,   68.34874929,  176.57699985,  166.49798892,\n",
       "        128.40964698,  106.25462462,   74.50309843,  119.33026934,\n",
       "        158.9085443 ,  213.58399963,   97.54754149,   96.22454284,\n",
       "        115.01053514,  164.31651367,  102.90296779,  176.68742712,\n",
       "        211.37648874,  182.72995776,  147.79266309,  123.76461899,\n",
       "        120.08956875,   86.48753745,  113.73716038,  255.06633073,\n",
       "        165.23635806,  147.34683255,   97.04138567,  178.90987852,\n",
       "        128.86078344,  184.57407373,  158.77444088,   69.48060683,\n",
       "        260.69924608,  112.04487131,   78.67580976,   87.11642963,\n",
       "        207.71318951,  157.39968146,  241.01705926,  136.76582605,\n",
       "        153.46414027,   74.10155505,  145.34461129,   77.9830855 ,\n",
       "        220.5638027 ,  125.06029696,  142.24244785,  109.17211779,\n",
       "         73.72726192,  189.3090673 ,  157.87301908,  169.24945771,\n",
       "        134.09305973,  157.71893916,  139.35332196,   72.92995428,\n",
       "        207.41134515,   80.0683223 ,  103.00604013,  134.50634769,\n",
       "        114.31598141,  179.97082775,   61.91243923,   98.97973872,\n",
       "        113.66453007,  189.36793301,  148.47931557,  124.27748084,\n",
       "        114.55979224,  122.2280068 ,   74.22779034,  236.52938579,\n",
       "        142.99848236,  124.29542319,  150.79664619,  127.55545326,\n",
       "        191.12762708,   77.74088678,  166.30383024,   91.52874955,\n",
       "        174.45040753,  122.55164554,   63.7002028 ,  151.80047906,\n",
       "         54.22796374,  166.34982094,   43.84559209,  152.68793754,\n",
       "         80.51116468,  106.6140422 ,   80.52496293,  187.05929404,\n",
       "        192.01390135,   60.98058783,  107.26450254,  124.69512532,\n",
       "        207.56818103,  214.04500024,  123.41130977,  138.67439453,\n",
       "        168.04256332,  106.89488496,  150.52098088,  158.06040529,\n",
       "        153.24648961,  115.96314024,   73.35616149,  156.04330309,\n",
       "        229.71814152,  143.54675983,   39.86447234,  121.7651418 ,\n",
       "        152.77321372,  207.88248971,  292.08664414,  189.30453064,\n",
       "        213.62671359,  235.37221125,  165.16992047,  150.73599766,\n",
       "        156.55213082,  200.05757673,  219.15729956,  174.40707559,\n",
       "        168.95648479,  188.13602036,   58.54727038,  108.24177681,\n",
       "         92.68631098,  210.49390878,  245.14482508,   70.10796882,\n",
       "        113.17387188,   68.92374082,  141.57267134,  239.02960969,\n",
       "         58.77585229,  234.95868741,  254.5541036 ,  253.00058012,\n",
       "        155.76857173,  229.95023321,  170.53100807,  118.02707336,\n",
       "        178.24542388,  239.88715023,  190.12181297,  228.36791998,\n",
       "        114.45046252,  177.9140978 ,  208.99032937,  144.46052246,\n",
       "        200.0689707 ,  121.53565327,  150.4274824 ,  199.02623655,\n",
       "        146.11068976,  123.85564598,   85.33077792,  234.95774165,\n",
       "         82.3823313 ,  231.72792259,  144.26149537,  197.06330721,\n",
       "        146.30435505,   77.24469908,   60.00046946,  262.9354474 ,\n",
       "        225.10707709,  222.7909015 ,   47.68762211,   88.36291682,\n",
       "        222.02760483,   96.96065357,  164.11538375,  119.93691235,\n",
       "        157.68365675,  223.02729404,   99.85741463,  165.5861733 ,\n",
       "        179.04590681,   89.85720939,  171.59439925,  158.06777611,\n",
       "        201.18773064,  186.32722517,  196.98150896,   67.23658769,\n",
       "        154.45809989,  115.89849312,  195.36662029,  127.72379704,\n",
       "         91.47112834,  140.4485462 ,  154.86538108,  169.60274415,\n",
       "         98.74437861,  189.84794446,  143.32869414,  177.79951502,\n",
       "         95.44275478,   69.45369005,  164.96347384,  197.63340523,\n",
       "        177.89371017,  228.26291463,  160.39349305,  212.17683341,\n",
       "        222.24440906,  172.55723463,  125.49955527,  174.82534995,\n",
       "        152.23632934,   98.59521353,   99.35622069,  262.10102071,\n",
       "        223.03590979,  221.16658314,  133.1692512 ,  144.79890714,\n",
       "         54.32926133,  141.59049447,  153.49467326,  124.83287306,\n",
       "         77.31764629,  230.06295513,   78.95887277,  105.24119361,\n",
       "        117.84547716,   99.09990867,  166.85110508,  158.96617353,\n",
       "        158.01945747,  142.83743323,  231.51796783,  176.34962405,\n",
       "        186.97426527,   65.67113366,  189.95466624,  179.78881596,\n",
       "        234.51983545,  119.36533143,   86.30958206,  100.93539073,\n",
       "        140.49730226,  101.74581586,  120.51891641,   82.52457268,\n",
       "        234.54891001,  245.26182439,  263.50939907,  275.08957873,\n",
       "        180.47865553,  202.91572116,  255.96552825,  118.07433505,\n",
       "        267.92335921,  104.40914893,  115.96017828,  140.68854191,\n",
       "         58.92396827,  129.08951199,  263.38876051,   45.71631517,\n",
       "        123.95743606,  130.80892489,   35.5714526 ,  138.21083723,\n",
       "        243.88873763,   89.44157943,  191.6735278 ,  164.25100801,\n",
       "        147.52205533,  193.14848856,  176.0742166 ,  158.04769418,\n",
       "        189.35193253,  116.17048667,  111.30361801,  117.36243916,\n",
       "        165.41106861,   97.24551477,  139.57813879,   84.65859863,\n",
       "        159.62705147,  201.83779993,   79.62747943,  146.70086308,\n",
       "         79.85535299,  191.26666543,  220.49747223,  203.89004455,\n",
       "         93.04174285,  179.69338234,   82.77018814,  152.712654  ,\n",
       "         77.09084461,   98.41151899,  106.85048286,  123.71450434,\n",
       "        217.90538084,  125.92208015,  206.50016769,  230.82986931,\n",
       "        122.22518223,  135.06391791,  126.68695711,  148.26371309,\n",
       "         88.25218688,  138.9675933 ,  203.82078724,  172.42036356,\n",
       "        123.097536  ,  213.72145294,  174.62104194,  110.00337063,\n",
       "        198.4246994 ,  173.04658358,  162.37168332,  192.58899185,\n",
       "        191.2014839 ,  284.57618359,  281.32609345,  218.14614425,\n",
       "        209.87706848,  216.65476485,  156.62425206,  223.85472944,\n",
       "        188.6685193 ,  103.44810326,  178.51724457,  111.88872679,\n",
       "        290.82225531,  182.29622347,   79.7495048 ,   86.47411693,\n",
       "        249.21495466,  174.07753729,  122.17532374,  146.23564682,\n",
       "        170.7642238 ,  183.60993953,  163.59442448,  157.52468437,\n",
       "        144.15303227,  125.16941712,  177.84301342,  104.19220224,\n",
       "        131.62886496,   95.33405948,  250.04927496,   86.48720312,\n",
       "         61.2538616 ,  159.4458759 ,  192.92900974,  133.76340829,\n",
       "         93.61653322,  202.20117782,   53.27754068,  174.42891388,\n",
       "        196.48356127,  118.75702455,  234.99368002,  164.5920547 ,\n",
       "        160.0368615 ,  162.12819132,  254.13369668,  257.03077815,\n",
       "        197.90833986,  183.8681642 ,   58.84485897,  196.22251988,\n",
       "        110.47882866,  142.23582659,  128.2330276 ,  179.78995197,\n",
       "        211.2158399 ,  169.17782707,  163.99855442,  136.15794522,\n",
       "        174.77839257,   74.41422614,  247.46675411,  114.10096323,\n",
       "        111.60348488,  139.83692794,  109.86922196,   92.65662983,\n",
       "        162.73332252,   75.27662433,  255.22083286,   54.26476415,\n",
       "         98.79863971,  100.77313389,  260.79479281,  170.05600633,\n",
       "         62.88901188,  181.91064921,  171.23673873,  189.12133504,\n",
       "        186.84321947,   87.17754751,  147.8782517 ,  251.35267021,\n",
       "        199.67192762,  283.07618285,   50.98324173,  172.62089309,\n",
       "        203.9120768 ,  173.80295807,  158.07488612,  150.87534211,\n",
       "        232.68369977,  121.7092275 ,  164.5935416 ,  172.15632012,\n",
       "        226.84245131,  149.82221164,   99.22645069,   80.94749676,\n",
       "        140.25111665,  191.62147858,  199.30650542,  153.07751194,\n",
       "        171.37715429,  111.69352353,  162.41058805,  130.00820256,\n",
       "        258.17671611,  100.76901295,  115.68213239,  122.21242217,\n",
       "        218.19134193,   60.96422929,  131.50555852,  119.62180178,\n",
       "         52.81832945,  192.8509828 ,  101.29421432,  121.57412393,\n",
       "        211.55292417,   52.70999021])"
      ]
     },
     "execution_count": 41,
     "metadata": {},
     "output_type": "execute_result"
    }
   ],
   "source": [
    "best_model.predict(dataset.data)  ## these are the predictions for the best model"
   ]
  },
  {
   "cell_type": "code",
   "execution_count": null,
   "metadata": {
    "collapsed": true
   },
   "outputs": [],
   "source": []
  }
 ],
 "metadata": {
  "anaconda-cloud": {},
  "kernelspec": {
   "display_name": "Python [Root]",
   "language": "python",
   "name": "Python [Root]"
  },
  "language_info": {
   "codemirror_mode": {
    "name": "ipython",
    "version": 2
   },
   "file_extension": ".py",
   "mimetype": "text/x-python",
   "name": "python",
   "nbconvert_exporter": "python",
   "pygments_lexer": "ipython2",
   "version": "2.7.12"
  }
 },
 "nbformat": 4,
 "nbformat_minor": 0
}
