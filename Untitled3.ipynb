{
 "cells": [
  {
   "cell_type": "code",
   "execution_count": 2,
   "metadata": {
    "collapsed": false
   },
   "outputs": [
    {
     "name": "stdout",
     "output_type": "stream",
     "text": [
      "Collecting ipython-sql\n",
      "  Downloading ipython-sql-0.3.8.tar.gz\n",
      "Collecting psycopg2\n",
      "  Downloading psycopg2-2.6.2.tar.gz (376kB)\n",
      "\u001b[K    100% |████████████████████████████████| 378kB 1.3MB/s \n",
      "\u001b[?25hCollecting prettytable (from ipython-sql)\n",
      "  Downloading prettytable-0.7.2.zip\n",
      "Requirement already satisfied (use --upgrade to upgrade): ipython>=1.0 in /Users/christophereppig/anaconda/lib/python2.7/site-packages (from ipython-sql)\n",
      "Requirement already satisfied (use --upgrade to upgrade): sqlalchemy>=0.6.7 in /Users/christophereppig/anaconda/lib/python2.7/site-packages (from ipython-sql)\n",
      "Collecting sqlparse (from ipython-sql)\n",
      "  Downloading sqlparse-0.2.2-py2.py3-none-any.whl\n",
      "Requirement already satisfied (use --upgrade to upgrade): six in /Users/christophereppig/anaconda/lib/python2.7/site-packages (from ipython-sql)\n",
      "Requirement already satisfied (use --upgrade to upgrade): ipython-genutils>=0.1.0 in /Users/christophereppig/anaconda/lib/python2.7/site-packages (from ipython-sql)\n",
      "Building wheels for collected packages: ipython-sql, psycopg2, prettytable\n",
      "  Running setup.py bdist_wheel for ipython-sql ... \u001b[?25l-\b \b\\\b \b|\b \bdone\n",
      "\u001b[?25h  Stored in directory: /Users/christophereppig/Library/Caches/pip/wheels/98/e3/5f/78dcb15c0532616bb007d42a6086d9b499c3b4728b29596936\n",
      "  Running setup.py bdist_wheel for psycopg2 ... \u001b[?25l-\b \b\\\b \b|\b \b/\b \b-\b \b\\\b \b|\b \b/\b \b-\b \b\\\b \b|\b \b/\b \b-\b \b\\\b \b|\b \b/\b \b-\b \b\\\b \b|\b \b/\b \b-\b \b\\\b \b|\b \b/\b \bdone\n",
      "\u001b[?25h  Stored in directory: /Users/christophereppig/Library/Caches/pip/wheels/49/47/2a/5c3f874990ce267228c2dfe7a0589f3b0651aa590e329ad382\n",
      "  Running setup.py bdist_wheel for prettytable ... \u001b[?25l-\b \bdone\n",
      "\u001b[?25h  Stored in directory: /Users/christophereppig/Library/Caches/pip/wheels/b6/90/7b/1c22b89217d0eba6d5f406e562365ebee804f0d4595b2bdbcd\n",
      "Successfully built ipython-sql psycopg2 prettytable\n",
      "Installing collected packages: prettytable, sqlparse, ipython-sql, psycopg2\n",
      "Successfully installed ipython-sql-0.3.8 prettytable-0.7.2 psycopg2-2.6.2 sqlparse-0.2.2\n"
     ]
    }
   ],
   "source": [
    "!pip install ipython-sql psycopg2\n"
   ]
  },
  {
   "cell_type": "code",
   "execution_count": null,
   "metadata": {
    "collapsed": true
   },
   "outputs": [],
   "source": []
  }
 ],
 "metadata": {
  "anaconda-cloud": {},
  "kernelspec": {
   "display_name": "Python [Root]",
   "language": "python",
   "name": "Python [Root]"
  },
  "language_info": {
   "codemirror_mode": {
    "name": "ipython",
    "version": 2
   },
   "file_extension": ".py",
   "mimetype": "text/x-python",
   "name": "python",
   "nbconvert_exporter": "python",
   "pygments_lexer": "ipython2",
   "version": "2.7.12"
  }
 },
 "nbformat": 4,
 "nbformat_minor": 0
}
