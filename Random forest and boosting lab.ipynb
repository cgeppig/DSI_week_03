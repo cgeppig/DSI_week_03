{
 "cells": [
  {
   "cell_type": "code",
   "execution_count": 43,
   "metadata": {
    "collapsed": false
   },
   "outputs": [],
   "source": [
    "import pandas as pd\n",
    "from sklearn.tree import DecisionTreeRegressor\n",
    "from sklearn.cross_validation import StratifiedKFold\n",
    "from sklearn.cross_validation import KFold\n",
    "import numpy as np\n",
    "import matplotlib.pyplot as plt\n",
    "%matplotlib inline"
   ]
  },
  {
   "cell_type": "code",
   "execution_count": 3,
   "metadata": {
    "collapsed": false
   },
   "outputs": [],
   "source": [
    "imdb = pd.read_csv('../Datasets/imdb_p6_sample.csv')"
   ]
  },
  {
   "cell_type": "code",
   "execution_count": 4,
   "metadata": {
    "collapsed": false
   },
   "outputs": [
    {
     "data": {
      "text/html": [
       "<div>\n",
       "<table border=\"1\" class=\"dataframe\">\n",
       "  <thead>\n",
       "    <tr style=\"text-align: right;\">\n",
       "      <th></th>\n",
       "      <th>HA</th>\n",
       "      <th>rating</th>\n",
       "      <th>tconst</th>\n",
       "      <th>title</th>\n",
       "      <th>year</th>\n",
       "      <th>excellent</th>\n",
       "      <th>great</th>\n",
       "      <th>love</th>\n",
       "      <th>beautiful</th>\n",
       "      <th>best</th>\n",
       "      <th>hope</th>\n",
       "      <th>groundbreaking</th>\n",
       "      <th>amazing</th>\n",
       "    </tr>\n",
       "  </thead>\n",
       "  <tbody>\n",
       "    <tr>\n",
       "      <th>0</th>\n",
       "      <td>1633889</td>\n",
       "      <td>9.3</td>\n",
       "      <td>tt0111161</td>\n",
       "      <td>The Shawshank Redemption</td>\n",
       "      <td>1994</td>\n",
       "      <td>0</td>\n",
       "      <td>1</td>\n",
       "      <td>0</td>\n",
       "      <td>1</td>\n",
       "      <td>0</td>\n",
       "      <td>0</td>\n",
       "      <td>0</td>\n",
       "      <td>1</td>\n",
       "    </tr>\n",
       "    <tr>\n",
       "      <th>1</th>\n",
       "      <td>1118799</td>\n",
       "      <td>9.2</td>\n",
       "      <td>tt0068646</td>\n",
       "      <td>The Godfather</td>\n",
       "      <td>1972</td>\n",
       "      <td>1</td>\n",
       "      <td>1</td>\n",
       "      <td>0</td>\n",
       "      <td>0</td>\n",
       "      <td>1</td>\n",
       "      <td>0</td>\n",
       "      <td>1</td>\n",
       "      <td>0</td>\n",
       "    </tr>\n",
       "    <tr>\n",
       "      <th>2</th>\n",
       "      <td>762879</td>\n",
       "      <td>9.0</td>\n",
       "      <td>tt0071562</td>\n",
       "      <td>The Godfather: Part II</td>\n",
       "      <td>1974</td>\n",
       "      <td>1</td>\n",
       "      <td>1</td>\n",
       "      <td>0</td>\n",
       "      <td>0</td>\n",
       "      <td>1</td>\n",
       "      <td>0</td>\n",
       "      <td>0</td>\n",
       "      <td>1</td>\n",
       "    </tr>\n",
       "    <tr>\n",
       "      <th>3</th>\n",
       "      <td>1616346</td>\n",
       "      <td>9.0</td>\n",
       "      <td>tt0468569</td>\n",
       "      <td>The Dark Knight</td>\n",
       "      <td>2008</td>\n",
       "      <td>1</td>\n",
       "      <td>1</td>\n",
       "      <td>1</td>\n",
       "      <td>0</td>\n",
       "      <td>1</td>\n",
       "      <td>0</td>\n",
       "      <td>1</td>\n",
       "      <td>1</td>\n",
       "    </tr>\n",
       "    <tr>\n",
       "      <th>4</th>\n",
       "      <td>835155</td>\n",
       "      <td>8.9</td>\n",
       "      <td>tt0108052</td>\n",
       "      <td>Schindler's List</td>\n",
       "      <td>1993</td>\n",
       "      <td>1</td>\n",
       "      <td>1</td>\n",
       "      <td>1</td>\n",
       "      <td>1</td>\n",
       "      <td>1</td>\n",
       "      <td>1</td>\n",
       "      <td>1</td>\n",
       "      <td>1</td>\n",
       "    </tr>\n",
       "  </tbody>\n",
       "</table>\n",
       "</div>"
      ],
      "text/plain": [
       "        HA  rating     tconst                     title  year  excellent  \\\n",
       "0  1633889     9.3  tt0111161  The Shawshank Redemption  1994          0   \n",
       "1  1118799     9.2  tt0068646             The Godfather  1972          1   \n",
       "2   762879     9.0  tt0071562    The Godfather: Part II  1974          1   \n",
       "3  1616346     9.0  tt0468569           The Dark Knight  2008          1   \n",
       "4   835155     8.9  tt0108052          Schindler's List  1993          1   \n",
       "\n",
       "   great  love  beautiful  best  hope  groundbreaking  amazing  \n",
       "0      1     0          1     0     0               0        1  \n",
       "1      1     0          0     1     0               1        0  \n",
       "2      1     0          0     1     0               0        1  \n",
       "3      1     1          0     1     0               1        1  \n",
       "4      1     1          1     1     1               1        1  "
      ]
     },
     "execution_count": 4,
     "metadata": {},
     "output_type": "execute_result"
    }
   ],
   "source": [
    "imdb.head()"
   ]
  },
  {
   "cell_type": "markdown",
   "metadata": {},
   "source": [
    "## Decision tree regressor"
   ]
  },
  {
   "cell_type": "code",
   "execution_count": 21,
   "metadata": {
    "collapsed": false
   },
   "outputs": [],
   "source": [
    "y = imdb['rating']\n",
    "x = imdb.drop(['HA', 'rating', 'tconst', 'title'], axis=1)"
   ]
  },
  {
   "cell_type": "code",
   "execution_count": 8,
   "metadata": {
    "collapsed": false
   },
   "outputs": [
    {
     "data": {
      "text/plain": [
       "1994    3\n",
       "1999    2\n",
       "1995    2\n",
       "2002    2\n",
       "1946    1\n",
       "1957    1\n",
       "1990    1\n",
       "1991    1\n",
       "1993    1\n",
       "1997    1\n",
       "1966    1\n",
       "2001    1\n",
       "1980    1\n",
       "2003    1\n",
       "1972    1\n",
       "1974    1\n",
       "1975    1\n",
       "2008    1\n",
       "1977    1\n",
       "2010    1\n",
       "1954    1\n",
       "Name: year, dtype: int64"
      ]
     },
     "execution_count": 8,
     "metadata": {},
     "output_type": "execute_result"
    }
   ],
   "source": [
    "imdb['year'].value_counts()"
   ]
  },
  {
   "cell_type": "code",
   "execution_count": 9,
   "metadata": {
    "collapsed": false
   },
   "outputs": [
    {
     "data": {
      "text/plain": [
       "count      26.000000\n",
       "mean     1987.230769\n",
       "std        17.196064\n",
       "min      1946.000000\n",
       "25%      1975.500000\n",
       "50%      1994.000000\n",
       "75%      1999.000000\n",
       "max      2010.000000\n",
       "Name: year, dtype: float64"
      ]
     },
     "execution_count": 9,
     "metadata": {},
     "output_type": "execute_result"
    }
   ],
   "source": [
    "imdb['year'].describe()"
   ]
  },
  {
   "cell_type": "code",
   "execution_count": 12,
   "metadata": {
    "collapsed": true
   },
   "outputs": [],
   "source": [
    "cv = KFold(len(imdb), n_folds=3, shuffle=True, random_state=42)   ## setting up a cross-validation scheme"
   ]
  },
  {
   "cell_type": "code",
   "execution_count": 15,
   "metadata": {
    "collapsed": false
   },
   "outputs": [
    {
     "name": "stdout",
     "output_type": "stream",
     "text": [
      "0 (array([ 2,  3,  4,  5,  6,  7, 10, 12, 14, 15, 17, 18, 19, 20, 21, 22, 25]), array([ 0,  1,  8,  9, 11, 13, 16, 23, 24]))\n",
      "2 is not in the test set for this fold!\n",
      "3 is not in the test set for this fold!\n",
      "4 is not in the test set for this fold!\n",
      "5 is not in the test set for this fold!\n",
      "6 is not in the test set for this fold!\n",
      "7 is not in the test set for this fold!\n",
      "10 is not in the test set for this fold!\n",
      "12 is not in the test set for this fold!\n",
      "14 is not in the test set for this fold!\n",
      "15 is not in the test set for this fold!\n",
      "17 is not in the test set for this fold!\n",
      "18 is not in the test set for this fold!\n",
      "19 is not in the test set for this fold!\n",
      "20 is not in the test set for this fold!\n",
      "21 is not in the test set for this fold!\n",
      "22 is not in the test set for this fold!\n",
      "25 is not in the test set for this fold!\n",
      "1 (array([ 0,  1,  6,  7,  8,  9, 10, 11, 13, 14, 16, 18, 19, 20, 23, 24, 25]), array([ 2,  3,  4,  5, 12, 15, 17, 21, 22]))\n",
      "0 is not in the test set for this fold!\n",
      "1 is not in the test set for this fold!\n",
      "6 is not in the test set for this fold!\n",
      "7 is not in the test set for this fold!\n",
      "8 is not in the test set for this fold!\n",
      "9 is not in the test set for this fold!\n",
      "10 is not in the test set for this fold!\n",
      "11 is not in the test set for this fold!\n",
      "13 is not in the test set for this fold!\n",
      "14 is not in the test set for this fold!\n",
      "16 is not in the test set for this fold!\n",
      "18 is not in the test set for this fold!\n",
      "19 is not in the test set for this fold!\n",
      "20 is not in the test set for this fold!\n",
      "23 is not in the test set for this fold!\n",
      "24 is not in the test set for this fold!\n",
      "25 is not in the test set for this fold!\n",
      "2 (array([ 0,  1,  2,  3,  4,  5,  8,  9, 11, 12, 13, 15, 16, 17, 21, 22, 23,\n",
      "       24]), array([ 6,  7, 10, 14, 18, 19, 20, 25]))\n",
      "0 is not in the test set for this fold!\n",
      "1 is not in the test set for this fold!\n",
      "2 is not in the test set for this fold!\n",
      "3 is not in the test set for this fold!\n",
      "4 is not in the test set for this fold!\n",
      "5 is not in the test set for this fold!\n",
      "8 is not in the test set for this fold!\n",
      "9 is not in the test set for this fold!\n",
      "11 is not in the test set for this fold!\n",
      "12 is not in the test set for this fold!\n",
      "13 is not in the test set for this fold!\n",
      "15 is not in the test set for this fold!\n",
      "16 is not in the test set for this fold!\n",
      "17 is not in the test set for this fold!\n",
      "21 is not in the test set for this fold!\n",
      "22 is not in the test set for this fold!\n",
      "23 is not in the test set for this fold!\n",
      "24 is not in the test set for this fold!\n"
     ]
    }
   ],
   "source": [
    "i = 0\n",
    "\n",
    "for item in cv:\n",
    "    print i, item\n",
    "    for x in item[0]:\n",
    "        if x in item[1]:\n",
    "            print \"We found a match1\"\n",
    "        else:\n",
    "            print x, \"is not in the test set for this fold!\"\n",
    "    i += 1"
   ]
  },
  {
   "cell_type": "code",
   "execution_count": 22,
   "metadata": {
    "collapsed": false,
    "scrolled": true
   },
   "outputs": [
    {
     "name": "stdout",
     "output_type": "stream",
     "text": [
      "<bound method DataFrame.as_matrix of     year  excellent  great  love  beautiful  best  hope  groundbreaking  \\\n",
      "0   1994          0      1     0          1     0     0               0   \n",
      "1   1972          1      1     0          0     1     0               1   \n",
      "2   1974          1      1     0          0     1     0               0   \n",
      "3   2008          1      1     1          0     1     0               1   \n",
      "4   1993          1      1     1          1     1     1               1   \n",
      "5   1957          1      0     0          0     0     0               0   \n",
      "6   1994          0      0     0          0     0     0               1   \n",
      "7   2003          1      0     0          1     0     0               0   \n",
      "8   1966          0      0     0          0     0     1               1   \n",
      "9   1999          0      1     0          0     0     1               0   \n",
      "10  2001          1      1     1          1     0     0               0   \n",
      "11  1980          0      0     1          0     0     0               1   \n",
      "12  1994          0      0     0          0     0     1               0   \n",
      "13  2010          1      0     0          0     0     0               0   \n",
      "14  2002          1      1     0          0     1     1               0   \n",
      "15  1975          0      0     1          1     0     0               0   \n",
      "16  1990          0      0     0          0     1     0               0   \n",
      "17  1999          0      0     1          0     0     0               0   \n",
      "18  1954          0      1     0          1     0     0               1   \n",
      "19  1977          1      0     1          0     0     1               0   \n",
      "20  2002          1      0     1          0     0     0               0   \n",
      "21  1995          1      1     0          0     0     1               0   \n",
      "22  1991          0      0     0          0     0     0               0   \n",
      "23  1946          1      0     0          1     0     1               0   \n",
      "24  1995          1      0     1          1     1     1               0   \n",
      "25  1997          1      0     1          0     0     0               0   \n",
      "\n",
      "    amazing  \n",
      "0         1  \n",
      "1         0  \n",
      "2         1  \n",
      "3         1  \n",
      "4         1  \n",
      "5         0  \n",
      "6         0  \n",
      "7         1  \n",
      "8         0  \n",
      "9         0  \n",
      "10        0  \n",
      "11        0  \n",
      "12        0  \n",
      "13        0  \n",
      "14        0  \n",
      "15        0  \n",
      "16        0  \n",
      "17        1  \n",
      "18        0  \n",
      "19        0  \n",
      "20        0  \n",
      "21        1  \n",
      "22        1  \n",
      "23        0  \n",
      "24        0  \n",
      "25        0  >\n"
     ]
    }
   ],
   "source": [
    "print x.as_matrix"
   ]
  },
  {
   "cell_type": "code",
   "execution_count": 47,
   "metadata": {
    "collapsed": true
   },
   "outputs": [],
   "source": [
    "def fit_and_evaluate_model(x_train, x_test, y_train, y_test):\n",
    "    decision_tree_regressor = DecisionTreeRegressor()\n",
    "    decision_tree_regressor.fit(x_train, y_train)\n",
    "    predictions = decision_tree_regressor.predict(x_test)\n",
    "    plt.scatter(y_test, predictions)\n",
    "    plt.plot([8,9,10], [8,9,10])\n",
    "    plt.xlim((8,10))\n",
    "    plt.ylim((8,10))\n",
    "    plt.xlabel(\"Actual Y Values\")\n",
    "    plt.ylabel(\"Predicted Y Values\")\n",
    "    plt.show()\n",
    "    return decision_tree_regressor.score(x_test, y_test)\n",
    "    "
   ]
  },
  {
   "cell_type": "code",
   "execution_count": 25,
   "metadata": {
    "collapsed": false
   },
   "outputs": [
    {
     "name": "stdout",
     "output_type": "stream",
     "text": [
      "[ 9.   9.   8.9  8.9  8.9  8.9  8.8  8.8  8.7  8.7  8.7  8.7  8.7  8.7  8.6\n",
      "  8.6  8.6]\n",
      "[ 9.3  9.2  8.9  8.9  8.8  8.8  8.7  8.6  8.6]\n",
      "\n",
      "\n",
      "[ 9.3  9.2  8.9  8.9  8.9  8.9  8.8  8.8  8.8  8.7  8.7  8.7  8.7  8.7  8.6\n",
      "  8.6  8.6]\n",
      "[ 9.   9.   8.9  8.9  8.8  8.7  8.7  8.6  8.6]\n",
      "\n",
      "\n",
      "[ 9.3  9.2  9.   9.   8.9  8.9  8.9  8.9  8.8  8.8  8.8  8.7  8.7  8.7  8.6\n",
      "  8.6  8.6  8.6]\n",
      "[ 8.9  8.9  8.8  8.7  8.7  8.7  8.7  8.6]\n",
      "\n",
      "\n"
     ]
    }
   ],
   "source": [
    "for training_set, test_set in cv:\n",
    "    print y.as_matrix()[training_set]\n",
    "    print y.as_matrix()[test_set]\n",
    "    print '\\n'"
   ]
  },
  {
   "cell_type": "code",
   "execution_count": 28,
   "metadata": {
    "collapsed": false
   },
   "outputs": [
    {
     "name": "stdout",
     "output_type": "stream",
     "text": [
      "These are the indexes that CV has chosen will be the training set: \n",
      "\n",
      "[ 2  3  4  5  6  7 10 12 14 15 17 18 19 20 21 22 25]\n",
      "These are the indexes that CV has chosen will be the test set: \n",
      "\n",
      "[ 0  1  8  9 11 13 16 23 24]\n",
      "Here is one fold of data: \n",
      "[[1974    1    1    0    0    1    0    0    1]\n",
      " [2008    1    1    1    0    1    0    1    1]\n",
      " [1993    1    1    1    1    1    1    1    1]\n",
      " [1957    1    0    0    0    0    0    0    0]\n",
      " [1994    0    0    0    0    0    0    1    0]\n",
      " [2003    1    0    0    1    0    0    0    1]\n",
      " [2001    1    1    1    1    0    0    0    0]\n",
      " [1994    0    0    0    0    0    1    0    0]\n",
      " [2002    1    1    0    0    1    1    0    0]\n",
      " [1975    0    0    1    1    0    0    0    0]\n",
      " [1999    0    0    1    0    0    0    0    1]\n",
      " [1954    0    1    0    1    0    0    1    0]\n",
      " [1977    1    0    1    0    0    1    0    0]\n",
      " [2002    1    0    1    0    0    0    0    0]\n",
      " [1995    1    1    0    0    0    1    0    1]\n",
      " [1991    0    0    0    0    0    0    0    1]\n",
      " [1997    1    0    1    0    0    0    0    0]] [ 9.3  9.2  8.9  8.9  8.8  8.8  8.7  8.6  8.6] [ 9.   9.   8.9  8.9  8.9  8.9  8.8  8.8  8.7  8.7  8.7  8.7  8.7  8.7  8.6\n",
      "  8.6  8.6] [ 9.3  9.2  8.9  8.9  8.8  8.8  8.7  8.6  8.6]\n",
      "\n",
      "\n",
      "These are the indexes that CV has chosen will be the training set: \n",
      "\n",
      "[ 0  1  6  7  8  9 10 11 13 14 16 18 19 20 23 24 25]\n",
      "These are the indexes that CV has chosen will be the test set: \n",
      "\n",
      "[ 2  3  4  5 12 15 17 21 22]\n",
      "Here is one fold of data: \n",
      "[[1994    0    1    0    1    0    0    0    1]\n",
      " [1972    1    1    0    0    1    0    1    0]\n",
      " [1994    0    0    0    0    0    0    1    0]\n",
      " [2003    1    0    0    1    0    0    0    1]\n",
      " [1966    0    0    0    0    0    1    1    0]\n",
      " [1999    0    1    0    0    0    1    0    0]\n",
      " [2001    1    1    1    1    0    0    0    0]\n",
      " [1980    0    0    1    0    0    0    1    0]\n",
      " [2010    1    0    0    0    0    0    0    0]\n",
      " [2002    1    1    0    0    1    1    0    0]\n",
      " [1990    0    0    0    0    1    0    0    0]\n",
      " [1954    0    1    0    1    0    0    1    0]\n",
      " [1977    1    0    1    0    0    1    0    0]\n",
      " [2002    1    0    1    0    0    0    0    0]\n",
      " [1946    1    0    0    1    0    1    0    0]\n",
      " [1995    1    0    1    1    1    1    0    0]\n",
      " [1997    1    0    1    0    0    0    0    0]] [ 9.   9.   8.9  8.9  8.8  8.7  8.7  8.6  8.6] [ 9.3  9.2  8.9  8.9  8.9  8.9  8.8  8.8  8.8  8.7  8.7  8.7  8.7  8.7  8.6\n",
      "  8.6  8.6] [ 9.   9.   8.9  8.9  8.8  8.7  8.7  8.6  8.6]\n",
      "\n",
      "\n",
      "These are the indexes that CV has chosen will be the training set: \n",
      "\n",
      "[ 0  1  2  3  4  5  8  9 11 12 13 15 16 17 21 22 23 24]\n",
      "These are the indexes that CV has chosen will be the test set: \n",
      "\n",
      "[ 6  7 10 14 18 19 20 25]\n",
      "Here is one fold of data: \n",
      "[[1994    0    1    0    1    0    0    0    1]\n",
      " [1972    1    1    0    0    1    0    1    0]\n",
      " [1974    1    1    0    0    1    0    0    1]\n",
      " [2008    1    1    1    0    1    0    1    1]\n",
      " [1993    1    1    1    1    1    1    1    1]\n",
      " [1957    1    0    0    0    0    0    0    0]\n",
      " [1966    0    0    0    0    0    1    1    0]\n",
      " [1999    0    1    0    0    0    1    0    0]\n",
      " [1980    0    0    1    0    0    0    1    0]\n",
      " [1994    0    0    0    0    0    1    0    0]\n",
      " [2010    1    0    0    0    0    0    0    0]\n",
      " [1975    0    0    1    1    0    0    0    0]\n",
      " [1990    0    0    0    0    1    0    0    0]\n",
      " [1999    0    0    1    0    0    0    0    1]\n",
      " [1995    1    1    0    0    0    1    0    1]\n",
      " [1991    0    0    0    0    0    0    0    1]\n",
      " [1946    1    0    0    1    0    1    0    0]\n",
      " [1995    1    0    1    1    1    1    0    0]] [ 8.9  8.9  8.8  8.7  8.7  8.7  8.7  8.6] [ 9.3  9.2  9.   9.   8.9  8.9  8.9  8.9  8.8  8.8  8.8  8.7  8.7  8.7  8.6\n",
      "  8.6  8.6  8.6] [ 8.9  8.9  8.8  8.7  8.7  8.7  8.7  8.6]\n",
      "\n",
      "\n"
     ]
    }
   ],
   "source": [
    "for training_set, test_set in cv:\n",
    "    print \"These are the indexes that CV has chosen will be the training set: \\n\"\n",
    "    print training_set\n",
    "    print \"These are the indexes that CV has chosen will be the test set: \\n\"\n",
    "    print test_set\n",
    "    x_train = x.as_matrix()[training_set]\n",
    "    x_test = y.as_matrix()[test_set]\n",
    "    y_train = y.as_matrix()[training_set]\n",
    "    y_test = y.as_matrix()[test_set]\n",
    "    print \"Here is one fold of data: \"\n",
    "    print x_train, x_test, y_train, y_test\n",
    "    print '\\n'"
   ]
  },
  {
   "cell_type": "code",
   "execution_count": 48,
   "metadata": {
    "collapsed": false
   },
   "outputs": [
    {
     "data": {
      "image/png": "[encoded data removed]",
      "text/plain": [
       "<matplotlib.figure.Figure at 0x11a159410>"
      ]
     },
     "metadata": {},
     "output_type": "display_data"
    },
    {
     "name": "stdout",
     "output_type": "stream",
     "text": [
      "For fold 0 fold of data, the score is: -0.791666666667 \n"
     ]
    },
    {
     "data": {
      "image/png": "[encoded data removed]",
      "text/plain": [
       "<matplotlib.figure.Figure at 0x11a227a50>"
      ]
     },
     "metadata": {},
     "output_type": "display_data"
    },
    {
     "name": "stdout",
     "output_type": "stream",
     "text": [
      "For fold 1 fold of data, the score is: -5.85 \n"
     ]
    },
    {
     "data": {
      "image/png": "[encoded data removed]",
      "text/plain": [
       "<matplotlib.figure.Figure at 0x11a1803d0>"
      ]
     },
     "metadata": {},
     "output_type": "display_data"
    },
    {
     "name": "stdout",
     "output_type": "stream",
     "text": [
      "For fold 2 fold of data, the score is: -5.875 \n",
      "Average model score:  -4.17222222222\n"
     ]
    }
   ],
   "source": [
    "counter = 0\n",
    "scores = []\n",
    "\n",
    "for training_set, test_set in cv:\n",
    "    x_train = x.as_matrix()[training_set]\n",
    "    x_test = x.as_matrix()[test_set]\n",
    "    y_train = y.as_matrix()[training_set]\n",
    "    y_test = y.as_matrix()[test_set]\n",
    "    model_score = fit_and_evaluate_model(x_train, x_test, y_train, y_test)\n",
    "    print \"For fold %s fold of data, the score is: %s \" % (counter, model_score)\n",
    "    scores.append(model_score)\n",
    "    counter += 1\n",
    "\n",
    "print \"Average model score: \", np.mean(scores)"
   ]
  },
  {
   "cell_type": "code",
   "execution_count": 58,
   "metadata": {
    "collapsed": true
   },
   "outputs": [],
   "source": [
    "def fit_and_evaluate_any_model(x_train, x_test, \n",
    "                           y_train, y_test,\n",
    "                          model):\n",
    "    model.fit(x_train, y_train)\n",
    "    predictions = model.predict(x_test)\n",
    "    plt.scatter(y_test, predictions)\n",
    "    plt.plot([8,9,10], [8,9,10])\n",
    "    plt.xlim((8,10))\n",
    "    plt.ylim((8,10))\n",
    "    plt.xlabel(\"Actual Y Values\")\n",
    "    plt.ylabel(\"Predicted Y Values\")\n",
    "    plt.show()\n",
    "    return model.score(x_test, y_test)\n",
    "    "
   ]
  },
  {
   "cell_type": "code",
   "execution_count": 60,
   "metadata": {
    "collapsed": false
   },
   "outputs": [
    {
     "name": "stdout",
     "output_type": "stream",
     "text": [
      "The model I am testing right now is: decision_tree\n"
     ]
    },
    {
     "data": {
      "image/png": "[encoded data removed]",
      "text/plain": [
       "<matplotlib.figure.Figure at 0x11a18b0d0>"
      ]
     },
     "metadata": {},
     "output_type": "display_data"
    },
    {
     "name": "stdout",
     "output_type": "stream",
     "text": [
      "For fold 0 fold of data, the score is: -0.666666666667 \n"
     ]
    },
    {
     "data": {
      "image/png": "[encoded data removed]",
      "text/plain": [
       "<matplotlib.figure.Figure at 0x11b3a3890>"
      ]
     },
     "metadata": {},
     "output_type": "display_data"
    },
    {
     "name": "stdout",
     "output_type": "stream",
     "text": [
      "For fold 1 fold of data, the score is: -5.85 \n"
     ]
    },
    {
     "data": {
      "image/png": "[encoded data removed]",
      "text/plain": [
       "<matplotlib.figure.Figure at 0x11a4fae10>"
      ]
     },
     "metadata": {},
     "output_type": "display_data"
    },
    {
     "name": "stdout",
     "output_type": "stream",
     "text": [
      "For fold 2 fold of data, the score is: -5.875 \n",
      "The model I am testing right now is: adaboost\n"
     ]
    },
    {
     "data": {
      "image/png": "[encoded data removed]",
      "text/plain": [
       "<matplotlib.figure.Figure at 0x11964c1d0>"
      ]
     },
     "metadata": {},
     "output_type": "display_data"
    },
    {
     "name": "stdout",
     "output_type": "stream",
     "text": [
      "For fold 0 fold of data, the score is: -0.189591836735 \n"
     ]
    },
    {
     "data": {
      "image/png": "[encoded data removed]",
      "text/plain": [
       "<matplotlib.figure.Figure at 0x11b659fd0>"
      ]
     },
     "metadata": {},
     "output_type": "display_data"
    },
    {
     "name": "stdout",
     "output_type": "stream",
     "text": [
      "For fold 1 fold of data, the score is: -2.4065 \n"
     ]
    },
    {
     "data": {
      "image/png": "[encoded data removed]",
      "text/plain": [
       "<matplotlib.figure.Figure at 0x11a0c0810>"
      ]
     },
     "metadata": {},
     "output_type": "display_data"
    },
    {
     "name": "stdout",
     "output_type": "stream",
     "text": [
      "For fold 2 fold of data, the score is: -5.48003472222 \n",
      "The model I am testing right now is: random_forest\n"
     ]
    },
    {
     "data": {
      "image/png": "[encoded data removed]",
      "text/plain": [
       "<matplotlib.figure.Figure at 0x1136ace90>"
      ]
     },
     "metadata": {},
     "output_type": "display_data"
    },
    {
     "name": "stdout",
     "output_type": "stream",
     "text": [
      "For fold 0 fold of data, the score is: -0.284375 \n"
     ]
    },
    {
     "data": {
      "image/png": "[encoded data removed]",
      "text/plain": [
       "<matplotlib.figure.Figure at 0x11a258d10>"
      ]
     },
     "metadata": {},
     "output_type": "display_data"
    },
    {
     "name": "stdout",
     "output_type": "stream",
     "text": [
      "For fold 1 fold of data, the score is: -2.3405 \n"
     ]
    },
    {
     "data": {
      "image/png": "[encoded data removed]",
      "text/plain": [
       "<matplotlib.figure.Figure at 0x11a258990>"
      ]
     },
     "metadata": {},
     "output_type": "display_data"
    },
    {
     "name": "stdout",
     "output_type": "stream",
     "text": [
      "For fold 2 fold of data, the score is: -2.65875 \n",
      "The model I am testing right now is: gradient_boosting\n"
     ]
    },
    {
     "data": {
      "image/png": "[encoded data removed]",
      "text/plain": [
       "<matplotlib.figure.Figure at 0x11a18b6d0>"
      ]
     },
     "metadata": {},
     "output_type": "display_data"
    },
    {
     "name": "stdout",
     "output_type": "stream",
     "text": [
      "For fold 0 fold of data, the score is: -0.180127521772 \n"
     ]
    },
    {
     "data": {
      "image/png": "[encoded data removed]",
      "text/plain": [
       "<matplotlib.figure.Figure at 0x119b3d790>"
      ]
     },
     "metadata": {},
     "output_type": "display_data"
    },
    {
     "name": "stdout",
     "output_type": "stream",
     "text": [
      "For fold 1 fold of data, the score is: -3.4606736692 \n"
     ]
    },
    {
     "data": {
      "image/png": "[encoded data removed]",
      "text/plain": [
       "<matplotlib.figure.Figure at 0x1199340d0>"
      ]
     },
     "metadata": {},
     "output_type": "display_data"
    },
    {
     "name": "stdout",
     "output_type": "stream",
     "text": [
      "For fold 2 fold of data, the score is: -6.21903203575 \n",
      "Average model score:  -3.28661107557\n"
     ]
    }
   ],
   "source": [
    "from sklearn.ensemble import RandomForestRegressor, AdaBoostRegressor, GradientBoostingRegressor\n",
    "\n",
    "\n",
    "models = {\n",
    "    'decision_tree': DecisionTreeRegressor(),\n",
    "    'random_forest': RandomForestRegressor(),\n",
    "    'adaboost': AdaBoostRegressor(),\n",
    "    'gradient_boosting': GradientBoostingRegressor()\n",
    "}\n",
    "\n",
    "for key, value in models.items():\n",
    "    print \"The model I am testing right now is: %s\" % key\n",
    "    counter = 0\n",
    "    scores = []\n",
    "    for training_set, test_set in cv:\n",
    "        x_train = x.as_matrix()[training_set]\n",
    "        x_test = x.as_matrix()[test_set]\n",
    "        y_train = y.as_matrix()[training_set]\n",
    "        y_test = y.as_matrix()[test_set]\n",
    "        model_score = fit_and_evaluate_any_model(x_train, x_test, y_train, y_test, value)\n",
    "        print \"For fold %s fold of data, the score is: %s \" % (counter, model_score)\n",
    "        scores.append(model_score)\n",
    "        counter += 1\n",
    "\n",
    "print \"Average model score: \", np.mean(scores)"
   ]
  },
  {
   "cell_type": "code",
   "execution_count": null,
   "metadata": {
    "collapsed": true
   },
   "outputs": [],
   "source": []
  },
  {
   "cell_type": "code",
   "execution_count": null,
   "metadata": {
    "collapsed": true
   },
   "outputs": [],
   "source": []
  },
  {
   "cell_type": "code",
   "execution_count": null,
   "metadata": {
    "collapsed": true
   },
   "outputs": [],
   "source": []
  },
  {
   "cell_type": "markdown",
   "metadata": {},
   "source": [
    "# Feature Evaluation"
   ]
  },
  {
   "cell_type": "code",
   "execution_count": 61,
   "metadata": {
    "collapsed": false
   },
   "outputs": [
    {
     "ename": "NameError",
     "evalue": "name 'cars' is not defined",
     "output_type": "error",
     "traceback": [
      "\u001b[0;31m---------------------------------------------------------------------------\u001b[0m",
      "\u001b[0;31mNameError\u001b[0m                                 Traceback (most recent call last)",
      "\u001b[0;32m<ipython-input-61-f99506c0f75d>\u001b[0m in \u001b[0;36m<module>\u001b[0;34m()\u001b[0m\n\u001b[1;32m      1\u001b[0m \u001b[0;32mfrom\u001b[0m \u001b[0msklearn\u001b[0m\u001b[0;34m.\u001b[0m\u001b[0mpreprocessing\u001b[0m \u001b[0;32mimport\u001b[0m \u001b[0mLabelEncoder\u001b[0m\u001b[0;34m\u001b[0m\u001b[0m\n\u001b[1;32m      2\u001b[0m \u001b[0mle\u001b[0m \u001b[0;34m=\u001b[0m \u001b[0mLabelEncoder\u001b[0m\u001b[0;34m(\u001b[0m\u001b[0;34m)\u001b[0m\u001b[0;34m\u001b[0m\u001b[0m\n\u001b[0;32m----> 3\u001b[0;31m \u001b[0my\u001b[0m \u001b[0;34m=\u001b[0m \u001b[0mle\u001b[0m\u001b[0;34m.\u001b[0m\u001b[0mfit_transform\u001b[0m\u001b[0;34m(\u001b[0m\u001b[0mcars\u001b[0m\u001b[0;34m[\u001b[0m\u001b[0;34m'acceptability'\u001b[0m\u001b[0;34m]\u001b[0m\u001b[0;34m)\u001b[0m\u001b[0;34m\u001b[0m\u001b[0m\n\u001b[0m\u001b[1;32m      4\u001b[0m \u001b[0mx\u001b[0m \u001b[0;34m=\u001b[0m \u001b[0mpd\u001b[0m\u001b[0;34m.\u001b[0m\u001b[0mget_dummies\u001b[0m\u001b[0;34m(\u001b[0m\u001b[0mcars\u001b[0m\u001b[0;34m.\u001b[0m\u001b[0mdrop\u001b[0m\u001b[0;34m(\u001b[0m\u001b[0;34m'acceptability'\u001b[0m\u001b[0;34m,\u001b[0m \u001b[0maxis\u001b[0m\u001b[0;34m=\u001b[0m\u001b[0;36m1\u001b[0m\u001b[0;34m)\u001b[0m\u001b[0;34m)\u001b[0m\u001b[0;34m\u001b[0m\u001b[0m\n",
      "\u001b[0;31mNameError\u001b[0m: name 'cars' is not defined"
     ]
    }
   ],
   "source": [
    "from sklearn.preprocessing import LabelEncoder\n",
    "le = LabelEncoder()\n",
    "y = le.fit_transform(cars['acceptability'])\n",
    "x = pd.get_dummies(cars.drop('acceptability', axis=1))"
   ]
  },
  {
   "cell_type": "code",
   "execution_count": null,
   "metadata": {
    "collapsed": true
   },
   "outputs": [],
   "source": []
  }
 ],
 "metadata": {
  "anaconda-cloud": {},
  "kernelspec": {
   "display_name": "Python [Root]",
   "language": "python",
   "name": "Python [Root]"
  },
  "language_info": {
   "codemirror_mode": {
    "name": "ipython",
    "version": 2
   },
   "file_extension": ".py",
   "mimetype": "text/x-python",
   "name": "python",
   "nbconvert_exporter": "python",
   "pygments_lexer": "ipython2",
   "version": "2.7.12"
  }
 },
 "nbformat": 4,
 "nbformat_minor": 0
}
