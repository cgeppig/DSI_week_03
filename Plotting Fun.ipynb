{
 "cells": [
  {
   "cell_type": "code",
   "execution_count": 62,
   "metadata": {
    "collapsed": true
   },
   "outputs": [],
   "source": [
    "%matplotlib inline\n",
    "import matplotlib.pyplot as plt\n",
    "import seaborn as sns\n",
    "import pandas as pd\n",
    "import numpy as np\n",
    "import os"
   ]
  },
  {
   "cell_type": "code",
   "execution_count": 3,
   "metadata": {
    "collapsed": false
   },
   "outputs": [
    {
     "data": {
      "text/plain": [
       "['divvy_rides.csv', 'salary.csv']"
      ]
     },
     "execution_count": 3,
     "metadata": {},
     "output_type": "execute_result"
    }
   ],
   "source": [
    "os.listdir('/Users/christophereppig/datasets')"
   ]
  },
  {
   "cell_type": "code",
   "execution_count": 4,
   "metadata": {
    "collapsed": false
   },
   "outputs": [
    {
     "name": "stderr",
     "output_type": "stream",
     "text": [
      "/Users/christophereppig/anaconda/lib/python2.7/site-packages/IPython/core/interactiveshell.py:2723: DtypeWarning: Columns (5) have mixed types. Specify dtype option on import or set low_memory=False.\n",
      "  interactivity=interactivity, compiler=compiler, result=result)\n"
     ]
    }
   ],
   "source": [
    "divvy = pd.read_csv('/Users/christophereppig/datasets/divvy_rides.csv')"
   ]
  },
  {
   "cell_type": "code",
   "execution_count": 6,
   "metadata": {
    "collapsed": false
   },
   "outputs": [
    {
     "data": {
      "text/html": [
       "<div>\n",
       "<table border=\"1\" class=\"dataframe\">\n",
       "  <thead>\n",
       "    <tr style=\"text-align: right;\">\n",
       "      <th></th>\n",
       "      <th>bikeid</th>\n",
       "      <th>birthday</th>\n",
       "      <th>birthyear</th>\n",
       "      <th>from_station_id</th>\n",
       "      <th>from_station_name</th>\n",
       "      <th>gender</th>\n",
       "      <th>starttime</th>\n",
       "      <th>stoptime</th>\n",
       "      <th>to_station_id</th>\n",
       "      <th>to_station_name</th>\n",
       "      <th>trip_id</th>\n",
       "      <th>tripduration</th>\n",
       "      <th>usertype</th>\n",
       "    </tr>\n",
       "  </thead>\n",
       "  <tbody>\n",
       "    <tr>\n",
       "      <th>0</th>\n",
       "      <td>480</td>\n",
       "      <td>NaN</td>\n",
       "      <td>NaN</td>\n",
       "      <td>85</td>\n",
       "      <td>Michigan Ave &amp; Oak St</td>\n",
       "      <td>NaN</td>\n",
       "      <td>2013-06-27 12:11</td>\n",
       "      <td>2013-06-27 12:16</td>\n",
       "      <td>28</td>\n",
       "      <td>Larrabee St &amp; Menomonee St</td>\n",
       "      <td>4118</td>\n",
       "      <td>316</td>\n",
       "      <td>Customer</td>\n",
       "    </tr>\n",
       "    <tr>\n",
       "      <th>1</th>\n",
       "      <td>77</td>\n",
       "      <td>NaN</td>\n",
       "      <td>NaN</td>\n",
       "      <td>32</td>\n",
       "      <td>Racine Ave &amp; Congress Pkwy</td>\n",
       "      <td>NaN</td>\n",
       "      <td>2013-06-27 14:44</td>\n",
       "      <td>2013-06-27 14:45</td>\n",
       "      <td>32</td>\n",
       "      <td>Racine Ave &amp; Congress Pkwy</td>\n",
       "      <td>4275</td>\n",
       "      <td>64</td>\n",
       "      <td>Customer</td>\n",
       "    </tr>\n",
       "    <tr>\n",
       "      <th>2</th>\n",
       "      <td>77</td>\n",
       "      <td>NaN</td>\n",
       "      <td>NaN</td>\n",
       "      <td>32</td>\n",
       "      <td>Racine Ave &amp; Congress Pkwy</td>\n",
       "      <td>NaN</td>\n",
       "      <td>2013-06-27 14:58</td>\n",
       "      <td>2013-06-27 15:05</td>\n",
       "      <td>19</td>\n",
       "      <td>Loomis St &amp; Taylor St</td>\n",
       "      <td>4291</td>\n",
       "      <td>433</td>\n",
       "      <td>Customer</td>\n",
       "    </tr>\n",
       "    <tr>\n",
       "      <th>3</th>\n",
       "      <td>77</td>\n",
       "      <td>NaN</td>\n",
       "      <td>NaN</td>\n",
       "      <td>19</td>\n",
       "      <td>Loomis St &amp; Taylor St</td>\n",
       "      <td>NaN</td>\n",
       "      <td>2013-06-27 15:06</td>\n",
       "      <td>2013-06-27 15:09</td>\n",
       "      <td>19</td>\n",
       "      <td>Loomis St &amp; Taylor St</td>\n",
       "      <td>4316</td>\n",
       "      <td>123</td>\n",
       "      <td>Customer</td>\n",
       "    </tr>\n",
       "    <tr>\n",
       "      <th>4</th>\n",
       "      <td>77</td>\n",
       "      <td>NaN</td>\n",
       "      <td>NaN</td>\n",
       "      <td>19</td>\n",
       "      <td>Loomis St &amp; Taylor St</td>\n",
       "      <td>NaN</td>\n",
       "      <td>2013-06-27 15:13</td>\n",
       "      <td>2013-06-27 15:27</td>\n",
       "      <td>55</td>\n",
       "      <td>Halsted St &amp; James M Rochford St</td>\n",
       "      <td>4342</td>\n",
       "      <td>852</td>\n",
       "      <td>Customer</td>\n",
       "    </tr>\n",
       "  </tbody>\n",
       "</table>\n",
       "</div>"
      ],
      "text/plain": [
       "   bikeid  birthday  birthyear  from_station_id           from_station_name  \\\n",
       "0     480       NaN        NaN               85       Michigan Ave & Oak St   \n",
       "1      77       NaN        NaN               32  Racine Ave & Congress Pkwy   \n",
       "2      77       NaN        NaN               32  Racine Ave & Congress Pkwy   \n",
       "3      77       NaN        NaN               19       Loomis St & Taylor St   \n",
       "4      77       NaN        NaN               19       Loomis St & Taylor St   \n",
       "\n",
       "  gender         starttime          stoptime  to_station_id  \\\n",
       "0    NaN  2013-06-27 12:11  2013-06-27 12:16             28   \n",
       "1    NaN  2013-06-27 14:44  2013-06-27 14:45             32   \n",
       "2    NaN  2013-06-27 14:58  2013-06-27 15:05             19   \n",
       "3    NaN  2013-06-27 15:06  2013-06-27 15:09             19   \n",
       "4    NaN  2013-06-27 15:13  2013-06-27 15:27             55   \n",
       "\n",
       "                    to_station_name  trip_id  tripduration  usertype  \n",
       "0        Larrabee St & Menomonee St     4118           316  Customer  \n",
       "1        Racine Ave & Congress Pkwy     4275            64  Customer  \n",
       "2             Loomis St & Taylor St     4291           433  Customer  \n",
       "3             Loomis St & Taylor St     4316           123  Customer  \n",
       "4  Halsted St & James M Rochford St     4342           852  Customer  "
      ]
     },
     "execution_count": 6,
     "metadata": {},
     "output_type": "execute_result"
    }
   ],
   "source": [
    "divvy.head()"
   ]
  },
  {
   "cell_type": "code",
   "execution_count": 9,
   "metadata": {
    "collapsed": false
   },
   "outputs": [
    {
     "data": {
      "text/plain": [
       "Subscriber    5466758\n",
       "Customer      2400700\n",
       "Dependent         143\n",
       "Name: usertype, dtype: int64"
      ]
     },
     "execution_count": 9,
     "metadata": {},
     "output_type": "execute_result"
    }
   ],
   "source": [
    "divvy['usertype'].value_counts()"
   ]
  },
  {
   "cell_type": "code",
   "execution_count": 11,
   "metadata": {
    "collapsed": false,
    "scrolled": true
   },
   "outputs": [
    {
     "data": {
      "text/plain": [
       "872     2820\n",
       "478     2814\n",
       "267     2757\n",
       "94      2745\n",
       "1329    2739\n",
       "441     2728\n",
       "417     2721\n",
       "686     2714\n",
       "225     2701\n",
       "909     2698\n",
       "1037    2686\n",
       "721     2685\n",
       "452     2684\n",
       "30      2684\n",
       "650     2677\n",
       "1381    2675\n",
       "414     2673\n",
       "1226    2664\n",
       "251     2662\n",
       "571     2658\n",
       "473     2654\n",
       "371     2650\n",
       "359     2649\n",
       "1283    2645\n",
       "1975    2645\n",
       "Name: bikeid, dtype: int64"
      ]
     },
     "execution_count": 11,
     "metadata": {},
     "output_type": "execute_result"
    }
   ],
   "source": [
    "divvy['bikeid'].value_counts().head(25)"
   ]
  },
  {
   "cell_type": "code",
   "execution_count": 31,
   "metadata": {
    "collapsed": false
   },
   "outputs": [
    {
     "data": {
      "text/plain": [
       "{'boxes': [<matplotlib.lines.Line2D at 0x116d3a050>],\n",
       " 'caps': [<matplotlib.lines.Line2D at 0x116d3ae50>,\n",
       "  <matplotlib.lines.Line2D at 0x116d464d0>],\n",
       " 'fliers': [<matplotlib.lines.Line2D at 0x116d51190>],\n",
       " 'means': [],\n",
       " 'medians': [<matplotlib.lines.Line2D at 0x116d46b10>],\n",
       " 'whiskers': [<matplotlib.lines.Line2D at 0x116d10150>,\n",
       "  <matplotlib.lines.Line2D at 0x116d3a810>]}"
      ]
     },
     "execution_count": 31,
     "metadata": {},
     "output_type": "execute_result"
    },
    {
     "data": {
      "image/png": "[encoded data removed]",
      "text/plain": [
       "<matplotlib.figure.Figure at 0x116ca9910>"
      ]
     },
     "metadata": {},
     "output_type": "display_data"
    }
   ],
   "source": [
    "plt.boxplot(divvy['tripduration'])"
   ]
  },
  {
   "cell_type": "code",
   "execution_count": 12,
   "metadata": {
    "collapsed": false
   },
   "outputs": [
    {
     "data": {
      "text/plain": [
       "Streeter Dr & Illinois St       137683\n",
       "Lake Shore Dr & Monroe St       124674\n",
       "Clinton St & Washington Blvd    112140\n",
       "Theater on the Lake             108426\n",
       "Michigan Ave & Oak St           101762\n",
       "Millennium Park                 100545\n",
       "Lake Shore Dr & North Blvd       90112\n",
       "Canal St & Adams St              88121\n",
       "Canal St & Madison St            86289\n",
       "Clinton St & Madison St          71598\n",
       "Columbus Dr & Randolph St        70126\n",
       "McClurg Ct & Illinois St         67656\n",
       "Michigan Ave & Washington St     65991\n",
       "Canal St & Jackson Blvd          64975\n",
       "Michigan Ave & Lake St           63442\n",
       "Dearborn St & Monroe St          61194\n",
       "Franklin St & Jackson Blvd       60706\n",
       "Museum Campus                    59772\n",
       "LaSalle St & Jackson Blvd        58556\n",
       "Wabash Ave & Grand Ave           58124\n",
       "Name: from_station_name, dtype: int64"
      ]
     },
     "execution_count": 12,
     "metadata": {},
     "output_type": "execute_result"
    }
   ],
   "source": [
    "divvy['from_station_name'].value_counts().head(20)"
   ]
  },
  {
   "cell_type": "code",
   "execution_count": 13,
   "metadata": {
    "collapsed": false
   },
   "outputs": [
    {
     "data": {
      "text/plain": [
       "Streeter Dr & Illinois St       164101\n",
       "Lake Shore Dr & Monroe St       122493\n",
       "Theater on the Lake             115330\n",
       "Clinton St & Washington Blvd    110611\n",
       "Millennium Park                 110085\n",
       "Michigan Ave & Oak St           109586\n",
       "Lake Shore Dr & North Blvd      101364\n",
       "Canal St & Madison St            96899\n",
       "Canal St & Adams St              85913\n",
       "McClurg Ct & Illinois St         69345\n",
       "Michigan Ave & Washington St     66940\n",
       "Michigan Ave & Lake St           65580\n",
       "Clinton St & Madison St          63789\n",
       "Canal St & Jackson Blvd          62719\n",
       "Museum Campus                    60718\n",
       "Dearborn St & Monroe St          60350\n",
       "Wabash Ave & Grand Ave           60333\n",
       "Clark St & Elm St                57589\n",
       "LaSalle St & Jackson Blvd        56869\n",
       "Franklin St & Jackson Blvd       56046\n",
       "Name: to_station_name, dtype: int64"
      ]
     },
     "execution_count": 13,
     "metadata": {},
     "output_type": "execute_result"
    }
   ],
   "source": [
    "divvy['to_station_name'].value_counts().head(20)"
   ]
  },
  {
   "cell_type": "code",
   "execution_count": 20,
   "metadata": {
    "collapsed": false
   },
   "outputs": [],
   "source": [
    "departure_arrival = pd.DataFrame(divvy['to_station_name'].value_counts()).join(divvy['from_station_name'].value_counts())"
   ]
  },
  {
   "cell_type": "code",
   "execution_count": 23,
   "metadata": {
    "collapsed": false
   },
   "outputs": [
    {
     "data": {
      "text/html": [
       "<div>\n",
       "<table border=\"1\" class=\"dataframe\">\n",
       "  <thead>\n",
       "    <tr style=\"text-align: right;\">\n",
       "      <th></th>\n",
       "      <th>to_station_name</th>\n",
       "      <th>from_station_name</th>\n",
       "      <th>Difference</th>\n",
       "    </tr>\n",
       "  </thead>\n",
       "  <tbody>\n",
       "    <tr>\n",
       "      <th>Streeter Dr &amp; Illinois St</th>\n",
       "      <td>164101</td>\n",
       "      <td>137683.0</td>\n",
       "      <td>26418.0</td>\n",
       "    </tr>\n",
       "    <tr>\n",
       "      <th>Lake Shore Dr &amp; Monroe St</th>\n",
       "      <td>122493</td>\n",
       "      <td>124674.0</td>\n",
       "      <td>-2181.0</td>\n",
       "    </tr>\n",
       "    <tr>\n",
       "      <th>Theater on the Lake</th>\n",
       "      <td>115330</td>\n",
       "      <td>108426.0</td>\n",
       "      <td>6904.0</td>\n",
       "    </tr>\n",
       "    <tr>\n",
       "      <th>Clinton St &amp; Washington Blvd</th>\n",
       "      <td>110611</td>\n",
       "      <td>112140.0</td>\n",
       "      <td>-1529.0</td>\n",
       "    </tr>\n",
       "    <tr>\n",
       "      <th>Millennium Park</th>\n",
       "      <td>110085</td>\n",
       "      <td>100545.0</td>\n",
       "      <td>9540.0</td>\n",
       "    </tr>\n",
       "  </tbody>\n",
       "</table>\n",
       "</div>"
      ],
      "text/plain": [
       "                              to_station_name  from_station_name  Difference\n",
       "Streeter Dr & Illinois St              164101           137683.0     26418.0\n",
       "Lake Shore Dr & Monroe St              122493           124674.0     -2181.0\n",
       "Theater on the Lake                    115330           108426.0      6904.0\n",
       "Clinton St & Washington Blvd           110611           112140.0     -1529.0\n",
       "Millennium Park                        110085           100545.0      9540.0"
      ]
     },
     "execution_count": 23,
     "metadata": {},
     "output_type": "execute_result"
    }
   ],
   "source": [
    "departure_arrival['Difference'] = departure_arrival['to_station_name']-departure_arrival['from_station_name']\n",
    "departure_arrival.head()"
   ]
  },
  {
   "cell_type": "code",
   "execution_count": 25,
   "metadata": {
    "collapsed": false,
    "scrolled": true
   },
   "outputs": [
    {
     "data": {
      "text/plain": [
       "Columbus Dr & Randolph St      -22403.0\n",
       "Canal St & Monroe St           -12298.0\n",
       "Clinton St & Madison St         -7809.0\n",
       "Stetson Ave & South Water St    -7677.0\n",
       "Desplaines St & Kinzie St       -5314.0\n",
       "Name: Difference, dtype: float64"
      ]
     },
     "execution_count": 25,
     "metadata": {},
     "output_type": "execute_result"
    }
   ],
   "source": [
    "departure_arrival['Difference'].sort_values().head()"
   ]
  },
  {
   "cell_type": "code",
   "execution_count": 29,
   "metadata": {
    "collapsed": false
   },
   "outputs": [],
   "source": [
    "departure_arrival['from_station_name'].describe()\n",
    "departure_arrival.dropna(inplace=True)"
   ]
  },
  {
   "cell_type": "code",
   "execution_count": 30,
   "metadata": {
    "collapsed": false
   },
   "outputs": [
    {
     "data": {
      "text/plain": [
       "(array([ 387.,  101.,   47.,   22.,   11.,    2.,    3.,    3.,    1.,    2.]),\n",
       " array([  1.00000000e+00,   1.37692000e+04,   2.75374000e+04,\n",
       "          4.13056000e+04,   5.50738000e+04,   6.88420000e+04,\n",
       "          8.26102000e+04,   9.63784000e+04,   1.10146600e+05,\n",
       "          1.23914800e+05,   1.37683000e+05]),\n",
       " <a list of 10 Patch objects>)"
      ]
     },
     "execution_count": 30,
     "metadata": {},
     "output_type": "execute_result"
    },
    {
     "data": {
      "image/png": "[encoded data removed]",
      "text/plain": [
       "<matplotlib.figure.Figure at 0x115f9b3d0>"
      ]
     },
     "metadata": {},
     "output_type": "display_data"
    }
   ],
   "source": [
    "plt.hist(departure_arrival['from_station_name'])"
   ]
  },
  {
   "cell_type": "code",
   "execution_count": 32,
   "metadata": {
    "collapsed": false,
    "scrolled": true
   },
   "outputs": [
    {
     "data": {
      "text/plain": [
       "(array([ 156.,   53.,   32.,   26.,   26.,   14.,   22.,   28.,   19.,\n",
       "          11.,   20.,   12.,    9.,    7.,   14.,    7.,    9.,    9.,\n",
       "           3.,   11.,    8.,    1.,    6.,   10.,    8.,    3.,    3.,\n",
       "           4.,    3.,    1.,    2.,    4.,    3.,    2.,    2.,    4.,\n",
       "           1.,    2.,    0.,    2.,    1.,    1.,    2.,    1.,    2.,\n",
       "           0.,    1.,    2.,    0.,    1.,    1.,    0.,    1.,    0.,\n",
       "           0.,    0.,    0.,    0.,    0.,    0.,    0.,    0.,    1.,\n",
       "           0.,    1.,    1.,    0.,    0.,    0.,    0.,    0.,    0.,\n",
       "           0.,    2.,    0.,    0.,    0.,    0.,    1.,    0.,    0.,\n",
       "           1.,    0.,    0.,    0.,    0.,    0.,    0.,    0.,    0.,\n",
       "           1.,    0.,    0.,    0.,    0.,    0.,    0.,    0.,    0.,    1.]),\n",
       " array([  1.00000000e+00,   1.37782000e+03,   2.75464000e+03,\n",
       "          4.13146000e+03,   5.50828000e+03,   6.88510000e+03,\n",
       "          8.26192000e+03,   9.63874000e+03,   1.10155600e+04,\n",
       "          1.23923800e+04,   1.37692000e+04,   1.51460200e+04,\n",
       "          1.65228400e+04,   1.78996600e+04,   1.92764800e+04,\n",
       "          2.06533000e+04,   2.20301200e+04,   2.34069400e+04,\n",
       "          2.47837600e+04,   2.61605800e+04,   2.75374000e+04,\n",
       "          2.89142200e+04,   3.02910400e+04,   3.16678600e+04,\n",
       "          3.30446800e+04,   3.44215000e+04,   3.57983200e+04,\n",
       "          3.71751400e+04,   3.85519600e+04,   3.99287800e+04,\n",
       "          4.13056000e+04,   4.26824200e+04,   4.40592400e+04,\n",
       "          4.54360600e+04,   4.68128800e+04,   4.81897000e+04,\n",
       "          4.95665200e+04,   5.09433400e+04,   5.23201600e+04,\n",
       "          5.36969800e+04,   5.50738000e+04,   5.64506200e+04,\n",
       "          5.78274400e+04,   5.92042600e+04,   6.05810800e+04,\n",
       "          6.19579000e+04,   6.33347200e+04,   6.47115400e+04,\n",
       "          6.60883600e+04,   6.74651800e+04,   6.88420000e+04,\n",
       "          7.02188200e+04,   7.15956400e+04,   7.29724600e+04,\n",
       "          7.43492800e+04,   7.57261000e+04,   7.71029200e+04,\n",
       "          7.84797400e+04,   7.98565600e+04,   8.12333800e+04,\n",
       "          8.26102000e+04,   8.39870200e+04,   8.53638400e+04,\n",
       "          8.67406600e+04,   8.81174800e+04,   8.94943000e+04,\n",
       "          9.08711200e+04,   9.22479400e+04,   9.36247600e+04,\n",
       "          9.50015800e+04,   9.63784000e+04,   9.77552200e+04,\n",
       "          9.91320400e+04,   1.00508860e+05,   1.01885680e+05,\n",
       "          1.03262500e+05,   1.04639320e+05,   1.06016140e+05,\n",
       "          1.07392960e+05,   1.08769780e+05,   1.10146600e+05,\n",
       "          1.11523420e+05,   1.12900240e+05,   1.14277060e+05,\n",
       "          1.15653880e+05,   1.17030700e+05,   1.18407520e+05,\n",
       "          1.19784340e+05,   1.21161160e+05,   1.22537980e+05,\n",
       "          1.23914800e+05,   1.25291620e+05,   1.26668440e+05,\n",
       "          1.28045260e+05,   1.29422080e+05,   1.30798900e+05,\n",
       "          1.32175720e+05,   1.33552540e+05,   1.34929360e+05,\n",
       "          1.36306180e+05,   1.37683000e+05]),\n",
       " <a list of 100 Patch objects>)"
      ]
     },
     "execution_count": 32,
     "metadata": {},
     "output_type": "execute_result"
    },
    {
     "data": {
      "image/png": "[encoded data removed]",
      "text/plain": [
       "<matplotlib.figure.Figure at 0x115f9b410>"
      ]
     },
     "metadata": {},
     "output_type": "display_data"
    }
   ],
   "source": [
    "plt.hist(departure_arrival['from_station_name'], bins=100)"
   ]
  },
  {
   "cell_type": "code",
   "execution_count": 33,
   "metadata": {
    "collapsed": false,
    "scrolled": true
   },
   "outputs": [
    {
     "data": {
      "text/html": [
       "<div>\n",
       "<table border=\"1\" class=\"dataframe\">\n",
       "  <thead>\n",
       "    <tr style=\"text-align: right;\">\n",
       "      <th></th>\n",
       "      <th>to_station_name</th>\n",
       "      <th>from_station_name</th>\n",
       "      <th>Difference</th>\n",
       "    </tr>\n",
       "  </thead>\n",
       "  <tbody>\n",
       "    <tr>\n",
       "      <th>Central St Metra</th>\n",
       "      <td>1</td>\n",
       "      <td>1.0</td>\n",
       "      <td>0.0</td>\n",
       "    </tr>\n",
       "    <tr>\n",
       "      <th>Ashland Ave &amp; 69th St</th>\n",
       "      <td>3</td>\n",
       "      <td>1.0</td>\n",
       "      <td>2.0</td>\n",
       "    </tr>\n",
       "    <tr>\n",
       "      <th>Throop St &amp; 52nd St</th>\n",
       "      <td>1</td>\n",
       "      <td>1.0</td>\n",
       "      <td>0.0</td>\n",
       "    </tr>\n",
       "    <tr>\n",
       "      <th>Racine Ave &amp; Garfield Blvd</th>\n",
       "      <td>1</td>\n",
       "      <td>1.0</td>\n",
       "      <td>0.0</td>\n",
       "    </tr>\n",
       "    <tr>\n",
       "      <th>State St &amp; 76th St</th>\n",
       "      <td>1</td>\n",
       "      <td>1.0</td>\n",
       "      <td>0.0</td>\n",
       "    </tr>\n",
       "  </tbody>\n",
       "</table>\n",
       "</div>"
      ],
      "text/plain": [
       "                            to_station_name  from_station_name  Difference\n",
       "Central St Metra                          1                1.0         0.0\n",
       "Ashland Ave & 69th St                     3                1.0         2.0\n",
       "Throop St & 52nd St                       1                1.0         0.0\n",
       "Racine Ave & Garfield Blvd                1                1.0         0.0\n",
       "State St & 76th St                        1                1.0         0.0"
      ]
     },
     "execution_count": 33,
     "metadata": {},
     "output_type": "execute_result"
    }
   ],
   "source": [
    "departure_arrival.sort_values(by='from_station_name').head()"
   ]
  },
  {
   "cell_type": "code",
   "execution_count": 34,
   "metadata": {
    "collapsed": false
   },
   "outputs": [
    {
     "data": {
      "text/html": [
       "<div>\n",
       "<table border=\"1\" class=\"dataframe\">\n",
       "  <thead>\n",
       "    <tr style=\"text-align: right;\">\n",
       "      <th></th>\n",
       "      <th>to_station_name</th>\n",
       "      <th>from_station_name</th>\n",
       "      <th>Difference</th>\n",
       "    </tr>\n",
       "  </thead>\n",
       "  <tbody>\n",
       "    <tr>\n",
       "      <th>Central St Metra</th>\n",
       "      <td>1</td>\n",
       "      <td>1.0</td>\n",
       "      <td>0.0</td>\n",
       "    </tr>\n",
       "    <tr>\n",
       "      <th>Throop St &amp; 52nd St</th>\n",
       "      <td>1</td>\n",
       "      <td>1.0</td>\n",
       "      <td>0.0</td>\n",
       "    </tr>\n",
       "    <tr>\n",
       "      <th>Racine Ave &amp; Garfield Blvd</th>\n",
       "      <td>1</td>\n",
       "      <td>1.0</td>\n",
       "      <td>0.0</td>\n",
       "    </tr>\n",
       "    <tr>\n",
       "      <th>State St &amp; 76th St</th>\n",
       "      <td>1</td>\n",
       "      <td>1.0</td>\n",
       "      <td>0.0</td>\n",
       "    </tr>\n",
       "    <tr>\n",
       "      <th>Lombard Ave &amp; Madison St</th>\n",
       "      <td>1</td>\n",
       "      <td>2.0</td>\n",
       "      <td>-1.0</td>\n",
       "    </tr>\n",
       "  </tbody>\n",
       "</table>\n",
       "</div>"
      ],
      "text/plain": [
       "                            to_station_name  from_station_name  Difference\n",
       "Central St Metra                          1                1.0         0.0\n",
       "Throop St & 52nd St                       1                1.0         0.0\n",
       "Racine Ave & Garfield Blvd                1                1.0         0.0\n",
       "State St & 76th St                        1                1.0         0.0\n",
       "Lombard Ave & Madison St                  1                2.0        -1.0"
      ]
     },
     "execution_count": 34,
     "metadata": {},
     "output_type": "execute_result"
    }
   ],
   "source": [
    "departure_arrival.sort_values(by='to_station_name').head()"
   ]
  },
  {
   "cell_type": "code",
   "execution_count": 35,
   "metadata": {
    "collapsed": false
   },
   "outputs": [
    {
     "data": {
      "text/plain": [
       "(array([   1.,    0.,    0.,    0.,    0.,    0.,    0.,    0.,    0.,\n",
       "           0.,    0.,    0.,    0.,    0.,    0.,    0.,    0.,    0.,\n",
       "           0.,    0.,    1.,    0.,    0.,    0.,    0.,    0.,    0.,\n",
       "           0.,    0.,    1.,    1.,    0.,    0.,    0.,    0.,    1.,\n",
       "           3.,    2.,    3.,    1.,    6.,   12.,   10.,   14.,   52.,\n",
       "         253.,  135.,   29.,   24.,    7.,    8.,    3.,    1.,    1.,\n",
       "           2.,    1.,    0.,    1.,    0.,    0.,    1.,    1.,    0.,\n",
       "           0.,    0.,    1.,    0.,    1.,    1.,    0.,    0.,    0.,\n",
       "           0.,    0.,    0.,    0.,    0.,    0.,    0.,    0.,    0.,\n",
       "           0.,    0.,    0.,    0.,    0.,    0.,    0.,    0.,    0.,\n",
       "           0.,    0.,    0.,    0.,    0.,    0.,    0.,    0.,    0.,    1.]),\n",
       " array([-22403.  , -21914.79, -21426.58, -20938.37, -20450.16, -19961.95,\n",
       "        -19473.74, -18985.53, -18497.32, -18009.11, -17520.9 , -17032.69,\n",
       "        -16544.48, -16056.27, -15568.06, -15079.85, -14591.64, -14103.43,\n",
       "        -13615.22, -13127.01, -12638.8 , -12150.59, -11662.38, -11174.17,\n",
       "        -10685.96, -10197.75,  -9709.54,  -9221.33,  -8733.12,  -8244.91,\n",
       "         -7756.7 ,  -7268.49,  -6780.28,  -6292.07,  -5803.86,  -5315.65,\n",
       "         -4827.44,  -4339.23,  -3851.02,  -3362.81,  -2874.6 ,  -2386.39,\n",
       "         -1898.18,  -1409.97,   -921.76,   -433.55,     54.66,    542.87,\n",
       "          1031.08,   1519.29,   2007.5 ,   2495.71,   2983.92,   3472.13,\n",
       "          3960.34,   4448.55,   4936.76,   5424.97,   5913.18,   6401.39,\n",
       "          6889.6 ,   7377.81,   7866.02,   8354.23,   8842.44,   9330.65,\n",
       "          9818.86,  10307.07,  10795.28,  11283.49,  11771.7 ,  12259.91,\n",
       "         12748.12,  13236.33,  13724.54,  14212.75,  14700.96,  15189.17,\n",
       "         15677.38,  16165.59,  16653.8 ,  17142.01,  17630.22,  18118.43,\n",
       "         18606.64,  19094.85,  19583.06,  20071.27,  20559.48,  21047.69,\n",
       "         21535.9 ,  22024.11,  22512.32,  23000.53,  23488.74,  23976.95,\n",
       "         24465.16,  24953.37,  25441.58,  25929.79,  26418.  ]),\n",
       " <a list of 100 Patch objects>)"
      ]
     },
     "execution_count": 35,
     "metadata": {},
     "output_type": "execute_result"
    },
    {
     "data": {
      "image/png": "[encoded data removed]",
      "text/plain": [
       "<matplotlib.figure.Figure at 0x1173d8850>"
      ]
     },
     "metadata": {},
     "output_type": "display_data"
    }
   ],
   "source": [
    "plt.hist(departure_arrival['Difference'], bins=100)"
   ]
  },
  {
   "cell_type": "code",
   "execution_count": 36,
   "metadata": {
    "collapsed": false
   },
   "outputs": [
    {
     "data": {
      "text/plain": [
       "count      579.000000\n",
       "mean         0.005181\n",
       "std       2086.448033\n",
       "min     -22403.000000\n",
       "25%       -225.500000\n",
       "50%          0.000000\n",
       "75%        217.500000\n",
       "max      26418.000000\n",
       "Name: Difference, dtype: float64"
      ]
     },
     "execution_count": 36,
     "metadata": {},
     "output_type": "execute_result"
    }
   ],
   "source": [
    "departure_arrival['Difference'].describe()"
   ]
  },
  {
   "cell_type": "code",
   "execution_count": 37,
   "metadata": {
    "collapsed": false
   },
   "outputs": [
    {
     "data": {
      "text/plain": [
       "count    7.867601e+06\n",
       "mean     1.035279e+03\n",
       "std      2.063022e+03\n",
       "min      6.000000e+01\n",
       "25%      4.220000e+02\n",
       "50%      7.300000e+02\n",
       "75%      1.216000e+03\n",
       "max      8.639900e+04\n",
       "Name: tripduration, dtype: float64"
      ]
     },
     "execution_count": 37,
     "metadata": {},
     "output_type": "execute_result"
    }
   ],
   "source": [
    "divvy['tripduration'].describe()"
   ]
  },
  {
   "cell_type": "code",
   "execution_count": 38,
   "metadata": {
    "collapsed": false
   },
   "outputs": [
    {
     "data": {
      "text/plain": [
       "0"
      ]
     },
     "execution_count": 38,
     "metadata": {},
     "output_type": "execute_result"
    }
   ],
   "source": [
    "divvy['tripduration'].isnull().sum()"
   ]
  },
  {
   "cell_type": "code",
   "execution_count": 39,
   "metadata": {
    "collapsed": false
   },
   "outputs": [
    {
     "data": {
      "text/plain": [
       "False"
      ]
     },
     "execution_count": 39,
     "metadata": {},
     "output_type": "execute_result"
    }
   ],
   "source": [
    "divvy['tripduration'].isnull().any()"
   ]
  },
  {
   "cell_type": "code",
   "execution_count": 49,
   "metadata": {
    "collapsed": false,
    "scrolled": true
   },
   "outputs": [
    {
     "data": {
      "text/plain": [
       "(0, 1800)"
      ]
     },
     "execution_count": 49,
     "metadata": {},
     "output_type": "execute_result"
    },
    {
     "data": {
      "image/png": "[encoded data removed]",
      "text/plain": [
       "<matplotlib.figure.Figure at 0x11bafb9d0>"
      ]
     },
     "metadata": {},
     "output_type": "display_data"
    }
   ],
   "source": [
    "plt.hist(divvy['tripduration'], bins=200)\n",
    "plt.xlim(0, 1800)"
   ]
  },
  {
   "cell_type": "code",
   "execution_count": 51,
   "metadata": {
    "collapsed": false
   },
   "outputs": [
    {
     "data": {
      "text/plain": [
       "0           316\n",
       "1            64\n",
       "2           433\n",
       "3           123\n",
       "4           852\n",
       "6          1094\n",
       "7          1020\n",
       "9           653\n",
       "10         1738\n",
       "12         1712\n",
       "13          996\n",
       "14          818\n",
       "16          730\n",
       "17         1292\n",
       "18         1511\n",
       "19         1512\n",
       "20         1125\n",
       "21          964\n",
       "22          972\n",
       "23          977\n",
       "26         1758\n",
       "27          730\n",
       "30         1117\n",
       "31          980\n",
       "32         1642\n",
       "35          423\n",
       "38          944\n",
       "39         1656\n",
       "40          736\n",
       "41          223\n",
       "           ... \n",
       "7867571     871\n",
       "7867572    1698\n",
       "7867573     522\n",
       "7867574    1320\n",
       "7867575    1335\n",
       "7867576    1707\n",
       "7867577     469\n",
       "7867578    1254\n",
       "7867579    1178\n",
       "7867580     404\n",
       "7867581    1652\n",
       "7867582    1322\n",
       "7867583    1342\n",
       "7867584     423\n",
       "7867585     117\n",
       "7867586     372\n",
       "7867587     381\n",
       "7867588     282\n",
       "7867589     253\n",
       "7867590     609\n",
       "7867591    1540\n",
       "7867592    1613\n",
       "7867593     721\n",
       "7867594     704\n",
       "7867595     590\n",
       "7867596     484\n",
       "7867597     512\n",
       "7867598     744\n",
       "7867599     615\n",
       "7867600     508\n",
       "Name: tripduration, dtype: int64"
      ]
     },
     "execution_count": 51,
     "metadata": {},
     "output_type": "execute_result"
    }
   ],
   "source": [
    "divvy[(divvy['tripduration'] <= 1800.0)]['tripduration']"
   ]
  },
  {
   "cell_type": "code",
   "execution_count": 52,
   "metadata": {
    "collapsed": false,
    "scrolled": false
   },
   "outputs": [
    {
     "data": {
      "text/plain": [
       "{'boxes': [<matplotlib.lines.Line2D at 0x129cd8f90>],\n",
       " 'caps': [<matplotlib.lines.Line2D at 0x11d60ee10>,\n",
       "  <matplotlib.lines.Line2D at 0x11d649750>],\n",
       " 'fliers': [<matplotlib.lines.Line2D at 0x11b0a4a90>],\n",
       " 'means': [],\n",
       " 'medians': [<matplotlib.lines.Line2D at 0x11d649d50>],\n",
       " 'whiskers': [<matplotlib.lines.Line2D at 0x115118cd0>,\n",
       "  <matplotlib.lines.Line2D at 0x11d60ead0>]}"
      ]
     },
     "execution_count": 52,
     "metadata": {},
     "output_type": "execute_result"
    },
    {
     "data": {
      "image/png": "[encoded data removed]",
      "text/plain": [
       "<matplotlib.figure.Figure at 0x1161d9ed0>"
      ]
     },
     "metadata": {},
     "output_type": "display_data"
    }
   ],
   "source": [
    "plt.boxplot(divvy[(divvy['tripduration'] <= 1800.0)]['tripduration'])"
   ]
  },
  {
   "cell_type": "code",
   "execution_count": 56,
   "metadata": {
    "collapsed": false
   },
   "outputs": [
    {
     "data": {
      "text/plain": [
       "(array([  13044.,   15049.,   25822.,   37343.,   49667.,   67006.,\n",
       "          76123.,   93060.,   97456.,  105284.,  118877.,  118166.,\n",
       "         130365.,  125873.,  127730.,  135669.,  129926.,  136540.,\n",
       "         128147.,  127271.,  133963.,  125199.,  130722.,  122180.,\n",
       "         120388.,  125586.,  115859.,  120413.,  111503.,  109629.,\n",
       "         113356.,  104342.,  108486.,   99805.,   97779.,  101538.,\n",
       "          93661.,   96684.,   89465.,   87536.,   90553.,   83489.,\n",
       "          86743.,   80276.,   79109.,   82147.,   75975.,   78639.,\n",
       "          73350.,   71844.,   75019.,   68821.,   71854.,   66347.,\n",
       "          65063.,   67860.,   62754.,   65043.,   60607.,   59475.,\n",
       "          62269.,   57813.,   59945.,   55568.,   55182.,   56438.,\n",
       "          52525.,   54895.,   50765.,   50007.,   52298.,   48735.,\n",
       "          50107.,   46550.,   45585.,   47460.,   43691.,   45364.,\n",
       "          41547.,   40744.,   42132.,   38598.,   40008.,   36556.,\n",
       "          35848.,   36040.,   33133.,   34042.,   30984.,   30074.,\n",
       "          30787.,   27842.,   28562.,   25903.,   24740.,   25123.,\n",
       "          22122.,   22353.,   19934.,   20090.]),\n",
       " array([   60. ,    77.4,    94.8,   112.2,   129.6,   147. ,   164.4,\n",
       "          181.8,   199.2,   216.6,   234. ,   251.4,   268.8,   286.2,\n",
       "          303.6,   321. ,   338.4,   355.8,   373.2,   390.6,   408. ,\n",
       "          425.4,   442.8,   460.2,   477.6,   495. ,   512.4,   529.8,\n",
       "          547.2,   564.6,   582. ,   599.4,   616.8,   634.2,   651.6,\n",
       "          669. ,   686.4,   703.8,   721.2,   738.6,   756. ,   773.4,\n",
       "          790.8,   808.2,   825.6,   843. ,   860.4,   877.8,   895.2,\n",
       "          912.6,   930. ,   947.4,   964.8,   982.2,   999.6,  1017. ,\n",
       "         1034.4,  1051.8,  1069.2,  1086.6,  1104. ,  1121.4,  1138.8,\n",
       "         1156.2,  1173.6,  1191. ,  1208.4,  1225.8,  1243.2,  1260.6,\n",
       "         1278. ,  1295.4,  1312.8,  1330.2,  1347.6,  1365. ,  1382.4,\n",
       "         1399.8,  1417.2,  1434.6,  1452. ,  1469.4,  1486.8,  1504.2,\n",
       "         1521.6,  1539. ,  1556.4,  1573.8,  1591.2,  1608.6,  1626. ,\n",
       "         1643.4,  1660.8,  1678.2,  1695.6,  1713. ,  1730.4,  1747.8,\n",
       "         1765.2,  1782.6,  1800. ]),\n",
       " <a list of 100 Patch objects>)"
      ]
     },
     "execution_count": 56,
     "metadata": {},
     "output_type": "execute_result"
    },
    {
     "data": {
      "image/png": "[encoded data removed]",
      "text/plain": [
       "<matplotlib.figure.Figure at 0x11cccd1d0>"
      ]
     },
     "metadata": {},
     "output_type": "display_data"
    }
   ],
   "source": [
    "plt.hist(divvy[(divvy['tripduration'] <= 1800.0)]['tripduration'], bins = 100)"
   ]
  },
  {
   "cell_type": "code",
   "execution_count": 57,
   "metadata": {
    "collapsed": false
   },
   "outputs": [
    {
     "data": {
      "text/plain": [
       "(array([  34085.,   81954.,  153736.,  210674.,  252834.,  287707.,\n",
       "         293058.,  303986.,  292518.,  287026.,  286267.,  268783.,\n",
       "         263224.,  245369.,  232641.,  227524.,  210448.,  205127.,\n",
       "         190336.,  182281.,  179075.,  167237.,  164412.,  153359.,\n",
       "         147102.,  144226.,  135751.,  133903.,  125196.,  120185.,\n",
       "         118477.,  111725.,  109036.,  102051.,   96487.,   93618.,\n",
       "          86455.,   82224.,   74403.,   69141.,   65220.,   58243.,\n",
       "          53126.,   45889.,   41124.,   37198.,   32000.,   29602.,\n",
       "          26157.,   23535.,   22238.,   19820.,   19061.,   17238.,\n",
       "          15928.,   15334.,   13923.,   13353.,   12248.,   11662.,\n",
       "          11291.,   10376.,   10158.,    9401.,    8930.,    8940.,\n",
       "           8256.,    8102.,    7438.,    7366.,    7158.,    6781.,\n",
       "           6822.,    6293.,    6039.,    6173.,    5762.,    5601.,\n",
       "           5327.,    5092.,    5132.,    4886.,    4875.,    4559.,\n",
       "           4390.,    4279.,    4032.,    3995.,    3814.,    3451.,\n",
       "           3404.,    3421.,    3235.,    2982.,    2852.,    2931.,\n",
       "           2772.,    2838.,    2601.,    2687.]),\n",
       " array([   60. ,    99.4,   138.8,   178.2,   217.6,   257. ,   296.4,\n",
       "          335.8,   375.2,   414.6,   454. ,   493.4,   532.8,   572.2,\n",
       "          611.6,   651. ,   690.4,   729.8,   769.2,   808.6,   848. ,\n",
       "          887.4,   926.8,   966.2,  1005.6,  1045. ,  1084.4,  1123.8,\n",
       "         1163.2,  1202.6,  1242. ,  1281.4,  1320.8,  1360.2,  1399.6,\n",
       "         1439. ,  1478.4,  1517.8,  1557.2,  1596.6,  1636. ,  1675.4,\n",
       "         1714.8,  1754.2,  1793.6,  1833. ,  1872.4,  1911.8,  1951.2,\n",
       "         1990.6,  2030. ,  2069.4,  2108.8,  2148.2,  2187.6,  2227. ,\n",
       "         2266.4,  2305.8,  2345.2,  2384.6,  2424. ,  2463.4,  2502.8,\n",
       "         2542.2,  2581.6,  2621. ,  2660.4,  2699.8,  2739.2,  2778.6,\n",
       "         2818. ,  2857.4,  2896.8,  2936.2,  2975.6,  3015. ,  3054.4,\n",
       "         3093.8,  3133.2,  3172.6,  3212. ,  3251.4,  3290.8,  3330.2,\n",
       "         3369.6,  3409. ,  3448.4,  3487.8,  3527.2,  3566.6,  3606. ,\n",
       "         3645.4,  3684.8,  3724.2,  3763.6,  3803. ,  3842.4,  3881.8,\n",
       "         3921.2,  3960.6,  4000. ]),\n",
       " <a list of 100 Patch objects>)"
      ]
     },
     "execution_count": 57,
     "metadata": {},
     "output_type": "execute_result"
    },
    {
     "data": {
      "image/png": "[encoded data removed]",
      "text/plain": [
       "<matplotlib.figure.Figure at 0x11d80f9d0>"
      ]
     },
     "metadata": {},
     "output_type": "display_data"
    }
   ],
   "source": [
    "plt.hist(divvy[(divvy['tripduration'] <= 4000.0)]['tripduration'], bins = 100)"
   ]
  },
  {
   "cell_type": "code",
   "execution_count": 48,
   "metadata": {
    "collapsed": false,
    "scrolled": true
   },
   "outputs": [
    {
     "data": {
      "text/plain": [
       "346      7776\n",
       "328      7775\n",
       "366      7744\n",
       "341      7731\n",
       "342      7720\n",
       "352      7703\n",
       "354      7679\n",
       "360      7672\n",
       "380      7670\n",
       "344      7667\n",
       "339      7666\n",
       "363      7657\n",
       "329      7652\n",
       "356      7650\n",
       "345      7648\n",
       "318      7647\n",
       "348      7646\n",
       "349      7645\n",
       "340      7642\n",
       "357      7637\n",
       "364      7634\n",
       "365      7633\n",
       "314      7631\n",
       "331      7628\n",
       "389      7624\n",
       "361      7619\n",
       "355      7618\n",
       "327      7614\n",
       "369      7613\n",
       "336      7610\n",
       "         ... \n",
       "15350       1\n",
       "31742       1\n",
       "16458       1\n",
       "84955       1\n",
       "12356       1\n",
       "32137       1\n",
       "28043       1\n",
       "73839       1\n",
       "23521       1\n",
       "31714       1\n",
       "27617       1\n",
       "20546       1\n",
       "82031       1\n",
       "77921       1\n",
       "61529       1\n",
       "16463       1\n",
       "53220       1\n",
       "73126       1\n",
       "16450       1\n",
       "16379       1\n",
       "24567       1\n",
       "31716       1\n",
       "15342       1\n",
       "60404       1\n",
       "20551       1\n",
       "16453       1\n",
       "24641       1\n",
       "32860       1\n",
       "68555       1\n",
       "21400       1\n",
       "Name: tripduration, dtype: int64"
      ]
     },
     "execution_count": 48,
     "metadata": {},
     "output_type": "execute_result"
    }
   ],
   "source": [
    "divvy['tripduration'].value_counts().sort_values(ascending=False)"
   ]
  },
  {
   "cell_type": "code",
   "execution_count": 60,
   "metadata": {
    "collapsed": false,
    "scrolled": true
   },
   "outputs": [
    {
     "data": {
      "text/plain": [
       "(array([ 19187.,  18129.,  17126.,  16160.,  15208.,  14439.,  13671.,\n",
       "         13278.,  12680.,  11981.,  11539.,  10802.,  10574.,  10215.,\n",
       "          9673.,   9301.,   8994.,   8788.,   8508.,   8229.,   7961.,\n",
       "          7494.,   7402.,   7231.,   6961.,   6724.,   6552.,   6285.,\n",
       "          6122.,   5935.,   5892.,   5643.,   5372.,   5395.,   5332.,\n",
       "          5046.,   4992.,   4829.,   4718.,   4620.,   4525.,   4388.,\n",
       "          4368.,   4240.,   4109.,   4119.,   3924.,   3960.,   3881.,\n",
       "          3763.,   3674.,   3640.,   3433.,   3469.,   3360.,   3423.,\n",
       "          3344.,   3210.,   3187.,   3112.,   3143.,   3062.,   3074.,\n",
       "          3031.,   2823.,   2806.,   2768.,   2755.,   2788.,   2769.,\n",
       "          2570.,   2697.,   2560.,   2471.,   2486.,   2436.,   2392.,\n",
       "          2374.,   2368.,   2290.,   2221.,   2297.,   2250.,   2184.,\n",
       "          2168.,   2147.,   2078.,   1961.,   2069.,   2008.,   1903.,\n",
       "          1922.,   1844.,   1805.,   1768.,   1862.,   1766.,   1755.,\n",
       "          1606.,   1556.]),\n",
       " array([ 1801.  ,  1818.99,  1836.98,  1854.97,  1872.96,  1890.95,\n",
       "         1908.94,  1926.93,  1944.92,  1962.91,  1980.9 ,  1998.89,\n",
       "         2016.88,  2034.87,  2052.86,  2070.85,  2088.84,  2106.83,\n",
       "         2124.82,  2142.81,  2160.8 ,  2178.79,  2196.78,  2214.77,\n",
       "         2232.76,  2250.75,  2268.74,  2286.73,  2304.72,  2322.71,\n",
       "         2340.7 ,  2358.69,  2376.68,  2394.67,  2412.66,  2430.65,\n",
       "         2448.64,  2466.63,  2484.62,  2502.61,  2520.6 ,  2538.59,\n",
       "         2556.58,  2574.57,  2592.56,  2610.55,  2628.54,  2646.53,\n",
       "         2664.52,  2682.51,  2700.5 ,  2718.49,  2736.48,  2754.47,\n",
       "         2772.46,  2790.45,  2808.44,  2826.43,  2844.42,  2862.41,\n",
       "         2880.4 ,  2898.39,  2916.38,  2934.37,  2952.36,  2970.35,\n",
       "         2988.34,  3006.33,  3024.32,  3042.31,  3060.3 ,  3078.29,\n",
       "         3096.28,  3114.27,  3132.26,  3150.25,  3168.24,  3186.23,\n",
       "         3204.22,  3222.21,  3240.2 ,  3258.19,  3276.18,  3294.17,\n",
       "         3312.16,  3330.15,  3348.14,  3366.13,  3384.12,  3402.11,\n",
       "         3420.1 ,  3438.09,  3456.08,  3474.07,  3492.06,  3510.05,\n",
       "         3528.04,  3546.03,  3564.02,  3582.01,  3600.  ]),\n",
       " <a list of 100 Patch objects>)"
      ]
     },
     "execution_count": 60,
     "metadata": {},
     "output_type": "execute_result"
    },
    {
     "data": {
      "image/png": "[encoded data removed]",
      "text/plain": [
       "<matplotlib.figure.Figure at 0x11f053850>"
      ]
     },
     "metadata": {},
     "output_type": "display_data"
    }
   ],
   "source": [
    "plt.hist(divvy[(divvy['tripduration'] <= 1800.0)]['tripduration'], bins = 100, color='r')\n",
    "plt.hist(divvy[(divvy['tripduration'] > 1800.0) & (divvy['tripduration'] <= 3600.0)]['tripduration'], bins = 100, color='g')"
   ]
  },
  {
   "cell_type": "code",
   "execution_count": 61,
   "metadata": {
    "collapsed": true
   },
   "outputs": [],
   "source": [
    "under30 = divvy[(divvy['tripduration'] <= 1800.0)]['tripduration']\n",
    "over30 = divvy[(divvy['tripduration'] > 1800.0) & (divvy['tripduration'] <= 3600.0)]['tripduration']"
   ]
  },
  {
   "cell_type": "code",
   "execution_count": 71,
   "metadata": {
    "collapsed": false
   },
   "outputs": [
    {
     "data": {
      "text/plain": [
       "(array([ 49653.,  43366.,  37767.,  33191.,  29324.,  26220.,  23986.,\n",
       "         21632.,  19993.,  18270.,  16715.,  15447.,  14549.,  13463.,\n",
       "         12582.,  11942.,  11214.,  10739.,  10006.,   9431.,   9239.,\n",
       "          8704.,   8490.,   7831.,   7670.,   7390.,   6968.,   6679.,\n",
       "          6447.,   6252.,   6006.,   5631.,   5454.,   5093.,   4999.,\n",
       "          4530.,     77.]),\n",
       " array([1800, 1850, 1900, 1950, 2000, 2050, 2100, 2150, 2200, 2250, 2300,\n",
       "        2350, 2400, 2450, 2500, 2550, 2600, 2650, 2700, 2750, 2800, 2850,\n",
       "        2900, 2950, 3000, 3050, 3100, 3150, 3200, 3250, 3300, 3350, 3400,\n",
       "        3450, 3500, 3550, 3600, 3650]),\n",
       " <a list of 37 Patch objects>)"
      ]
     },
     "execution_count": 71,
     "metadata": {},
     "output_type": "execute_result"
    },
    {
     "data": {
      "image/png": "[encoded data removed]",
      "text/plain": [
       "<matplotlib.figure.Figure at 0x120d53d50>"
      ]
     },
     "metadata": {},
     "output_type": "display_data"
    }
   ],
   "source": [
    "plt.hist(under30, bins=range(0,1900,50), color='plum')\n",
    "plt.hist(over30, bins=range(1800,3700,50), color='seagreen')"
   ]
  },
  {
   "cell_type": "code",
   "execution_count": 72,
   "metadata": {
    "collapsed": false
   },
   "outputs": [
    {
     "data": {
      "text/plain": [
       "Subscriber    5466758\n",
       "Customer      2400700\n",
       "Dependent         143\n",
       "Name: usertype, dtype: int64"
      ]
     },
     "execution_count": 72,
     "metadata": {},
     "output_type": "execute_result"
    }
   ],
   "source": [
    "divvy['usertype'].value_counts()"
   ]
  },
  {
   "cell_type": "code",
   "execution_count": 76,
   "metadata": {
    "collapsed": false
   },
   "outputs": [
    {
     "name": "stdout",
     "output_type": "stream",
     "text": [
      "bikeid               7867601\n",
      "birthday              402909\n",
      "birthyear            5063917\n",
      "from_station_id      7867601\n",
      "from_station_name    7867601\n",
      "gender               5466633\n",
      "starttime            7867601\n",
      "stoptime             7867601\n",
      "to_station_id        7867601\n",
      "to_station_name      7867601\n",
      "trip_id              7867601\n",
      "tripduration         7867601\n",
      "usertype             7867601\n",
      "dtype: int64\n",
      "bikeid               7867601\n",
      "birthday              402909\n",
      "birthyear            5063917\n",
      "from_station_id      7867601\n",
      "from_station_name    7867601\n",
      "gender               5466633\n",
      "starttime            7867601\n",
      "stoptime             7867601\n",
      "to_station_id        7867601\n",
      "to_station_name      7867601\n",
      "trip_id              7867601\n",
      "tripduration         7867601\n",
      "usertype             7867601\n",
      "dtype: int64\n"
     ]
    }
   ],
   "source": [
    "no_dependents = divvy.copy()\n",
    "print no_dependents.count()\n",
    "no_dependents = no_dependents[(no_dependents['usertype'] != 'Dependents')]\n",
    "print no_dependents.count()"
   ]
  },
  {
   "cell_type": "code",
   "execution_count": 77,
   "metadata": {
    "collapsed": false
   },
   "outputs": [
    {
     "data": {
      "text/plain": [
       "Subscriber    5466758\n",
       "Customer      2400700\n",
       "Dependent         143\n",
       "Name: usertype, dtype: int64"
      ]
     },
     "execution_count": 77,
     "metadata": {},
     "output_type": "execute_result"
    }
   ],
   "source": [
    "no_dependents['usertype'].value_counts()"
   ]
  },
  {
   "cell_type": "code",
   "execution_count": 78,
   "metadata": {
    "collapsed": true
   },
   "outputs": [],
   "source": [
    "import math\n",
    "no_dependents['minutes'] = no_dependents['tripduration'].apply(lambda x: math.floor(x /60.0))"
   ]
  },
  {
   "cell_type": "code",
   "execution_count": 79,
   "metadata": {
    "collapsed": false
   },
   "outputs": [
    {
     "data": {
      "text/plain": [
       "count    7.867601e+06\n",
       "mean     1.676336e+01\n",
       "std      3.438477e+01\n",
       "min      1.000000e+00\n",
       "25%      7.000000e+00\n",
       "50%      1.200000e+01\n",
       "75%      2.000000e+01\n",
       "max      1.439000e+03\n",
       "Name: minutes, dtype: float64"
      ]
     },
     "execution_count": 79,
     "metadata": {},
     "output_type": "execute_result"
    }
   ],
   "source": [
    "no_dependents['minutes'].describe()"
   ]
  },
  {
   "cell_type": "code",
   "execution_count": 80,
   "metadata": {
    "collapsed": false
   },
   "outputs": [
    {
     "data": {
      "text/plain": [
       "0     5.0\n",
       "1     1.0\n",
       "2     7.0\n",
       "3     2.0\n",
       "4    14.0\n",
       "Name: minutes, dtype: float64"
      ]
     },
     "execution_count": 80,
     "metadata": {},
     "output_type": "execute_result"
    }
   ],
   "source": [
    "no_dependents['minutes'].head()"
   ]
  },
  {
   "cell_type": "code",
   "execution_count": 81,
   "metadata": {
    "collapsed": false
   },
   "outputs": [
    {
     "data": {
      "image/png": "[encoded data removed]",
      "text/plain": [
       "<matplotlib.figure.Figure at 0x12123f8d0>"
      ]
     },
     "metadata": {},
     "output_type": "display_data"
    }
   ],
   "source": [
    "sns.violinplot(x=\"gender\", y=\"tripduration\", data=divvy)\n",
    "plt.show()"
   ]
  },
  {
   "cell_type": "code",
   "execution_count": 82,
   "metadata": {
    "collapsed": false
   },
   "outputs": [
    {
     "ename": "ValueError",
     "evalue": "Could not interpret input 'usertype'",
     "output_type": "error",
     "traceback": [
      "\u001b[0;31m---------------------------------------------------------------------------\u001b[0m",
      "\u001b[0;31mValueError\u001b[0m                                Traceback (most recent call last)",
      "\u001b[0;32m<ipython-input-82-5da17dc1619a>\u001b[0m in \u001b[0;36m<module>\u001b[0;34m()\u001b[0m\n\u001b[0;32m----> 1\u001b[0;31m \u001b[0msns\u001b[0m\u001b[0;34m.\u001b[0m\u001b[0mviolinplot\u001b[0m\u001b[0;34m(\u001b[0m\u001b[0mx\u001b[0m\u001b[0;34m=\u001b[0m\u001b[0;34m\"usertype\"\u001b[0m\u001b[0;34m,\u001b[0m \u001b[0my\u001b[0m\u001b[0;34m=\u001b[0m\u001b[0;34m\"tripduration\"\u001b[0m\u001b[0;34m,\u001b[0m \u001b[0mdata\u001b[0m\u001b[0;34m=\u001b[0m\u001b[0munder30\u001b[0m\u001b[0;34m)\u001b[0m\u001b[0;34m\u001b[0m\u001b[0m\n\u001b[0m\u001b[1;32m      2\u001b[0m \u001b[0mplt\u001b[0m\u001b[0;34m.\u001b[0m\u001b[0mshow\u001b[0m\u001b[0;34m(\u001b[0m\u001b[0;34m)\u001b[0m\u001b[0;34m\u001b[0m\u001b[0m\n",
      "\u001b[0;32m/Users/christophereppig/anaconda/lib/python2.7/site-packages/seaborn/categorical.pyc\u001b[0m in \u001b[0;36mviolinplot\u001b[0;34m(x, y, hue, data, order, hue_order, bw, cut, scale, scale_hue, gridsize, width, inner, split, orient, linewidth, color, palette, saturation, ax, **kwargs)\u001b[0m\n\u001b[1;32m   2345\u001b[0m                              \u001b[0mbw\u001b[0m\u001b[0;34m,\u001b[0m \u001b[0mcut\u001b[0m\u001b[0;34m,\u001b[0m \u001b[0mscale\u001b[0m\u001b[0;34m,\u001b[0m \u001b[0mscale_hue\u001b[0m\u001b[0;34m,\u001b[0m \u001b[0mgridsize\u001b[0m\u001b[0;34m,\u001b[0m\u001b[0;34m\u001b[0m\u001b[0m\n\u001b[1;32m   2346\u001b[0m                              \u001b[0mwidth\u001b[0m\u001b[0;34m,\u001b[0m \u001b[0minner\u001b[0m\u001b[0;34m,\u001b[0m \u001b[0msplit\u001b[0m\u001b[0;34m,\u001b[0m \u001b[0morient\u001b[0m\u001b[0;34m,\u001b[0m \u001b[0mlinewidth\u001b[0m\u001b[0;34m,\u001b[0m\u001b[0;34m\u001b[0m\u001b[0m\n\u001b[0;32m-> 2347\u001b[0;31m                              color, palette, saturation)\n\u001b[0m\u001b[1;32m   2348\u001b[0m \u001b[0;34m\u001b[0m\u001b[0m\n\u001b[1;32m   2349\u001b[0m     \u001b[0;32mif\u001b[0m \u001b[0max\u001b[0m \u001b[0;32mis\u001b[0m \u001b[0mNone\u001b[0m\u001b[0;34m:\u001b[0m\u001b[0;34m\u001b[0m\u001b[0m\n",
      "\u001b[0;32m/Users/christophereppig/anaconda/lib/python2.7/site-packages/seaborn/categorical.pyc\u001b[0m in \u001b[0;36m__init__\u001b[0;34m(self, x, y, hue, data, order, hue_order, bw, cut, scale, scale_hue, gridsize, width, inner, split, orient, linewidth, color, palette, saturation)\u001b[0m\n\u001b[1;32m    539\u001b[0m                  color, palette, saturation):\n\u001b[1;32m    540\u001b[0m \u001b[0;34m\u001b[0m\u001b[0m\n\u001b[0;32m--> 541\u001b[0;31m         \u001b[0mself\u001b[0m\u001b[0;34m.\u001b[0m\u001b[0mestablish_variables\u001b[0m\u001b[0;34m(\u001b[0m\u001b[0mx\u001b[0m\u001b[0;34m,\u001b[0m \u001b[0my\u001b[0m\u001b[0;34m,\u001b[0m \u001b[0mhue\u001b[0m\u001b[0;34m,\u001b[0m \u001b[0mdata\u001b[0m\u001b[0;34m,\u001b[0m \u001b[0morient\u001b[0m\u001b[0;34m,\u001b[0m \u001b[0morder\u001b[0m\u001b[0;34m,\u001b[0m \u001b[0mhue_order\u001b[0m\u001b[0;34m)\u001b[0m\u001b[0;34m\u001b[0m\u001b[0m\n\u001b[0m\u001b[1;32m    542\u001b[0m         \u001b[0mself\u001b[0m\u001b[0;34m.\u001b[0m\u001b[0mestablish_colors\u001b[0m\u001b[0;34m(\u001b[0m\u001b[0mcolor\u001b[0m\u001b[0;34m,\u001b[0m \u001b[0mpalette\u001b[0m\u001b[0;34m,\u001b[0m \u001b[0msaturation\u001b[0m\u001b[0;34m)\u001b[0m\u001b[0;34m\u001b[0m\u001b[0m\n\u001b[1;32m    543\u001b[0m         \u001b[0mself\u001b[0m\u001b[0;34m.\u001b[0m\u001b[0mestimate_densities\u001b[0m\u001b[0;34m(\u001b[0m\u001b[0mbw\u001b[0m\u001b[0;34m,\u001b[0m \u001b[0mcut\u001b[0m\u001b[0;34m,\u001b[0m \u001b[0mscale\u001b[0m\u001b[0;34m,\u001b[0m \u001b[0mscale_hue\u001b[0m\u001b[0;34m,\u001b[0m \u001b[0mgridsize\u001b[0m\u001b[0;34m)\u001b[0m\u001b[0;34m\u001b[0m\u001b[0m\n",
      "\u001b[0;32m/Users/christophereppig/anaconda/lib/python2.7/site-packages/seaborn/categorical.pyc\u001b[0m in \u001b[0;36mestablish_variables\u001b[0;34m(self, x, y, hue, data, orient, order, hue_order, units)\u001b[0m\n\u001b[1;32m    149\u001b[0m                 \u001b[0;32mif\u001b[0m \u001b[0misinstance\u001b[0m\u001b[0;34m(\u001b[0m\u001b[0minput\u001b[0m\u001b[0;34m,\u001b[0m \u001b[0mstring_types\u001b[0m\u001b[0;34m)\u001b[0m\u001b[0;34m:\u001b[0m\u001b[0;34m\u001b[0m\u001b[0m\n\u001b[1;32m    150\u001b[0m                     \u001b[0merr\u001b[0m \u001b[0;34m=\u001b[0m \u001b[0;34m\"Could not interpret input '{}'\"\u001b[0m\u001b[0;34m.\u001b[0m\u001b[0mformat\u001b[0m\u001b[0;34m(\u001b[0m\u001b[0minput\u001b[0m\u001b[0;34m)\u001b[0m\u001b[0;34m\u001b[0m\u001b[0m\n\u001b[0;32m--> 151\u001b[0;31m                     \u001b[0;32mraise\u001b[0m \u001b[0mValueError\u001b[0m\u001b[0;34m(\u001b[0m\u001b[0merr\u001b[0m\u001b[0;34m)\u001b[0m\u001b[0;34m\u001b[0m\u001b[0m\n\u001b[0m\u001b[1;32m    152\u001b[0m \u001b[0;34m\u001b[0m\u001b[0m\n\u001b[1;32m    153\u001b[0m             \u001b[0;31m# Figure out the plotting orientation\u001b[0m\u001b[0;34m\u001b[0m\u001b[0;34m\u001b[0m\u001b[0m\n",
      "\u001b[0;31mValueError\u001b[0m: Could not interpret input 'usertype'"
     ]
    }
   ],
   "source": [
    "sns.violinplot(x=\"usertype\", y=\"tripduration\", data=under30)\n",
    "plt.show()"
   ]
  },
  {
   "cell_type": "code",
   "execution_count": 83,
   "metadata": {
    "collapsed": false
   },
   "outputs": [
    {
     "data": {
      "text/html": [
       "<div>\n",
       "<table border=\"1\" class=\"dataframe\">\n",
       "  <thead>\n",
       "    <tr style=\"text-align: right;\">\n",
       "      <th></th>\n",
       "      <th>Customer</th>\n",
       "      <th>Dependent</th>\n",
       "      <th>Subscriber</th>\n",
       "    </tr>\n",
       "  </thead>\n",
       "  <tbody>\n",
       "    <tr>\n",
       "      <th>0</th>\n",
       "      <td>1.0</td>\n",
       "      <td>0.0</td>\n",
       "      <td>0.0</td>\n",
       "    </tr>\n",
       "    <tr>\n",
       "      <th>1</th>\n",
       "      <td>1.0</td>\n",
       "      <td>0.0</td>\n",
       "      <td>0.0</td>\n",
       "    </tr>\n",
       "    <tr>\n",
       "      <th>2</th>\n",
       "      <td>1.0</td>\n",
       "      <td>0.0</td>\n",
       "      <td>0.0</td>\n",
       "    </tr>\n",
       "    <tr>\n",
       "      <th>3</th>\n",
       "      <td>1.0</td>\n",
       "      <td>0.0</td>\n",
       "      <td>0.0</td>\n",
       "    </tr>\n",
       "    <tr>\n",
       "      <th>4</th>\n",
       "      <td>1.0</td>\n",
       "      <td>0.0</td>\n",
       "      <td>0.0</td>\n",
       "    </tr>\n",
       "  </tbody>\n",
       "</table>\n",
       "</div>"
      ],
      "text/plain": [
       "   Customer  Dependent  Subscriber\n",
       "0       1.0        0.0         0.0\n",
       "1       1.0        0.0         0.0\n",
       "2       1.0        0.0         0.0\n",
       "3       1.0        0.0         0.0\n",
       "4       1.0        0.0         0.0"
      ]
     },
     "execution_count": 83,
     "metadata": {},
     "output_type": "execute_result"
    }
   ],
   "source": [
    "usertypes = pd.get_dummies(no_dependents['usertype'])\n",
    "usertypes.head()"
   ]
  },
  {
   "cell_type": "code",
   "execution_count": 84,
   "metadata": {
    "collapsed": false
   },
   "outputs": [
    {
     "data": {
      "text/html": [
       "<div>\n",
       "<table border=\"1\" class=\"dataframe\">\n",
       "  <thead>\n",
       "    <tr style=\"text-align: right;\">\n",
       "      <th></th>\n",
       "      <th>bikeid</th>\n",
       "      <th>birthday</th>\n",
       "      <th>birthyear</th>\n",
       "      <th>from_station_id</th>\n",
       "      <th>from_station_name</th>\n",
       "      <th>gender</th>\n",
       "      <th>starttime</th>\n",
       "      <th>stoptime</th>\n",
       "      <th>to_station_id</th>\n",
       "      <th>to_station_name</th>\n",
       "      <th>trip_id</th>\n",
       "      <th>tripduration</th>\n",
       "      <th>usertype</th>\n",
       "      <th>minutes</th>\n",
       "      <th>Customer</th>\n",
       "      <th>Dependent</th>\n",
       "      <th>Subscriber</th>\n",
       "    </tr>\n",
       "  </thead>\n",
       "  <tbody>\n",
       "    <tr>\n",
       "      <th>0</th>\n",
       "      <td>480</td>\n",
       "      <td>NaN</td>\n",
       "      <td>NaN</td>\n",
       "      <td>85</td>\n",
       "      <td>Michigan Ave &amp; Oak St</td>\n",
       "      <td>NaN</td>\n",
       "      <td>2013-06-27 12:11</td>\n",
       "      <td>2013-06-27 12:16</td>\n",
       "      <td>28</td>\n",
       "      <td>Larrabee St &amp; Menomonee St</td>\n",
       "      <td>4118</td>\n",
       "      <td>316</td>\n",
       "      <td>Customer</td>\n",
       "      <td>5.0</td>\n",
       "      <td>1.0</td>\n",
       "      <td>0.0</td>\n",
       "      <td>0.0</td>\n",
       "    </tr>\n",
       "    <tr>\n",
       "      <th>1</th>\n",
       "      <td>77</td>\n",
       "      <td>NaN</td>\n",
       "      <td>NaN</td>\n",
       "      <td>32</td>\n",
       "      <td>Racine Ave &amp; Congress Pkwy</td>\n",
       "      <td>NaN</td>\n",
       "      <td>2013-06-27 14:44</td>\n",
       "      <td>2013-06-27 14:45</td>\n",
       "      <td>32</td>\n",
       "      <td>Racine Ave &amp; Congress Pkwy</td>\n",
       "      <td>4275</td>\n",
       "      <td>64</td>\n",
       "      <td>Customer</td>\n",
       "      <td>1.0</td>\n",
       "      <td>1.0</td>\n",
       "      <td>0.0</td>\n",
       "      <td>0.0</td>\n",
       "    </tr>\n",
       "    <tr>\n",
       "      <th>2</th>\n",
       "      <td>77</td>\n",
       "      <td>NaN</td>\n",
       "      <td>NaN</td>\n",
       "      <td>32</td>\n",
       "      <td>Racine Ave &amp; Congress Pkwy</td>\n",
       "      <td>NaN</td>\n",
       "      <td>2013-06-27 14:58</td>\n",
       "      <td>2013-06-27 15:05</td>\n",
       "      <td>19</td>\n",
       "      <td>Loomis St &amp; Taylor St</td>\n",
       "      <td>4291</td>\n",
       "      <td>433</td>\n",
       "      <td>Customer</td>\n",
       "      <td>7.0</td>\n",
       "      <td>1.0</td>\n",
       "      <td>0.0</td>\n",
       "      <td>0.0</td>\n",
       "    </tr>\n",
       "    <tr>\n",
       "      <th>3</th>\n",
       "      <td>77</td>\n",
       "      <td>NaN</td>\n",
       "      <td>NaN</td>\n",
       "      <td>19</td>\n",
       "      <td>Loomis St &amp; Taylor St</td>\n",
       "      <td>NaN</td>\n",
       "      <td>2013-06-27 15:06</td>\n",
       "      <td>2013-06-27 15:09</td>\n",
       "      <td>19</td>\n",
       "      <td>Loomis St &amp; Taylor St</td>\n",
       "      <td>4316</td>\n",
       "      <td>123</td>\n",
       "      <td>Customer</td>\n",
       "      <td>2.0</td>\n",
       "      <td>1.0</td>\n",
       "      <td>0.0</td>\n",
       "      <td>0.0</td>\n",
       "    </tr>\n",
       "    <tr>\n",
       "      <th>4</th>\n",
       "      <td>77</td>\n",
       "      <td>NaN</td>\n",
       "      <td>NaN</td>\n",
       "      <td>19</td>\n",
       "      <td>Loomis St &amp; Taylor St</td>\n",
       "      <td>NaN</td>\n",
       "      <td>2013-06-27 15:13</td>\n",
       "      <td>2013-06-27 15:27</td>\n",
       "      <td>55</td>\n",
       "      <td>Halsted St &amp; James M Rochford St</td>\n",
       "      <td>4342</td>\n",
       "      <td>852</td>\n",
       "      <td>Customer</td>\n",
       "      <td>14.0</td>\n",
       "      <td>1.0</td>\n",
       "      <td>0.0</td>\n",
       "      <td>0.0</td>\n",
       "    </tr>\n",
       "  </tbody>\n",
       "</table>\n",
       "</div>"
      ],
      "text/plain": [
       "   bikeid  birthday  birthyear  from_station_id           from_station_name  \\\n",
       "0     480       NaN        NaN               85       Michigan Ave & Oak St   \n",
       "1      77       NaN        NaN               32  Racine Ave & Congress Pkwy   \n",
       "2      77       NaN        NaN               32  Racine Ave & Congress Pkwy   \n",
       "3      77       NaN        NaN               19       Loomis St & Taylor St   \n",
       "4      77       NaN        NaN               19       Loomis St & Taylor St   \n",
       "\n",
       "  gender         starttime          stoptime  to_station_id  \\\n",
       "0    NaN  2013-06-27 12:11  2013-06-27 12:16             28   \n",
       "1    NaN  2013-06-27 14:44  2013-06-27 14:45             32   \n",
       "2    NaN  2013-06-27 14:58  2013-06-27 15:05             19   \n",
       "3    NaN  2013-06-27 15:06  2013-06-27 15:09             19   \n",
       "4    NaN  2013-06-27 15:13  2013-06-27 15:27             55   \n",
       "\n",
       "                    to_station_name  trip_id  tripduration  usertype  minutes  \\\n",
       "0        Larrabee St & Menomonee St     4118           316  Customer      5.0   \n",
       "1        Racine Ave & Congress Pkwy     4275            64  Customer      1.0   \n",
       "2             Loomis St & Taylor St     4291           433  Customer      7.0   \n",
       "3             Loomis St & Taylor St     4316           123  Customer      2.0   \n",
       "4  Halsted St & James M Rochford St     4342           852  Customer     14.0   \n",
       "\n",
       "   Customer  Dependent  Subscriber  \n",
       "0       1.0        0.0         0.0  \n",
       "1       1.0        0.0         0.0  \n",
       "2       1.0        0.0         0.0  \n",
       "3       1.0        0.0         0.0  \n",
       "4       1.0        0.0         0.0  "
      ]
     },
     "execution_count": 84,
     "metadata": {},
     "output_type": "execute_result"
    }
   ],
   "source": [
    "no_dependents = no_dependents.join(usertypes)\n",
    "no_dependents.head()"
   ]
  },
  {
   "cell_type": "code",
   "execution_count": 87,
   "metadata": {
    "collapsed": false
   },
   "outputs": [
    {
     "data": {
      "text/plain": [
       "minutes\n",
       "1.0       11774.0\n",
       "2.0       12694.0\n",
       "3.0       18447.0\n",
       "4.0       26803.0\n",
       "5.0       34227.0\n",
       "6.0       42052.0\n",
       "7.0       49372.0\n",
       "8.0       55955.0\n",
       "9.0       61414.0\n",
       "10.0      65174.0\n",
       "11.0      69195.0\n",
       "12.0      71453.0\n",
       "13.0      74183.0\n",
       "14.0      76212.0\n",
       "15.0      78379.0\n",
       "16.0      80074.0\n",
       "17.0      81286.0\n",
       "18.0      82635.0\n",
       "19.0      83696.0\n",
       "20.0      82701.0\n",
       "21.0      83495.0\n",
       "22.0      82488.0\n",
       "23.0      80318.0\n",
       "24.0      78146.0\n",
       "25.0      73964.0\n",
       "26.0      69233.0\n",
       "27.0      64424.0\n",
       "28.0      58353.0\n",
       "29.0      50364.0\n",
       "30.0      43830.0\n",
       "           ...   \n",
       "1410.0        4.0\n",
       "1411.0        5.0\n",
       "1412.0        2.0\n",
       "1413.0        5.0\n",
       "1414.0        3.0\n",
       "1415.0        7.0\n",
       "1416.0       11.0\n",
       "1417.0        4.0\n",
       "1418.0        5.0\n",
       "1419.0        3.0\n",
       "1420.0       14.0\n",
       "1421.0        6.0\n",
       "1422.0       14.0\n",
       "1423.0        8.0\n",
       "1424.0        9.0\n",
       "1425.0        7.0\n",
       "1426.0        3.0\n",
       "1427.0        4.0\n",
       "1428.0        2.0\n",
       "1429.0        7.0\n",
       "1430.0        8.0\n",
       "1431.0        5.0\n",
       "1432.0        1.0\n",
       "1433.0        6.0\n",
       "1434.0        2.0\n",
       "1435.0        6.0\n",
       "1436.0        8.0\n",
       "1437.0        7.0\n",
       "1438.0        6.0\n",
       "1439.0        5.0\n",
       "Name: Customer, dtype: float64"
      ]
     },
     "execution_count": 87,
     "metadata": {},
     "output_type": "execute_result"
    }
   ],
   "source": [
    "no_dependents.groupby('minutes')['Customer'].sum() ## exactly the same output as a pivot table"
   ]
  },
  {
   "cell_type": "code",
   "execution_count": 88,
   "metadata": {
    "collapsed": true
   },
   "outputs": [],
   "source": [
    "customers_by_minutes = no_dependents.groupby('minutes')['Customer'].sum() \n",
    "subscribers_by_minutes = no_dependents.groupby('minutes')['Subscriber'].sum() "
   ]
  },
  {
   "cell_type": "code",
   "execution_count": 101,
   "metadata": {
    "collapsed": false
   },
   "outputs": [
    {
     "data": {
      "text/plain": [
       "<matplotlib.legend.Legend at 0x122802b90>"
      ]
     },
     "execution_count": 101,
     "metadata": {},
     "output_type": "execute_result"
    },
    {
     "data": {
      "image/png": "[encoded data removed]",
      "text/plain": [
       "<matplotlib.figure.Figure at 0x122770a50>"
      ]
     },
     "metadata": {},
     "output_type": "display_data"
    }
   ],
   "source": [
    "plt.axes(axisbg='w')\n",
    "plt.plot(customers_by_minutes, color='limegreen', label='Customers')\n",
    "plt.plot(subscribers_by_minutes, color='b', label='Subscribers')\n",
    "plt.xlim(0, 90)\n",
    "plt.ylabel(\"Number of Rides 2013Q3-2016Q2\")\n",
    "plt.xlabel(\"Legth of Ride (in full minutes)\")\n",
    "plt.title(\"Number of Subscriber and Customer Rides, \\nper minute, 2013Q3-2016Q2\")\n",
    "plt.legend(loc='upper right', shadow=True, fontsize='large')\n"
   ]
  },
  {
   "cell_type": "code",
   "execution_count": 104,
   "metadata": {
    "collapsed": false
   },
   "outputs": [
    {
     "data": {
      "text/plain": [
       "<matplotlib.legend.Legend at 0x122b4f350>"
      ]
     },
     "execution_count": 104,
     "metadata": {},
     "output_type": "execute_result"
    },
    {
     "data": {
      "image/png": "[encoded data removed]",
      "text/plain": [
       "<matplotlib.figure.Figure at 0x1229b06d0>"
      ]
     },
     "metadata": {},
     "output_type": "display_data"
    }
   ],
   "source": [
    "plt.style.use('fivethirtyeight')\n",
    "plt.plot(customers_by_minutes, label='Customers')\n",
    "plt.plot(subscribers_by_minutes, label='Subscribers')\n",
    "plt.xlim(0, 90)\n",
    "plt.ylabel(\"Number of Rides 2013Q3-2016Q2\")\n",
    "plt.xlabel(\"Legth of Ride (in full minutes)\")\n",
    "plt.title(\"Number of Subscriber and Customer Rides, \\nper minute, 2013Q3-2016Q2\")\n",
    "plt.legend(loc='upper right', shadow=True, fontsize='large')\n",
    "\n"
   ]
  },
  {
   "cell_type": "code",
   "execution_count": 105,
   "metadata": {
    "collapsed": false
   },
   "outputs": [
    {
     "data": {
      "text/plain": [
       "<matplotlib.legend.Legend at 0x122d95050>"
      ]
     },
     "execution_count": 105,
     "metadata": {},
     "output_type": "execute_result"
    },
    {
     "data": {
      "image/png": "[encoded data removed]",
      "text/plain": [
       "<matplotlib.figure.Figure at 0x122b5ad90>"
      ]
     },
     "metadata": {},
     "output_type": "display_data"
    }
   ],
   "source": [
    "plt.xkcd()\n",
    "plt.plot(customers_by_minutes, label='Customers')\n",
    "plt.plot(subscribers_by_minutes, label='Subscribers')\n",
    "plt.xlim(0, 90)\n",
    "plt.ylabel(\"Number of Rides 2013Q3-2016Q2\")\n",
    "plt.xlabel(\"Legth of Ride (in full minutes)\")\n",
    "plt.title(\"Number of Subscriber and Customer Rides, \\nper minute, 2013Q3-2016Q2\")\n",
    "plt.legend(loc='upper right', shadow=True, fontsize='large')"
   ]
  },
  {
   "cell_type": "code",
   "execution_count": null,
   "metadata": {
    "collapsed": true
   },
   "outputs": [],
   "source": []
  }
 ],
 "metadata": {
  "anaconda-cloud": {},
  "kernelspec": {
   "display_name": "Python [Root]",
   "language": "python",
   "name": "Python [Root]"
  },
  "language_info": {
   "codemirror_mode": {
    "name": "ipython",
    "version": 2
   },
   "file_extension": ".py",
   "mimetype": "text/x-python",
   "name": "python",
   "nbconvert_exporter": "python",
   "pygments_lexer": "ipython2",
   "version": "2.7.12"
  }
 },
 "nbformat": 4,
 "nbformat_minor": 0
}
