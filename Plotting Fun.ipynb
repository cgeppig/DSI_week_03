{
 "cells": [
  {
   "cell_type": "code",
   "execution_count": 1,
   "metadata": {
    "collapsed": true
   },
   "outputs": [],
   "source": [
    "%matplotlib inline\n",
    "import matplotlib.pyplot as plt\n",
    "import seaborn as sns\n",
    "import pandas as pd\n",
    "import os"
   ]
  },
  {
   "cell_type": "code",
   "execution_count": 3,
   "metadata": {
    "collapsed": false
   },
   "outputs": [
    {
     "data": {
      "text/plain": [
       "['divvy_rides.csv', 'salary.csv']"
      ]
     },
     "execution_count": 3,
     "metadata": {},
     "output_type": "execute_result"
    }
   ],
   "source": [
    "os.listdir('/Users/christophereppig/datasets')"
   ]
  },
  {
   "cell_type": "code",
   "execution_count": 4,
   "metadata": {
    "collapsed": false
   },
   "outputs": [
    {
     "name": "stderr",
     "output_type": "stream",
     "text": [
      "/Users/christophereppig/anaconda/lib/python2.7/site-packages/IPython/core/interactiveshell.py:2723: DtypeWarning: Columns (5) have mixed types. Specify dtype option on import or set low_memory=False.\n",
      "  interactivity=interactivity, compiler=compiler, result=result)\n"
     ]
    }
   ],
   "source": [
    "divvy = pd.read_csv('/Users/christophereppig/datasets/divvy_rides.csv')"
   ]
  },
  {
   "cell_type": "code",
   "execution_count": 6,
   "metadata": {
    "collapsed": false
   },
   "outputs": [
    {
     "data": {
      "text/html": [
       "<div>\n",
       "<table border=\"1\" class=\"dataframe\">\n",
       "  <thead>\n",
       "    <tr style=\"text-align: right;\">\n",
       "      <th></th>\n",
       "      <th>bikeid</th>\n",
       "      <th>birthday</th>\n",
       "      <th>birthyear</th>\n",
       "      <th>from_station_id</th>\n",
       "      <th>from_station_name</th>\n",
       "      <th>gender</th>\n",
       "      <th>starttime</th>\n",
       "      <th>stoptime</th>\n",
       "      <th>to_station_id</th>\n",
       "      <th>to_station_name</th>\n",
       "      <th>trip_id</th>\n",
       "      <th>tripduration</th>\n",
       "      <th>usertype</th>\n",
       "    </tr>\n",
       "  </thead>\n",
       "  <tbody>\n",
       "    <tr>\n",
       "      <th>0</th>\n",
       "      <td>480</td>\n",
       "      <td>NaN</td>\n",
       "      <td>NaN</td>\n",
       "      <td>85</td>\n",
       "      <td>Michigan Ave &amp; Oak St</td>\n",
       "      <td>NaN</td>\n",
       "      <td>2013-06-27 12:11</td>\n",
       "      <td>2013-06-27 12:16</td>\n",
       "      <td>28</td>\n",
       "      <td>Larrabee St &amp; Menomonee St</td>\n",
       "      <td>4118</td>\n",
       "      <td>316</td>\n",
       "      <td>Customer</td>\n",
       "    </tr>\n",
       "    <tr>\n",
       "      <th>1</th>\n",
       "      <td>77</td>\n",
       "      <td>NaN</td>\n",
       "      <td>NaN</td>\n",
       "      <td>32</td>\n",
       "      <td>Racine Ave &amp; Congress Pkwy</td>\n",
       "      <td>NaN</td>\n",
       "      <td>2013-06-27 14:44</td>\n",
       "      <td>2013-06-27 14:45</td>\n",
       "      <td>32</td>\n",
       "      <td>Racine Ave &amp; Congress Pkwy</td>\n",
       "      <td>4275</td>\n",
       "      <td>64</td>\n",
       "      <td>Customer</td>\n",
       "    </tr>\n",
       "    <tr>\n",
       "      <th>2</th>\n",
       "      <td>77</td>\n",
       "      <td>NaN</td>\n",
       "      <td>NaN</td>\n",
       "      <td>32</td>\n",
       "      <td>Racine Ave &amp; Congress Pkwy</td>\n",
       "      <td>NaN</td>\n",
       "      <td>2013-06-27 14:58</td>\n",
       "      <td>2013-06-27 15:05</td>\n",
       "      <td>19</td>\n",
       "      <td>Loomis St &amp; Taylor St</td>\n",
       "      <td>4291</td>\n",
       "      <td>433</td>\n",
       "      <td>Customer</td>\n",
       "    </tr>\n",
       "    <tr>\n",
       "      <th>3</th>\n",
       "      <td>77</td>\n",
       "      <td>NaN</td>\n",
       "      <td>NaN</td>\n",
       "      <td>19</td>\n",
       "      <td>Loomis St &amp; Taylor St</td>\n",
       "      <td>NaN</td>\n",
       "      <td>2013-06-27 15:06</td>\n",
       "      <td>2013-06-27 15:09</td>\n",
       "      <td>19</td>\n",
       "      <td>Loomis St &amp; Taylor St</td>\n",
       "      <td>4316</td>\n",
       "      <td>123</td>\n",
       "      <td>Customer</td>\n",
       "    </tr>\n",
       "    <tr>\n",
       "      <th>4</th>\n",
       "      <td>77</td>\n",
       "      <td>NaN</td>\n",
       "      <td>NaN</td>\n",
       "      <td>19</td>\n",
       "      <td>Loomis St &amp; Taylor St</td>\n",
       "      <td>NaN</td>\n",
       "      <td>2013-06-27 15:13</td>\n",
       "      <td>2013-06-27 15:27</td>\n",
       "      <td>55</td>\n",
       "      <td>Halsted St &amp; James M Rochford St</td>\n",
       "      <td>4342</td>\n",
       "      <td>852</td>\n",
       "      <td>Customer</td>\n",
       "    </tr>\n",
       "  </tbody>\n",
       "</table>\n",
       "</div>"
      ],
      "text/plain": [
       "   bikeid  birthday  birthyear  from_station_id           from_station_name  \\\n",
       "0     480       NaN        NaN               85       Michigan Ave & Oak St   \n",
       "1      77       NaN        NaN               32  Racine Ave & Congress Pkwy   \n",
       "2      77       NaN        NaN               32  Racine Ave & Congress Pkwy   \n",
       "3      77       NaN        NaN               19       Loomis St & Taylor St   \n",
       "4      77       NaN        NaN               19       Loomis St & Taylor St   \n",
       "\n",
       "  gender         starttime          stoptime  to_station_id  \\\n",
       "0    NaN  2013-06-27 12:11  2013-06-27 12:16             28   \n",
       "1    NaN  2013-06-27 14:44  2013-06-27 14:45             32   \n",
       "2    NaN  2013-06-27 14:58  2013-06-27 15:05             19   \n",
       "3    NaN  2013-06-27 15:06  2013-06-27 15:09             19   \n",
       "4    NaN  2013-06-27 15:13  2013-06-27 15:27             55   \n",
       "\n",
       "                    to_station_name  trip_id  tripduration  usertype  \n",
       "0        Larrabee St & Menomonee St     4118           316  Customer  \n",
       "1        Racine Ave & Congress Pkwy     4275            64  Customer  \n",
       "2             Loomis St & Taylor St     4291           433  Customer  \n",
       "3             Loomis St & Taylor St     4316           123  Customer  \n",
       "4  Halsted St & James M Rochford St     4342           852  Customer  "
      ]
     },
     "execution_count": 6,
     "metadata": {},
     "output_type": "execute_result"
    }
   ],
   "source": [
    "divvy.head()"
   ]
  },
  {
   "cell_type": "code",
   "execution_count": 9,
   "metadata": {
    "collapsed": false
   },
   "outputs": [
    {
     "data": {
      "text/plain": [
       "Subscriber    5466758\n",
       "Customer      2400700\n",
       "Dependent         143\n",
       "Name: usertype, dtype: int64"
      ]
     },
     "execution_count": 9,
     "metadata": {},
     "output_type": "execute_result"
    }
   ],
   "source": [
    "divvy['usertype'].value_counts()"
   ]
  },
  {
   "cell_type": "code",
   "execution_count": 11,
   "metadata": {
    "collapsed": false,
    "scrolled": true
   },
   "outputs": [
    {
     "data": {
      "text/plain": [
       "872     2820\n",
       "478     2814\n",
       "267     2757\n",
       "94      2745\n",
       "1329    2739\n",
       "441     2728\n",
       "417     2721\n",
       "686     2714\n",
       "225     2701\n",
       "909     2698\n",
       "1037    2686\n",
       "721     2685\n",
       "452     2684\n",
       "30      2684\n",
       "650     2677\n",
       "1381    2675\n",
       "414     2673\n",
       "1226    2664\n",
       "251     2662\n",
       "571     2658\n",
       "473     2654\n",
       "371     2650\n",
       "359     2649\n",
       "1283    2645\n",
       "1975    2645\n",
       "Name: bikeid, dtype: int64"
      ]
     },
     "execution_count": 11,
     "metadata": {},
     "output_type": "execute_result"
    }
   ],
   "source": [
    "divvy['bikeid'].value_counts().head(25)"
   ]
  },
  {
   "cell_type": "code",
   "execution_count": 31,
   "metadata": {
    "collapsed": false
   },
   "outputs": [
    {
     "data": {
      "text/plain": [
       "{'boxes': [<matplotlib.lines.Line2D at 0x116d3a050>],\n",
       " 'caps': [<matplotlib.lines.Line2D at 0x116d3ae50>,\n",
       "  <matplotlib.lines.Line2D at 0x116d464d0>],\n",
       " 'fliers': [<matplotlib.lines.Line2D at 0x116d51190>],\n",
       " 'means': [],\n",
       " 'medians': [<matplotlib.lines.Line2D at 0x116d46b10>],\n",
       " 'whiskers': [<matplotlib.lines.Line2D at 0x116d10150>,\n",
       "  <matplotlib.lines.Line2D at 0x116d3a810>]}"
      ]
     },
     "execution_count": 31,
     "metadata": {},
     "output_type": "execute_result"
    },
    {
     "data": {
      "image/png": "[encoded data removed]",
      "text/plain": [
       "<matplotlib.figure.Figure at 0x116ca9910>"
      ]
     },
     "metadata": {},
     "output_type": "display_data"
    }
   ],
   "source": [
    "plt.boxplot(divvy['tripduration'])"
   ]
  },
  {
   "cell_type": "code",
   "execution_count": 12,
   "metadata": {
    "collapsed": false
   },
   "outputs": [
    {
     "data": {
      "text/plain": [
       "Streeter Dr & Illinois St       137683\n",
       "Lake Shore Dr & Monroe St       124674\n",
       "Clinton St & Washington Blvd    112140\n",
       "Theater on the Lake             108426\n",
       "Michigan Ave & Oak St           101762\n",
       "Millennium Park                 100545\n",
       "Lake Shore Dr & North Blvd       90112\n",
       "Canal St & Adams St              88121\n",
       "Canal St & Madison St            86289\n",
       "Clinton St & Madison St          71598\n",
       "Columbus Dr & Randolph St        70126\n",
       "McClurg Ct & Illinois St         67656\n",
       "Michigan Ave & Washington St     65991\n",
       "Canal St & Jackson Blvd          64975\n",
       "Michigan Ave & Lake St           63442\n",
       "Dearborn St & Monroe St          61194\n",
       "Franklin St & Jackson Blvd       60706\n",
       "Museum Campus                    59772\n",
       "LaSalle St & Jackson Blvd        58556\n",
       "Wabash Ave & Grand Ave           58124\n",
       "Name: from_station_name, dtype: int64"
      ]
     },
     "execution_count": 12,
     "metadata": {},
     "output_type": "execute_result"
    }
   ],
   "source": [
    "divvy['from_station_name'].value_counts().head(20)"
   ]
  },
  {
   "cell_type": "code",
   "execution_count": 13,
   "metadata": {
    "collapsed": false
   },
   "outputs": [
    {
     "data": {
      "text/plain": [
       "Streeter Dr & Illinois St       164101\n",
       "Lake Shore Dr & Monroe St       122493\n",
       "Theater on the Lake             115330\n",
       "Clinton St & Washington Blvd    110611\n",
       "Millennium Park                 110085\n",
       "Michigan Ave & Oak St           109586\n",
       "Lake Shore Dr & North Blvd      101364\n",
       "Canal St & Madison St            96899\n",
       "Canal St & Adams St              85913\n",
       "McClurg Ct & Illinois St         69345\n",
       "Michigan Ave & Washington St     66940\n",
       "Michigan Ave & Lake St           65580\n",
       "Clinton St & Madison St          63789\n",
       "Canal St & Jackson Blvd          62719\n",
       "Museum Campus                    60718\n",
       "Dearborn St & Monroe St          60350\n",
       "Wabash Ave & Grand Ave           60333\n",
       "Clark St & Elm St                57589\n",
       "LaSalle St & Jackson Blvd        56869\n",
       "Franklin St & Jackson Blvd       56046\n",
       "Name: to_station_name, dtype: int64"
      ]
     },
     "execution_count": 13,
     "metadata": {},
     "output_type": "execute_result"
    }
   ],
   "source": [
    "divvy['to_station_name'].value_counts().head(20)"
   ]
  },
  {
   "cell_type": "code",
   "execution_count": 20,
   "metadata": {
    "collapsed": false
   },
   "outputs": [],
   "source": [
    "departure_arrival = pd.DataFrame(divvy['to_station_name'].value_counts()).join(divvy['from_station_name'].value_counts())"
   ]
  },
  {
   "cell_type": "code",
   "execution_count": 23,
   "metadata": {
    "collapsed": false
   },
   "outputs": [
    {
     "data": {
      "text/html": [
       "<div>\n",
       "<table border=\"1\" class=\"dataframe\">\n",
       "  <thead>\n",
       "    <tr style=\"text-align: right;\">\n",
       "      <th></th>\n",
       "      <th>to_station_name</th>\n",
       "      <th>from_station_name</th>\n",
       "      <th>Difference</th>\n",
       "    </tr>\n",
       "  </thead>\n",
       "  <tbody>\n",
       "    <tr>\n",
       "      <th>Streeter Dr &amp; Illinois St</th>\n",
       "      <td>164101</td>\n",
       "      <td>137683.0</td>\n",
       "      <td>26418.0</td>\n",
       "    </tr>\n",
       "    <tr>\n",
       "      <th>Lake Shore Dr &amp; Monroe St</th>\n",
       "      <td>122493</td>\n",
       "      <td>124674.0</td>\n",
       "      <td>-2181.0</td>\n",
       "    </tr>\n",
       "    <tr>\n",
       "      <th>Theater on the Lake</th>\n",
       "      <td>115330</td>\n",
       "      <td>108426.0</td>\n",
       "      <td>6904.0</td>\n",
       "    </tr>\n",
       "    <tr>\n",
       "      <th>Clinton St &amp; Washington Blvd</th>\n",
       "      <td>110611</td>\n",
       "      <td>112140.0</td>\n",
       "      <td>-1529.0</td>\n",
       "    </tr>\n",
       "    <tr>\n",
       "      <th>Millennium Park</th>\n",
       "      <td>110085</td>\n",
       "      <td>100545.0</td>\n",
       "      <td>9540.0</td>\n",
       "    </tr>\n",
       "  </tbody>\n",
       "</table>\n",
       "</div>"
      ],
      "text/plain": [
       "                              to_station_name  from_station_name  Difference\n",
       "Streeter Dr & Illinois St              164101           137683.0     26418.0\n",
       "Lake Shore Dr & Monroe St              122493           124674.0     -2181.0\n",
       "Theater on the Lake                    115330           108426.0      6904.0\n",
       "Clinton St & Washington Blvd           110611           112140.0     -1529.0\n",
       "Millennium Park                        110085           100545.0      9540.0"
      ]
     },
     "execution_count": 23,
     "metadata": {},
     "output_type": "execute_result"
    }
   ],
   "source": [
    "departure_arrival['Difference'] = departure_arrival['to_station_name']-departure_arrival['from_station_name']\n",
    "departure_arrival.head()"
   ]
  },
  {
   "cell_type": "code",
   "execution_count": 25,
   "metadata": {
    "collapsed": false,
    "scrolled": true
   },
   "outputs": [
    {
     "data": {
      "text/plain": [
       "Columbus Dr & Randolph St      -22403.0\n",
       "Canal St & Monroe St           -12298.0\n",
       "Clinton St & Madison St         -7809.0\n",
       "Stetson Ave & South Water St    -7677.0\n",
       "Desplaines St & Kinzie St       -5314.0\n",
       "Name: Difference, dtype: float64"
      ]
     },
     "execution_count": 25,
     "metadata": {},
     "output_type": "execute_result"
    }
   ],
   "source": [
    "departure_arrival['Difference'].sort_values().head()"
   ]
  },
  {
   "cell_type": "code",
   "execution_count": 29,
   "metadata": {
    "collapsed": false
   },
   "outputs": [],
   "source": [
    "departure_arrival['from_station_name'].describe()\n",
    "departure_arrival.dropna(inplace=True)"
   ]
  },
  {
   "cell_type": "code",
   "execution_count": 30,
   "metadata": {
    "collapsed": false
   },
   "outputs": [
    {
     "data": {
      "text/plain": [
       "(array([ 387.,  101.,   47.,   22.,   11.,    2.,    3.,    3.,    1.,    2.]),\n",
       " array([  1.00000000e+00,   1.37692000e+04,   2.75374000e+04,\n",
       "          4.13056000e+04,   5.50738000e+04,   6.88420000e+04,\n",
       "          8.26102000e+04,   9.63784000e+04,   1.10146600e+05,\n",
       "          1.23914800e+05,   1.37683000e+05]),\n",
       " <a list of 10 Patch objects>)"
      ]
     },
     "execution_count": 30,
     "metadata": {},
     "output_type": "execute_result"
    },
    {
     "data": {
      "image/png": "[encoded data removed]",
      "text/plain": [
       "<matplotlib.figure.Figure at 0x115f9b3d0>"
      ]
     },
     "metadata": {},
     "output_type": "display_data"
    }
   ],
   "source": [
    "plt.hist(departure_arrival['from_station_name'])"
   ]
  },
  {
   "cell_type": "code",
   "execution_count": 32,
   "metadata": {
    "collapsed": false,
    "scrolled": true
   },
   "outputs": [
    {
     "data": {
      "text/plain": [
       "(array([ 156.,   53.,   32.,   26.,   26.,   14.,   22.,   28.,   19.,\n",
       "          11.,   20.,   12.,    9.,    7.,   14.,    7.,    9.,    9.,\n",
       "           3.,   11.,    8.,    1.,    6.,   10.,    8.,    3.,    3.,\n",
       "           4.,    3.,    1.,    2.,    4.,    3.,    2.,    2.,    4.,\n",
       "           1.,    2.,    0.,    2.,    1.,    1.,    2.,    1.,    2.,\n",
       "           0.,    1.,    2.,    0.,    1.,    1.,    0.,    1.,    0.,\n",
       "           0.,    0.,    0.,    0.,    0.,    0.,    0.,    0.,    1.,\n",
       "           0.,    1.,    1.,    0.,    0.,    0.,    0.,    0.,    0.,\n",
       "           0.,    2.,    0.,    0.,    0.,    0.,    1.,    0.,    0.,\n",
       "           1.,    0.,    0.,    0.,    0.,    0.,    0.,    0.,    0.,\n",
       "           1.,    0.,    0.,    0.,    0.,    0.,    0.,    0.,    0.,    1.]),\n",
       " array([  1.00000000e+00,   1.37782000e+03,   2.75464000e+03,\n",
       "          4.13146000e+03,   5.50828000e+03,   6.88510000e+03,\n",
       "          8.26192000e+03,   9.63874000e+03,   1.10155600e+04,\n",
       "          1.23923800e+04,   1.37692000e+04,   1.51460200e+04,\n",
       "          1.65228400e+04,   1.78996600e+04,   1.92764800e+04,\n",
       "          2.06533000e+04,   2.20301200e+04,   2.34069400e+04,\n",
       "          2.47837600e+04,   2.61605800e+04,   2.75374000e+04,\n",
       "          2.89142200e+04,   3.02910400e+04,   3.16678600e+04,\n",
       "          3.30446800e+04,   3.44215000e+04,   3.57983200e+04,\n",
       "          3.71751400e+04,   3.85519600e+04,   3.99287800e+04,\n",
       "          4.13056000e+04,   4.26824200e+04,   4.40592400e+04,\n",
       "          4.54360600e+04,   4.68128800e+04,   4.81897000e+04,\n",
       "          4.95665200e+04,   5.09433400e+04,   5.23201600e+04,\n",
       "          5.36969800e+04,   5.50738000e+04,   5.64506200e+04,\n",
       "          5.78274400e+04,   5.92042600e+04,   6.05810800e+04,\n",
       "          6.19579000e+04,   6.33347200e+04,   6.47115400e+04,\n",
       "          6.60883600e+04,   6.74651800e+04,   6.88420000e+04,\n",
       "          7.02188200e+04,   7.15956400e+04,   7.29724600e+04,\n",
       "          7.43492800e+04,   7.57261000e+04,   7.71029200e+04,\n",
       "          7.84797400e+04,   7.98565600e+04,   8.12333800e+04,\n",
       "          8.26102000e+04,   8.39870200e+04,   8.53638400e+04,\n",
       "          8.67406600e+04,   8.81174800e+04,   8.94943000e+04,\n",
       "          9.08711200e+04,   9.22479400e+04,   9.36247600e+04,\n",
       "          9.50015800e+04,   9.63784000e+04,   9.77552200e+04,\n",
       "          9.91320400e+04,   1.00508860e+05,   1.01885680e+05,\n",
       "          1.03262500e+05,   1.04639320e+05,   1.06016140e+05,\n",
       "          1.07392960e+05,   1.08769780e+05,   1.10146600e+05,\n",
       "          1.11523420e+05,   1.12900240e+05,   1.14277060e+05,\n",
       "          1.15653880e+05,   1.17030700e+05,   1.18407520e+05,\n",
       "          1.19784340e+05,   1.21161160e+05,   1.22537980e+05,\n",
       "          1.23914800e+05,   1.25291620e+05,   1.26668440e+05,\n",
       "          1.28045260e+05,   1.29422080e+05,   1.30798900e+05,\n",
       "          1.32175720e+05,   1.33552540e+05,   1.34929360e+05,\n",
       "          1.36306180e+05,   1.37683000e+05]),\n",
       " <a list of 100 Patch objects>)"
      ]
     },
     "execution_count": 32,
     "metadata": {},
     "output_type": "execute_result"
    },
    {
     "data": {
      "image/png": "[encoded data removed]",
      "text/plain": [
       "<matplotlib.figure.Figure at 0x115f9b410>"
      ]
     },
     "metadata": {},
     "output_type": "display_data"
    }
   ],
   "source": [
    "plt.hist(departure_arrival['from_station_name'], bins=100)"
   ]
  },
  {
   "cell_type": "code",
   "execution_count": 33,
   "metadata": {
    "collapsed": false,
    "scrolled": true
   },
   "outputs": [
    {
     "data": {
      "text/html": [
       "<div>\n",
       "<table border=\"1\" class=\"dataframe\">\n",
       "  <thead>\n",
       "    <tr style=\"text-align: right;\">\n",
       "      <th></th>\n",
       "      <th>to_station_name</th>\n",
       "      <th>from_station_name</th>\n",
       "      <th>Difference</th>\n",
       "    </tr>\n",
       "  </thead>\n",
       "  <tbody>\n",
       "    <tr>\n",
       "      <th>Central St Metra</th>\n",
       "      <td>1</td>\n",
       "      <td>1.0</td>\n",
       "      <td>0.0</td>\n",
       "    </tr>\n",
       "    <tr>\n",
       "      <th>Ashland Ave &amp; 69th St</th>\n",
       "      <td>3</td>\n",
       "      <td>1.0</td>\n",
       "      <td>2.0</td>\n",
       "    </tr>\n",
       "    <tr>\n",
       "      <th>Throop St &amp; 52nd St</th>\n",
       "      <td>1</td>\n",
       "      <td>1.0</td>\n",
       "      <td>0.0</td>\n",
       "    </tr>\n",
       "    <tr>\n",
       "      <th>Racine Ave &amp; Garfield Blvd</th>\n",
       "      <td>1</td>\n",
       "      <td>1.0</td>\n",
       "      <td>0.0</td>\n",
       "    </tr>\n",
       "    <tr>\n",
       "      <th>State St &amp; 76th St</th>\n",
       "      <td>1</td>\n",
       "      <td>1.0</td>\n",
       "      <td>0.0</td>\n",
       "    </tr>\n",
       "  </tbody>\n",
       "</table>\n",
       "</div>"
      ],
      "text/plain": [
       "                            to_station_name  from_station_name  Difference\n",
       "Central St Metra                          1                1.0         0.0\n",
       "Ashland Ave & 69th St                     3                1.0         2.0\n",
       "Throop St & 52nd St                       1                1.0         0.0\n",
       "Racine Ave & Garfield Blvd                1                1.0         0.0\n",
       "State St & 76th St                        1                1.0         0.0"
      ]
     },
     "execution_count": 33,
     "metadata": {},
     "output_type": "execute_result"
    }
   ],
   "source": [
    "departure_arrival.sort_values(by='from_station_name').head()"
   ]
  },
  {
   "cell_type": "code",
   "execution_count": 34,
   "metadata": {
    "collapsed": false
   },
   "outputs": [
    {
     "data": {
      "text/html": [
       "<div>\n",
       "<table border=\"1\" class=\"dataframe\">\n",
       "  <thead>\n",
       "    <tr style=\"text-align: right;\">\n",
       "      <th></th>\n",
       "      <th>to_station_name</th>\n",
       "      <th>from_station_name</th>\n",
       "      <th>Difference</th>\n",
       "    </tr>\n",
       "  </thead>\n",
       "  <tbody>\n",
       "    <tr>\n",
       "      <th>Central St Metra</th>\n",
       "      <td>1</td>\n",
       "      <td>1.0</td>\n",
       "      <td>0.0</td>\n",
       "    </tr>\n",
       "    <tr>\n",
       "      <th>Throop St &amp; 52nd St</th>\n",
       "      <td>1</td>\n",
       "      <td>1.0</td>\n",
       "      <td>0.0</td>\n",
       "    </tr>\n",
       "    <tr>\n",
       "      <th>Racine Ave &amp; Garfield Blvd</th>\n",
       "      <td>1</td>\n",
       "      <td>1.0</td>\n",
       "      <td>0.0</td>\n",
       "    </tr>\n",
       "    <tr>\n",
       "      <th>State St &amp; 76th St</th>\n",
       "      <td>1</td>\n",
       "      <td>1.0</td>\n",
       "      <td>0.0</td>\n",
       "    </tr>\n",
       "    <tr>\n",
       "      <th>Lombard Ave &amp; Madison St</th>\n",
       "      <td>1</td>\n",
       "      <td>2.0</td>\n",
       "      <td>-1.0</td>\n",
       "    </tr>\n",
       "  </tbody>\n",
       "</table>\n",
       "</div>"
      ],
      "text/plain": [
       "                            to_station_name  from_station_name  Difference\n",
       "Central St Metra                          1                1.0         0.0\n",
       "Throop St & 52nd St                       1                1.0         0.0\n",
       "Racine Ave & Garfield Blvd                1                1.0         0.0\n",
       "State St & 76th St                        1                1.0         0.0\n",
       "Lombard Ave & Madison St                  1                2.0        -1.0"
      ]
     },
     "execution_count": 34,
     "metadata": {},
     "output_type": "execute_result"
    }
   ],
   "source": [
    "departure_arrival.sort_values(by='to_station_name').head()"
   ]
  },
  {
   "cell_type": "code",
   "execution_count": 35,
   "metadata": {
    "collapsed": false
   },
   "outputs": [
    {
     "data": {
      "text/plain": [
       "(array([   1.,    0.,    0.,    0.,    0.,    0.,    0.,    0.,    0.,\n",
       "           0.,    0.,    0.,    0.,    0.,    0.,    0.,    0.,    0.,\n",
       "           0.,    0.,    1.,    0.,    0.,    0.,    0.,    0.,    0.,\n",
       "           0.,    0.,    1.,    1.,    0.,    0.,    0.,    0.,    1.,\n",
       "           3.,    2.,    3.,    1.,    6.,   12.,   10.,   14.,   52.,\n",
       "         253.,  135.,   29.,   24.,    7.,    8.,    3.,    1.,    1.,\n",
       "           2.,    1.,    0.,    1.,    0.,    0.,    1.,    1.,    0.,\n",
       "           0.,    0.,    1.,    0.,    1.,    1.,    0.,    0.,    0.,\n",
       "           0.,    0.,    0.,    0.,    0.,    0.,    0.,    0.,    0.,\n",
       "           0.,    0.,    0.,    0.,    0.,    0.,    0.,    0.,    0.,\n",
       "           0.,    0.,    0.,    0.,    0.,    0.,    0.,    0.,    0.,    1.]),\n",
       " array([-22403.  , -21914.79, -21426.58, -20938.37, -20450.16, -19961.95,\n",
       "        -19473.74, -18985.53, -18497.32, -18009.11, -17520.9 , -17032.69,\n",
       "        -16544.48, -16056.27, -15568.06, -15079.85, -14591.64, -14103.43,\n",
       "        -13615.22, -13127.01, -12638.8 , -12150.59, -11662.38, -11174.17,\n",
       "        -10685.96, -10197.75,  -9709.54,  -9221.33,  -8733.12,  -8244.91,\n",
       "         -7756.7 ,  -7268.49,  -6780.28,  -6292.07,  -5803.86,  -5315.65,\n",
       "         -4827.44,  -4339.23,  -3851.02,  -3362.81,  -2874.6 ,  -2386.39,\n",
       "         -1898.18,  -1409.97,   -921.76,   -433.55,     54.66,    542.87,\n",
       "          1031.08,   1519.29,   2007.5 ,   2495.71,   2983.92,   3472.13,\n",
       "          3960.34,   4448.55,   4936.76,   5424.97,   5913.18,   6401.39,\n",
       "          6889.6 ,   7377.81,   7866.02,   8354.23,   8842.44,   9330.65,\n",
       "          9818.86,  10307.07,  10795.28,  11283.49,  11771.7 ,  12259.91,\n",
       "         12748.12,  13236.33,  13724.54,  14212.75,  14700.96,  15189.17,\n",
       "         15677.38,  16165.59,  16653.8 ,  17142.01,  17630.22,  18118.43,\n",
       "         18606.64,  19094.85,  19583.06,  20071.27,  20559.48,  21047.69,\n",
       "         21535.9 ,  22024.11,  22512.32,  23000.53,  23488.74,  23976.95,\n",
       "         24465.16,  24953.37,  25441.58,  25929.79,  26418.  ]),\n",
       " <a list of 100 Patch objects>)"
      ]
     },
     "execution_count": 35,
     "metadata": {},
     "output_type": "execute_result"
    },
    {
     "data": {
      "image/png": "[encoded data removed]",
      "text/plain": [
       "<matplotlib.figure.Figure at 0x1173d8850>"
      ]
     },
     "metadata": {},
     "output_type": "display_data"
    }
   ],
   "source": [
    "plt.hist(departure_arrival['Difference'], bins=100)"
   ]
  },
  {
   "cell_type": "code",
   "execution_count": 36,
   "metadata": {
    "collapsed": false
   },
   "outputs": [
    {
     "data": {
      "text/plain": [
       "count      579.000000\n",
       "mean         0.005181\n",
       "std       2086.448033\n",
       "min     -22403.000000\n",
       "25%       -225.500000\n",
       "50%          0.000000\n",
       "75%        217.500000\n",
       "max      26418.000000\n",
       "Name: Difference, dtype: float64"
      ]
     },
     "execution_count": 36,
     "metadata": {},
     "output_type": "execute_result"
    }
   ],
   "source": [
    "departure_arrival['Difference'].describe()"
   ]
  },
  {
   "cell_type": "code",
   "execution_count": null,
   "metadata": {
    "collapsed": true
   },
   "outputs": [],
   "source": []
  }
 ],
 "metadata": {
  "anaconda-cloud": {},
  "kernelspec": {
   "display_name": "Python [Root]",
   "language": "python",
   "name": "Python [Root]"
  },
  "language_info": {
   "codemirror_mode": {
    "name": "ipython",
    "version": 2
   },
   "file_extension": ".py",
   "mimetype": "text/x-python",
   "name": "python",
   "nbconvert_exporter": "python",
   "pygments_lexer": "ipython2",
   "version": "2.7.12"
  }
 },
 "nbformat": 4,
 "nbformat_minor": 0
}
