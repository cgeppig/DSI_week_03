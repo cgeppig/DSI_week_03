{
 "cells": [
  {
   "cell_type": "code",
   "execution_count": 15,
   "metadata": {
    "collapsed": true
   },
   "outputs": [],
   "source": [
    "import pandas as pd\n",
    "import numpy as np\n",
    "import sklearn\n",
    "from sklearn.cross_validation import train_test_split"
   ]
  },
  {
   "cell_type": "code",
   "execution_count": 2,
   "metadata": {
    "collapsed": true
   },
   "outputs": [],
   "source": [
    "cars = pd.read_csv('~/Datasets/used_cars.csv')"
   ]
  },
  {
   "cell_type": "code",
   "execution_count": 3,
   "metadata": {
    "collapsed": false
   },
   "outputs": [
    {
     "data": {
      "text/html": [
       "<div>\n",
       "<table border=\"1\" class=\"dataframe\">\n",
       "  <thead>\n",
       "    <tr style=\"text-align: right;\">\n",
       "      <th></th>\n",
       "      <th>price</th>\n",
       "      <th>year</th>\n",
       "      <th>miles</th>\n",
       "      <th>doors</th>\n",
       "      <th>type</th>\n",
       "    </tr>\n",
       "  </thead>\n",
       "  <tbody>\n",
       "    <tr>\n",
       "      <th>0</th>\n",
       "      <td>22000</td>\n",
       "      <td>2012</td>\n",
       "      <td>13000</td>\n",
       "      <td>2</td>\n",
       "      <td>car</td>\n",
       "    </tr>\n",
       "    <tr>\n",
       "      <th>1</th>\n",
       "      <td>14000</td>\n",
       "      <td>2010</td>\n",
       "      <td>30000</td>\n",
       "      <td>2</td>\n",
       "      <td>car</td>\n",
       "    </tr>\n",
       "    <tr>\n",
       "      <th>2</th>\n",
       "      <td>13000</td>\n",
       "      <td>2010</td>\n",
       "      <td>73500</td>\n",
       "      <td>4</td>\n",
       "      <td>car</td>\n",
       "    </tr>\n",
       "    <tr>\n",
       "      <th>3</th>\n",
       "      <td>9500</td>\n",
       "      <td>2009</td>\n",
       "      <td>78000</td>\n",
       "      <td>4</td>\n",
       "      <td>car</td>\n",
       "    </tr>\n",
       "    <tr>\n",
       "      <th>4</th>\n",
       "      <td>9000</td>\n",
       "      <td>2007</td>\n",
       "      <td>47000</td>\n",
       "      <td>4</td>\n",
       "      <td>car</td>\n",
       "    </tr>\n",
       "  </tbody>\n",
       "</table>\n",
       "</div>"
      ],
      "text/plain": [
       "   price  year  miles  doors type\n",
       "0  22000  2012  13000      2  car\n",
       "1  14000  2010  30000      2  car\n",
       "2  13000  2010  73500      4  car\n",
       "3   9500  2009  78000      4  car\n",
       "4   9000  2007  47000      4  car"
      ]
     },
     "execution_count": 3,
     "metadata": {},
     "output_type": "execute_result"
    }
   ],
   "source": [
    "cars.head()"
   ]
  },
  {
   "cell_type": "code",
   "execution_count": 4,
   "metadata": {
    "collapsed": false
   },
   "outputs": [
    {
     "data": {
      "text/plain": [
       "count       14.000000\n",
       "mean      6571.428571\n",
       "std       6161.097376\n",
       "min       1300.000000\n",
       "25%       2125.000000\n",
       "50%       3500.000000\n",
       "75%       9375.000000\n",
       "max      22000.000000\n",
       "Name: price, dtype: float64"
      ]
     },
     "execution_count": 4,
     "metadata": {},
     "output_type": "execute_result"
    }
   ],
   "source": [
    "cars['price'].describe()"
   ]
  },
  {
   "cell_type": "code",
   "execution_count": 6,
   "metadata": {
    "collapsed": false
   },
   "outputs": [
    {
     "data": {
      "text/plain": [
       "2003    3\n",
       "2010    2\n",
       "2004    2\n",
       "1999    1\n",
       "1997    1\n",
       "2012    1\n",
       "2009    1\n",
       "2007    1\n",
       "2006    1\n",
       "2001    1\n",
       "Name: year, dtype: int64"
      ]
     },
     "execution_count": 6,
     "metadata": {},
     "output_type": "execute_result"
    }
   ],
   "source": [
    "cars['year'].value_counts()"
   ]
  },
  {
   "cell_type": "code",
   "execution_count": 7,
   "metadata": {
    "collapsed": false
   },
   "outputs": [
    {
     "data": {
      "text/plain": [
       "car      11\n",
       "truck     3\n",
       "Name: type, dtype: int64"
      ]
     },
     "execution_count": 7,
     "metadata": {},
     "output_type": "execute_result"
    }
   ],
   "source": [
    "cars['type'].value_counts()"
   ]
  },
  {
   "cell_type": "code",
   "execution_count": 8,
   "metadata": {
    "collapsed": false
   },
   "outputs": [
    {
     "data": {
      "text/plain": [
       "4    8\n",
       "2    6\n",
       "Name: doors, dtype: int64"
      ]
     },
     "execution_count": 8,
     "metadata": {},
     "output_type": "execute_result"
    }
   ],
   "source": [
    "cars['doors'].value_counts()"
   ]
  },
  {
   "cell_type": "code",
   "execution_count": 9,
   "metadata": {
    "collapsed": false
   },
   "outputs": [
    {
     "data": {
      "text/plain": [
       "count        14.000000\n",
       "mean     114464.285714\n",
       "std       63198.242516\n",
       "min       13000.000000\n",
       "25%       64875.000000\n",
       "50%      131000.000000\n",
       "75%      162250.000000\n",
       "max      209000.000000\n",
       "Name: miles, dtype: float64"
      ]
     },
     "execution_count": 9,
     "metadata": {},
     "output_type": "execute_result"
    }
   ],
   "source": [
    "cars['miles'].describe()"
   ]
  },
  {
   "cell_type": "code",
   "execution_count": 10,
   "metadata": {
    "collapsed": true
   },
   "outputs": [],
   "source": [
    "cars['is_car'] = cars['type'].apply(lambda x: 1 if x == 'car' else 0)"
   ]
  },
  {
   "cell_type": "code",
   "execution_count": 12,
   "metadata": {
    "collapsed": false
   },
   "outputs": [
    {
     "data": {
      "text/html": [
       "<div>\n",
       "<table border=\"1\" class=\"dataframe\">\n",
       "  <thead>\n",
       "    <tr style=\"text-align: right;\">\n",
       "      <th></th>\n",
       "      <th>price</th>\n",
       "      <th>year</th>\n",
       "      <th>miles</th>\n",
       "      <th>doors</th>\n",
       "      <th>type</th>\n",
       "      <th>is_car</th>\n",
       "    </tr>\n",
       "  </thead>\n",
       "  <tbody>\n",
       "    <tr>\n",
       "      <th>0</th>\n",
       "      <td>22000</td>\n",
       "      <td>2012</td>\n",
       "      <td>13000</td>\n",
       "      <td>2</td>\n",
       "      <td>car</td>\n",
       "      <td>1</td>\n",
       "    </tr>\n",
       "    <tr>\n",
       "      <th>1</th>\n",
       "      <td>14000</td>\n",
       "      <td>2010</td>\n",
       "      <td>30000</td>\n",
       "      <td>2</td>\n",
       "      <td>car</td>\n",
       "      <td>1</td>\n",
       "    </tr>\n",
       "    <tr>\n",
       "      <th>2</th>\n",
       "      <td>13000</td>\n",
       "      <td>2010</td>\n",
       "      <td>73500</td>\n",
       "      <td>4</td>\n",
       "      <td>car</td>\n",
       "      <td>1</td>\n",
       "    </tr>\n",
       "    <tr>\n",
       "      <th>3</th>\n",
       "      <td>9500</td>\n",
       "      <td>2009</td>\n",
       "      <td>78000</td>\n",
       "      <td>4</td>\n",
       "      <td>car</td>\n",
       "      <td>1</td>\n",
       "    </tr>\n",
       "    <tr>\n",
       "      <th>4</th>\n",
       "      <td>9000</td>\n",
       "      <td>2007</td>\n",
       "      <td>47000</td>\n",
       "      <td>4</td>\n",
       "      <td>car</td>\n",
       "      <td>1</td>\n",
       "    </tr>\n",
       "    <tr>\n",
       "      <th>5</th>\n",
       "      <td>4000</td>\n",
       "      <td>2006</td>\n",
       "      <td>124000</td>\n",
       "      <td>2</td>\n",
       "      <td>car</td>\n",
       "      <td>1</td>\n",
       "    </tr>\n",
       "    <tr>\n",
       "      <th>6</th>\n",
       "      <td>3000</td>\n",
       "      <td>2004</td>\n",
       "      <td>177000</td>\n",
       "      <td>4</td>\n",
       "      <td>car</td>\n",
       "      <td>1</td>\n",
       "    </tr>\n",
       "    <tr>\n",
       "      <th>7</th>\n",
       "      <td>2000</td>\n",
       "      <td>2004</td>\n",
       "      <td>209000</td>\n",
       "      <td>4</td>\n",
       "      <td>truck</td>\n",
       "      <td>0</td>\n",
       "    </tr>\n",
       "    <tr>\n",
       "      <th>8</th>\n",
       "      <td>3000</td>\n",
       "      <td>2003</td>\n",
       "      <td>138000</td>\n",
       "      <td>2</td>\n",
       "      <td>car</td>\n",
       "      <td>1</td>\n",
       "    </tr>\n",
       "    <tr>\n",
       "      <th>9</th>\n",
       "      <td>1900</td>\n",
       "      <td>2003</td>\n",
       "      <td>160000</td>\n",
       "      <td>4</td>\n",
       "      <td>car</td>\n",
       "      <td>1</td>\n",
       "    </tr>\n",
       "    <tr>\n",
       "      <th>10</th>\n",
       "      <td>2500</td>\n",
       "      <td>2003</td>\n",
       "      <td>190000</td>\n",
       "      <td>2</td>\n",
       "      <td>truck</td>\n",
       "      <td>0</td>\n",
       "    </tr>\n",
       "    <tr>\n",
       "      <th>11</th>\n",
       "      <td>5000</td>\n",
       "      <td>2001</td>\n",
       "      <td>62000</td>\n",
       "      <td>4</td>\n",
       "      <td>car</td>\n",
       "      <td>1</td>\n",
       "    </tr>\n",
       "    <tr>\n",
       "      <th>12</th>\n",
       "      <td>1800</td>\n",
       "      <td>1999</td>\n",
       "      <td>163000</td>\n",
       "      <td>2</td>\n",
       "      <td>truck</td>\n",
       "      <td>0</td>\n",
       "    </tr>\n",
       "    <tr>\n",
       "      <th>13</th>\n",
       "      <td>1300</td>\n",
       "      <td>1997</td>\n",
       "      <td>138000</td>\n",
       "      <td>4</td>\n",
       "      <td>car</td>\n",
       "      <td>1</td>\n",
       "    </tr>\n",
       "  </tbody>\n",
       "</table>\n",
       "</div>"
      ],
      "text/plain": [
       "    price  year   miles  doors   type  is_car\n",
       "0   22000  2012   13000      2    car       1\n",
       "1   14000  2010   30000      2    car       1\n",
       "2   13000  2010   73500      4    car       1\n",
       "3    9500  2009   78000      4    car       1\n",
       "4    9000  2007   47000      4    car       1\n",
       "5    4000  2006  124000      2    car       1\n",
       "6    3000  2004  177000      4    car       1\n",
       "7    2000  2004  209000      4  truck       0\n",
       "8    3000  2003  138000      2    car       1\n",
       "9    1900  2003  160000      4    car       1\n",
       "10   2500  2003  190000      2  truck       0\n",
       "11   5000  2001   62000      4    car       1\n",
       "12   1800  1999  163000      2  truck       0\n",
       "13   1300  1997  138000      4    car       1"
      ]
     },
     "execution_count": 12,
     "metadata": {},
     "output_type": "execute_result"
    }
   ],
   "source": [
    "cars"
   ]
  },
  {
   "cell_type": "code",
   "execution_count": 52,
   "metadata": {
    "collapsed": true
   },
   "outputs": [],
   "source": [
    "y = cars['price']\n",
    "x = cars[['year', 'miles', 'doors', 'is_car']]"
   ]
  },
  {
   "cell_type": "code",
   "execution_count": 17,
   "metadata": {
    "collapsed": true
   },
   "outputs": [],
   "source": [
    "x_train, x_test, y_train, y_test = train_test_split(x, y, \n",
    "                                                    random_state=42,\n",
    "                                                   test_size=0.30)"
   ]
  },
  {
   "cell_type": "code",
   "execution_count": 18,
   "metadata": {
    "collapsed": false
   },
   "outputs": [
    {
     "name": "stdout",
     "output_type": "stream",
     "text": [
      "(9, 4) (5, 4) (9,) (5,)\n"
     ]
    }
   ],
   "source": [
    "print x_train.shape, x_test.shape, y_train.shape, y_test.shape"
   ]
  },
  {
   "cell_type": "code",
   "execution_count": 19,
   "metadata": {
    "collapsed": true
   },
   "outputs": [],
   "source": [
    "from sklearn.tree import DecisionTreeRegressor   ## regressor, not classification\n"
   ]
  },
  {
   "cell_type": "code",
   "execution_count": 20,
   "metadata": {
    "collapsed": true
   },
   "outputs": [],
   "source": [
    "decision_tree = DecisionTreeRegressor()   ## instantiates a decision tree model"
   ]
  },
  {
   "cell_type": "code",
   "execution_count": 22,
   "metadata": {
    "collapsed": false
   },
   "outputs": [
    {
     "data": {
      "text/plain": [
       "DecisionTreeRegressor(criterion='mse', max_depth=None, max_features=None,\n",
       "           max_leaf_nodes=None, min_samples_leaf=1, min_samples_split=2,\n",
       "           min_weight_fraction_leaf=0.0, presort=False, random_state=None,\n",
       "           splitter='best')"
      ]
     },
     "execution_count": 22,
     "metadata": {},
     "output_type": "execute_result"
    }
   ],
   "source": [
    "decision_tree.fit(x_train, y_train)     ## look at the hyperparameters we can change"
   ]
  },
  {
   "cell_type": "code",
   "execution_count": 24,
   "metadata": {
    "collapsed": false
   },
   "outputs": [
    {
     "data": {
      "text/plain": [
       "array([  3000.,  13000.,  14000.,   1300.,   9000.,   2000.,   2500.,\n",
       "         9500.,   3000.])"
      ]
     },
     "execution_count": 24,
     "metadata": {},
     "output_type": "execute_result"
    }
   ],
   "source": [
    "decision_tree.predict(x_train)      ## shows predictions based on the model"
   ]
  },
  {
   "cell_type": "code",
   "execution_count": 25,
   "metadata": {
    "collapsed": false
   },
   "outputs": [
    {
     "data": {
      "text/plain": [
       "8      3000\n",
       "2     13000\n",
       "1     14000\n",
       "13     1300\n",
       "4      9000\n",
       "7      2000\n",
       "10     2500\n",
       "3      9500\n",
       "6      3000\n",
       "Name: price, dtype: int64"
      ]
     },
     "execution_count": 25,
     "metadata": {},
     "output_type": "execute_result"
    }
   ],
   "source": [
    "y_train"
   ]
  },
  {
   "cell_type": "code",
   "execution_count": 26,
   "metadata": {
    "collapsed": false
   },
   "outputs": [
    {
     "data": {
      "text/plain": [
       "<matplotlib.collections.PathCollection at 0x117474810>"
      ]
     },
     "execution_count": 26,
     "metadata": {},
     "output_type": "execute_result"
    },
    {
     "data": {
      "image/png": "[encoded data removed]",
      "text/plain": [
       "<matplotlib.figure.Figure at 0x11729a190>"
      ]
     },
     "metadata": {},
     "output_type": "display_data"
    }
   ],
   "source": [
    "import matplotlib.pyplot as plt\n",
    "%matplotlib inline\n",
    "\n",
    "plt.scatter(y_train, decision_tree.predict(x_train))"
   ]
  },
  {
   "cell_type": "markdown",
   "metadata": {},
   "source": [
    "# ^^ this model is probably (definitely) overfit"
   ]
  },
  {
   "cell_type": "code",
   "execution_count": 28,
   "metadata": {
    "collapsed": false
   },
   "outputs": [
    {
     "data": {
      "text/plain": [
       "1.0"
      ]
     },
     "execution_count": 28,
     "metadata": {},
     "output_type": "execute_result"
    }
   ],
   "source": [
    "from sklearn.metrics import r2_score\n",
    "\n",
    "r2_score(y_train, decision_tree.predict(x_train))  ## we can use rsquared here because we have a regressor not a classifier"
   ]
  },
  {
   "cell_type": "code",
   "execution_count": 29,
   "metadata": {
    "collapsed": false
   },
   "outputs": [
    {
     "data": {
      "text/plain": [
       "9      1900\n",
       "11     5000\n",
       "0     22000\n",
       "12     1800\n",
       "5      4000\n",
       "Name: price, dtype: int64"
      ]
     },
     "execution_count": 29,
     "metadata": {},
     "output_type": "execute_result"
    }
   ],
   "source": [
    "y_test"
   ]
  },
  {
   "cell_type": "code",
   "execution_count": 30,
   "metadata": {
    "collapsed": false
   },
   "outputs": [
    {
     "data": {
      "text/plain": [
       "array([  3000.,   3000.,  14000.,   1300.,   9500.])"
      ]
     },
     "execution_count": 30,
     "metadata": {},
     "output_type": "execute_result"
    }
   ],
   "source": [
    "decision_tree.predict(x_test)"
   ]
  },
  {
   "cell_type": "code",
   "execution_count": 31,
   "metadata": {
    "collapsed": false
   },
   "outputs": [
    {
     "data": {
      "text/plain": [
       "0.65739162703757659"
      ]
     },
     "execution_count": 31,
     "metadata": {},
     "output_type": "execute_result"
    }
   ],
   "source": [
    "r2_score(y_test, decision_tree.predict(x_test))  "
   ]
  },
  {
   "cell_type": "code",
   "execution_count": 34,
   "metadata": {
    "collapsed": false
   },
   "outputs": [
    {
     "data": {
      "text/plain": [
       "(0, 25000)"
      ]
     },
     "execution_count": 34,
     "metadata": {},
     "output_type": "execute_result"
    },
    {
     "data": {
      "image/png": "[encoded data removed]",
      "text/plain": [
       "<matplotlib.figure.Figure at 0x113718550>"
      ]
     },
     "metadata": {},
     "output_type": "display_data"
    }
   ],
   "source": [
    "plt.scatter(y_test, decision_tree.predict(x_test))\n",
    "plt.plot(y_test, y_test)\n",
    "plt.ylim((0,25000))\n",
    "plt.xlim((0, 25000))"
   ]
  },
  {
   "cell_type": "code",
   "execution_count": 35,
   "metadata": {
    "collapsed": true
   },
   "outputs": [],
   "source": [
    "def find_mse(y_true, y_pred):\n",
    "    values = []\n",
    "    for value in zip(y_true, y_pred):     ## zip puts the matching pairs from the two sets together\n",
    "        values.append((value[0]-value[1])**2)\n",
    "    return np.mean(values)"
   ]
  },
  {
   "cell_type": "code",
   "execution_count": 36,
   "metadata": {
    "collapsed": false,
    "scrolled": true
   },
   "outputs": [
    {
     "data": {
      "text/plain": [
       "19942000.0"
      ]
     },
     "execution_count": 36,
     "metadata": {},
     "output_type": "execute_result"
    }
   ],
   "source": [
    "find_mse(y_test, decision_tree.predict(x_test))"
   ]
  },
  {
   "cell_type": "code",
   "execution_count": 44,
   "metadata": {
    "collapsed": true
   },
   "outputs": [],
   "source": [
    "def make_pretty_plots(y_true, y_pred):\n",
    "    plt.scatter(y_true, y_pred)\n",
    "    plt.plot(y_true, y_true)\n",
    "    plt.ylim((0, 25000))\n",
    "    plt.xlim((0, 25000))\n",
    "    plt.show()"
   ]
  },
  {
   "cell_type": "code",
   "execution_count": 45,
   "metadata": {
    "collapsed": false
   },
   "outputs": [
    {
     "data": {
      "image/png": "[encoded data removed]",
      "text/plain": [
       "<matplotlib.figure.Figure at 0x11a8dd090>"
      ]
     },
     "metadata": {},
     "output_type": "display_data"
    },
    {
     "data": {
      "image/png": "[encoded data removed]",
      "text/plain": [
       "<matplotlib.figure.Figure at 0x11ac86710>"
      ]
     },
     "metadata": {},
     "output_type": "display_data"
    },
    {
     "data": {
      "image/png": "[encoded data removed]",
      "text/plain": [
       "<matplotlib.figure.Figure at 0x11ac86810>"
      ]
     },
     "metadata": {},
     "output_type": "display_data"
    },
    {
     "data": {
      "image/png": "[encoded data removed]",
      "text/plain": [
       "<matplotlib.figure.Figure at 0x11b148350>"
      ]
     },
     "metadata": {},
     "output_type": "display_data"
    },
    {
     "data": {
      "image/png": "[encoded data removed]",
      "text/plain": [
       "<matplotlib.figure.Figure at 0x11acc63d0>"
      ]
     },
     "metadata": {},
     "output_type": "display_data"
    },
    {
     "data": {
      "image/png": "[encoded data removed]",
      "text/plain": [
       "<matplotlib.figure.Figure at 0x11acc6110>"
      ]
     },
     "metadata": {},
     "output_type": "display_data"
    },
    {
     "data": {
      "image/png": "[encoded data removed]",
      "text/plain": [
       "<matplotlib.figure.Figure at 0x1177f5110>"
      ]
     },
     "metadata": {},
     "output_type": "display_data"
    },
    {
     "data": {
      "image/png": "[encoded data removed]",
      "text/plain": [
       "<matplotlib.figure.Figure at 0x11ae6f210>"
      ]
     },
     "metadata": {},
     "output_type": "display_data"
    },
    {
     "data": {
      "image/png": "[encoded data removed]",
      "text/plain": [
       "<matplotlib.figure.Figure at 0x11ac0c750>"
      ]
     },
     "metadata": {},
     "output_type": "display_data"
    },
    {
     "data": {
      "image/png": "[encoded data removed]",
      "text/plain": [
       "<matplotlib.figure.Figure at 0x11a510350>"
      ]
     },
     "metadata": {},
     "output_type": "display_data"
    }
   ],
   "source": [
    "list_of_mse = []\n",
    "\n",
    "for x in range(1, 11):\n",
    "    new_decision_tree = DecisionTreeRegressor(max_depth=x)\n",
    "    new_decision_tree.fit(x_train, y_train)\n",
    "    predictions = new_decision_tree.predict(x_test)\n",
    "    make_pretty_plots(y_test, predictions)\n",
    "    mse = find_mse(y_test, predictions)\n",
    "    list_of_mse.append(mse)"
   ]
  },
  {
   "cell_type": "code",
   "execution_count": 46,
   "metadata": {
    "collapsed": false
   },
   "outputs": [
    {
     "data": {
      "text/plain": [
       "[31349210.0,\n",
       " 21245750.0,\n",
       " 16492000.0,\n",
       " 16492000.0,\n",
       " 16492000.0,\n",
       " 16492000.0,\n",
       " 19942000.0,\n",
       " 18892000.0,\n",
       " 18892000.0,\n",
       " 18892000.0]"
      ]
     },
     "execution_count": 46,
     "metadata": {},
     "output_type": "execute_result"
    }
   ],
   "source": [
    "list_of_mse"
   ]
  },
  {
   "cell_type": "code",
   "execution_count": 47,
   "metadata": {
    "collapsed": false,
    "scrolled": true
   },
   "outputs": [
    {
     "data": {
      "text/plain": [
       "<matplotlib.collections.PathCollection at 0x11a546ad0>"
      ]
     },
     "execution_count": 47,
     "metadata": {},
     "output_type": "execute_result"
    },
    {
     "data": {
      "image/png": "[encoded data removed]",
      "text/plain": [
       "<matplotlib.figure.Figure at 0x11a8cd510>"
      ]
     },
     "metadata": {},
     "output_type": "display_data"
    }
   ],
   "source": [
    "plt.scatter(range(1,11), list_of_mse)"
   ]
  },
  {
   "cell_type": "code",
   "execution_count": 54,
   "metadata": {
    "collapsed": false
   },
   "outputs": [
    {
     "name": "stdout",
     "output_type": "stream",
     "text": [
      "Index([u'year', u'miles', u'doors', u'is_car'], dtype='object')\n"
     ]
    }
   ],
   "source": [
    "print x.columns"
   ]
  },
  {
   "cell_type": "code",
   "execution_count": 55,
   "metadata": {
    "collapsed": false
   },
   "outputs": [
    {
     "data": {
      "text/plain": [
       "array([ 0.99348247,  0.0037243 ,  0.        ,  0.00279323])"
      ]
     },
     "execution_count": 55,
     "metadata": {},
     "output_type": "execute_result"
    }
   ],
   "source": [
    "decision_tree.feature_importances_      ## the impact of each feature"
   ]
  },
  {
   "cell_type": "code",
   "execution_count": 67,
   "metadata": {
    "collapsed": false
   },
   "outputs": [
    {
     "ename": "NameError",
     "evalue": "global name 'dot_parser' is not defined",
     "output_type": "error",
     "traceback": [
      "\u001b[0;31m---------------------------------------------------------------------------\u001b[0m",
      "\u001b[0;31mNameError\u001b[0m                                 Traceback (most recent call last)",
      "\u001b[0;32m<ipython-input-67-f5b8c9b67500>\u001b[0m in \u001b[0;36m<module>\u001b[0;34m()\u001b[0m\n\u001b[1;32m     13\u001b[0m                 \u001b[0mfilled\u001b[0m\u001b[0;34m=\u001b[0m\u001b[0mTrue\u001b[0m\u001b[0;34m,\u001b[0m \u001b[0mrounded\u001b[0m\u001b[0;34m=\u001b[0m\u001b[0mTrue\u001b[0m\u001b[0;34m,\u001b[0m\u001b[0;34m\u001b[0m\u001b[0m\n\u001b[1;32m     14\u001b[0m                 special_characters=True)  \n\u001b[0;32m---> 15\u001b[0;31m \u001b[0mgraph\u001b[0m \u001b[0;34m=\u001b[0m \u001b[0mpydot\u001b[0m\u001b[0;34m.\u001b[0m\u001b[0mgraph_from_dot_data\u001b[0m\u001b[0;34m(\u001b[0m\u001b[0mdot_data\u001b[0m\u001b[0;34m.\u001b[0m\u001b[0mgetvalue\u001b[0m\u001b[0;34m(\u001b[0m\u001b[0;34m)\u001b[0m\u001b[0;34m)\u001b[0m\u001b[0;34m\u001b[0m\u001b[0m\n\u001b[0m\u001b[1;32m     16\u001b[0m \u001b[0mImage\u001b[0m\u001b[0;34m(\u001b[0m\u001b[0mgraph\u001b[0m\u001b[0;34m.\u001b[0m\u001b[0mcreate_png\u001b[0m\u001b[0;34m(\u001b[0m\u001b[0;34m)\u001b[0m\u001b[0;34m)\u001b[0m\u001b[0;34m\u001b[0m\u001b[0m\n",
      "\u001b[0;32m/Users/christophereppig/anaconda/lib/python2.7/site-packages/pydot.pyc\u001b[0m in \u001b[0;36mgraph_from_dot_data\u001b[0;34m(data)\u001b[0m\n\u001b[1;32m    218\u001b[0m     \"\"\"\n\u001b[1;32m    219\u001b[0m \u001b[0;34m\u001b[0m\u001b[0m\n\u001b[0;32m--> 220\u001b[0;31m     \u001b[0;32mreturn\u001b[0m \u001b[0mdot_parser\u001b[0m\u001b[0;34m.\u001b[0m\u001b[0mparse_dot_data\u001b[0m\u001b[0;34m(\u001b[0m\u001b[0mdata\u001b[0m\u001b[0;34m)\u001b[0m\u001b[0;34m\u001b[0m\u001b[0m\n\u001b[0m\u001b[1;32m    221\u001b[0m \u001b[0;34m\u001b[0m\u001b[0m\n\u001b[1;32m    222\u001b[0m \u001b[0;34m\u001b[0m\u001b[0m\n",
      "\u001b[0;31mNameError\u001b[0m: global name 'dot_parser' is not defined"
     ]
    }
   ],
   "source": [
    "feature_names = ['year', 'miles', 'doors', 'is_car']\n",
    "\n",
    "from IPython.display import Image\n",
    "from sklearn.tree import export_graphviz\n",
    "from sklearn.externals.six import StringIO\n",
    "import pydot\n",
    "\n",
    "dot_data = StringIO()  \n",
    "\n",
    "\n",
    "export_graphviz(decision_tree, out_file=dot_data,  \n",
    "                feature_names=feature_names,  \n",
    "                filled=True, rounded=True,  \n",
    "                special_characters=True)  \n",
    "graph = pydot.graph_from_dot_data(dot_data.getvalue())  \n",
    "Image(graph.create_png())  "
   ]
  },
  {
   "cell_type": "markdown",
   "metadata": {},
   "source": [
    "## Use gridsearch on random forest"
   ]
  },
  {
   "cell_type": "code",
   "execution_count": 68,
   "metadata": {
    "collapsed": true
   },
   "outputs": [],
   "source": [
    "from sklearn.grid_search import GridSearchCV"
   ]
  },
  {
   "cell_type": "code",
   "execution_count": 70,
   "metadata": {
    "collapsed": false
   },
   "outputs": [],
   "source": [
    "params = {'max_depth' : [1,2,3,4],\n",
    "         'max_features' : [1,2,3,4],\n",
    "         'max_leaf_nodes' : [2,3,5]}"
   ]
  },
  {
   "cell_type": "code",
   "execution_count": 74,
   "metadata": {
    "collapsed": false
   },
   "outputs": [
    {
     "name": "stdout",
     "output_type": "stream",
     "text": [
      "Fitting 3 folds for each of 48 candidates, totalling 144 fits\n",
      "[CV] max_features=1, max_leaf_nodes=2, max_depth=1 ...................\n",
      "[CV]  max_features=1, max_leaf_nodes=2, max_depth=1, score=-0.749595 -   0.0s\n",
      "[CV] max_features=1, max_leaf_nodes=2, max_depth=1 ...................\n",
      "[CV]  max_features=1, max_leaf_nodes=2, max_depth=1, score=-1.601765 -   0.0s\n",
      "[CV] max_features=1, max_leaf_nodes=2, max_depth=1 ...................\n",
      "[CV]  max_features=1, max_leaf_nodes=2, max_depth=1, score=0.763279 -   0.0s\n",
      "[CV] max_features=1, max_leaf_nodes=3, max_depth=1 ...................\n",
      "[CV]  max_features=1, max_leaf_nodes=3, max_depth=1, score=-0.980574 -   0.0s\n",
      "[CV] max_features=1, max_leaf_nodes=3, max_depth=1 ...................\n",
      "[CV]  max_features=1, max_leaf_nodes=3, max_depth=1, score=-1.601765 -   0.0s\n",
      "[CV] max_features=1, max_leaf_nodes=3, max_depth=1 ...................\n",
      "[CV]  max_features=1, max_leaf_nodes=3, max_depth=1, score=0.894426 -   0.0s\n",
      "[CV] max_features=1, max_leaf_nodes=5, max_depth=1 ...................\n",
      "[CV]  max_features=1, max_leaf_nodes=5, max_depth=1, score=0.493243 -   0.0s\n",
      "[CV] max_features=1, max_leaf_nodes=5, max_depth=1 ...................\n",
      "[CV]  max_features=1, max_leaf_nodes=5, max_depth=1, score=0.636851 -   0.0s\n",
      "[CV] max_features=1, max_leaf_nodes=5, max_depth=1 ...................\n",
      "[CV]  max_features=1, max_leaf_nodes=5, max_depth=1, score=0.763197 -   0.0s\n",
      "[CV] max_features=2, max_leaf_nodes=2, max_depth=1 ...................\n",
      "[CV]  max_features=2, max_leaf_nodes=2, max_depth=1, score=0.496419 -   0.0s\n",
      "[CV] max_features=2, max_leaf_nodes=2, max_depth=1 ...................\n",
      "[CV]  max_features=2, max_leaf_nodes=2, max_depth=1, score=-0.443464 -   0.0s\n",
      "[CV] max_features=2, max_leaf_nodes=2, max_depth=1 ...................\n",
      "[CV]  max_features=2, max_leaf_nodes=2, max_depth=1, score=0.084354 -   0.0s\n",
      "[CV] max_features=2, max_leaf_nodes=3, max_depth=1 ...................\n",
      "[CV]  max_features=2, max_leaf_nodes=3, max_depth=1, score=0.466014 -   0.0s\n",
      "[CV] max_features=2, max_leaf_nodes=3, max_depth=1 ...................\n",
      "[CV]  max_features=2, max_leaf_nodes=3, max_depth=1, score=0.636851 -   0.0s\n",
      "[CV] max_features=2, max_leaf_nodes=3, max_depth=1 ...................\n",
      "[CV]  max_features=2, max_leaf_nodes=3, max_depth=1, score=0.894426 -   0.0s\n",
      "[CV] max_features=2, max_leaf_nodes=5, max_depth=1 ...................\n",
      "[CV]  max_features=2, max_leaf_nodes=5, max_depth=1, score=0.495304 -   0.0s\n",
      "[CV] max_features=2, max_leaf_nodes=5, max_depth=1 ...................\n",
      "[CV]  max_features=2, max_leaf_nodes=5, max_depth=1, score=0.906509 -   0.0s\n",
      "[CV] max_features=2, max_leaf_nodes=5, max_depth=1 ...................\n",
      "[CV]  max_features=2, max_leaf_nodes=5, max_depth=1, score=0.858279 -   0.0s\n",
      "[CV] max_features=3, max_leaf_nodes=2, max_depth=1 ...................\n",
      "[CV]  max_features=3, max_leaf_nodes=2, max_depth=1, score=0.496419 -   0.0s\n",
      "[CV] max_features=3, max_leaf_nodes=2, max_depth=1 ...................\n",
      "[CV]  max_features=3, max_leaf_nodes=2, max_depth=1, score=0.639456 -   0.0s\n",
      "[CV] max_features=3, max_leaf_nodes=2, max_depth=1 ...................\n",
      "[CV]  max_features=3, max_leaf_nodes=2, max_depth=1, score=0.763279 -   0.0s\n",
      "[CV] max_features=3, max_leaf_nodes=3, max_depth=1 ...................\n",
      "[CV]  max_features=3, max_leaf_nodes=3, max_depth=1, score=0.501689 -   0.0s\n",
      "[CV] max_features=3, max_leaf_nodes=3, max_depth=1 ...................\n",
      "[CV]  max_features=3, max_leaf_nodes=3, max_depth=1, score=0.909113 -   0.0s\n",
      "[CV] max_features=3, max_leaf_nodes=3, max_depth=1 ...................\n",
      "[CV]  max_features=3, max_leaf_nodes=3, max_depth=1, score=0.443607 -   0.0s\n",
      "[CV] max_features=3, max_leaf_nodes=5, max_depth=1 ...................\n",
      "[CV]  max_features=3, max_leaf_nodes=5, max_depth=1, score=0.457568 -   0.0s\n",
      "[CV] max_features=3, max_leaf_nodes=5, max_depth=1 ...................\n",
      "[CV]  max_features=3, max_leaf_nodes=5, max_depth=1, score=0.906509 -   0.0s\n",
      "[CV] max_features=3, max_leaf_nodes=5, max_depth=1 ...................\n",
      "[CV]  max_features=3, max_leaf_nodes=5, max_depth=1, score=0.467213 -   0.0s\n",
      "[CV] max_features=4, max_leaf_nodes=2, max_depth=1 ...................\n",
      "[CV]  max_features=4, max_leaf_nodes=2, max_depth=1, score=0.496419 -   0.0s\n",
      "[CV] max_features=4, max_leaf_nodes=2, max_depth=1 ...................\n",
      "[CV]  max_features=4, max_leaf_nodes=2, max_depth=1, score=0.639456 -   0.0s\n",
      "[CV] max_features=4, max_leaf_nodes=2, max_depth=1 ...................\n",
      "[CV]  max_features=4, max_leaf_nodes=2, max_depth=1, score=0.763279 -   0.0s\n",
      "[CV] max_features=4, max_leaf_nodes=3, max_depth=1 ...................\n",
      "[CV]  max_features=4, max_leaf_nodes=3, max_depth=1, score=0.501689 -   0.0s\n",
      "[CV] max_features=4, max_leaf_nodes=3, max_depth=1 ...................\n",
      "[CV]  max_features=4, max_leaf_nodes=3, max_depth=1, score=0.357541 -   0.0s\n",
      "[CV] max_features=4, max_leaf_nodes=3, max_depth=1 ...................\n",
      "[CV]  max_features=4, max_leaf_nodes=3, max_depth=1, score=0.443607 -   0.0s\n",
      "[CV] max_features=4, max_leaf_nodes=5, max_depth=1 ...................\n",
      "[CV]  max_features=4, max_leaf_nodes=5, max_depth=1, score=0.521757 -   0.0s\n",
      "[CV] max_features=4, max_leaf_nodes=5, max_depth=1 ...................\n",
      "[CV]  max_features=4, max_leaf_nodes=5, max_depth=1, score=0.354937 -   0.0s\n",
      "[CV] max_features=4, max_leaf_nodes=5, max_depth=1 ...................\n",
      "[CV]  max_features=4, max_leaf_nodes=5, max_depth=1, score=0.407459 -   0.0s\n",
      "[CV] max_features=1, max_leaf_nodes=2, max_depth=2 ...................\n",
      "[CV]  max_features=1, max_leaf_nodes=2, max_depth=2, score=-0.749595 -   0.0s\n",
      "[CV] max_features=1, max_leaf_nodes=2, max_depth=2 ...................\n",
      "[CV]  max_features=1, max_leaf_nodes=2, max_depth=2, score=-0.443464 -   0.0s\n",
      "[CV] max_features=1, max_leaf_nodes=2, max_depth=2 ...................\n",
      "[CV]  max_features=1, max_leaf_nodes=2, max_depth=2, score=-0.873320 -   0.0s\n",
      "[CV] max_features=1, max_leaf_nodes=3, max_depth=2 ...................\n",
      "[CV]  max_features=1, max_leaf_nodes=3, max_depth=2, score=0.495304 -   0.0s\n",
      "[CV] max_features=1, max_leaf_nodes=3, max_depth=2 ...................\n",
      "[CV]  max_features=1, max_leaf_nodes=3, max_depth=2, score=0.909113 -   0.0s\n",
      "[CV] max_features=1, max_leaf_nodes=3, max_depth=2 ...................\n",
      "[CV]  max_features=1, max_leaf_nodes=3, max_depth=2, score=0.894426 -   0.0s\n",
      "[CV] max_features=1, max_leaf_nodes=5, max_depth=2 ...................\n",
      "[CV]  max_features=1, max_leaf_nodes=5, max_depth=2, score=-0.956081 -   0.0s\n",
      "[CV] max_features=1, max_leaf_nodes=5, max_depth=2 ...................\n",
      "[CV]  max_features=1, max_leaf_nodes=5, max_depth=2, score=0.906509 -   0.0s\n",
      "[CV] max_features=1, max_leaf_nodes=5, max_depth=2 ...................\n",
      "[CV]  max_features=1, max_leaf_nodes=5, max_depth=2, score=0.530410 -   0.0s\n",
      "[CV] max_features=2, max_leaf_nodes=2, max_depth=2 ...................\n",
      "[CV]  max_features=2, max_leaf_nodes=2, max_depth=2, score=0.496419 -   0.0s\n",
      "[CV] max_features=2, max_leaf_nodes=2, max_depth=2 ...................\n",
      "[CV]  max_features=2, max_leaf_nodes=2, max_depth=2, score=0.639456 -   0.0s\n",
      "[CV] max_features=2, max_leaf_nodes=2, max_depth=2 ...................\n"
     ]
    },
    {
     "name": "stderr",
     "output_type": "stream",
     "text": [
      "[Parallel(n_jobs=1)]: Done   1 tasks       | elapsed:    0.0s\n",
      "[Parallel(n_jobs=1)]: Done   4 tasks       | elapsed:    0.1s\n",
      "[Parallel(n_jobs=1)]: Done   7 tasks       | elapsed:    0.1s\n",
      "[Parallel(n_jobs=1)]: Done  12 tasks       | elapsed:    0.1s\n",
      "[Parallel(n_jobs=1)]: Done  17 tasks       | elapsed:    0.1s\n",
      "[Parallel(n_jobs=1)]: Done  24 tasks       | elapsed:    0.2s\n",
      "[Parallel(n_jobs=1)]: Done  31 tasks       | elapsed:    0.2s\n",
      "[Parallel(n_jobs=1)]: Done  40 tasks       | elapsed:    0.2s\n"
     ]
    },
    {
     "name": "stdout",
     "output_type": "stream",
     "text": [
      "[CV]  max_features=2, max_leaf_nodes=2, max_depth=2, score=0.763279 -   0.0s\n",
      "[CV] max_features=2, max_leaf_nodes=3, max_depth=2 ...................\n",
      "[CV]  max_features=2, max_leaf_nodes=3, max_depth=2, score=0.501689 -   0.0s\n",
      "[CV] max_features=2, max_leaf_nodes=3, max_depth=2 ...................\n",
      "[CV]  max_features=2, max_leaf_nodes=3, max_depth=2, score=0.357541 -   0.0s\n",
      "[CV] max_features=2, max_leaf_nodes=3, max_depth=2 ...................\n",
      "[CV]  max_features=2, max_leaf_nodes=3, max_depth=2, score=0.894426 -   0.0s\n",
      "[CV] max_features=2, max_leaf_nodes=5, max_depth=2 ...................\n",
      "[CV]  max_features=2, max_leaf_nodes=5, max_depth=2, score=0.560811 -   0.0s\n",
      "[CV] max_features=2, max_leaf_nodes=5, max_depth=2 ...................\n",
      "[CV]  max_features=2, max_leaf_nodes=5, max_depth=2, score=0.223938 -   0.0s\n",
      "[CV] max_features=2, max_leaf_nodes=5, max_depth=2 ...................\n",
      "[CV]  max_features=2, max_leaf_nodes=5, max_depth=2, score=0.823279 -   0.0s\n",
      "[CV] max_features=3, max_leaf_nodes=2, max_depth=2 ...................\n",
      "[CV]  max_features=3, max_leaf_nodes=2, max_depth=2, score=0.496419 -   0.0s\n",
      "[CV] max_features=3, max_leaf_nodes=2, max_depth=2 ...................\n",
      "[CV]  max_features=3, max_leaf_nodes=2, max_depth=2, score=0.639456 -   0.0s\n",
      "[CV] max_features=3, max_leaf_nodes=2, max_depth=2 ...................\n",
      "[CV]  max_features=3, max_leaf_nodes=2, max_depth=2, score=0.763279 -   0.0s\n",
      "[CV] max_features=3, max_leaf_nodes=3, max_depth=2 ...................\n",
      "[CV]  max_features=3, max_leaf_nodes=3, max_depth=2, score=0.466014 -   0.0s\n",
      "[CV] max_features=3, max_leaf_nodes=3, max_depth=2 ...................\n",
      "[CV]  max_features=3, max_leaf_nodes=3, max_depth=2, score=0.357541 -   0.0s\n",
      "[CV] max_features=3, max_leaf_nodes=3, max_depth=2 ...................\n",
      "[CV]  max_features=3, max_leaf_nodes=3, max_depth=2, score=0.443607 -   0.0s\n",
      "[CV] max_features=3, max_leaf_nodes=5, max_depth=2 ...................\n",
      "[CV]  max_features=3, max_leaf_nodes=5, max_depth=2, score=0.457568 -   0.0s\n",
      "[CV] max_features=3, max_leaf_nodes=5, max_depth=2 ...................\n",
      "[CV]  max_features=3, max_leaf_nodes=5, max_depth=2, score=0.906509 -   0.0s\n",
      "[CV] max_features=3, max_leaf_nodes=5, max_depth=2 ...................\n",
      "[CV]  max_features=3, max_leaf_nodes=5, max_depth=2, score=0.590164 -   0.0s\n",
      "[CV] max_features=4, max_leaf_nodes=2, max_depth=2 ...................\n",
      "[CV]  max_features=4, max_leaf_nodes=2, max_depth=2, score=0.496419 -   0.0s\n",
      "[CV] max_features=4, max_leaf_nodes=2, max_depth=2 ...................\n",
      "[CV]  max_features=4, max_leaf_nodes=2, max_depth=2, score=0.639456 -   0.0s\n",
      "[CV] max_features=4, max_leaf_nodes=2, max_depth=2 ...................\n",
      "[CV]  max_features=4, max_leaf_nodes=2, max_depth=2, score=0.763279 -   0.0s\n",
      "[CV] max_features=4, max_leaf_nodes=3, max_depth=2 ...................\n",
      "[CV]  max_features=4, max_leaf_nodes=3, max_depth=2, score=0.466014 -   0.0s\n",
      "[CV] max_features=4, max_leaf_nodes=3, max_depth=2 ...................\n",
      "[CV]  max_features=4, max_leaf_nodes=3, max_depth=2, score=0.357541 -   0.0s\n",
      "[CV] max_features=4, max_leaf_nodes=3, max_depth=2 ...................\n",
      "[CV]  max_features=4, max_leaf_nodes=3, max_depth=2, score=0.443607 -   0.0s\n",
      "[CV] max_features=4, max_leaf_nodes=5, max_depth=2 ...................\n",
      "[CV]  max_features=4, max_leaf_nodes=5, max_depth=2, score=0.560811 -   0.0s\n",
      "[CV] max_features=4, max_leaf_nodes=5, max_depth=2 ...................\n",
      "[CV]  max_features=4, max_leaf_nodes=5, max_depth=2, score=0.472146 -   0.0s\n",
      "[CV] max_features=4, max_leaf_nodes=5, max_depth=2 ...................\n",
      "[CV]  max_features=4, max_leaf_nodes=5, max_depth=2, score=0.530410 -   0.0s\n",
      "[CV] max_features=1, max_leaf_nodes=2, max_depth=3 ...................\n",
      "[CV]  max_features=1, max_leaf_nodes=2, max_depth=3, score=-1.664076 -   0.0s\n",
      "[CV] max_features=1, max_leaf_nodes=2, max_depth=3 ...................\n",
      "[CV]  max_features=1, max_leaf_nodes=2, max_depth=3, score=0.639456 -   0.0s\n",
      "[CV] max_features=1, max_leaf_nodes=2, max_depth=3 ...................\n",
      "[CV]  max_features=1, max_leaf_nodes=2, max_depth=3, score=0.763279 -   0.0s\n",
      "[CV] max_features=1, max_leaf_nodes=3, max_depth=3 ...................\n",
      "[CV]  max_features=1, max_leaf_nodes=3, max_depth=3, score=-0.980574 -   0.0s\n",
      "[CV] max_features=1, max_leaf_nodes=3, max_depth=3 ...................\n",
      "[CV]  max_features=1, max_leaf_nodes=3, max_depth=3, score=0.357541 -   0.0s\n",
      "[CV] max_features=1, max_leaf_nodes=3, max_depth=3 ...................\n",
      "[CV]  max_features=1, max_leaf_nodes=3, max_depth=3, score=0.443607 -   0.0s\n",
      "[CV] max_features=1, max_leaf_nodes=5, max_depth=3 ...................\n",
      "[CV]  max_features=1, max_leaf_nodes=5, max_depth=3, score=0.496622 -   0.0s\n",
      "[CV] max_features=1, max_leaf_nodes=5, max_depth=3 ...................\n",
      "[CV]  max_features=1, max_leaf_nodes=5, max_depth=3, score=0.773787 -   0.0s\n",
      "[CV] max_features=1, max_leaf_nodes=5, max_depth=3 ...................\n",
      "[CV]  max_features=1, max_leaf_nodes=5, max_depth=3, score=-1.180328 -   0.0s\n",
      "[CV] max_features=2, max_leaf_nodes=2, max_depth=3 ...................\n",
      "[CV]  max_features=2, max_leaf_nodes=2, max_depth=3, score=0.496419 -   0.0s\n",
      "[CV] max_features=2, max_leaf_nodes=2, max_depth=3 ...................\n",
      "[CV]  max_features=2, max_leaf_nodes=2, max_depth=3, score=0.639456 -   0.0s\n",
      "[CV] max_features=2, max_leaf_nodes=2, max_depth=3 ...................\n",
      "[CV]  max_features=2, max_leaf_nodes=2, max_depth=3, score=0.763279 -   0.0s\n",
      "[CV] max_features=2, max_leaf_nodes=3, max_depth=3 ...................\n",
      "[CV]  max_features=2, max_leaf_nodes=3, max_depth=3, score=0.487973 -   0.0s\n",
      "[CV] max_features=2, max_leaf_nodes=3, max_depth=3 ...................\n",
      "[CV]  max_features=2, max_leaf_nodes=3, max_depth=3, score=0.776391 -   0.0s\n",
      "[CV] max_features=2, max_leaf_nodes=3, max_depth=3 ...................\n",
      "[CV]  max_features=2, max_leaf_nodes=3, max_depth=3, score=0.443607 -   0.0s\n",
      "[CV] max_features=2, max_leaf_nodes=5, max_depth=3 ...................\n",
      "[CV]  max_features=2, max_leaf_nodes=5, max_depth=3, score=0.521757 -   0.0s\n",
      "[CV] max_features=2, max_leaf_nodes=5, max_depth=3 ...................\n",
      "[CV]  max_features=2, max_leaf_nodes=5, max_depth=3, score=0.906509 -   0.0s\n",
      "[CV] max_features=2, max_leaf_nodes=5, max_depth=3 ...................\n",
      "[CV]  max_features=2, max_leaf_nodes=5, max_depth=3, score=0.530410 -   0.0s\n",
      "[CV] max_features=3, max_leaf_nodes=2, max_depth=3 ...................\n",
      "[CV]  max_features=3, max_leaf_nodes=2, max_depth=3, score=0.496419 -   0.0s\n",
      "[CV] max_features=3, max_leaf_nodes=2, max_depth=3 ...................\n",
      "[CV]  max_features=3, max_leaf_nodes=2, max_depth=3, score=0.639456 -   0.0s\n",
      "[CV] max_features=3, max_leaf_nodes=2, max_depth=3 ...................\n",
      "[CV]  max_features=3, max_leaf_nodes=2, max_depth=3, score=0.763279 -   0.0s\n",
      "[CV] max_features=3, max_leaf_nodes=3, max_depth=3 ...................\n"
     ]
    },
    {
     "name": "stderr",
     "output_type": "stream",
     "text": [
      "[Parallel(n_jobs=1)]: Done  49 tasks       | elapsed:    0.3s\n",
      "[Parallel(n_jobs=1)]: Done  60 tasks       | elapsed:    0.3s\n",
      "[Parallel(n_jobs=1)]: Done  71 tasks       | elapsed:    0.4s\n",
      "[Parallel(n_jobs=1)]: Done  84 tasks       | elapsed:    0.4s\n",
      "[Parallel(n_jobs=1)]: Done  97 tasks       | elapsed:    0.5s\n"
     ]
    },
    {
     "name": "stdout",
     "output_type": "stream",
     "text": [
      "[CV]  max_features=3, max_leaf_nodes=3, max_depth=3, score=0.501689 -   0.0s\n",
      "[CV] max_features=3, max_leaf_nodes=3, max_depth=3 ...................\n",
      "[CV]  max_features=3, max_leaf_nodes=3, max_depth=3, score=0.357541 -   0.0s\n",
      "[CV] max_features=3, max_leaf_nodes=3, max_depth=3 ...................\n",
      "[CV]  max_features=3, max_leaf_nodes=3, max_depth=3, score=0.443607 -   0.0s\n",
      "[CV] max_features=3, max_leaf_nodes=5, max_depth=3 ...................\n",
      "[CV]  max_features=3, max_leaf_nodes=5, max_depth=3, score=0.521757 -   0.0s\n",
      "[CV] max_features=3, max_leaf_nodes=5, max_depth=3 ...................\n",
      "[CV]  max_features=3, max_leaf_nodes=5, max_depth=3, score=0.906509 -   0.0s\n",
      "[CV] max_features=3, max_leaf_nodes=5, max_depth=3 ...................\n",
      "[CV]  max_features=3, max_leaf_nodes=5, max_depth=3, score=0.530410 -   0.0s\n",
      "[CV] max_features=4, max_leaf_nodes=2, max_depth=3 ...................\n",
      "[CV]  max_features=4, max_leaf_nodes=2, max_depth=3, score=0.496419 -   0.0s\n",
      "[CV] max_features=4, max_leaf_nodes=2, max_depth=3 ...................\n",
      "[CV]  max_features=4, max_leaf_nodes=2, max_depth=3, score=0.639456 -   0.0s\n",
      "[CV] max_features=4, max_leaf_nodes=2, max_depth=3 ...................\n",
      "[CV]  max_features=4, max_leaf_nodes=2, max_depth=3, score=0.763279 -   0.0s\n",
      "[CV] max_features=4, max_leaf_nodes=3, max_depth=3 ...................\n",
      "[CV]  max_features=4, max_leaf_nodes=3, max_depth=3, score=0.501689 -   0.0s\n",
      "[CV] max_features=4, max_leaf_nodes=3, max_depth=3 ...................\n",
      "[CV]  max_features=4, max_leaf_nodes=3, max_depth=3, score=0.909113 -   0.0s\n",
      "[CV] max_features=4, max_leaf_nodes=3, max_depth=3 ...................\n",
      "[CV]  max_features=4, max_leaf_nodes=3, max_depth=3, score=0.443607 -   0.0s\n",
      "[CV] max_features=4, max_leaf_nodes=5, max_depth=3 ...................\n",
      "[CV]  max_features=4, max_leaf_nodes=5, max_depth=3, score=0.521757 -   0.0s\n",
      "[CV] max_features=4, max_leaf_nodes=5, max_depth=3 ...................\n",
      "[CV]  max_features=4, max_leaf_nodes=5, max_depth=3, score=0.223938 -   0.0s\n",
      "[CV] max_features=4, max_leaf_nodes=5, max_depth=3 ...................\n",
      "[CV]  max_features=4, max_leaf_nodes=5, max_depth=3, score=0.530410 -   0.0s\n",
      "[CV] max_features=1, max_leaf_nodes=2, max_depth=4 ...................\n",
      "[CV]  max_features=1, max_leaf_nodes=2, max_depth=4, score=0.496419 -   0.0s\n",
      "[CV] max_features=1, max_leaf_nodes=2, max_depth=4 ...................\n",
      "[CV]  max_features=1, max_leaf_nodes=2, max_depth=4, score=-1.601765 -   0.0s\n",
      "[CV] max_features=1, max_leaf_nodes=2, max_depth=4 ...................\n",
      "[CV]  max_features=1, max_leaf_nodes=2, max_depth=4, score=0.763279 -   0.0s\n",
      "[CV] max_features=1, max_leaf_nodes=3, max_depth=4 ...................\n",
      "[CV]  max_features=1, max_leaf_nodes=3, max_depth=4, score=0.495304 -   0.0s\n",
      "[CV] max_features=1, max_leaf_nodes=3, max_depth=4 ...................\n",
      "[CV]  max_features=1, max_leaf_nodes=3, max_depth=4, score=0.776391 -   0.0s\n",
      "[CV] max_features=1, max_leaf_nodes=3, max_depth=4 ...................\n",
      "[CV]  max_features=1, max_leaf_nodes=3, max_depth=4, score=-0.313852 -   0.0s\n",
      "[CV] max_features=1, max_leaf_nodes=5, max_depth=4 ...................\n",
      "[CV]  max_features=1, max_leaf_nodes=5, max_depth=4, score=-0.956081 -   0.0s\n",
      "[CV] max_features=1, max_leaf_nodes=5, max_depth=4 ...................\n",
      "[CV]  max_features=1, max_leaf_nodes=5, max_depth=4, score=0.473180 -   0.0s\n",
      "[CV] max_features=1, max_leaf_nodes=5, max_depth=4 ...................\n",
      "[CV]  max_features=1, max_leaf_nodes=5, max_depth=4, score=0.530410 -   0.0s\n",
      "[CV] max_features=2, max_leaf_nodes=2, max_depth=4 ...................\n",
      "[CV]  max_features=2, max_leaf_nodes=2, max_depth=4, score=0.496419 -   0.0s\n",
      "[CV] max_features=2, max_leaf_nodes=2, max_depth=4 ...................\n",
      "[CV]  max_features=2, max_leaf_nodes=2, max_depth=4, score=0.639456 -   0.0s\n",
      "[CV] max_features=2, max_leaf_nodes=2, max_depth=4 ...................\n",
      "[CV]  max_features=2, max_leaf_nodes=2, max_depth=4, score=0.763279 -   0.0s\n",
      "[CV] max_features=2, max_leaf_nodes=3, max_depth=4 ...................\n",
      "[CV]  max_features=2, max_leaf_nodes=3, max_depth=4, score=0.466014 -   0.0s\n",
      "[CV] max_features=2, max_leaf_nodes=3, max_depth=4 ...................\n",
      "[CV]  max_features=2, max_leaf_nodes=3, max_depth=4, score=0.636851 -   0.0s\n",
      "[CV] max_features=2, max_leaf_nodes=3, max_depth=4 ...................\n",
      "[CV]  max_features=2, max_leaf_nodes=3, max_depth=4, score=0.894426 -   0.0s\n",
      "[CV] max_features=2, max_leaf_nodes=5, max_depth=4 ...................\n",
      "[CV]  max_features=2, max_leaf_nodes=5, max_depth=4, score=0.457568 -   0.0s\n",
      "[CV] max_features=2, max_leaf_nodes=5, max_depth=4 ...................\n",
      "[CV]  max_features=2, max_leaf_nodes=5, max_depth=4, score=0.223938 -   0.0s\n",
      "[CV] max_features=2, max_leaf_nodes=5, max_depth=4 ...................\n",
      "[CV]  max_features=2, max_leaf_nodes=5, max_depth=4, score=0.530410 -   0.0s\n",
      "[CV] max_features=3, max_leaf_nodes=2, max_depth=4 ...................\n",
      "[CV]  max_features=3, max_leaf_nodes=2, max_depth=4, score=0.496419 -   0.0s\n",
      "[CV] max_features=3, max_leaf_nodes=2, max_depth=4 ...................\n",
      "[CV]  max_features=3, max_leaf_nodes=2, max_depth=4, score=0.639456 -   0.0s\n",
      "[CV] max_features=3, max_leaf_nodes=2, max_depth=4 ...................\n",
      "[CV]  max_features=3, max_leaf_nodes=2, max_depth=4, score=0.763279 -   0.0s\n",
      "[CV] max_features=3, max_leaf_nodes=3, max_depth=4 ...................\n",
      "[CV]  max_features=3, max_leaf_nodes=3, max_depth=4, score=0.466014 -   0.0s\n",
      "[CV] max_features=3, max_leaf_nodes=3, max_depth=4 ...................\n",
      "[CV]  max_features=3, max_leaf_nodes=3, max_depth=4, score=0.357541 -   0.0s\n",
      "[CV] max_features=3, max_leaf_nodes=3, max_depth=4 ...................\n",
      "[CV]  max_features=3, max_leaf_nodes=3, max_depth=4, score=0.443607 -   0.0s\n",
      "[CV] max_features=3, max_leaf_nodes=5, max_depth=4 ...................\n",
      "[CV]  max_features=3, max_leaf_nodes=5, max_depth=4, score=0.560811 -   0.0s\n",
      "[CV] max_features=3, max_leaf_nodes=5, max_depth=4 ...................\n",
      "[CV]  max_features=3, max_leaf_nodes=5, max_depth=4, score=0.906509 -   0.0s\n",
      "[CV] max_features=3, max_leaf_nodes=5, max_depth=4 ...................\n",
      "[CV]  max_features=3, max_leaf_nodes=5, max_depth=4, score=0.530410 -   0.0s\n",
      "[CV] max_features=4, max_leaf_nodes=2, max_depth=4 ...................\n",
      "[CV]  max_features=4, max_leaf_nodes=2, max_depth=4, score=0.496419 -   0.0s\n",
      "[CV] max_features=4, max_leaf_nodes=2, max_depth=4 ...................\n",
      "[CV]  max_features=4, max_leaf_nodes=2, max_depth=4, score=0.639456 -   0.0s\n",
      "[CV] max_features=4, max_leaf_nodes=2, max_depth=4 ...................\n",
      "[CV]  max_features=4, max_leaf_nodes=2, max_depth=4, score=0.763279 -   0.0s\n",
      "[CV] max_features=4, max_leaf_nodes=3, max_depth=4 ...................\n",
      "[CV]  max_features=4, max_leaf_nodes=3, max_depth=4, score=0.501689 -   0.0s\n",
      "[CV] max_features=4, max_leaf_nodes=3, max_depth=4 ...................\n",
      "[CV]  max_features=4, max_leaf_nodes=3, max_depth=4, score=0.909113 -   0.0s\n",
      "[CV] max_features=4, max_leaf_nodes=3, max_depth=4 ...................\n",
      "[CV]  max_features=4, max_leaf_nodes=3, max_depth=4, score=0.443607 -   0.0s\n",
      "[CV] max_features=4, max_leaf_nodes=5, max_depth=4 ...................\n",
      "[CV]  max_features=4, max_leaf_nodes=5, max_depth=4, score=0.496622 -   0.0s\n",
      "[CV] max_features=4, max_leaf_nodes=5, max_depth=4 ...................\n",
      "[CV]  max_features=4, max_leaf_nodes=5, max_depth=4, score=0.223938 -   0.0s\n",
      "[CV] max_features=4, max_leaf_nodes=5, max_depth=4 ...................\n",
      "[CV]  max_features=4, max_leaf_nodes=5, max_depth=4, score=0.530410 -   0.0s\n"
     ]
    },
    {
     "name": "stderr",
     "output_type": "stream",
     "text": [
      "[Parallel(n_jobs=1)]: Done 112 tasks       | elapsed:    0.6s\n",
      "[Parallel(n_jobs=1)]: Done 127 tasks       | elapsed:    0.7s\n",
      "[Parallel(n_jobs=1)]: Done 144 tasks       | elapsed:    0.8s\n",
      "[Parallel(n_jobs=1)]: Done 144 out of 144 | elapsed:    0.8s finished\n"
     ]
    },
    {
     "data": {
      "text/plain": [
       "GridSearchCV(cv=None, error_score='raise',\n",
       "       estimator=DecisionTreeRegressor(criterion='mse', max_depth=None, max_features=None,\n",
       "           max_leaf_nodes=None, min_samples_leaf=1, min_samples_split=2,\n",
       "           min_weight_fraction_leaf=0.0, presort=False, random_state=None,\n",
       "           splitter='best'),\n",
       "       fit_params={}, iid=True, n_jobs=1,\n",
       "       param_grid={'max_features': [1, 2, 3, 4], 'max_leaf_nodes': [2, 3, 5], 'max_depth': [1, 2, 3, 4]},\n",
       "       pre_dispatch='2*n_jobs', refit=True, scoring=None, verbose=10)"
      ]
     },
     "execution_count": 74,
     "metadata": {},
     "output_type": "execute_result"
    }
   ],
   "source": [
    "grid_search = GridSearchCV(estimator=DecisionTreeRegressor(),\n",
    "                           param_grid=params,\n",
    "                           verbose=10)\n",
    "decision_function = DecisionTreeRegressor()\n",
    "grid_search.fit(x_train, y_train)"
   ]
  },
  {
   "cell_type": "code",
   "execution_count": 75,
   "metadata": {
    "collapsed": false
   },
   "outputs": [
    {
     "data": {
      "text/plain": [
       "DecisionTreeRegressor(criterion='mse', max_depth=2, max_features=1,\n",
       "           max_leaf_nodes=3, min_samples_leaf=1, min_samples_split=2,\n",
       "           min_weight_fraction_leaf=0.0, presort=False, random_state=None,\n",
       "           splitter='best')"
      ]
     },
     "execution_count": 75,
     "metadata": {},
     "output_type": "execute_result"
    }
   ],
   "source": [
    "grid_search.best_estimator_"
   ]
  },
  {
   "cell_type": "code",
   "execution_count": 76,
   "metadata": {
    "collapsed": false
   },
   "outputs": [
    {
     "data": {
      "text/plain": [
       "0.76628115946324371"
      ]
     },
     "execution_count": 76,
     "metadata": {},
     "output_type": "execute_result"
    }
   ],
   "source": [
    "grid_search.best_score_"
   ]
  },
  {
   "cell_type": "code",
   "execution_count": 77,
   "metadata": {
    "collapsed": false
   },
   "outputs": [
    {
     "data": {
      "image/png": "[encoded data removed]",
      "text/plain": [
       "<matplotlib.figure.Figure at 0x11b653110>"
      ]
     },
     "metadata": {},
     "output_type": "display_data"
    }
   ],
   "source": [
    "best_estimator = grid_search.best_estimator_\n",
    "predictions = best_estimator.predict(x_test)\n",
    "make_pretty_plots(y_test, predictions)"
   ]
  },
  {
   "cell_type": "code",
   "execution_count": null,
   "metadata": {
    "collapsed": true
   },
   "outputs": [],
   "source": []
  }
 ],
 "metadata": {
  "anaconda-cloud": {},
  "kernelspec": {
   "display_name": "Python [Root]",
   "language": "python",
   "name": "Python [Root]"
  },
  "language_info": {
   "codemirror_mode": {
    "name": "ipython",
    "version": 2
   },
   "file_extension": ".py",
   "mimetype": "text/x-python",
   "name": "python",
   "nbconvert_exporter": "python",
   "pygments_lexer": "ipython2",
   "version": "2.7.12"
  }
 },
 "nbformat": 4,
 "nbformat_minor": 0
}
