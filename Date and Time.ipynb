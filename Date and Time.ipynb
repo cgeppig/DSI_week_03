{
 "cells": [
  {
   "cell_type": "code",
   "execution_count": 81,
   "metadata": {
    "collapsed": false
   },
   "outputs": [],
   "source": [
    "from datetime import datetime\n",
    "from datetime import timedelta\n",
    "import pandas as pd\n",
    "import matplotlib.pyplot as plt\n",
    "%matplotlib inline\n",
    "# %pylab inline"
   ]
  },
  {
   "cell_type": "code",
   "execution_count": 21,
   "metadata": {
    "collapsed": true
   },
   "outputs": [],
   "source": [
    "## year, month, date, hour, minute, second\n",
    "lesson_date = datetime(2016, 11, 29, 9, 10, 0, 000000)"
   ]
  },
  {
   "cell_type": "code",
   "execution_count": 3,
   "metadata": {
    "collapsed": false
   },
   "outputs": [
    {
     "data": {
      "text/plain": [
       "datetime.datetime(2016, 11, 29, 9, 10)"
      ]
     },
     "execution_count": 3,
     "metadata": {},
     "output_type": "execute_result"
    }
   ],
   "source": [
    "lesson_date"
   ]
  },
  {
   "cell_type": "code",
   "execution_count": 4,
   "metadata": {
    "collapsed": false
   },
   "outputs": [
    {
     "data": {
      "text/plain": [
       "2016"
      ]
     },
     "execution_count": 4,
     "metadata": {},
     "output_type": "execute_result"
    }
   ],
   "source": [
    "lesson_date.year"
   ]
  },
  {
   "cell_type": "code",
   "execution_count": 5,
   "metadata": {
    "collapsed": false
   },
   "outputs": [
    {
     "data": {
      "text/plain": [
       "11"
      ]
     },
     "execution_count": 5,
     "metadata": {},
     "output_type": "execute_result"
    }
   ],
   "source": [
    "lesson_date.month"
   ]
  },
  {
   "cell_type": "code",
   "execution_count": 6,
   "metadata": {
    "collapsed": true
   },
   "outputs": [],
   "source": [
    "## year, month, etc are attributes"
   ]
  },
  {
   "cell_type": "code",
   "execution_count": 7,
   "metadata": {
    "collapsed": false
   },
   "outputs": [
    {
     "data": {
      "text/plain": [
       "29"
      ]
     },
     "execution_count": 7,
     "metadata": {},
     "output_type": "execute_result"
    }
   ],
   "source": [
    "lesson_date.day"
   ]
  },
  {
   "cell_type": "code",
   "execution_count": 8,
   "metadata": {
    "collapsed": false
   },
   "outputs": [
    {
     "data": {
      "text/plain": [
       "9"
      ]
     },
     "execution_count": 8,
     "metadata": {},
     "output_type": "execute_result"
    }
   ],
   "source": [
    "lesson_date.hour"
   ]
  },
  {
   "cell_type": "code",
   "execution_count": 9,
   "metadata": {
    "collapsed": false
   },
   "outputs": [
    {
     "data": {
      "text/plain": [
       "10"
      ]
     },
     "execution_count": 9,
     "metadata": {},
     "output_type": "execute_result"
    }
   ],
   "source": [
    "lesson_date.minute"
   ]
  },
  {
   "cell_type": "code",
   "execution_count": 10,
   "metadata": {
    "collapsed": false
   },
   "outputs": [
    {
     "data": {
      "text/plain": [
       "0"
      ]
     },
     "execution_count": 10,
     "metadata": {},
     "output_type": "execute_result"
    }
   ],
   "source": [
    "lesson_date.second"
   ]
  },
  {
   "cell_type": "code",
   "execution_count": 11,
   "metadata": {
    "collapsed": true
   },
   "outputs": [],
   "source": [
    "yesterday_date = datetime(2016, 11, 28, 17, 30)"
   ]
  },
  {
   "cell_type": "code",
   "execution_count": 12,
   "metadata": {
    "collapsed": false
   },
   "outputs": [
    {
     "data": {
      "text/plain": [
       "datetime.datetime(2016, 11, 28, 17, 30)"
      ]
     },
     "execution_count": 12,
     "metadata": {},
     "output_type": "execute_result"
    }
   ],
   "source": [
    "yesterday_date"
   ]
  },
  {
   "cell_type": "code",
   "execution_count": 13,
   "metadata": {
    "collapsed": false
   },
   "outputs": [
    {
     "data": {
      "text/plain": [
       "datetime.timedelta(0, 56400)"
      ]
     },
     "execution_count": 13,
     "metadata": {},
     "output_type": "execute_result"
    }
   ],
   "source": [
    "lesson_date - yesterday_date"
   ]
  },
  {
   "cell_type": "code",
   "execution_count": 14,
   "metadata": {
    "collapsed": true
   },
   "outputs": [],
   "source": [
    "## timedelta is change in time. first number is days, second number is seconds. "
   ]
  },
  {
   "cell_type": "code",
   "execution_count": 20,
   "metadata": {
    "collapsed": false
   },
   "outputs": [],
   "source": [
    "## creating a timedelta object of one day\n",
    "one_day_ago = timedelta(1,0)"
   ]
  },
  {
   "cell_type": "code",
   "execution_count": 19,
   "metadata": {
    "collapsed": false
   },
   "outputs": [
    {
     "data": {
      "text/plain": [
       "datetime.datetime(2016, 11, 28, 9, 10)"
      ]
     },
     "execution_count": 19,
     "metadata": {},
     "output_type": "execute_result"
    }
   ],
   "source": [
    "## this brings it to one day before lesson_date\n",
    "lesson_date - one_day_ago"
   ]
  },
  {
   "cell_type": "code",
   "execution_count": 22,
   "metadata": {
    "collapsed": true
   },
   "outputs": [],
   "source": [
    "## strftime() and strptime() convert strings into datetime and back"
   ]
  },
  {
   "cell_type": "code",
   "execution_count": 25,
   "metadata": {
    "collapsed": true
   },
   "outputs": [],
   "source": [
    "my_string_date = '2016-05-19 18:25:36'"
   ]
  },
  {
   "cell_type": "code",
   "execution_count": 26,
   "metadata": {
    "collapsed": false
   },
   "outputs": [],
   "source": [
    "my_string_date_in_dt = datetime.strptime(my_string_date, '%Y-%m-%d %H:%M:%S')"
   ]
  },
  {
   "cell_type": "code",
   "execution_count": 27,
   "metadata": {
    "collapsed": false
   },
   "outputs": [
    {
     "data": {
      "text/plain": [
       "datetime.datetime(2016, 5, 19, 18, 25, 36)"
      ]
     },
     "execution_count": 27,
     "metadata": {},
     "output_type": "execute_result"
    }
   ],
   "source": [
    "my_string_date_in_dt"
   ]
  },
  {
   "cell_type": "code",
   "execution_count": 31,
   "metadata": {
    "collapsed": false
   },
   "outputs": [
    {
     "data": {
      "text/plain": [
       "'May 19, 2016'"
      ]
     },
     "execution_count": 31,
     "metadata": {},
     "output_type": "execute_result"
    }
   ],
   "source": [
    "my_string_date_in_dt.strftime('%B %d, %Y')"
   ]
  },
  {
   "cell_type": "code",
   "execution_count": 32,
   "metadata": {
    "collapsed": false
   },
   "outputs": [
    {
     "data": {
      "text/plain": [
       "'May 19, 2016. (a Thursday). 06:25'"
      ]
     },
     "execution_count": 32,
     "metadata": {},
     "output_type": "execute_result"
    }
   ],
   "source": [
    "my_string_date_in_dt.strftime('%B %d, %Y. (a %A). %I:%M')"
   ]
  },
  {
   "cell_type": "code",
   "execution_count": 35,
   "metadata": {
    "collapsed": false
   },
   "outputs": [
    {
     "name": "stdout",
     "output_type": "stream",
     "text": [
      "Tuesday\n"
     ]
    }
   ],
   "source": [
    "def day_of_week(date):\n",
    "    print date.strftime('%A')\n",
    "\n",
    "day_of_week(lesson_date)"
   ]
  },
  {
   "cell_type": "code",
   "execution_count": 37,
   "metadata": {
    "collapsed": false
   },
   "outputs": [
    {
     "name": "stdout",
     "output_type": "stream",
     "text": [
      "Tuesday\n"
     ]
    }
   ],
   "source": [
    "## datetime.now() is current date/time\n",
    "day_of_week(datetime.now())"
   ]
  },
  {
   "cell_type": "code",
   "execution_count": 39,
   "metadata": {
    "collapsed": false
   },
   "outputs": [
    {
     "name": "stdout",
     "output_type": "stream",
     "text": [
      "Tuesday\n"
     ]
    }
   ],
   "source": [
    "## this works with incomplete datetime information\n",
    "day_of_week(datetime(2016,11,29))"
   ]
  },
  {
   "cell_type": "code",
   "execution_count": 40,
   "metadata": {
    "collapsed": false
   },
   "outputs": [
    {
     "data": {
      "text/plain": [
       "datetime.datetime(2016, 11, 29, 9, 34, 18, 688327)"
      ]
     },
     "execution_count": 40,
     "metadata": {},
     "output_type": "execute_result"
    }
   ],
   "source": [
    "datetime.now()"
   ]
  },
  {
   "cell_type": "code",
   "execution_count": 44,
   "metadata": {
    "collapsed": false
   },
   "outputs": [
    {
     "data": {
      "text/plain": [
       "(0, 1666)"
      ]
     },
     "execution_count": 44,
     "metadata": {},
     "output_type": "execute_result"
    }
   ],
   "source": [
    "def days_ago(datetime_now, datetime_then):\n",
    "    days = datetime_now - datetime_then\n",
    "    return days.days, days.seconds\n",
    "    \n",
    "days_ago(datetime.now(), lesson_date)"
   ]
  },
  {
   "cell_type": "code",
   "execution_count": 45,
   "metadata": {
    "collapsed": true
   },
   "outputs": [],
   "source": [
    "## this freezes the datetime of when the object was created\n",
    "\n",
    "now = datetime.now()"
   ]
  },
  {
   "cell_type": "code",
   "execution_count": 46,
   "metadata": {
    "collapsed": false
   },
   "outputs": [
    {
     "data": {
      "text/plain": [
       "datetime.datetime(2016, 11, 29, 9, 39, 27, 824400)"
      ]
     },
     "execution_count": 46,
     "metadata": {},
     "output_type": "execute_result"
    }
   ],
   "source": [
    "now"
   ]
  },
  {
   "cell_type": "code",
   "execution_count": 48,
   "metadata": {
    "collapsed": false
   },
   "outputs": [],
   "source": [
    "## timedelta takes (days, seconds) only\n",
    "one_hour = timedelta(0, 3600)"
   ]
  },
  {
   "cell_type": "code",
   "execution_count": 50,
   "metadata": {
    "collapsed": false
   },
   "outputs": [
    {
     "data": {
      "text/plain": [
       "datetime.datetime(2016, 11, 29, 8, 39, 27, 824400)"
      ]
     },
     "execution_count": 50,
     "metadata": {},
     "output_type": "execute_result"
    }
   ],
   "source": [
    "now - one_hour"
   ]
  },
  {
   "cell_type": "code",
   "execution_count": 52,
   "metadata": {
    "collapsed": false
   },
   "outputs": [
    {
     "data": {
      "text/plain": [
       "datetime.datetime(2016, 11, 29, 6, 39, 27, 824400)"
      ]
     },
     "execution_count": 52,
     "metadata": {},
     "output_type": "execute_result"
    }
   ],
   "source": [
    "## can only multiply by ints, not floats\n",
    "now - 3*one_hour"
   ]
  },
  {
   "cell_type": "code",
   "execution_count": 55,
   "metadata": {
    "collapsed": true
   },
   "outputs": [],
   "source": [
    "## days=3 or (3,0) or (3) will all give you a three day time delta\n",
    "\n",
    "three_days = timedelta(days=3)"
   ]
  },
  {
   "cell_type": "code",
   "execution_count": 54,
   "metadata": {
    "collapsed": false
   },
   "outputs": [
    {
     "data": {
      "text/plain": [
       "datetime.timedelta(3)"
      ]
     },
     "execution_count": 54,
     "metadata": {},
     "output_type": "execute_result"
    }
   ],
   "source": [
    "three_days"
   ]
  },
  {
   "cell_type": "code",
   "execution_count": 56,
   "metadata": {
    "collapsed": false
   },
   "outputs": [
    {
     "data": {
      "text/plain": [
       "datetime.datetime(2016, 11, 26, 9, 39, 27, 824400)"
      ]
     },
     "execution_count": 56,
     "metadata": {},
     "output_type": "execute_result"
    }
   ],
   "source": [
    "now - three_days"
   ]
  },
  {
   "cell_type": "code",
   "execution_count": 58,
   "metadata": {
    "collapsed": false
   },
   "outputs": [
    {
     "data": {
      "text/plain": [
       "'Saturday'"
      ]
     },
     "execution_count": 58,
     "metadata": {},
     "output_type": "execute_result"
    }
   ],
   "source": [
    "three_days_ago = now - three_days\n",
    "three_days_ago.strftime('%A')"
   ]
  },
  {
   "cell_type": "code",
   "execution_count": 59,
   "metadata": {
    "collapsed": true
   },
   "outputs": [],
   "source": [
    "right_before_leap_year = datetime(2020, 2, 28)"
   ]
  },
  {
   "cell_type": "code",
   "execution_count": 62,
   "metadata": {
    "collapsed": false
   },
   "outputs": [
    {
     "data": {
      "text/plain": [
       "datetime.datetime(2021, 2, 27, 0, 0)"
      ]
     },
     "execution_count": 62,
     "metadata": {},
     "output_type": "execute_result"
    }
   ],
   "source": [
    "## automatically takes leapyears into account\n",
    "right_before_leap_year + timedelta(365)"
   ]
  },
  {
   "cell_type": "code",
   "execution_count": 63,
   "metadata": {
    "collapsed": false
   },
   "outputs": [
    {
     "data": {
      "text/plain": [
       "u'/Users/christophereppig/DSI_week3'"
      ]
     },
     "execution_count": 63,
     "metadata": {},
     "output_type": "execute_result"
    }
   ],
   "source": [
    "%pwd"
   ]
  },
  {
   "cell_type": "code",
   "execution_count": 91,
   "metadata": {
    "collapsed": true
   },
   "outputs": [],
   "source": [
    "google = pd.read_csv('../Datasets/goog.csv')"
   ]
  },
  {
   "cell_type": "code",
   "execution_count": 94,
   "metadata": {
    "collapsed": true
   },
   "outputs": [],
   "source": [
    "## this corrects the order of the dates\n",
    "google.sort_values(by='Date', ascending=True, inplace=True)"
   ]
  },
  {
   "cell_type": "code",
   "execution_count": 95,
   "metadata": {
    "collapsed": false
   },
   "outputs": [
    {
     "data": {
      "text/html": [
       "<div>\n",
       "<table border=\"1\" class=\"dataframe\">\n",
       "  <thead>\n",
       "    <tr style=\"text-align: right;\">\n",
       "      <th></th>\n",
       "      <th>Date</th>\n",
       "      <th>Open</th>\n",
       "      <th>High</th>\n",
       "      <th>Low</th>\n",
       "      <th>Close</th>\n",
       "      <th>Volume</th>\n",
       "      <th>Adj Close</th>\n",
       "    </tr>\n",
       "  </thead>\n",
       "  <tbody>\n",
       "    <tr>\n",
       "      <th>21</th>\n",
       "      <td>2014-03-27</td>\n",
       "      <td>568.002563</td>\n",
       "      <td>568.002563</td>\n",
       "      <td>552.922546</td>\n",
       "      <td>556.972473</td>\n",
       "      <td>25300</td>\n",
       "      <td>556.972473</td>\n",
       "    </tr>\n",
       "    <tr>\n",
       "      <th>20</th>\n",
       "      <td>2014-04-01</td>\n",
       "      <td>558.712585</td>\n",
       "      <td>604.832764</td>\n",
       "      <td>502.802277</td>\n",
       "      <td>526.662415</td>\n",
       "      <td>3290800</td>\n",
       "      <td>526.662415</td>\n",
       "    </tr>\n",
       "    <tr>\n",
       "      <th>19</th>\n",
       "      <td>2014-05-01</td>\n",
       "      <td>527.112366</td>\n",
       "      <td>567.842590</td>\n",
       "      <td>503.302277</td>\n",
       "      <td>559.892578</td>\n",
       "      <td>1828500</td>\n",
       "      <td>559.892578</td>\n",
       "    </tr>\n",
       "    <tr>\n",
       "      <th>18</th>\n",
       "      <td>2014-06-02</td>\n",
       "      <td>560.702576</td>\n",
       "      <td>582.452637</td>\n",
       "      <td>538.752441</td>\n",
       "      <td>575.282593</td>\n",
       "      <td>1872200</td>\n",
       "      <td>575.282593</td>\n",
       "    </tr>\n",
       "    <tr>\n",
       "      <th>17</th>\n",
       "      <td>2014-07-01</td>\n",
       "      <td>578.322632</td>\n",
       "      <td>599.652710</td>\n",
       "      <td>565.012573</td>\n",
       "      <td>571.602539</td>\n",
       "      <td>1668800</td>\n",
       "      <td>571.602539</td>\n",
       "    </tr>\n",
       "  </tbody>\n",
       "</table>\n",
       "</div>"
      ],
      "text/plain": [
       "          Date        Open        High         Low       Close   Volume  \\\n",
       "21  2014-03-27  568.002563  568.002563  552.922546  556.972473    25300   \n",
       "20  2014-04-01  558.712585  604.832764  502.802277  526.662415  3290800   \n",
       "19  2014-05-01  527.112366  567.842590  503.302277  559.892578  1828500   \n",
       "18  2014-06-02  560.702576  582.452637  538.752441  575.282593  1872200   \n",
       "17  2014-07-01  578.322632  599.652710  565.012573  571.602539  1668800   \n",
       "\n",
       "     Adj Close  \n",
       "21  556.972473  \n",
       "20  526.662415  \n",
       "19  559.892578  \n",
       "18  575.282593  \n",
       "17  571.602539  "
      ]
     },
     "execution_count": 95,
     "metadata": {},
     "output_type": "execute_result"
    }
   ],
   "source": [
    "google.head()"
   ]
  },
  {
   "cell_type": "code",
   "execution_count": 67,
   "metadata": {
    "collapsed": false
   },
   "outputs": [
    {
     "data": {
      "text/plain": [
       "(22, 7)"
      ]
     },
     "execution_count": 67,
     "metadata": {},
     "output_type": "execute_result"
    }
   ],
   "source": [
    "google.shape"
   ]
  },
  {
   "cell_type": "code",
   "execution_count": 68,
   "metadata": {
    "collapsed": false,
    "scrolled": true
   },
   "outputs": [
    {
     "data": {
      "text/plain": [
       "0     2015-12-01\n",
       "1     2015-11-02\n",
       "2     2015-10-01\n",
       "3     2015-09-01\n",
       "4     2015-08-03\n",
       "5     2015-07-01\n",
       "6     2015-06-01\n",
       "7     2015-05-01\n",
       "8     2015-04-01\n",
       "9     2015-03-02\n",
       "10    2015-02-02\n",
       "11    2015-01-02\n",
       "12    2014-12-01\n",
       "13    2014-11-03\n",
       "14    2014-10-01\n",
       "15    2014-09-02\n",
       "16    2014-08-01\n",
       "17    2014-07-01\n",
       "18    2014-06-02\n",
       "19    2014-05-01\n",
       "20    2014-04-01\n",
       "21    2014-03-27\n",
       "Name: Date, dtype: object"
      ]
     },
     "execution_count": 68,
     "metadata": {},
     "output_type": "execute_result"
    }
   ],
   "source": [
    "google['Date']"
   ]
  },
  {
   "cell_type": "code",
   "execution_count": 82,
   "metadata": {
    "collapsed": false,
    "scrolled": true
   },
   "outputs": [
    {
     "data": {
      "text/plain": [
       "<matplotlib.axes._subplots.AxesSubplot at 0x117841950>"
      ]
     },
     "execution_count": 82,
     "metadata": {},
     "output_type": "execute_result"
    },
    {
     "data": {
      "image/png": "[encoded data removed]",
      "text/plain": [
       "<matplotlib.figure.Figure at 0x117939ad0>"
      ]
     },
     "metadata": {},
     "output_type": "display_data"
    }
   ],
   "source": [
    "## this works because we set the index to time\n",
    "google[['Open', 'High','Low','Close','Adj Close']].plot()"
   ]
  },
  {
   "cell_type": "code",
   "execution_count": 99,
   "metadata": {
    "collapsed": false
   },
   "outputs": [
    {
     "data": {
      "image/png": "[encoded data removed]",
      "text/plain": [
       "<matplotlib.figure.Figure at 0x1177e1b90>"
      ]
     },
     "metadata": {},
     "output_type": "display_data"
    },
    {
     "data": {
      "image/png": "[encoded data removed]",
      "text/plain": [
       "<matplotlib.figure.Figure at 0x1189654d0>"
      ]
     },
     "metadata": {},
     "output_type": "display_data"
    },
    {
     "data": {
      "image/png": "[encoded data removed]",
      "text/plain": [
       "<matplotlib.figure.Figure at 0x118e49950>"
      ]
     },
     "metadata": {},
     "output_type": "display_data"
    },
    {
     "data": {
      "image/png": "[encoded data removed]",
      "text/plain": [
       "<matplotlib.figure.Figure at 0x118b97e10>"
      ]
     },
     "metadata": {},
     "output_type": "display_data"
    },
    {
     "data": {
      "image/png": "[encoded data removed]",
      "text/plain": [
       "<matplotlib.figure.Figure at 0x1199c9cd0>"
      ]
     },
     "metadata": {},
     "output_type": "display_data"
    },
    {
     "data": {
      "image/png": "[encoded data removed]",
      "text/plain": [
       "<matplotlib.figure.Figure at 0x119a04fd0>"
      ]
     },
     "metadata": {},
     "output_type": "display_data"
    }
   ],
   "source": [
    "for i in google.columns:\n",
    "    google[i].plot()\n",
    "    plt.title(i+\" vs Time\")\n",
    "    plt.ylabel(i)\n",
    "    plt.xlabel('Time')\n",
    "    plt.show()"
   ]
  },
  {
   "cell_type": "code",
   "execution_count": 96,
   "metadata": {
    "collapsed": false
   },
   "outputs": [],
   "source": [
    "google.set_index(\"Date\", inplace=True)"
   ]
  },
  {
   "cell_type": "code",
   "execution_count": 97,
   "metadata": {
    "collapsed": false
   },
   "outputs": [
    {
     "data": {
      "text/html": [
       "<div>\n",
       "<table border=\"1\" class=\"dataframe\">\n",
       "  <thead>\n",
       "    <tr style=\"text-align: right;\">\n",
       "      <th></th>\n",
       "      <th>Open</th>\n",
       "      <th>High</th>\n",
       "      <th>Low</th>\n",
       "      <th>Close</th>\n",
       "      <th>Volume</th>\n",
       "      <th>Adj Close</th>\n",
       "    </tr>\n",
       "    <tr>\n",
       "      <th>Date</th>\n",
       "      <th></th>\n",
       "      <th></th>\n",
       "      <th></th>\n",
       "      <th></th>\n",
       "      <th></th>\n",
       "      <th></th>\n",
       "    </tr>\n",
       "  </thead>\n",
       "  <tbody>\n",
       "    <tr>\n",
       "      <th>2014-03-27</th>\n",
       "      <td>568.002563</td>\n",
       "      <td>568.002563</td>\n",
       "      <td>552.922546</td>\n",
       "      <td>556.972473</td>\n",
       "      <td>25300</td>\n",
       "      <td>556.972473</td>\n",
       "    </tr>\n",
       "    <tr>\n",
       "      <th>2014-04-01</th>\n",
       "      <td>558.712585</td>\n",
       "      <td>604.832764</td>\n",
       "      <td>502.802277</td>\n",
       "      <td>526.662415</td>\n",
       "      <td>3290800</td>\n",
       "      <td>526.662415</td>\n",
       "    </tr>\n",
       "    <tr>\n",
       "      <th>2014-05-01</th>\n",
       "      <td>527.112366</td>\n",
       "      <td>567.842590</td>\n",
       "      <td>503.302277</td>\n",
       "      <td>559.892578</td>\n",
       "      <td>1828500</td>\n",
       "      <td>559.892578</td>\n",
       "    </tr>\n",
       "    <tr>\n",
       "      <th>2014-06-02</th>\n",
       "      <td>560.702576</td>\n",
       "      <td>582.452637</td>\n",
       "      <td>538.752441</td>\n",
       "      <td>575.282593</td>\n",
       "      <td>1872200</td>\n",
       "      <td>575.282593</td>\n",
       "    </tr>\n",
       "    <tr>\n",
       "      <th>2014-07-01</th>\n",
       "      <td>578.322632</td>\n",
       "      <td>599.652710</td>\n",
       "      <td>565.012573</td>\n",
       "      <td>571.602539</td>\n",
       "      <td>1668800</td>\n",
       "      <td>571.602539</td>\n",
       "    </tr>\n",
       "  </tbody>\n",
       "</table>\n",
       "</div>"
      ],
      "text/plain": [
       "                  Open        High         Low       Close   Volume  \\\n",
       "Date                                                                  \n",
       "2014-03-27  568.002563  568.002563  552.922546  556.972473    25300   \n",
       "2014-04-01  558.712585  604.832764  502.802277  526.662415  3290800   \n",
       "2014-05-01  527.112366  567.842590  503.302277  559.892578  1828500   \n",
       "2014-06-02  560.702576  582.452637  538.752441  575.282593  1872200   \n",
       "2014-07-01  578.322632  599.652710  565.012573  571.602539  1668800   \n",
       "\n",
       "             Adj Close  \n",
       "Date                    \n",
       "2014-03-27  556.972473  \n",
       "2014-04-01  526.662415  \n",
       "2014-05-01  559.892578  \n",
       "2014-06-02  575.282593  \n",
       "2014-07-01  571.602539  "
      ]
     },
     "execution_count": 97,
     "metadata": {},
     "output_type": "execute_result"
    }
   ],
   "source": [
    "google.head()"
   ]
  },
  {
   "cell_type": "code",
   "execution_count": 98,
   "metadata": {
    "collapsed": true
   },
   "outputs": [],
   "source": [
    "google.index = google.index.to_datetime()"
   ]
  },
  {
   "cell_type": "code",
   "execution_count": 88,
   "metadata": {
    "collapsed": false
   },
   "outputs": [
    {
     "data": {
      "text/html": [
       "<div>\n",
       "<table border=\"1\" class=\"dataframe\">\n",
       "  <thead>\n",
       "    <tr style=\"text-align: right;\">\n",
       "      <th></th>\n",
       "      <th>Open</th>\n",
       "      <th>High</th>\n",
       "      <th>Low</th>\n",
       "      <th>Close</th>\n",
       "      <th>Volume</th>\n",
       "      <th>Adj Close</th>\n",
       "    </tr>\n",
       "  </thead>\n",
       "  <tbody>\n",
       "    <tr>\n",
       "      <th>2015-12-01</th>\n",
       "      <td>747.109985</td>\n",
       "      <td>775.955017</td>\n",
       "      <td>745.630005</td>\n",
       "      <td>762.369995</td>\n",
       "      <td>2519600</td>\n",
       "      <td>762.369995</td>\n",
       "    </tr>\n",
       "    <tr>\n",
       "      <th>2015-11-02</th>\n",
       "      <td>711.059998</td>\n",
       "      <td>762.708008</td>\n",
       "      <td>705.849976</td>\n",
       "      <td>742.599976</td>\n",
       "      <td>1795300</td>\n",
       "      <td>742.599976</td>\n",
       "    </tr>\n",
       "    <tr>\n",
       "      <th>2015-10-01</th>\n",
       "      <td>608.369995</td>\n",
       "      <td>730.000000</td>\n",
       "      <td>599.849976</td>\n",
       "      <td>710.809998</td>\n",
       "      <td>2337100</td>\n",
       "      <td>710.809998</td>\n",
       "    </tr>\n",
       "    <tr>\n",
       "      <th>2015-09-01</th>\n",
       "      <td>602.359985</td>\n",
       "      <td>650.900024</td>\n",
       "      <td>589.380005</td>\n",
       "      <td>608.419983</td>\n",
       "      <td>2398400</td>\n",
       "      <td>608.419983</td>\n",
       "    </tr>\n",
       "    <tr>\n",
       "      <th>2015-08-03</th>\n",
       "      <td>625.340027</td>\n",
       "      <td>674.900024</td>\n",
       "      <td>565.049988</td>\n",
       "      <td>618.250000</td>\n",
       "      <td>2661600</td>\n",
       "      <td>618.250000</td>\n",
       "    </tr>\n",
       "  </tbody>\n",
       "</table>\n",
       "</div>"
      ],
      "text/plain": [
       "                  Open        High         Low       Close   Volume  \\\n",
       "2015-12-01  747.109985  775.955017  745.630005  762.369995  2519600   \n",
       "2015-11-02  711.059998  762.708008  705.849976  742.599976  1795300   \n",
       "2015-10-01  608.369995  730.000000  599.849976  710.809998  2337100   \n",
       "2015-09-01  602.359985  650.900024  589.380005  608.419983  2398400   \n",
       "2015-08-03  625.340027  674.900024  565.049988  618.250000  2661600   \n",
       "\n",
       "             Adj Close  \n",
       "2015-12-01  762.369995  \n",
       "2015-11-02  742.599976  \n",
       "2015-10-01  710.809998  \n",
       "2015-09-01  608.419983  \n",
       "2015-08-03  618.250000  "
      ]
     },
     "execution_count": 88,
     "metadata": {},
     "output_type": "execute_result"
    }
   ],
   "source": [
    "## the dates are in reverse order, and therefore the graphs are reading right to left\n",
    "google.head()"
   ]
  },
  {
   "cell_type": "code",
   "execution_count": 101,
   "metadata": {
    "collapsed": false
   },
   "outputs": [
    {
     "data": {
      "text/html": [
       "<div>\n",
       "<table border=\"1\" class=\"dataframe\">\n",
       "  <thead>\n",
       "    <tr style=\"text-align: right;\">\n",
       "      <th></th>\n",
       "      <th>Open</th>\n",
       "      <th>High</th>\n",
       "      <th>Low</th>\n",
       "      <th>Close</th>\n",
       "      <th>Volume</th>\n",
       "      <th>Adj Close</th>\n",
       "    </tr>\n",
       "  </thead>\n",
       "  <tbody>\n",
       "    <tr>\n",
       "      <th>count</th>\n",
       "      <td>22.000000</td>\n",
       "      <td>22.000000</td>\n",
       "      <td>22.000000</td>\n",
       "      <td>22.000000</td>\n",
       "      <td>2.200000e+01</td>\n",
       "      <td>22.000000</td>\n",
       "    </tr>\n",
       "    <tr>\n",
       "      <th>mean</th>\n",
       "      <td>575.890686</td>\n",
       "      <td>609.268155</td>\n",
       "      <td>552.366753</td>\n",
       "      <td>584.801935</td>\n",
       "      <td>2.019245e+06</td>\n",
       "      <td>584.801935</td>\n",
       "    </tr>\n",
       "    <tr>\n",
       "      <th>std</th>\n",
       "      <td>56.597440</td>\n",
       "      <td>71.429837</td>\n",
       "      <td>64.162213</td>\n",
       "      <td>69.206444</td>\n",
       "      <td>6.682940e+05</td>\n",
       "      <td>69.206444</td>\n",
       "    </tr>\n",
       "    <tr>\n",
       "      <th>min</th>\n",
       "      <td>524.729980</td>\n",
       "      <td>541.412415</td>\n",
       "      <td>487.562195</td>\n",
       "      <td>520.510010</td>\n",
       "      <td>2.530000e+04</td>\n",
       "      <td>520.510010</td>\n",
       "    </tr>\n",
       "    <tr>\n",
       "      <th>25%</th>\n",
       "      <td>538.548111</td>\n",
       "      <td>565.495086</td>\n",
       "      <td>516.023072</td>\n",
       "      <td>538.463135</td>\n",
       "      <td>1.685675e+06</td>\n",
       "      <td>538.463135</td>\n",
       "    </tr>\n",
       "    <tr>\n",
       "      <th>50%</th>\n",
       "      <td>560.617554</td>\n",
       "      <td>581.727631</td>\n",
       "      <td>534.417419</td>\n",
       "      <td>559.487549</td>\n",
       "      <td>1.856900e+06</td>\n",
       "      <td>559.487549</td>\n",
       "    </tr>\n",
       "    <tr>\n",
       "      <th>75%</th>\n",
       "      <td>577.745132</td>\n",
       "      <td>639.383209</td>\n",
       "      <td>565.040634</td>\n",
       "      <td>600.655640</td>\n",
       "      <td>2.387900e+06</td>\n",
       "      <td>600.655640</td>\n",
       "    </tr>\n",
       "    <tr>\n",
       "      <th>max</th>\n",
       "      <td>747.109985</td>\n",
       "      <td>775.955017</td>\n",
       "      <td>745.630005</td>\n",
       "      <td>762.369995</td>\n",
       "      <td>3.290800e+06</td>\n",
       "      <td>762.369995</td>\n",
       "    </tr>\n",
       "  </tbody>\n",
       "</table>\n",
       "</div>"
      ],
      "text/plain": [
       "             Open        High         Low       Close        Volume  \\\n",
       "count   22.000000   22.000000   22.000000   22.000000  2.200000e+01   \n",
       "mean   575.890686  609.268155  552.366753  584.801935  2.019245e+06   \n",
       "std     56.597440   71.429837   64.162213   69.206444  6.682940e+05   \n",
       "min    524.729980  541.412415  487.562195  520.510010  2.530000e+04   \n",
       "25%    538.548111  565.495086  516.023072  538.463135  1.685675e+06   \n",
       "50%    560.617554  581.727631  534.417419  559.487549  1.856900e+06   \n",
       "75%    577.745132  639.383209  565.040634  600.655640  2.387900e+06   \n",
       "max    747.109985  775.955017  745.630005  762.369995  3.290800e+06   \n",
       "\n",
       "        Adj Close  \n",
       "count   22.000000  \n",
       "mean   584.801935  \n",
       "std     69.206444  \n",
       "min    520.510010  \n",
       "25%    538.463135  \n",
       "50%    559.487549  \n",
       "75%    600.655640  \n",
       "max    762.369995  "
      ]
     },
     "execution_count": 101,
     "metadata": {},
     "output_type": "execute_result"
    }
   ],
   "source": [
    "google.describe()"
   ]
  },
  {
   "cell_type": "code",
   "execution_count": 103,
   "metadata": {
    "collapsed": false
   },
   "outputs": [
    {
     "data": {
      "text/html": [
       "<div>\n",
       "<table border=\"1\" class=\"dataframe\">\n",
       "  <thead>\n",
       "    <tr style=\"text-align: right;\">\n",
       "      <th></th>\n",
       "      <th>Open</th>\n",
       "      <th>High</th>\n",
       "      <th>Low</th>\n",
       "      <th>Close</th>\n",
       "      <th>Volume</th>\n",
       "      <th>Adj Close</th>\n",
       "      <th>year</th>\n",
       "      <th>month</th>\n",
       "      <th>weekday</th>\n",
       "    </tr>\n",
       "  </thead>\n",
       "  <tbody>\n",
       "    <tr>\n",
       "      <th>2014-03-27</th>\n",
       "      <td>568.002563</td>\n",
       "      <td>568.002563</td>\n",
       "      <td>552.922546</td>\n",
       "      <td>556.972473</td>\n",
       "      <td>25300</td>\n",
       "      <td>556.972473</td>\n",
       "      <td>2014</td>\n",
       "      <td>3</td>\n",
       "      <td>Thursday</td>\n",
       "    </tr>\n",
       "    <tr>\n",
       "      <th>2014-04-01</th>\n",
       "      <td>558.712585</td>\n",
       "      <td>604.832764</td>\n",
       "      <td>502.802277</td>\n",
       "      <td>526.662415</td>\n",
       "      <td>3290800</td>\n",
       "      <td>526.662415</td>\n",
       "      <td>2014</td>\n",
       "      <td>4</td>\n",
       "      <td>Tuesday</td>\n",
       "    </tr>\n",
       "    <tr>\n",
       "      <th>2014-05-01</th>\n",
       "      <td>527.112366</td>\n",
       "      <td>567.842590</td>\n",
       "      <td>503.302277</td>\n",
       "      <td>559.892578</td>\n",
       "      <td>1828500</td>\n",
       "      <td>559.892578</td>\n",
       "      <td>2014</td>\n",
       "      <td>5</td>\n",
       "      <td>Thursday</td>\n",
       "    </tr>\n",
       "    <tr>\n",
       "      <th>2014-06-02</th>\n",
       "      <td>560.702576</td>\n",
       "      <td>582.452637</td>\n",
       "      <td>538.752441</td>\n",
       "      <td>575.282593</td>\n",
       "      <td>1872200</td>\n",
       "      <td>575.282593</td>\n",
       "      <td>2014</td>\n",
       "      <td>6</td>\n",
       "      <td>Monday</td>\n",
       "    </tr>\n",
       "    <tr>\n",
       "      <th>2014-07-01</th>\n",
       "      <td>578.322632</td>\n",
       "      <td>599.652710</td>\n",
       "      <td>565.012573</td>\n",
       "      <td>571.602539</td>\n",
       "      <td>1668800</td>\n",
       "      <td>571.602539</td>\n",
       "      <td>2014</td>\n",
       "      <td>7</td>\n",
       "      <td>Tuesday</td>\n",
       "    </tr>\n",
       "  </tbody>\n",
       "</table>\n",
       "</div>"
      ],
      "text/plain": [
       "                  Open        High         Low       Close   Volume  \\\n",
       "2014-03-27  568.002563  568.002563  552.922546  556.972473    25300   \n",
       "2014-04-01  558.712585  604.832764  502.802277  526.662415  3290800   \n",
       "2014-05-01  527.112366  567.842590  503.302277  559.892578  1828500   \n",
       "2014-06-02  560.702576  582.452637  538.752441  575.282593  1872200   \n",
       "2014-07-01  578.322632  599.652710  565.012573  571.602539  1668800   \n",
       "\n",
       "             Adj Close  year  month   weekday  \n",
       "2014-03-27  556.972473  2014      3  Thursday  \n",
       "2014-04-01  526.662415  2014      4   Tuesday  \n",
       "2014-05-01  559.892578  2014      5  Thursday  \n",
       "2014-06-02  575.282593  2014      6    Monday  \n",
       "2014-07-01  571.602539  2014      7   Tuesday  "
      ]
     },
     "execution_count": 103,
     "metadata": {},
     "output_type": "execute_result"
    }
   ],
   "source": [
    "google['year'] = google.index.year\n",
    "google['month'] = google.index.month\n",
    "google['weekday'] = google.index.strftime('%A')\n",
    "google.head()"
   ]
  },
  {
   "cell_type": "code",
   "execution_count": 104,
   "metadata": {
    "collapsed": true
   },
   "outputs": [],
   "source": [
    "## returns a bool\n",
    "google['good_month'] = google['Close'] > google['Open']"
   ]
  },
  {
   "cell_type": "code",
   "execution_count": 105,
   "metadata": {
    "collapsed": false
   },
   "outputs": [
    {
     "data": {
      "text/html": [
       "<div>\n",
       "<table border=\"1\" class=\"dataframe\">\n",
       "  <thead>\n",
       "    <tr style=\"text-align: right;\">\n",
       "      <th></th>\n",
       "      <th>Open</th>\n",
       "      <th>High</th>\n",
       "      <th>Low</th>\n",
       "      <th>Close</th>\n",
       "      <th>Volume</th>\n",
       "      <th>Adj Close</th>\n",
       "      <th>year</th>\n",
       "      <th>month</th>\n",
       "      <th>weekday</th>\n",
       "      <th>good_month</th>\n",
       "    </tr>\n",
       "  </thead>\n",
       "  <tbody>\n",
       "    <tr>\n",
       "      <th>2014-03-27</th>\n",
       "      <td>568.002563</td>\n",
       "      <td>568.002563</td>\n",
       "      <td>552.922546</td>\n",
       "      <td>556.972473</td>\n",
       "      <td>25300</td>\n",
       "      <td>556.972473</td>\n",
       "      <td>2014</td>\n",
       "      <td>3</td>\n",
       "      <td>Thursday</td>\n",
       "      <td>False</td>\n",
       "    </tr>\n",
       "    <tr>\n",
       "      <th>2014-04-01</th>\n",
       "      <td>558.712585</td>\n",
       "      <td>604.832764</td>\n",
       "      <td>502.802277</td>\n",
       "      <td>526.662415</td>\n",
       "      <td>3290800</td>\n",
       "      <td>526.662415</td>\n",
       "      <td>2014</td>\n",
       "      <td>4</td>\n",
       "      <td>Tuesday</td>\n",
       "      <td>False</td>\n",
       "    </tr>\n",
       "    <tr>\n",
       "      <th>2014-05-01</th>\n",
       "      <td>527.112366</td>\n",
       "      <td>567.842590</td>\n",
       "      <td>503.302277</td>\n",
       "      <td>559.892578</td>\n",
       "      <td>1828500</td>\n",
       "      <td>559.892578</td>\n",
       "      <td>2014</td>\n",
       "      <td>5</td>\n",
       "      <td>Thursday</td>\n",
       "      <td>True</td>\n",
       "    </tr>\n",
       "    <tr>\n",
       "      <th>2014-06-02</th>\n",
       "      <td>560.702576</td>\n",
       "      <td>582.452637</td>\n",
       "      <td>538.752441</td>\n",
       "      <td>575.282593</td>\n",
       "      <td>1872200</td>\n",
       "      <td>575.282593</td>\n",
       "      <td>2014</td>\n",
       "      <td>6</td>\n",
       "      <td>Monday</td>\n",
       "      <td>True</td>\n",
       "    </tr>\n",
       "    <tr>\n",
       "      <th>2014-07-01</th>\n",
       "      <td>578.322632</td>\n",
       "      <td>599.652710</td>\n",
       "      <td>565.012573</td>\n",
       "      <td>571.602539</td>\n",
       "      <td>1668800</td>\n",
       "      <td>571.602539</td>\n",
       "      <td>2014</td>\n",
       "      <td>7</td>\n",
       "      <td>Tuesday</td>\n",
       "      <td>False</td>\n",
       "    </tr>\n",
       "  </tbody>\n",
       "</table>\n",
       "</div>"
      ],
      "text/plain": [
       "                  Open        High         Low       Close   Volume  \\\n",
       "2014-03-27  568.002563  568.002563  552.922546  556.972473    25300   \n",
       "2014-04-01  558.712585  604.832764  502.802277  526.662415  3290800   \n",
       "2014-05-01  527.112366  567.842590  503.302277  559.892578  1828500   \n",
       "2014-06-02  560.702576  582.452637  538.752441  575.282593  1872200   \n",
       "2014-07-01  578.322632  599.652710  565.012573  571.602539  1668800   \n",
       "\n",
       "             Adj Close  year  month   weekday good_month  \n",
       "2014-03-27  556.972473  2014      3  Thursday      False  \n",
       "2014-04-01  526.662415  2014      4   Tuesday      False  \n",
       "2014-05-01  559.892578  2014      5  Thursday       True  \n",
       "2014-06-02  575.282593  2014      6    Monday       True  \n",
       "2014-07-01  571.602539  2014      7   Tuesday      False  "
      ]
     },
     "execution_count": 105,
     "metadata": {},
     "output_type": "execute_result"
    }
   ],
   "source": [
    "google.head()"
   ]
  },
  {
   "cell_type": "code",
   "execution_count": 106,
   "metadata": {
    "collapsed": false
   },
   "outputs": [
    {
     "data": {
      "text/plain": [
       "count       22\n",
       "unique       2\n",
       "top       True\n",
       "freq        11\n",
       "Name: good_month, dtype: object"
      ]
     },
     "execution_count": 106,
     "metadata": {},
     "output_type": "execute_result"
    }
   ],
   "source": [
    "google['good_month'].describe()"
   ]
  },
  {
   "cell_type": "code",
   "execution_count": 108,
   "metadata": {
    "collapsed": false
   },
   "outputs": [
    {
     "data": {
      "text/html": [
       "<div>\n",
       "<table border=\"1\" class=\"dataframe\">\n",
       "  <thead>\n",
       "    <tr style=\"text-align: right;\">\n",
       "      <th></th>\n",
       "      <th>Open</th>\n",
       "      <th>High</th>\n",
       "      <th>Low</th>\n",
       "      <th>Close</th>\n",
       "      <th>Volume</th>\n",
       "      <th>Adj Close</th>\n",
       "      <th>year</th>\n",
       "      <th>month</th>\n",
       "      <th>weekday</th>\n",
       "      <th>good_month</th>\n",
       "    </tr>\n",
       "  </thead>\n",
       "  <tbody>\n",
       "    <tr>\n",
       "      <th>2015-01-02</th>\n",
       "      <td>529.012390</td>\n",
       "      <td>542.172424</td>\n",
       "      <td>487.562195</td>\n",
       "      <td>534.522461</td>\n",
       "      <td>2791200</td>\n",
       "      <td>534.522461</td>\n",
       "      <td>2015</td>\n",
       "      <td>1</td>\n",
       "      <td>Friday</td>\n",
       "      <td>True</td>\n",
       "    </tr>\n",
       "    <tr>\n",
       "      <th>2015-02-02</th>\n",
       "      <td>531.732361</td>\n",
       "      <td>564.712585</td>\n",
       "      <td>518.552307</td>\n",
       "      <td>558.402588</td>\n",
       "      <td>1841600</td>\n",
       "      <td>558.402588</td>\n",
       "      <td>2015</td>\n",
       "      <td>2</td>\n",
       "      <td>Monday</td>\n",
       "      <td>True</td>\n",
       "    </tr>\n",
       "    <tr>\n",
       "      <th>2015-03-02</th>\n",
       "      <td>560.532532</td>\n",
       "      <td>577.912598</td>\n",
       "      <td>544.222473</td>\n",
       "      <td>548.002441</td>\n",
       "      <td>1828900</td>\n",
       "      <td>548.002441</td>\n",
       "      <td>2015</td>\n",
       "      <td>3</td>\n",
       "      <td>Monday</td>\n",
       "      <td>False</td>\n",
       "    </tr>\n",
       "    <tr>\n",
       "      <th>2015-04-01</th>\n",
       "      <td>548.602417</td>\n",
       "      <td>571.142578</td>\n",
       "      <td>521.012390</td>\n",
       "      <td>537.340027</td>\n",
       "      <td>2116700</td>\n",
       "      <td>537.340027</td>\n",
       "      <td>2015</td>\n",
       "      <td>4</td>\n",
       "      <td>Wednesday</td>\n",
       "      <td>False</td>\n",
       "    </tr>\n",
       "    <tr>\n",
       "      <th>2015-05-01</th>\n",
       "      <td>538.429993</td>\n",
       "      <td>544.190002</td>\n",
       "      <td>521.085022</td>\n",
       "      <td>532.109985</td>\n",
       "      <td>1723100</td>\n",
       "      <td>532.109985</td>\n",
       "      <td>2015</td>\n",
       "      <td>5</td>\n",
       "      <td>Friday</td>\n",
       "      <td>False</td>\n",
       "    </tr>\n",
       "    <tr>\n",
       "      <th>2015-06-01</th>\n",
       "      <td>536.789978</td>\n",
       "      <td>543.739990</td>\n",
       "      <td>520.500000</td>\n",
       "      <td>520.510010</td>\n",
       "      <td>1662400</td>\n",
       "      <td>520.510010</td>\n",
       "      <td>2015</td>\n",
       "      <td>6</td>\n",
       "      <td>Monday</td>\n",
       "      <td>False</td>\n",
       "    </tr>\n",
       "    <tr>\n",
       "      <th>2015-07-01</th>\n",
       "      <td>524.729980</td>\n",
       "      <td>678.640015</td>\n",
       "      <td>515.179993</td>\n",
       "      <td>625.609985</td>\n",
       "      <td>2955600</td>\n",
       "      <td>625.609985</td>\n",
       "      <td>2015</td>\n",
       "      <td>7</td>\n",
       "      <td>Wednesday</td>\n",
       "      <td>True</td>\n",
       "    </tr>\n",
       "    <tr>\n",
       "      <th>2015-08-03</th>\n",
       "      <td>625.340027</td>\n",
       "      <td>674.900024</td>\n",
       "      <td>565.049988</td>\n",
       "      <td>618.250000</td>\n",
       "      <td>2661600</td>\n",
       "      <td>618.250000</td>\n",
       "      <td>2015</td>\n",
       "      <td>8</td>\n",
       "      <td>Monday</td>\n",
       "      <td>False</td>\n",
       "    </tr>\n",
       "    <tr>\n",
       "      <th>2015-09-01</th>\n",
       "      <td>602.359985</td>\n",
       "      <td>650.900024</td>\n",
       "      <td>589.380005</td>\n",
       "      <td>608.419983</td>\n",
       "      <td>2398400</td>\n",
       "      <td>608.419983</td>\n",
       "      <td>2015</td>\n",
       "      <td>9</td>\n",
       "      <td>Tuesday</td>\n",
       "      <td>True</td>\n",
       "    </tr>\n",
       "    <tr>\n",
       "      <th>2015-10-01</th>\n",
       "      <td>608.369995</td>\n",
       "      <td>730.000000</td>\n",
       "      <td>599.849976</td>\n",
       "      <td>710.809998</td>\n",
       "      <td>2337100</td>\n",
       "      <td>710.809998</td>\n",
       "      <td>2015</td>\n",
       "      <td>10</td>\n",
       "      <td>Thursday</td>\n",
       "      <td>True</td>\n",
       "    </tr>\n",
       "    <tr>\n",
       "      <th>2015-11-02</th>\n",
       "      <td>711.059998</td>\n",
       "      <td>762.708008</td>\n",
       "      <td>705.849976</td>\n",
       "      <td>742.599976</td>\n",
       "      <td>1795300</td>\n",
       "      <td>742.599976</td>\n",
       "      <td>2015</td>\n",
       "      <td>11</td>\n",
       "      <td>Monday</td>\n",
       "      <td>True</td>\n",
       "    </tr>\n",
       "    <tr>\n",
       "      <th>2015-12-01</th>\n",
       "      <td>747.109985</td>\n",
       "      <td>775.955017</td>\n",
       "      <td>745.630005</td>\n",
       "      <td>762.369995</td>\n",
       "      <td>2519600</td>\n",
       "      <td>762.369995</td>\n",
       "      <td>2015</td>\n",
       "      <td>12</td>\n",
       "      <td>Tuesday</td>\n",
       "      <td>True</td>\n",
       "    </tr>\n",
       "  </tbody>\n",
       "</table>\n",
       "</div>"
      ],
      "text/plain": [
       "                  Open        High         Low       Close   Volume  \\\n",
       "2015-01-02  529.012390  542.172424  487.562195  534.522461  2791200   \n",
       "2015-02-02  531.732361  564.712585  518.552307  558.402588  1841600   \n",
       "2015-03-02  560.532532  577.912598  544.222473  548.002441  1828900   \n",
       "2015-04-01  548.602417  571.142578  521.012390  537.340027  2116700   \n",
       "2015-05-01  538.429993  544.190002  521.085022  532.109985  1723100   \n",
       "2015-06-01  536.789978  543.739990  520.500000  520.510010  1662400   \n",
       "2015-07-01  524.729980  678.640015  515.179993  625.609985  2955600   \n",
       "2015-08-03  625.340027  674.900024  565.049988  618.250000  2661600   \n",
       "2015-09-01  602.359985  650.900024  589.380005  608.419983  2398400   \n",
       "2015-10-01  608.369995  730.000000  599.849976  710.809998  2337100   \n",
       "2015-11-02  711.059998  762.708008  705.849976  742.599976  1795300   \n",
       "2015-12-01  747.109985  775.955017  745.630005  762.369995  2519600   \n",
       "\n",
       "             Adj Close  year  month    weekday good_month  \n",
       "2015-01-02  534.522461  2015      1     Friday       True  \n",
       "2015-02-02  558.402588  2015      2     Monday       True  \n",
       "2015-03-02  548.002441  2015      3     Monday      False  \n",
       "2015-04-01  537.340027  2015      4  Wednesday      False  \n",
       "2015-05-01  532.109985  2015      5     Friday      False  \n",
       "2015-06-01  520.510010  2015      6     Monday      False  \n",
       "2015-07-01  625.609985  2015      7  Wednesday       True  \n",
       "2015-08-03  618.250000  2015      8     Monday      False  \n",
       "2015-09-01  608.419983  2015      9    Tuesday       True  \n",
       "2015-10-01  710.809998  2015     10   Thursday       True  \n",
       "2015-11-02  742.599976  2015     11     Monday       True  \n",
       "2015-12-01  762.369995  2015     12    Tuesday       True  "
      ]
     },
     "execution_count": 108,
     "metadata": {},
     "output_type": "execute_result"
    }
   ],
   "source": [
    "## returns the data for which year==2015\n",
    "google.loc[(google['year'] == 2015)]"
   ]
  },
  {
   "cell_type": "code",
   "execution_count": 110,
   "metadata": {
    "collapsed": false
   },
   "outputs": [],
   "source": [
    "## extrapolation, backfilling ('bfill') by day ('D')\n",
    "google_fill = google.asfreq('D', method='bfill')"
   ]
  },
  {
   "cell_type": "code",
   "execution_count": 112,
   "metadata": {
    "collapsed": false
   },
   "outputs": [
    {
     "data": {
      "text/plain": [
       "<matplotlib.axes._subplots.AxesSubplot at 0x118bbfb10>"
      ]
     },
     "execution_count": 112,
     "metadata": {},
     "output_type": "execute_result"
    },
    {
     "data": {
      "image/png": "[encoded data removed]",
      "text/plain": [
       "<matplotlib.figure.Figure at 0x117f4e050>"
      ]
     },
     "metadata": {},
     "output_type": "display_data"
    }
   ],
   "source": [
    "google_fill['Close'].plot()"
   ]
  },
  {
   "cell_type": "code",
   "execution_count": 113,
   "metadata": {
    "collapsed": false
   },
   "outputs": [
    {
     "data": {
      "text/plain": [
       "<matplotlib.axes._subplots.AxesSubplot at 0x1189d41d0>"
      ]
     },
     "execution_count": 113,
     "metadata": {},
     "output_type": "execute_result"
    },
    {
     "data": {
      "image/png": "[encoded data removed]",
      "text/plain": [
       "<matplotlib.figure.Figure at 0x119a0ef90>"
      ]
     },
     "metadata": {},
     "output_type": "display_data"
    }
   ],
   "source": [
    "google['Close'].plot()"
   ]
  },
  {
   "cell_type": "code",
   "execution_count": 115,
   "metadata": {
    "collapsed": false
   },
   "outputs": [
    {
     "data": {
      "text/html": [
       "<div>\n",
       "<table border=\"1\" class=\"dataframe\">\n",
       "  <thead>\n",
       "    <tr style=\"text-align: right;\">\n",
       "      <th></th>\n",
       "      <th>Open</th>\n",
       "      <th>High</th>\n",
       "      <th>Low</th>\n",
       "      <th>Close</th>\n",
       "      <th>Volume</th>\n",
       "      <th>Adj Close</th>\n",
       "      <th>year</th>\n",
       "      <th>month</th>\n",
       "      <th>good_month</th>\n",
       "    </tr>\n",
       "  </thead>\n",
       "  <tbody>\n",
       "    <tr>\n",
       "      <th>2014-03-31</th>\n",
       "      <td>568.002563</td>\n",
       "      <td>568.002563</td>\n",
       "      <td>552.922546</td>\n",
       "      <td>556.972473</td>\n",
       "      <td>25300</td>\n",
       "      <td>556.972473</td>\n",
       "      <td>2014</td>\n",
       "      <td>3</td>\n",
       "      <td>0.000000</td>\n",
       "    </tr>\n",
       "    <tr>\n",
       "      <th>2014-06-30</th>\n",
       "      <td>548.842509</td>\n",
       "      <td>585.042664</td>\n",
       "      <td>514.952332</td>\n",
       "      <td>553.945862</td>\n",
       "      <td>2330500</td>\n",
       "      <td>553.945862</td>\n",
       "      <td>2014</td>\n",
       "      <td>5</td>\n",
       "      <td>0.666667</td>\n",
       "    </tr>\n",
       "    <tr>\n",
       "      <th>2014-09-30</th>\n",
       "      <td>573.525920</td>\n",
       "      <td>594.492676</td>\n",
       "      <td>564.409261</td>\n",
       "      <td>573.522563</td>\n",
       "      <td>1570266</td>\n",
       "      <td>573.522563</td>\n",
       "      <td>2014</td>\n",
       "      <td>8</td>\n",
       "      <td>0.666667</td>\n",
       "    </tr>\n",
       "    <tr>\n",
       "      <th>2014-12-31</th>\n",
       "      <td>556.805867</td>\n",
       "      <td>560.105856</td>\n",
       "      <td>509.062307</td>\n",
       "      <td>542.439128</td>\n",
       "      <td>2021433</td>\n",
       "      <td>542.439128</td>\n",
       "      <td>2014</td>\n",
       "      <td>11</td>\n",
       "      <td>0.000000</td>\n",
       "    </tr>\n",
       "    <tr>\n",
       "      <th>2015-03-31</th>\n",
       "      <td>540.425761</td>\n",
       "      <td>561.599202</td>\n",
       "      <td>516.778992</td>\n",
       "      <td>546.975830</td>\n",
       "      <td>2153900</td>\n",
       "      <td>546.975830</td>\n",
       "      <td>2015</td>\n",
       "      <td>2</td>\n",
       "      <td>0.666667</td>\n",
       "    </tr>\n",
       "    <tr>\n",
       "      <th>2015-06-30</th>\n",
       "      <td>541.274129</td>\n",
       "      <td>553.024190</td>\n",
       "      <td>520.865804</td>\n",
       "      <td>529.986674</td>\n",
       "      <td>1834066</td>\n",
       "      <td>529.986674</td>\n",
       "      <td>2015</td>\n",
       "      <td>5</td>\n",
       "      <td>0.000000</td>\n",
       "    </tr>\n",
       "    <tr>\n",
       "      <th>2015-09-30</th>\n",
       "      <td>584.143331</td>\n",
       "      <td>668.146688</td>\n",
       "      <td>556.536662</td>\n",
       "      <td>617.426656</td>\n",
       "      <td>2671866</td>\n",
       "      <td>617.426656</td>\n",
       "      <td>2015</td>\n",
       "      <td>8</td>\n",
       "      <td>0.666667</td>\n",
       "    </tr>\n",
       "    <tr>\n",
       "      <th>2015-12-31</th>\n",
       "      <td>688.846659</td>\n",
       "      <td>756.221008</td>\n",
       "      <td>683.776652</td>\n",
       "      <td>738.593323</td>\n",
       "      <td>2217333</td>\n",
       "      <td>738.593323</td>\n",
       "      <td>2015</td>\n",
       "      <td>11</td>\n",
       "      <td>1.000000</td>\n",
       "    </tr>\n",
       "  </tbody>\n",
       "</table>\n",
       "</div>"
      ],
      "text/plain": [
       "                  Open        High         Low       Close   Volume  \\\n",
       "2014-03-31  568.002563  568.002563  552.922546  556.972473    25300   \n",
       "2014-06-30  548.842509  585.042664  514.952332  553.945862  2330500   \n",
       "2014-09-30  573.525920  594.492676  564.409261  573.522563  1570266   \n",
       "2014-12-31  556.805867  560.105856  509.062307  542.439128  2021433   \n",
       "2015-03-31  540.425761  561.599202  516.778992  546.975830  2153900   \n",
       "2015-06-30  541.274129  553.024190  520.865804  529.986674  1834066   \n",
       "2015-09-30  584.143331  668.146688  556.536662  617.426656  2671866   \n",
       "2015-12-31  688.846659  756.221008  683.776652  738.593323  2217333   \n",
       "\n",
       "             Adj Close  year  month  good_month  \n",
       "2014-03-31  556.972473  2014      3    0.000000  \n",
       "2014-06-30  553.945862  2014      5    0.666667  \n",
       "2014-09-30  573.522563  2014      8    0.666667  \n",
       "2014-12-31  542.439128  2014     11    0.000000  \n",
       "2015-03-31  546.975830  2015      2    0.666667  \n",
       "2015-06-30  529.986674  2015      5    0.000000  \n",
       "2015-09-30  617.426656  2015      8    0.666667  \n",
       "2015-12-31  738.593323  2015     11    1.000000  "
      ]
     },
     "execution_count": 115,
     "metadata": {},
     "output_type": "execute_result"
    }
   ],
   "source": [
    "## quarterly means\n",
    "google.resample('Q').mean()"
   ]
  },
  {
   "cell_type": "code",
   "execution_count": 117,
   "metadata": {
    "collapsed": false
   },
   "outputs": [
    {
     "data": {
      "text/html": [
       "<div>\n",
       "<table border=\"1\" class=\"dataframe\">\n",
       "  <thead>\n",
       "    <tr style=\"text-align: right;\">\n",
       "      <th></th>\n",
       "      <th>Adj Close</th>\n",
       "      <th>Close</th>\n",
       "      <th>High</th>\n",
       "      <th>Low</th>\n",
       "      <th>Open</th>\n",
       "      <th>Volume</th>\n",
       "      <th>good_month</th>\n",
       "      <th>month</th>\n",
       "      <th>year</th>\n",
       "    </tr>\n",
       "  </thead>\n",
       "  <tbody>\n",
       "    <tr>\n",
       "      <th>2014-03-31</th>\n",
       "      <td>556.972473</td>\n",
       "      <td>556.972473</td>\n",
       "      <td>568.002563</td>\n",
       "      <td>552.922546</td>\n",
       "      <td>568.002563</td>\n",
       "      <td>25300</td>\n",
       "      <td>False</td>\n",
       "      <td>3</td>\n",
       "      <td>2014</td>\n",
       "    </tr>\n",
       "    <tr>\n",
       "      <th>2014-04-30</th>\n",
       "      <td>526.662415</td>\n",
       "      <td>526.662415</td>\n",
       "      <td>604.832764</td>\n",
       "      <td>502.802277</td>\n",
       "      <td>558.712585</td>\n",
       "      <td>3290800</td>\n",
       "      <td>False</td>\n",
       "      <td>4</td>\n",
       "      <td>2014</td>\n",
       "    </tr>\n",
       "    <tr>\n",
       "      <th>2014-05-31</th>\n",
       "      <td>559.892578</td>\n",
       "      <td>559.892578</td>\n",
       "      <td>567.842590</td>\n",
       "      <td>503.302277</td>\n",
       "      <td>527.112366</td>\n",
       "      <td>1828500</td>\n",
       "      <td>True</td>\n",
       "      <td>5</td>\n",
       "      <td>2014</td>\n",
       "    </tr>\n",
       "    <tr>\n",
       "      <th>2014-06-30</th>\n",
       "      <td>575.282593</td>\n",
       "      <td>575.282593</td>\n",
       "      <td>582.452637</td>\n",
       "      <td>538.752441</td>\n",
       "      <td>560.702576</td>\n",
       "      <td>1872200</td>\n",
       "      <td>True</td>\n",
       "      <td>6</td>\n",
       "      <td>2014</td>\n",
       "    </tr>\n",
       "    <tr>\n",
       "      <th>2014-07-31</th>\n",
       "      <td>571.602539</td>\n",
       "      <td>571.602539</td>\n",
       "      <td>599.652710</td>\n",
       "      <td>565.012573</td>\n",
       "      <td>578.322632</td>\n",
       "      <td>1668800</td>\n",
       "      <td>False</td>\n",
       "      <td>7</td>\n",
       "      <td>2014</td>\n",
       "    </tr>\n",
       "    <tr>\n",
       "      <th>2014-08-31</th>\n",
       "      <td>571.602539</td>\n",
       "      <td>571.602539</td>\n",
       "      <td>587.342651</td>\n",
       "      <td>560.002563</td>\n",
       "      <td>570.402588</td>\n",
       "      <td>1368800</td>\n",
       "      <td>True</td>\n",
       "      <td>8</td>\n",
       "      <td>2014</td>\n",
       "    </tr>\n",
       "    <tr>\n",
       "      <th>2014-09-30</th>\n",
       "      <td>577.362610</td>\n",
       "      <td>577.362610</td>\n",
       "      <td>596.482666</td>\n",
       "      <td>568.212646</td>\n",
       "      <td>571.852539</td>\n",
       "      <td>1673200</td>\n",
       "      <td>True</td>\n",
       "      <td>9</td>\n",
       "      <td>2014</td>\n",
       "    </tr>\n",
       "    <tr>\n",
       "      <th>2014-10-31</th>\n",
       "      <td>559.082520</td>\n",
       "      <td>559.082520</td>\n",
       "      <td>581.002625</td>\n",
       "      <td>508.102295</td>\n",
       "      <td>576.012634</td>\n",
       "      <td>2356400</td>\n",
       "      <td>False</td>\n",
       "      <td>10</td>\n",
       "      <td>2014</td>\n",
       "    </tr>\n",
       "    <tr>\n",
       "      <th>2014-11-30</th>\n",
       "      <td>541.832458</td>\n",
       "      <td>541.832458</td>\n",
       "      <td>557.902527</td>\n",
       "      <td>530.082397</td>\n",
       "      <td>555.502502</td>\n",
       "      <td>1561200</td>\n",
       "      <td>False</td>\n",
       "      <td>11</td>\n",
       "      <td>2014</td>\n",
       "    </tr>\n",
       "    <tr>\n",
       "      <th>2014-12-31</th>\n",
       "      <td>526.402405</td>\n",
       "      <td>526.402405</td>\n",
       "      <td>541.412415</td>\n",
       "      <td>489.002228</td>\n",
       "      <td>538.902466</td>\n",
       "      <td>2146700</td>\n",
       "      <td>False</td>\n",
       "      <td>12</td>\n",
       "      <td>2014</td>\n",
       "    </tr>\n",
       "    <tr>\n",
       "      <th>2015-01-31</th>\n",
       "      <td>534.522461</td>\n",
       "      <td>534.522461</td>\n",
       "      <td>542.172424</td>\n",
       "      <td>487.562195</td>\n",
       "      <td>529.012390</td>\n",
       "      <td>2791200</td>\n",
       "      <td>True</td>\n",
       "      <td>1</td>\n",
       "      <td>2015</td>\n",
       "    </tr>\n",
       "    <tr>\n",
       "      <th>2015-02-28</th>\n",
       "      <td>558.402588</td>\n",
       "      <td>558.402588</td>\n",
       "      <td>564.712585</td>\n",
       "      <td>518.552307</td>\n",
       "      <td>531.732361</td>\n",
       "      <td>1841600</td>\n",
       "      <td>True</td>\n",
       "      <td>2</td>\n",
       "      <td>2015</td>\n",
       "    </tr>\n",
       "    <tr>\n",
       "      <th>2015-03-31</th>\n",
       "      <td>548.002441</td>\n",
       "      <td>548.002441</td>\n",
       "      <td>577.912598</td>\n",
       "      <td>544.222473</td>\n",
       "      <td>560.532532</td>\n",
       "      <td>1828900</td>\n",
       "      <td>False</td>\n",
       "      <td>3</td>\n",
       "      <td>2015</td>\n",
       "    </tr>\n",
       "    <tr>\n",
       "      <th>2015-04-30</th>\n",
       "      <td>537.340027</td>\n",
       "      <td>537.340027</td>\n",
       "      <td>571.142578</td>\n",
       "      <td>521.012390</td>\n",
       "      <td>548.602417</td>\n",
       "      <td>2116700</td>\n",
       "      <td>False</td>\n",
       "      <td>4</td>\n",
       "      <td>2015</td>\n",
       "    </tr>\n",
       "    <tr>\n",
       "      <th>2015-05-31</th>\n",
       "      <td>532.109985</td>\n",
       "      <td>532.109985</td>\n",
       "      <td>544.190002</td>\n",
       "      <td>521.085022</td>\n",
       "      <td>538.429993</td>\n",
       "      <td>1723100</td>\n",
       "      <td>False</td>\n",
       "      <td>5</td>\n",
       "      <td>2015</td>\n",
       "    </tr>\n",
       "    <tr>\n",
       "      <th>2015-06-30</th>\n",
       "      <td>520.510010</td>\n",
       "      <td>520.510010</td>\n",
       "      <td>543.739990</td>\n",
       "      <td>520.500000</td>\n",
       "      <td>536.789978</td>\n",
       "      <td>1662400</td>\n",
       "      <td>False</td>\n",
       "      <td>6</td>\n",
       "      <td>2015</td>\n",
       "    </tr>\n",
       "    <tr>\n",
       "      <th>2015-07-31</th>\n",
       "      <td>625.609985</td>\n",
       "      <td>625.609985</td>\n",
       "      <td>678.640015</td>\n",
       "      <td>515.179993</td>\n",
       "      <td>524.729980</td>\n",
       "      <td>2955600</td>\n",
       "      <td>True</td>\n",
       "      <td>7</td>\n",
       "      <td>2015</td>\n",
       "    </tr>\n",
       "    <tr>\n",
       "      <th>2015-08-31</th>\n",
       "      <td>618.250000</td>\n",
       "      <td>618.250000</td>\n",
       "      <td>674.900024</td>\n",
       "      <td>565.049988</td>\n",
       "      <td>625.340027</td>\n",
       "      <td>2661600</td>\n",
       "      <td>False</td>\n",
       "      <td>8</td>\n",
       "      <td>2015</td>\n",
       "    </tr>\n",
       "    <tr>\n",
       "      <th>2015-09-30</th>\n",
       "      <td>608.419983</td>\n",
       "      <td>608.419983</td>\n",
       "      <td>650.900024</td>\n",
       "      <td>589.380005</td>\n",
       "      <td>602.359985</td>\n",
       "      <td>2398400</td>\n",
       "      <td>True</td>\n",
       "      <td>9</td>\n",
       "      <td>2015</td>\n",
       "    </tr>\n",
       "    <tr>\n",
       "      <th>2015-10-31</th>\n",
       "      <td>710.809998</td>\n",
       "      <td>710.809998</td>\n",
       "      <td>730.000000</td>\n",
       "      <td>599.849976</td>\n",
       "      <td>608.369995</td>\n",
       "      <td>2337100</td>\n",
       "      <td>True</td>\n",
       "      <td>10</td>\n",
       "      <td>2015</td>\n",
       "    </tr>\n",
       "    <tr>\n",
       "      <th>2015-11-30</th>\n",
       "      <td>742.599976</td>\n",
       "      <td>742.599976</td>\n",
       "      <td>762.708008</td>\n",
       "      <td>705.849976</td>\n",
       "      <td>711.059998</td>\n",
       "      <td>1795300</td>\n",
       "      <td>True</td>\n",
       "      <td>11</td>\n",
       "      <td>2015</td>\n",
       "    </tr>\n",
       "    <tr>\n",
       "      <th>2015-12-31</th>\n",
       "      <td>762.369995</td>\n",
       "      <td>762.369995</td>\n",
       "      <td>775.955017</td>\n",
       "      <td>745.630005</td>\n",
       "      <td>747.109985</td>\n",
       "      <td>2519600</td>\n",
       "      <td>True</td>\n",
       "      <td>12</td>\n",
       "      <td>2015</td>\n",
       "    </tr>\n",
       "  </tbody>\n",
       "</table>\n",
       "</div>"
      ],
      "text/plain": [
       "             Adj Close       Close        High         Low        Open  \\\n",
       "2014-03-31  556.972473  556.972473  568.002563  552.922546  568.002563   \n",
       "2014-04-30  526.662415  526.662415  604.832764  502.802277  558.712585   \n",
       "2014-05-31  559.892578  559.892578  567.842590  503.302277  527.112366   \n",
       "2014-06-30  575.282593  575.282593  582.452637  538.752441  560.702576   \n",
       "2014-07-31  571.602539  571.602539  599.652710  565.012573  578.322632   \n",
       "2014-08-31  571.602539  571.602539  587.342651  560.002563  570.402588   \n",
       "2014-09-30  577.362610  577.362610  596.482666  568.212646  571.852539   \n",
       "2014-10-31  559.082520  559.082520  581.002625  508.102295  576.012634   \n",
       "2014-11-30  541.832458  541.832458  557.902527  530.082397  555.502502   \n",
       "2014-12-31  526.402405  526.402405  541.412415  489.002228  538.902466   \n",
       "2015-01-31  534.522461  534.522461  542.172424  487.562195  529.012390   \n",
       "2015-02-28  558.402588  558.402588  564.712585  518.552307  531.732361   \n",
       "2015-03-31  548.002441  548.002441  577.912598  544.222473  560.532532   \n",
       "2015-04-30  537.340027  537.340027  571.142578  521.012390  548.602417   \n",
       "2015-05-31  532.109985  532.109985  544.190002  521.085022  538.429993   \n",
       "2015-06-30  520.510010  520.510010  543.739990  520.500000  536.789978   \n",
       "2015-07-31  625.609985  625.609985  678.640015  515.179993  524.729980   \n",
       "2015-08-31  618.250000  618.250000  674.900024  565.049988  625.340027   \n",
       "2015-09-30  608.419983  608.419983  650.900024  589.380005  602.359985   \n",
       "2015-10-31  710.809998  710.809998  730.000000  599.849976  608.369995   \n",
       "2015-11-30  742.599976  742.599976  762.708008  705.849976  711.059998   \n",
       "2015-12-31  762.369995  762.369995  775.955017  745.630005  747.109985   \n",
       "\n",
       "             Volume good_month  month  year  \n",
       "2014-03-31    25300      False      3  2014  \n",
       "2014-04-30  3290800      False      4  2014  \n",
       "2014-05-31  1828500       True      5  2014  \n",
       "2014-06-30  1872200       True      6  2014  \n",
       "2014-07-31  1668800      False      7  2014  \n",
       "2014-08-31  1368800       True      8  2014  \n",
       "2014-09-30  1673200       True      9  2014  \n",
       "2014-10-31  2356400      False     10  2014  \n",
       "2014-11-30  1561200      False     11  2014  \n",
       "2014-12-31  2146700      False     12  2014  \n",
       "2015-01-31  2791200       True      1  2015  \n",
       "2015-02-28  1841600       True      2  2015  \n",
       "2015-03-31  1828900      False      3  2015  \n",
       "2015-04-30  2116700      False      4  2015  \n",
       "2015-05-31  1723100      False      5  2015  \n",
       "2015-06-30  1662400      False      6  2015  \n",
       "2015-07-31  2955600       True      7  2015  \n",
       "2015-08-31  2661600      False      8  2015  \n",
       "2015-09-30  2398400       True      9  2015  \n",
       "2015-10-31  2337100       True     10  2015  \n",
       "2015-11-30  1795300       True     11  2015  \n",
       "2015-12-31  2519600       True     12  2015  "
      ]
     },
     "execution_count": 117,
     "metadata": {},
     "output_type": "execute_result"
    }
   ],
   "source": [
    "## monthly medians\n",
    "google.resample('M').median()"
   ]
  },
  {
   "cell_type": "code",
   "execution_count": null,
   "metadata": {
    "collapsed": true
   },
   "outputs": [],
   "source": []
  }
 ],
 "metadata": {
  "anaconda-cloud": {},
  "kernelspec": {
   "display_name": "Python [Root]",
   "language": "python",
   "name": "Python [Root]"
  },
  "language_info": {
   "codemirror_mode": {
    "name": "ipython",
    "version": 2
   },
   "file_extension": ".py",
   "mimetype": "text/x-python",
   "name": "python",
   "nbconvert_exporter": "python",
   "pygments_lexer": "ipython2",
   "version": "2.7.12"
  }
 },
 "nbformat": 4,
 "nbformat_minor": 0
}
