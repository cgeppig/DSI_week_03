{
 "cells": [
  {
   "cell_type": "code",
   "execution_count": 1,
   "metadata": {
    "collapsed": false
   },
   "outputs": [
    {
     "data": {
      "text/plain": [
       "u'/Users/christophereppig/DSI_week3'"
      ]
     },
     "execution_count": 1,
     "metadata": {},
     "output_type": "execute_result"
    }
   ],
   "source": [
    "%pwd"
   ]
  },
  {
   "cell_type": "code",
   "execution_count": 2,
   "metadata": {
    "collapsed": true
   },
   "outputs": [],
   "source": [
    "%matplotlib inline\n",
    "from __future__ import print_function\n",
    "import random\n",
    "from matplotlib import pyplot as plt\n",
    "import numpy as np\n",
    "import pandas as pd\n",
    "from scipy import stats\n",
    "import statsmodels.api as sm\n",
    "# from sklearn import datasets, linear_model"
   ]
  },
  {
   "cell_type": "code",
   "execution_count": 4,
   "metadata": {
    "collapsed": false
   },
   "outputs": [],
   "source": [
    "def polynomials(X, degree=1):\n",
    "    array = [X]\n",
    "    y = X\n",
    "    for i in range(2, int(degree+1)):\n",
    "        y = y *X\n",
    "        array.append(y)\n",
    "    return np.array(array).transpose()"
   ]
  },
  {
   "cell_type": "code",
   "execution_count": 9,
   "metadata": {
    "collapsed": false
   },
   "outputs": [
    {
     "data": {
      "text/plain": [
       "array([0, 1, 2, 3, 4, 5, 6, 7, 8, 9])"
      ]
     },
     "execution_count": 9,
     "metadata": {},
     "output_type": "execute_result"
    }
   ],
   "source": [
    "X = np.array(range(10))\n",
    "X"
   ]
  },
  {
   "cell_type": "code",
   "execution_count": 12,
   "metadata": {
    "collapsed": false
   },
   "outputs": [
    {
     "data": {
      "text/plain": [
       "array([[  0,   0,   0],\n",
       "       [  1,   1,   1],\n",
       "       [  2,   4,   8],\n",
       "       [  3,   9,  27],\n",
       "       [  4,  16,  64],\n",
       "       [  5,  25, 125],\n",
       "       [  6,  36, 216],\n",
       "       [  7,  49, 343],\n",
       "       [  8,  64, 512],\n",
       "       [  9,  81, 729]])"
      ]
     },
     "execution_count": 12,
     "metadata": {},
     "output_type": "execute_result"
    }
   ],
   "source": [
    "polynomials(X,3)"
   ]
  },
  {
   "cell_type": "code",
   "execution_count": 14,
   "metadata": {
    "collapsed": false
   },
   "outputs": [],
   "source": [
    "def monomials(X, degree=1):\n",
    "    y = np.array(X)\n",
    "    y = np.power(X, degree)\n",
    "    return np.array([y]).transpose()"
   ]
  },
  {
   "cell_type": "code",
   "execution_count": 15,
   "metadata": {
    "collapsed": false
   },
   "outputs": [
    {
     "data": {
      "text/plain": [
       "array([[  0],\n",
       "       [  1],\n",
       "       [  8],\n",
       "       [ 27],\n",
       "       [ 64],\n",
       "       [125],\n",
       "       [216],\n",
       "       [343],\n",
       "       [512],\n",
       "       [729]])"
      ]
     },
     "execution_count": 15,
     "metadata": {},
     "output_type": "execute_result"
    }
   ],
   "source": [
    "monomials(X,3)"
   ]
  },
  {
   "cell_type": "code",
   "execution_count": 16,
   "metadata": {
    "collapsed": true
   },
   "outputs": [],
   "source": [
    "def generate_data(func, a, b, n=100):\n",
    "    data = []\n",
    "    for _ in range(n):\n",
    "        x = random.random() * (b-a)\n",
    "        y = func(x)\n",
    "        data.append(((x, y)))\n",
    "    return list(sorted(data))"
   ]
  },
  {
   "cell_type": "code",
   "execution_count": 21,
   "metadata": {
    "collapsed": false
   },
   "outputs": [
    {
     "data": {
      "text/plain": [
       "[(0.11218837918761482, 4.389064101467943),\n",
       " (0.13288575797427082, 4.644916791346777),\n",
       " (0.24759898036814665, 5.073292794450288),\n",
       " (0.26454998124831053, 5.31216141384191),\n",
       " (0.4955749992899936, 5.532432263903056),\n",
       " (0.6502774798755058, 5.942977752656797),\n",
       " (0.7293492326594284, 6.072314877521174),\n",
       " (0.7712578747120806, 6.098273673959153),\n",
       " (0.7934497773553733, 6.147026565783862),\n",
       " (0.9297913086760439, 6.211143436466188),\n",
       " (0.9385878723279626, 6.301788307950943),\n",
       " (1.0518131569203135, 6.1958867935563005),\n",
       " (1.1678882871725547, 6.026143505959193),\n",
       " (1.5307259257172752, 5.021929079131047),\n",
       " (1.539084193314458, 4.935940048413644),\n",
       " (1.6049099971405518, 4.964113807373031),\n",
       " (1.6653361445998185, 4.437294309899518),\n",
       " (1.667238876367188, 4.38783821344937),\n",
       " (1.8552409941284536, 3.558749191726232),\n",
       " (1.9790794263483673, 2.9265085142243747)]"
      ]
     },
     "execution_count": 21,
     "metadata": {},
     "output_type": "execute_result"
    }
   ],
   "source": [
    "mu, sigma = 0, 0.1\n",
    "f = lambda x: 4+5 * x - 3 * x*x + 0.1 * x * x * x + np.random.normal(mu, sigma)\n",
    "data = generate_data(f, 0, 2, n = 20)\n",
    "data"
   ]
  },
  {
   "cell_type": "code",
   "execution_count": 23,
   "metadata": {
    "collapsed": false,
    "scrolled": true
   },
   "outputs": [
    {
     "name": "stdout",
     "output_type": "stream",
     "text": [
      "                            OLS Regression Results                            \n",
      "==============================================================================\n",
      "Dep. Variable:                      y   R-squared:                       0.661\n",
      "Model:                            OLS   Adj. R-squared:                  0.643\n",
      "Method:                 Least Squares   F-statistic:                     37.07\n",
      "Date:                Wed, 12 Oct 2016   Prob (F-statistic):           7.44e-06\n",
      "Time:                        10:48:34   Log-Likelihood:                -50.878\n",
      "No. Observations:                  20   AIC:                             103.8\n",
      "Df Residuals:                      19   BIC:                             104.8\n",
      "Df Model:                           1                                         \n",
      "Covariance Type:            nonrobust                                         \n",
      "==============================================================================\n",
      "                 coef    std err          t      P>|t|      [95.0% Conf. Int.]\n",
      "------------------------------------------------------------------------------\n",
      "x1             3.7028      0.608      6.089      0.000         2.430     4.976\n",
      "==============================================================================\n",
      "Omnibus:                        3.121   Durbin-Watson:                   0.058\n",
      "Prob(Omnibus):                  0.210   Jarque-Bera (JB):                2.486\n",
      "Skew:                          -0.760   Prob(JB):                        0.288\n",
      "Kurtosis:                       2.180   Cond. No.                         1.00\n",
      "==============================================================================\n",
      "\n",
      "Warnings:\n",
      "[1] Standard Errors assume that the covariance matrix of the errors is correctly specified.\n",
      "Residual sum of squares: 3.06\n",
      "Bias: -1.57249210704\n",
      "Variance: 4.62537936337\n",
      "                            OLS Regression Results                            \n",
      "==============================================================================\n",
      "Dep. Variable:                      y   R-squared:                       0.427\n",
      "Model:                            OLS   Adj. R-squared:                  0.397\n",
      "Method:                 Least Squares   F-statistic:                     14.17\n",
      "Date:                Wed, 12 Oct 2016   Prob (F-statistic):            0.00131\n",
      "Time:                        10:48:34   Log-Likelihood:                -56.128\n",
      "No. Observations:                  20   AIC:                             114.3\n",
      "Df Residuals:                      19   BIC:                             115.3\n",
      "Df Model:                           1                                         \n",
      "Covariance Type:            nonrobust                                         \n",
      "==============================================================================\n",
      "                 coef    std err          t      P>|t|      [95.0% Conf. Int.]\n",
      "------------------------------------------------------------------------------\n",
      "x1             1.9005      0.505      3.765      0.001         0.844     2.957\n",
      "==============================================================================\n",
      "Omnibus:                        4.219   Durbin-Watson:                   0.053\n",
      "Prob(Omnibus):                  0.121   Jarque-Bera (JB):                3.386\n",
      "Skew:                          -0.991   Prob(JB):                        0.184\n",
      "Kurtosis:                       2.632   Cond. No.                         1.00\n",
      "==============================================================================\n",
      "\n",
      "Warnings:\n",
      "[1] Standard Errors assume that the covariance matrix of the errors is correctly specified.\n",
      "Residual sum of squares: 7.85\n",
      "Bias: 2.46288658704\n",
      "Variance: 5.37780041165\n"
     ]
    }
   ],
   "source": [
    "domain = np.array([x[0] for x in data])\n",
    "Y = np.array([x[1] for x in data])\n",
    "\n",
    "for i in range(1, 3):\n",
    "    X = monomials(domain, i)\n",
    "    # create linear regresion object\n",
    "    regr = sm.OLS(Y,X).fit()\n",
    "    yhat = regr.predict(X)\n",
    "    sse = np.mean((np.mean(yhat)-Y)**2)\n",
    "    var = np.var(yhat)\n",
    "    bias = sse-var-0.01\n",
    "    print(regr.summary())\n",
    "    print(\"Residual sum of squares: %.2f\" % sse)\n",
    "    print(\"Bias: {bias}\".format(bias=bias))\n",
    "#    print(\"Variance: {var}\".format(var=var))"
   ]
  },
  {
   "cell_type": "code",
   "execution_count": null,
   "metadata": {
    "collapsed": true
   },
   "outputs": [],
   "source": [
    "#parent code\n",
    "\n",
    "for i in range(1, 10):\n",
    "    X = polynomials(domain, i)\n",
    "    # Create linear regression object\n",
    "    regr = sm.OLS(Y, X).fit()\n",
    "\n",
    "    yhat = regr.predict(X)\n",
    "    sse = np.mean((np.mean(yhat) - Y) ** 2)\n",
    "    var = np.var(yhat)\n",
    "    bias = sse - var - 0.01\n",
    "    \n",
    "    # The coefficients\n",
    "    print(regr.summary())\n",
    "\n",
    "    # The mean square error\n",
    "    print(\"Residual sum of squares: %.2f\" % sse)\n",
    "\n",
    "    print(\"Bias: {bias}\".format(bias=bias))\n",
    "    print(\"Variance: {var}\".format(var=var))\n",
    "        \n",
    "    # Plot outputs\n",
    "    plt.scatter(domain, Y,  color='black')\n",
    "    plt.plot(domain, regr.predict(X), color='blue', linewidth=3)\n",
    "\n",
    "    plt.title(\"n = \" + str(i))\n",
    "\n",
    "    plt.show()"
   ]
  },
  {
   "cell_type": "code",
   "execution_count": 30,
   "metadata": {
    "collapsed": false
   },
   "outputs": [
    {
     "name": "stdout",
     "output_type": "stream",
     "text": [
      "                            OLS Regression Results                            \n",
      "==============================================================================\n",
      "Dep. Variable:                      y   R-squared:                       0.963\n",
      "Model:                            OLS   Adj. R-squared:                  0.961\n",
      "Method:                 Least Squares   F-statistic:                     500.5\n",
      "Date:                Wed, 12 Oct 2016   Prob (F-statistic):           4.12e-15\n",
      "Time:                        11:16:16   Log-Likelihood:                -11.472\n",
      "No. Observations:                  20   AIC:                             24.94\n",
      "Df Residuals:                      19   BIC:                             25.94\n",
      "Df Model:                           1                                         \n",
      "Covariance Type:            nonrobust                                         \n",
      "==============================================================================\n",
      "                 coef    std err          t      P>|t|      [95.0% Conf. Int.]\n",
      "------------------------------------------------------------------------------\n",
      "x1             1.7207      0.077     22.371      0.000         1.560     1.882\n",
      "==============================================================================\n",
      "Omnibus:                        3.699   Durbin-Watson:                   0.134\n",
      "Prob(Omnibus):                  0.157   Jarque-Bera (JB):                1.382\n",
      "Skew:                          -0.117   Prob(JB):                        0.501\n",
      "Kurtosis:                       1.734   Cond. No.                         1.00\n",
      "==============================================================================\n",
      "\n",
      "Warnings:\n",
      "[1] Standard Errors assume that the covariance matrix of the errors is correctly specified.\n",
      "\n",
      "Residual sum of squares: 0.36\n",
      "Bias: -0.537182425842\n",
      "Variance: 0.886140813564\n"
     ]
    },
    {
     "data": {
      "image/png": "[encoded data removed]",
      "text/plain": [
       "<matplotlib.figure.Figure at 0x11769d090>"
      ]
     },
     "metadata": {},
     "output_type": "display_data"
    },
    {
     "name": "stdout",
     "output_type": "stream",
     "text": [
      "                            OLS Regression Results                            \n",
      "==============================================================================\n",
      "Dep. Variable:                      y   R-squared:                       0.937\n",
      "Model:                            OLS   Adj. R-squared:                  0.933\n",
      "Method:                 Least Squares   F-statistic:                     281.3\n",
      "Date:                Wed, 12 Oct 2016   Prob (F-statistic):           7.61e-13\n",
      "Time:                        11:16:16   Log-Likelihood:                -29.817\n",
      "No. Observations:                  20   AIC:                             61.63\n",
      "Df Residuals:                      19   BIC:                             62.63\n",
      "Df Model:                           1                                         \n",
      "Covariance Type:            nonrobust                                         \n",
      "==============================================================================\n",
      "                 coef    std err          t      P>|t|      [95.0% Conf. Int.]\n",
      "------------------------------------------------------------------------------\n",
      "x1             3.3781      0.201     16.771      0.000         2.957     3.800\n",
      "==============================================================================\n",
      "Omnibus:                        2.707   Durbin-Watson:                   0.108\n",
      "Prob(Omnibus):                  0.258   Jarque-Bera (JB):                2.139\n",
      "Skew:                           0.772   Prob(JB):                        0.343\n",
      "Kurtosis:                       2.572   Cond. No.                         1.00\n",
      "==============================================================================\n",
      "\n",
      "Warnings:\n",
      "[1] Standard Errors assume that the covariance matrix of the errors is correctly specified.\n",
      "\n",
      "Residual sum of squares: 7.19\n",
      "Bias: 3.53829003624\n",
      "Variance: 3.64375560537\n"
     ]
    },
    {
     "data": {
      "image/png": "[encoded data removed]",
      "text/plain": [
       "<matplotlib.figure.Figure at 0x118b93150>"
      ]
     },
     "metadata": {},
     "output_type": "display_data"
    },
    {
     "name": "stdout",
     "output_type": "stream",
     "text": [
      "                            OLS Regression Results                            \n",
      "==============================================================================\n",
      "Dep. Variable:                      y   R-squared:                       0.869\n",
      "Model:                            OLS   Adj. R-squared:                  0.862\n",
      "Method:                 Least Squares   F-statistic:                     125.7\n",
      "Date:                Wed, 12 Oct 2016   Prob (F-statistic):           8.08e-10\n",
      "Time:                        11:16:17   Log-Likelihood:                -53.029\n",
      "No. Observations:                  20   AIC:                             108.1\n",
      "Df Residuals:                      19   BIC:                             109.1\n",
      "Df Model:                           1                                         \n",
      "Covariance Type:            nonrobust                                         \n",
      "==============================================================================\n",
      "                 coef    std err          t      P>|t|      [95.0% Conf. Int.]\n",
      "------------------------------------------------------------------------------\n",
      "x1             6.9226      0.617     11.213      0.000         5.630     8.215\n",
      "==============================================================================\n",
      "Omnibus:                        2.221   Durbin-Watson:                   0.146\n",
      "Prob(Omnibus):                  0.329   Jarque-Bera (JB):                1.696\n",
      "Skew:                           0.556   Prob(JB):                        0.428\n",
      "Kurtosis:                       2.105   Cond. No.                         1.00\n",
      "==============================================================================\n",
      "\n",
      "Warnings:\n",
      "[1] Standard Errors assume that the covariance matrix of the errors is correctly specified.\n",
      "\n",
      "Residual sum of squares: 44.77\n",
      "Bias: 23.5072349852\n",
      "Variance: 21.2490655025\n"
     ]
    },
    {
     "data": {
      "image/png": "[encoded data removed]",
      "text/plain": [
       "<matplotlib.figure.Figure at 0x118a288d0>"
      ]
     },
     "metadata": {},
     "output_type": "display_data"
    },
    {
     "name": "stdout",
     "output_type": "stream",
     "text": [
      "                            OLS Regression Results                            \n",
      "==============================================================================\n",
      "Dep. Variable:                      y   R-squared:                       0.814\n",
      "Model:                            OLS   Adj. R-squared:                  0.804\n",
      "Method:                 Least Squares   F-statistic:                     82.91\n",
      "Date:                Wed, 12 Oct 2016   Prob (F-statistic):           2.33e-08\n",
      "Time:                        11:16:17   Log-Likelihood:                -65.559\n",
      "No. Observations:                  20   AIC:                             133.1\n",
      "Df Residuals:                      19   BIC:                             134.1\n",
      "Df Model:                           1                                         \n",
      "Covariance Type:            nonrobust                                         \n",
      "==============================================================================\n",
      "                 coef    std err          t      P>|t|      [95.0% Conf. Int.]\n",
      "------------------------------------------------------------------------------\n",
      "x1            10.7601      1.182      9.106      0.000         8.287    13.233\n",
      "==============================================================================\n",
      "Omnibus:                        5.577   Durbin-Watson:                   0.114\n",
      "Prob(Omnibus):                  0.062   Jarque-Bera (JB):                3.707\n",
      "Skew:                           1.038   Prob(JB):                        0.157\n",
      "Kurtosis:                       3.372   Cond. No.                         1.00\n",
      "==============================================================================\n",
      "\n",
      "Warnings:\n",
      "[1] Standard Errors assume that the covariance matrix of the errors is correctly specified.\n",
      "\n",
      "Residual sum of squares: 116.43\n",
      "Bias: 71.9778431372\n",
      "Variance: 44.4397668876\n"
     ]
    },
    {
     "data": {
      "image/png": "[encoded data removed]",
      "text/plain": [
       "<matplotlib.figure.Figure at 0x118aed910>"
      ]
     },
     "metadata": {},
     "output_type": "display_data"
    },
    {
     "name": "stdout",
     "output_type": "stream",
     "text": [
      "                            OLS Regression Results                            \n",
      "==============================================================================\n",
      "Dep. Variable:                      y   R-squared:                       0.679\n",
      "Model:                            OLS   Adj. R-squared:                  0.662\n",
      "Method:                 Least Squares   F-statistic:                     40.12\n",
      "Date:                Wed, 12 Oct 2016   Prob (F-statistic):           4.45e-06\n",
      "Time:                        11:16:17   Log-Likelihood:                -79.484\n",
      "No. Observations:                  20   AIC:                             161.0\n",
      "Df Residuals:                      19   BIC:                             162.0\n",
      "Df Model:                           1                                         \n",
      "Covariance Type:            nonrobust                                         \n",
      "==============================================================================\n",
      "                 coef    std err          t      P>|t|      [95.0% Conf. Int.]\n",
      "------------------------------------------------------------------------------\n",
      "x1            17.0056      2.685      6.334      0.000        11.386    22.625\n",
      "==============================================================================\n",
      "Omnibus:                       26.313   Durbin-Watson:                   0.336\n",
      "Prob(Omnibus):                  0.000   Jarque-Bera (JB):               42.580\n",
      "Skew:                           2.257   Prob(JB):                     5.67e-10\n",
      "Kurtosis:                       8.542   Cond. No.                         1.00\n",
      "==============================================================================\n",
      "\n",
      "Warnings:\n",
      "[1] Standard Errors assume that the covariance matrix of the errors is correctly specified.\n",
      "\n",
      "Residual sum of squares: 374.31\n",
      "Bias: 281.282154477\n",
      "Variance: 93.019468997\n"
     ]
    },
    {
     "data": {
      "image/png": "[encoded data removed]",
      "text/plain": [
       "<matplotlib.figure.Figure at 0x117e03390>"
      ]
     },
     "metadata": {},
     "output_type": "display_data"
    },
    {
     "name": "stdout",
     "output_type": "stream",
     "text": [
      "                            OLS Regression Results                            \n",
      "==============================================================================\n",
      "Dep. Variable:                      y   R-squared:                       0.641\n",
      "Model:                            OLS   Adj. R-squared:                  0.622\n",
      "Method:                 Least Squares   F-statistic:                     33.97\n",
      "Date:                Wed, 12 Oct 2016   Prob (F-statistic):           1.30e-05\n",
      "Time:                        11:16:18   Log-Likelihood:                -99.653\n",
      "No. Observations:                  20   AIC:                             201.3\n",
      "Df Residuals:                      19   BIC:                             202.3\n",
      "Df Model:                           1                                         \n",
      "Covariance Type:            nonrobust                                         \n",
      "==============================================================================\n",
      "                 coef    std err          t      P>|t|      [95.0% Conf. Int.]\n",
      "------------------------------------------------------------------------------\n",
      "x1            35.9237      6.164      5.828      0.000        23.023    48.825\n",
      "==============================================================================\n",
      "Omnibus:                       12.724   Durbin-Watson:                   0.150\n",
      "Prob(Omnibus):                  0.002   Jarque-Bera (JB):               10.456\n",
      "Skew:                           1.588   Prob(JB):                      0.00536\n",
      "Kurtosis:                       4.569   Cond. No.                         1.00\n",
      "==============================================================================\n",
      "\n",
      "Warnings:\n",
      "[1] Standard Errors assume that the covariance matrix of the errors is correctly specified.\n",
      "\n",
      "Residual sum of squares: 2289.66\n",
      "Bias: 1977.68234443\n",
      "Variance: 311.963704389\n"
     ]
    },
    {
     "data": {
      "image/png": "[encoded data removed]",
      "text/plain": [
       "<matplotlib.figure.Figure at 0x117cd9810>"
      ]
     },
     "metadata": {},
     "output_type": "display_data"
    }
   ],
   "source": [
    "for degree in range(1, 7):\n",
    "    # Generate some data\n",
    "    f = lambda x: 1 - 2 * x + 3 * x ** degree + np.random.normal(mu, sigma)\n",
    "    data = generate_data(f, 0, 2, n=20)\n",
    "\n",
    "    domain = np.array([x[0] for x in data])\n",
    "    Y = np.array([x[1] for x in data])\n",
    "\n",
    "    X = np.array([domain]).transpose()\n",
    "    # Create linear regression object\n",
    "    regr = sm.OLS(Y, X).fit()\n",
    "    print(regr.summary())\n",
    "    \n",
    "    # Compute the errors\n",
    "    yhat = regr.predict(X)\n",
    "    sse = np.mean((np.mean(yhat) - Y) ** 2)\n",
    "    var = np.var(yhat)\n",
    "    bias = sse - var - 0.01\n",
    "    print(\"\\nResidual sum of squares: %.2f\" % sse)\n",
    "    print(\"Bias: {bias}\".format(bias=bias))\n",
    "    print(\"Variance: {var}\".format(var=var))\n",
    "    \n",
    "    # Plot outputs\n",
    "    plt.scatter(domain, Y,  color='black')\n",
    "    plt.plot(domain, regr.predict(X), color='blue', linewidth=3)\n",
    "\n",
    "    plt.title(\"n = \" + str(i))\n",
    "\n",
    "    plt.show()"
   ]
  },
  {
   "cell_type": "code",
   "execution_count": null,
   "metadata": {
    "collapsed": true
   },
   "outputs": [],
   "source": []
  }
 ],
 "metadata": {
  "anaconda-cloud": {},
  "kernelspec": {
   "display_name": "Python [Root]",
   "language": "python",
   "name": "Python [Root]"
  },
  "language_info": {
   "codemirror_mode": {
    "name": "ipython",
    "version": 2
   },
   "file_extension": ".py",
   "mimetype": "text/x-python",
   "name": "python",
   "nbconvert_exporter": "python",
   "pygments_lexer": "ipython2",
   "version": "2.7.12"
  }
 },
 "nbformat": 4,
 "nbformat_minor": 0
}
